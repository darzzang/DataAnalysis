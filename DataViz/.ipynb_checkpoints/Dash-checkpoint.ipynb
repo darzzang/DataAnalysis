{
 "cells": [
  {
   "cell_type": "code",
   "execution_count": 442,
   "id": "72c5fc49",
   "metadata": {},
   "outputs": [],
   "source": [
    "api_key = 'c7cae81f9573e71fc24cb57f5f7a4479b6290904'"
   ]
  },
  {
   "cell_type": "code",
   "execution_count": 443,
   "id": "ace46b3c",
   "metadata": {},
   "outputs": [],
   "source": [
    "import requests\n",
    "from io import BytesIO\n",
    "import zipfile\n",
    "import xmltodict\n",
    "import json"
   ]
  },
  {
   "cell_type": "code",
   "execution_count": 444,
   "id": "e4fc2829",
   "metadata": {},
   "outputs": [],
   "source": [
    "BASE_PARAM = {'crtfc_key': api_key}"
   ]
  },
  {
   "cell_type": "code",
   "execution_count": 445,
   "id": "5dcd9b76",
   "metadata": {},
   "outputs": [],
   "source": [
    "code_url = 'https://opendart.fss.or.kr/api/corpCode.xml'"
   ]
  },
  {
   "cell_type": "code",
   "execution_count": 446,
   "id": "90983a79",
   "metadata": {},
   "outputs": [],
   "source": [
    "res = requests.get(code_url, params = BASE_PARAM)"
   ]
  },
  {
   "cell_type": "code",
   "execution_count": 447,
   "id": "c10d7941",
   "metadata": {},
   "outputs": [],
   "source": [
    "res_zip = zipfile.ZipFile(BytesIO(res.content))"
   ]
  },
  {
   "cell_type": "code",
   "execution_count": 448,
   "id": "2666e06d",
   "metadata": {
    "scrolled": true
   },
   "outputs": [],
   "source": [
    "data_xml = res_zip.read(res_zip.namelist()[0]).decode('utf-8')"
   ]
  },
  {
   "cell_type": "code",
   "execution_count": 449,
   "id": "8569028d",
   "metadata": {
    "scrolled": true
   },
   "outputs": [],
   "source": [
    "data_odict = xmltodict.parse(data_xml)"
   ]
  },
  {
   "cell_type": "code",
   "execution_count": 450,
   "id": "60da3d45",
   "metadata": {},
   "outputs": [],
   "source": [
    "data_dict = json.loads(json.dumps(data_odict))"
   ]
  },
  {
   "cell_type": "code",
   "execution_count": 451,
   "id": "13ee12bc",
   "metadata": {},
   "outputs": [
    {
     "data": {
      "text/plain": [
       "dict_keys(['result'])"
      ]
     },
     "execution_count": 451,
     "metadata": {},
     "output_type": "execute_result"
    }
   ],
   "source": [
    "data_dict.keys()"
   ]
  },
  {
   "cell_type": "code",
   "execution_count": 452,
   "id": "8adc7c32",
   "metadata": {},
   "outputs": [],
   "source": [
    "company_codes = data_dict.get('result',{}).get('list')"
   ]
  },
  {
   "cell_type": "code",
   "execution_count": 453,
   "id": "a35b257c",
   "metadata": {},
   "outputs": [
    {
     "data": {
      "text/plain": [
       "[{'corp_code': '00434003',\n",
       "  'corp_name': '다코',\n",
       "  'stock_code': None,\n",
       "  'modify_date': '20170630'},\n",
       " {'corp_code': '00434456',\n",
       "  'corp_name': '일산약품',\n",
       "  'stock_code': None,\n",
       "  'modify_date': '20170630'},\n",
       " {'corp_code': '00430964',\n",
       "  'corp_name': '굿앤엘에스',\n",
       "  'stock_code': None,\n",
       "  'modify_date': '20170630'},\n",
       " {'corp_code': '00432403',\n",
       "  'corp_name': '한라판지',\n",
       "  'stock_code': None,\n",
       "  'modify_date': '20170630'},\n",
       " {'corp_code': '00388953',\n",
       "  'corp_name': '크레디피아제이십오차유동화전문회사',\n",
       "  'stock_code': None,\n",
       "  'modify_date': '20170630'},\n",
       " {'corp_code': '00179984',\n",
       "  'corp_name': '연방건설산업',\n",
       "  'stock_code': None,\n",
       "  'modify_date': '20170630'},\n",
       " {'corp_code': '00420143',\n",
       "  'corp_name': '브룩스피알아이오토메이션잉크',\n",
       "  'stock_code': None,\n",
       "  'modify_date': '20170630'},\n",
       " {'corp_code': '00401111',\n",
       "  'corp_name': '매경아이비아이',\n",
       "  'stock_code': None,\n",
       "  'modify_date': '20170630'},\n",
       " {'corp_code': '00435534',\n",
       "  'corp_name': '캐드뱅크',\n",
       "  'stock_code': None,\n",
       "  'modify_date': '20170630'},\n",
       " {'corp_code': '00430186',\n",
       "  'corp_name': '엠와이오피삼차유동화전문유한회사',\n",
       "  'stock_code': None,\n",
       "  'modify_date': '20170630'},\n",
       " {'corp_code': '00430201',\n",
       "  'corp_name': '엠와이오피이차유동화전문유한회사',\n",
       "  'stock_code': None,\n",
       "  'modify_date': '20170630'},\n",
       " {'corp_code': '00430210',\n",
       "  'corp_name': '엠와이오피일차유동화전문유한회사',\n",
       "  'stock_code': None,\n",
       "  'modify_date': '20170630'},\n",
       " {'corp_code': '00430229',\n",
       "  'corp_name': '포스미디어',\n",
       "  'stock_code': None,\n",
       "  'modify_date': '20170630'},\n",
       " {'corp_code': '00140432',\n",
       "  'corp_name': '축복할렐루야',\n",
       "  'stock_code': None,\n",
       "  'modify_date': '20170630'},\n",
       " {'corp_code': '00426208',\n",
       "  'corp_name': '한국전자화학',\n",
       "  'stock_code': None,\n",
       "  'modify_date': '20170630'},\n",
       " {'corp_code': '00433262',\n",
       "  'corp_name': 'ConnachtCapitalMarketInvestmentLtd.',\n",
       "  'stock_code': None,\n",
       "  'modify_date': '20170630'},\n",
       " {'corp_code': '00433749',\n",
       "  'corp_name': '선진아이티',\n",
       "  'stock_code': None,\n",
       "  'modify_date': '20170630'},\n",
       " {'corp_code': '00433785',\n",
       "  'corp_name': '팀스코리아',\n",
       "  'stock_code': None,\n",
       "  'modify_date': '20170630'},\n",
       " {'corp_code': '00196079',\n",
       "  'corp_name': '에넥스하이테크',\n",
       "  'stock_code': None,\n",
       "  'modify_date': '20170630'},\n",
       " {'corp_code': '00435048',\n",
       "  'corp_name': '세이스텝바이스텝혼합형펀드',\n",
       "  'stock_code': None,\n",
       "  'modify_date': '20170630'},\n",
       " {'corp_code': '00435057',\n",
       "  'corp_name': '유리알파헷지채권혼합형펀드',\n",
       "  'stock_code': None,\n",
       "  'modify_date': '20170630'},\n",
       " {'corp_code': '00108843',\n",
       "  'corp_name': '한기술정보통신',\n",
       "  'stock_code': None,\n",
       "  'modify_date': '20170630'},\n",
       " {'corp_code': '00443232',\n",
       "  'corp_name': '다움종합건설',\n",
       "  'stock_code': None,\n",
       "  'modify_date': '20170630'},\n",
       " {'corp_code': '00248293',\n",
       "  'corp_name': '한국애치슨',\n",
       "  'stock_code': None,\n",
       "  'modify_date': '20170630'},\n",
       " {'corp_code': '00455662',\n",
       "  'corp_name': '고은상사',\n",
       "  'stock_code': None,\n",
       "  'modify_date': '20170630'},\n",
       " {'corp_code': '00149318',\n",
       "  'corp_name': '조흥종합건설',\n",
       "  'stock_code': None,\n",
       "  'modify_date': '20170630'},\n",
       " {'corp_code': '00451347',\n",
       "  'corp_name': '유니즈유통',\n",
       "  'stock_code': None,\n",
       "  'modify_date': '20170630'},\n",
       " {'corp_code': '00415105',\n",
       "  'corp_name': '창대화장품',\n",
       "  'stock_code': None,\n",
       "  'modify_date': '20170630'},\n",
       " {'corp_code': '00420824',\n",
       "  'corp_name': '문화종합건설',\n",
       "  'stock_code': None,\n",
       "  'modify_date': '20170630'},\n",
       " {'corp_code': '00389439',\n",
       "  'corp_name': '한국종합미디어',\n",
       "  'stock_code': None,\n",
       "  'modify_date': '20170630'},\n",
       " {'corp_code': '00454016',\n",
       "  'corp_name': '아이펜텍',\n",
       "  'stock_code': None,\n",
       "  'modify_date': '20170630'},\n",
       " {'corp_code': '00452072',\n",
       "  'corp_name': '대홍염공',\n",
       "  'stock_code': None,\n",
       "  'modify_date': '20170630'},\n",
       " {'corp_code': '00437602',\n",
       "  'corp_name': '지오항공여행사',\n",
       "  'stock_code': None,\n",
       "  'modify_date': '20170630'},\n",
       " {'corp_code': '00365518',\n",
       "  'corp_name': '헤이아니타코리아',\n",
       "  'stock_code': None,\n",
       "  'modify_date': '20170630'},\n",
       " {'corp_code': '00246967',\n",
       "  'corp_name': '태산산업개발',\n",
       "  'stock_code': None,\n",
       "  'modify_date': '20170630'},\n",
       " {'corp_code': '00445559',\n",
       "  'corp_name': '군포종합시장',\n",
       "  'stock_code': None,\n",
       "  'modify_date': '20170630'},\n",
       " {'corp_code': '00444657',\n",
       "  'corp_name': '기우',\n",
       "  'stock_code': None,\n",
       "  'modify_date': '20170630'},\n",
       " {'corp_code': '00448936',\n",
       "  'corp_name': '라시도',\n",
       "  'stock_code': None,\n",
       "  'modify_date': '20170630'},\n",
       " {'corp_code': '00405658',\n",
       "  'corp_name': '예전미디어',\n",
       "  'stock_code': None,\n",
       "  'modify_date': '20170630'},\n",
       " {'corp_code': '00410818',\n",
       "  'corp_name': '세미가',\n",
       "  'stock_code': None,\n",
       "  'modify_date': '20170630'},\n",
       " {'corp_code': '00416061',\n",
       "  'corp_name': '대닉스',\n",
       "  'stock_code': None,\n",
       "  'modify_date': '20170630'},\n",
       " {'corp_code': '00448909',\n",
       "  'corp_name': '인포핸드',\n",
       "  'stock_code': None,\n",
       "  'modify_date': '20170630'},\n",
       " {'corp_code': '00445407',\n",
       "  'corp_name': '지현개발',\n",
       "  'stock_code': None,\n",
       "  'modify_date': '20170630'},\n",
       " {'corp_code': '00421647',\n",
       "  'corp_name': '한국부동산신탁제일차유동화전문유한회사',\n",
       "  'stock_code': None,\n",
       "  'modify_date': '20170630'},\n",
       " {'corp_code': '00421425',\n",
       "  'corp_name': 'ISCCaymanLtd.',\n",
       "  'stock_code': None,\n",
       "  'modify_date': '20170630'},\n",
       " {'corp_code': '00423265',\n",
       "  'corp_name': '연산',\n",
       "  'stock_code': None,\n",
       "  'modify_date': '20170630'},\n",
       " {'corp_code': '00423292',\n",
       "  'corp_name': '씨케이알유동화전문유한회사',\n",
       "  'stock_code': None,\n",
       "  'modify_date': '20170630'},\n",
       " {'corp_code': '00420602',\n",
       "  'corp_name': '디에스피',\n",
       "  'stock_code': None,\n",
       "  'modify_date': '20170630'},\n",
       " {'corp_code': '00307505',\n",
       "  'corp_name': 'LOMBARDKOREAILIMITED',\n",
       "  'stock_code': None,\n",
       "  'modify_date': '20170630'},\n",
       " {'corp_code': '00218229',\n",
       "  'corp_name': '승진씨앤씨',\n",
       "  'stock_code': None,\n",
       "  'modify_date': '20170630'},\n",
       " {'corp_code': '00241397',\n",
       "  'corp_name': '우신투자자문',\n",
       "  'stock_code': None,\n",
       "  'modify_date': '20170630'},\n",
       " {'corp_code': '00421896',\n",
       "  'corp_name': '외환카드제오차유동화전문유한회사',\n",
       "  'stock_code': None,\n",
       "  'modify_date': '20170630'},\n",
       " {'corp_code': '00365712',\n",
       "  'corp_name': '태연',\n",
       "  'stock_code': None,\n",
       "  'modify_date': '20170630'},\n",
       " {'corp_code': '00388616',\n",
       "  'corp_name': '글로벌금강제일차유동화전문유한회사',\n",
       "  'stock_code': None,\n",
       "  'modify_date': '20170630'},\n",
       " {'corp_code': '00230407',\n",
       "  'corp_name': '글로벌렌탈',\n",
       "  'stock_code': None,\n",
       "  'modify_date': '20170630'},\n",
       " {'corp_code': '00423566',\n",
       "  'corp_name': '뤼미에르에셋',\n",
       "  'stock_code': None,\n",
       "  'modify_date': '20170630'},\n",
       " {'corp_code': '00423274',\n",
       "  'corp_name': '바사라엔터테인먼트',\n",
       "  'stock_code': None,\n",
       "  'modify_date': '20170630'},\n",
       " {'corp_code': '00419688',\n",
       "  'corp_name': '대백유동화전문유한회사',\n",
       "  'stock_code': None,\n",
       "  'modify_date': '20170630'},\n",
       " {'corp_code': '00419712',\n",
       "  'corp_name': '아이키키',\n",
       "  'stock_code': None,\n",
       "  'modify_date': '20170630'},\n",
       " {'corp_code': '00414665',\n",
       "  'corp_name': '진명씨앤씨',\n",
       "  'stock_code': None,\n",
       "  'modify_date': '20170630'},\n",
       " {'corp_code': '00421869',\n",
       "  'corp_name': '한경핫벤처',\n",
       "  'stock_code': None,\n",
       "  'modify_date': '20170630'},\n",
       " {'corp_code': '00421957',\n",
       "  'corp_name': '우리부동산제일차유동화전문유한회사',\n",
       "  'stock_code': None,\n",
       "  'modify_date': '20170630'},\n",
       " {'corp_code': '00255442',\n",
       "  'corp_name': '영진상운',\n",
       "  'stock_code': None,\n",
       "  'modify_date': '20170630'},\n",
       " {'corp_code': '00427517',\n",
       "  'corp_name': '한국토지신탁제오차유동화전문유한회사',\n",
       "  'stock_code': None,\n",
       "  'modify_date': '20170630'},\n",
       " {'corp_code': '00376152',\n",
       "  'corp_name': '다드림커뮤니케이션',\n",
       "  'stock_code': None,\n",
       "  'modify_date': '20170630'},\n",
       " {'corp_code': '00382241',\n",
       "  'corp_name': 'ARISAIGASIANSMALLCOMPANIESFUND(L)BHD',\n",
       "  'stock_code': None,\n",
       "  'modify_date': '20170630'},\n",
       " {'corp_code': '00431501',\n",
       "  'corp_name': '싱가포르개발은행서울지점',\n",
       "  'stock_code': None,\n",
       "  'modify_date': '20170630'},\n",
       " {'corp_code': '00434270',\n",
       "  'corp_name': '삼성인덱스프리미엄30혼합형뮤추얼펀드',\n",
       "  'stock_code': None,\n",
       "  'modify_date': '20170630'},\n",
       " {'corp_code': '00434289',\n",
       "  'corp_name': 'KTB혼합형펀드',\n",
       "  'stock_code': None,\n",
       "  'modify_date': '20170630'},\n",
       " {'corp_code': '00434298',\n",
       "  'corp_name': 'KTB플러스찬스혼합형펀드',\n",
       "  'stock_code': None,\n",
       "  'modify_date': '20170630'},\n",
       " {'corp_code': '00434313',\n",
       "  'corp_name': 'KTB포트폴리오스타혼합형펀드',\n",
       "  'stock_code': None,\n",
       "  'modify_date': '20170630'},\n",
       " {'corp_code': '00434322',\n",
       "  'corp_name': 'KTB에버스타혼합형펀드',\n",
       "  'stock_code': None,\n",
       "  'modify_date': '20170630'},\n",
       " {'corp_code': '00429463',\n",
       "  'corp_name': '나노이앤씨',\n",
       "  'stock_code': None,\n",
       "  'modify_date': '20170630'},\n",
       " {'corp_code': '00429515',\n",
       "  'corp_name': '지산엔터프라이즈',\n",
       "  'stock_code': None,\n",
       "  'modify_date': '20170630'},\n",
       " {'corp_code': '00432175',\n",
       "  'corp_name': '유아이에스코리아',\n",
       "  'stock_code': None,\n",
       "  'modify_date': '20170630'},\n",
       " {'corp_code': '00387033',\n",
       "  'corp_name': '트리플에스유동화전문유한회사',\n",
       "  'stock_code': None,\n",
       "  'modify_date': '20170630'},\n",
       " {'corp_code': '00384045',\n",
       "  'corp_name': '크레디피아제이십일차유동화전문유한회사',\n",
       "  'stock_code': None,\n",
       "  'modify_date': '20170630'},\n",
       " {'corp_code': '00431608',\n",
       "  'corp_name': '싱가포르개발은행',\n",
       "  'stock_code': None,\n",
       "  'modify_date': '20170630'},\n",
       " {'corp_code': '00431705',\n",
       "  'corp_name': '엘지팩토링제일차유동화전문유한회사',\n",
       "  'stock_code': None,\n",
       "  'modify_date': '20170630'},\n",
       " {'corp_code': '00430256',\n",
       "  'corp_name': '이피에스뱅크',\n",
       "  'stock_code': None,\n",
       "  'modify_date': '20170630'},\n",
       " {'corp_code': '00431167',\n",
       "  'corp_name': '이라이프네트워크',\n",
       "  'stock_code': None,\n",
       "  'modify_date': '20170630'},\n",
       " {'corp_code': '00432315',\n",
       "  'corp_name': '덕성',\n",
       "  'stock_code': None,\n",
       "  'modify_date': '20170630'},\n",
       " {'corp_code': '00413134',\n",
       "  'corp_name': '타오건설',\n",
       "  'stock_code': None,\n",
       "  'modify_date': '20170630'},\n",
       " {'corp_code': '00435376',\n",
       "  'corp_name': '장원코리아',\n",
       "  'stock_code': None,\n",
       "  'modify_date': '20170630'},\n",
       " {'corp_code': '00110909',\n",
       "  'corp_name': '대신통상',\n",
       "  'stock_code': None,\n",
       "  'modify_date': '20170630'},\n",
       " {'corp_code': '00245995',\n",
       "  'corp_name': '삼광제지공업',\n",
       "  'stock_code': None,\n",
       "  'modify_date': '20170630'},\n",
       " {'corp_code': '00220695',\n",
       "  'corp_name': '서울교육',\n",
       "  'stock_code': None,\n",
       "  'modify_date': '20170630'},\n",
       " {'corp_code': '00211794',\n",
       "  'corp_name': '보성패션',\n",
       "  'stock_code': None,\n",
       "  'modify_date': '20170630'},\n",
       " {'corp_code': '00454496',\n",
       "  'corp_name': '넥스탑',\n",
       "  'stock_code': None,\n",
       "  'modify_date': '20170630'},\n",
       " {'corp_code': '00455592',\n",
       "  'corp_name': '마니빌',\n",
       "  'stock_code': None,\n",
       "  'modify_date': '20170630'},\n",
       " {'corp_code': '00370796',\n",
       "  'corp_name': '제이엘코프',\n",
       "  'stock_code': None,\n",
       "  'modify_date': '20170630'},\n",
       " {'corp_code': '00199401',\n",
       "  'corp_name': '컴마을',\n",
       "  'stock_code': None,\n",
       "  'modify_date': '20170630'},\n",
       " {'corp_code': '00369596',\n",
       "  'corp_name': '삼신크리에이션',\n",
       "  'stock_code': None,\n",
       "  'modify_date': '20170630'},\n",
       " {'corp_code': '00210078',\n",
       "  'corp_name': '호한통상',\n",
       "  'stock_code': None,\n",
       "  'modify_date': '20170630'},\n",
       " {'corp_code': '00363398',\n",
       "  'corp_name': '케이엠티',\n",
       "  'stock_code': None,\n",
       "  'modify_date': '20170630'},\n",
       " {'corp_code': '00110042',\n",
       "  'corp_name': '대백가구',\n",
       "  'stock_code': None,\n",
       "  'modify_date': '20170630'},\n",
       " {'corp_code': '00364324',\n",
       "  'corp_name': '청빛산업개발',\n",
       "  'stock_code': None,\n",
       "  'modify_date': '20170630'},\n",
       " {'corp_code': '00248017',\n",
       "  'corp_name': '삼양전자',\n",
       "  'stock_code': None,\n",
       "  'modify_date': '20170630'},\n",
       " {'corp_code': '00452179',\n",
       "  'corp_name': '숭민코리아유통',\n",
       "  'stock_code': None,\n",
       "  'modify_date': '20170630'},\n",
       " {'corp_code': '00413754',\n",
       "  'corp_name': '유오티앤씨',\n",
       "  'stock_code': None,\n",
       "  'modify_date': '20170630'},\n",
       " {'corp_code': '00343163',\n",
       "  'corp_name': '한라스페코중공업',\n",
       "  'stock_code': None,\n",
       "  'modify_date': '20170630'},\n",
       " {'corp_code': '00452513',\n",
       "  'corp_name': '알본',\n",
       "  'stock_code': None,\n",
       "  'modify_date': '20170630'},\n",
       " {'corp_code': '00435978',\n",
       "  'corp_name': '상일디지털',\n",
       "  'stock_code': None,\n",
       "  'modify_date': '20170630'},\n",
       " {'corp_code': '00368153',\n",
       "  'corp_name': '서전어패럴',\n",
       "  'stock_code': None,\n",
       "  'modify_date': '20170630'},\n",
       " {'corp_code': '00455149',\n",
       "  'corp_name': '웰비스트랜스',\n",
       "  'stock_code': None,\n",
       "  'modify_date': '20170630'},\n",
       " {'corp_code': '00249946',\n",
       "  'corp_name': '한국키엔스',\n",
       "  'stock_code': None,\n",
       "  'modify_date': '20170630'},\n",
       " {'corp_code': '00110839',\n",
       "  'corp_name': '대신생명보험',\n",
       "  'stock_code': None,\n",
       "  'modify_date': '20170630'},\n",
       " {'corp_code': '00293798',\n",
       "  'corp_name': '대성메디테크',\n",
       "  'stock_code': None,\n",
       "  'modify_date': '20170630'},\n",
       " {'corp_code': '00113119',\n",
       "  'corp_name': '대한알루미늄공업',\n",
       "  'stock_code': None,\n",
       "  'modify_date': '20170630'},\n",
       " {'corp_code': '00424389',\n",
       "  'corp_name': '남성엠케이',\n",
       "  'stock_code': None,\n",
       "  'modify_date': '20170630'},\n",
       " {'corp_code': '00424486',\n",
       "  'corp_name': '씨엠액텍',\n",
       "  'stock_code': None,\n",
       "  'modify_date': '20170630'},\n",
       " {'corp_code': '00224734',\n",
       "  'corp_name': '한국부동산신탁',\n",
       "  'stock_code': None,\n",
       "  'modify_date': '20170630'},\n",
       " {'corp_code': '00197713',\n",
       "  'corp_name': '주은산업',\n",
       "  'stock_code': None,\n",
       "  'modify_date': '20170630'},\n",
       " {'corp_code': '00421948',\n",
       "  'corp_name': '신엘지프라이머리제이차유동화전문유한회사',\n",
       "  'stock_code': None,\n",
       "  'modify_date': '20170630'},\n",
       " {'corp_code': '00422381',\n",
       "  'corp_name': '데코제일차유동화전문유한회사',\n",
       "  'stock_code': None,\n",
       "  'modify_date': '20170630'},\n",
       " {'corp_code': '00350446',\n",
       "  'corp_name': '뉴스테이트삼차모기지유동화전문유한회사',\n",
       "  'stock_code': None,\n",
       "  'modify_date': '20170630'},\n",
       " {'corp_code': '00396642',\n",
       "  'corp_name': '엘지수퍼센터',\n",
       "  'stock_code': None,\n",
       "  'modify_date': '20170630'},\n",
       " {'corp_code': '00425449',\n",
       "  'corp_name': '아이클릭세븐',\n",
       "  'stock_code': None,\n",
       "  'modify_date': '20170630'},\n",
       " {'corp_code': '00425458',\n",
       "  'corp_name': '월드인코레스',\n",
       "  'stock_code': None,\n",
       "  'modify_date': '20170630'},\n",
       " {'corp_code': '00425333',\n",
       "  'corp_name': '코리아픽시컴',\n",
       "  'stock_code': None,\n",
       "  'modify_date': '20170630'},\n",
       " {'corp_code': '00424617',\n",
       "  'corp_name': '산은부동산제사차유동화전문유한회사',\n",
       "  'stock_code': None,\n",
       "  'modify_date': '20170630'},\n",
       " {'corp_code': '00424006',\n",
       "  'corp_name': '글로벌자이언트시스템',\n",
       "  'stock_code': None,\n",
       "  'modify_date': '20170630'},\n",
       " {'corp_code': '00424051',\n",
       "  'corp_name': '신클레어',\n",
       "  'stock_code': None,\n",
       "  'modify_date': '20170630'},\n",
       " {'corp_code': '00403599',\n",
       "  'corp_name': '에이에스피기업구조조정전문',\n",
       "  'stock_code': None,\n",
       "  'modify_date': '20170630'},\n",
       " {'corp_code': '00425519',\n",
       "  'corp_name': 'Marubeni-ItochuSteelInc.',\n",
       "  'stock_code': None,\n",
       "  'modify_date': '20170630'},\n",
       " {'corp_code': '00224585',\n",
       "  'corp_name': '신한',\n",
       "  'stock_code': None,\n",
       "  'modify_date': '20170630'},\n",
       " {'corp_code': '00429524',\n",
       "  'corp_name': '우리모아제이차유동화전문유한회사',\n",
       "  'stock_code': None,\n",
       "  'modify_date': '20170630'},\n",
       " {'corp_code': '00429533',\n",
       "  'corp_name': '글로벌사모안정혼합형펀드',\n",
       "  'stock_code': None,\n",
       "  'modify_date': '20170630'},\n",
       " {'corp_code': '00432722',\n",
       "  'corp_name': '파워외환카드제팔차유동화전문유한회사',\n",
       "  'stock_code': None,\n",
       "  'modify_date': '20170630'},\n",
       " {'corp_code': '00432786',\n",
       "  'corp_name': '파워외환카드제오차유동화전문유한회사',\n",
       "  'stock_code': None,\n",
       "  'modify_date': '20170630'},\n",
       " {'corp_code': '00429728',\n",
       "  'corp_name': '영퓨처',\n",
       "  'stock_code': None,\n",
       "  'modify_date': '20170630'},\n",
       " {'corp_code': '00428668',\n",
       "  'corp_name': '코로볼틴펀드리미티드',\n",
       "  'stock_code': None,\n",
       "  'modify_date': '20170630'},\n",
       " {'corp_code': '00430751',\n",
       "  'corp_name': '대창크랑크',\n",
       "  'stock_code': None,\n",
       "  'modify_date': '20170630'},\n",
       " {'corp_code': '00385372',\n",
       "  'corp_name': '허츠제일차유동화전문유한회사',\n",
       "  'stock_code': None,\n",
       "  'modify_date': '20170630'},\n",
       " {'corp_code': '00431680',\n",
       "  'corp_name': '새암교육',\n",
       "  'stock_code': None,\n",
       "  'modify_date': '20170630'},\n",
       " {'corp_code': '00386308',\n",
       "  'corp_name': '반지종합상가',\n",
       "  'stock_code': None,\n",
       "  'modify_date': '20170630'},\n",
       " {'corp_code': '00256450',\n",
       "  'corp_name': '동서산업건설(가칭)',\n",
       "  'stock_code': None,\n",
       "  'modify_date': '20170630'},\n",
       " {'corp_code': '00290816',\n",
       "  'corp_name': '대우종합기계(가칭)',\n",
       "  'stock_code': None,\n",
       "  'modify_date': '20170630'},\n",
       " {'corp_code': '00291532',\n",
       "  'corp_name': '대우조선공업(가칭)',\n",
       "  'stock_code': None,\n",
       "  'modify_date': '20170630'},\n",
       " {'corp_code': '00127990',\n",
       "  'corp_name': '삼일상호저축은행',\n",
       "  'stock_code': None,\n",
       "  'modify_date': '20170630'},\n",
       " {'corp_code': '00431565',\n",
       "  'corp_name': '케이디에스에스',\n",
       "  'stock_code': None,\n",
       "  'modify_date': '20170630'},\n",
       " {'corp_code': '00399959',\n",
       "  'corp_name': '비젼케이파트너스',\n",
       "  'stock_code': None,\n",
       "  'modify_date': '20170630'},\n",
       " {'corp_code': '00430238',\n",
       "  'corp_name': '리버랜드',\n",
       "  'stock_code': None,\n",
       "  'modify_date': '20170630'},\n",
       " {'corp_code': '00263034',\n",
       "  'corp_name': '동양선재',\n",
       "  'stock_code': None,\n",
       "  'modify_date': '20170630'},\n",
       " {'corp_code': '00205298',\n",
       "  'corp_name': '춘천미도파',\n",
       "  'stock_code': None,\n",
       "  'modify_date': '20170630'},\n",
       " {'corp_code': '00431042',\n",
       "  'corp_name': '거버너스M&A사모펀드3호',\n",
       "  'stock_code': None,\n",
       "  'modify_date': '20170630'},\n",
       " {'corp_code': '00348715',\n",
       "  'corp_name': '아이앤비골드문브이에이치',\n",
       "  'stock_code': None,\n",
       "  'modify_date': '20170630'},\n",
       " {'corp_code': '00447964',\n",
       "  'corp_name': '체리미디어',\n",
       "  'stock_code': None,\n",
       "  'modify_date': '20170630'},\n",
       " {'corp_code': '00448361',\n",
       "  'corp_name': '경원하이텍',\n",
       "  'stock_code': None,\n",
       "  'modify_date': '20170630'},\n",
       " {'corp_code': '00185851',\n",
       "  'corp_name': '중원화학',\n",
       "  'stock_code': None,\n",
       "  'modify_date': '20170630'},\n",
       " {'corp_code': '00445735',\n",
       "  'corp_name': '나크나인',\n",
       "  'stock_code': None,\n",
       "  'modify_date': '20170630'},\n",
       " {'corp_code': '00385770',\n",
       "  'corp_name': '동남해상관광호텔',\n",
       "  'stock_code': None,\n",
       "  'modify_date': '20170630'},\n",
       " {'corp_code': '00319245',\n",
       "  'corp_name': '한성선박',\n",
       "  'stock_code': None,\n",
       "  'modify_date': '20170630'},\n",
       " {'corp_code': '00126502',\n",
       "  'corp_name': '삼성콘크리트공업',\n",
       "  'stock_code': None,\n",
       "  'modify_date': '20170630'},\n",
       " {'corp_code': '00363440',\n",
       "  'corp_name': '엠알더블유테크노로지',\n",
       "  'stock_code': None,\n",
       "  'modify_date': '20170630'},\n",
       " {'corp_code': '00445522',\n",
       "  'corp_name': '제이에이치홀딩스',\n",
       "  'stock_code': None,\n",
       "  'modify_date': '20170630'},\n",
       " {'corp_code': '00320302',\n",
       "  'corp_name': '동연산업',\n",
       "  'stock_code': None,\n",
       "  'modify_date': '20170630'},\n",
       " {'corp_code': '00444958',\n",
       "  'corp_name': '우양주택건설',\n",
       "  'stock_code': None,\n",
       "  'modify_date': '20170630'},\n",
       " {'corp_code': '00441836',\n",
       "  'corp_name': '해진하우징',\n",
       "  'stock_code': None,\n",
       "  'modify_date': '20170630'},\n",
       " {'corp_code': '00445203',\n",
       "  'corp_name': '대림전자',\n",
       "  'stock_code': None,\n",
       "  'modify_date': '20170630'},\n",
       " {'corp_code': '00445629',\n",
       "  'corp_name': '효헌산업',\n",
       "  'stock_code': None,\n",
       "  'modify_date': '20170630'},\n",
       " {'corp_code': '00454052',\n",
       "  'corp_name': '우림산업개발',\n",
       "  'stock_code': None,\n",
       "  'modify_date': '20170630'},\n",
       " {'corp_code': '00454414',\n",
       "  'corp_name': '에이스하이테크',\n",
       "  'stock_code': None,\n",
       "  'modify_date': '20170630'},\n",
       " {'corp_code': '00196857',\n",
       "  'corp_name': '해표푸드서비스',\n",
       "  'stock_code': None,\n",
       "  'modify_date': '20170630'},\n",
       " {'corp_code': '00413383',\n",
       "  'corp_name': '에프씨산업',\n",
       "  'stock_code': None,\n",
       "  'modify_date': '20170630'},\n",
       " {'corp_code': '00225098',\n",
       "  'corp_name': '극동뉴메릭',\n",
       "  'stock_code': None,\n",
       "  'modify_date': '20170630'},\n",
       " {'corp_code': '00410304',\n",
       "  'corp_name': '서울드림랜드',\n",
       "  'stock_code': None,\n",
       "  'modify_date': '20170630'},\n",
       " {'corp_code': '00310998',\n",
       "  'corp_name': '한국미라이공업',\n",
       "  'stock_code': None,\n",
       "  'modify_date': '20170630'},\n",
       " {'corp_code': '00415114',\n",
       "  'corp_name': '21세기화장품',\n",
       "  'stock_code': None,\n",
       "  'modify_date': '20170630'},\n",
       " {'corp_code': '00451000',\n",
       "  'corp_name': '광명산업',\n",
       "  'stock_code': None,\n",
       "  'modify_date': '20170630'},\n",
       " {'corp_code': '00369985',\n",
       "  'corp_name': '다음솔루션',\n",
       "  'stock_code': None,\n",
       "  'modify_date': '20170630'},\n",
       " {'corp_code': '00199809',\n",
       "  'corp_name': '이성화학',\n",
       "  'stock_code': None,\n",
       "  'modify_date': '20170630'},\n",
       " {'corp_code': '00371670',\n",
       "  'corp_name': '정우조명',\n",
       "  'stock_code': None,\n",
       "  'modify_date': '20170630'},\n",
       " {'corp_code': '00401430',\n",
       "  'corp_name': '모바일웰컴',\n",
       "  'stock_code': None,\n",
       "  'modify_date': '20170630'},\n",
       " {'corp_code': '00247027',\n",
       "  'corp_name': '푸른건설',\n",
       "  'stock_code': None,\n",
       "  'modify_date': '20170630'},\n",
       " {'corp_code': '00144058',\n",
       "  'corp_name': '월다크',\n",
       "  'stock_code': None,\n",
       "  'modify_date': '20170630'},\n",
       " {'corp_code': '00416867',\n",
       "  'corp_name': '길도건업',\n",
       "  'stock_code': None,\n",
       "  'modify_date': '20170630'},\n",
       " {'corp_code': '00456263',\n",
       "  'corp_name': '원일스포지움',\n",
       "  'stock_code': None,\n",
       "  'modify_date': '20170630'},\n",
       " {'corp_code': '00436339',\n",
       "  'corp_name': '용인자원',\n",
       "  'stock_code': None,\n",
       "  'modify_date': '20170630'},\n",
       " {'corp_code': '00120748',\n",
       "  'corp_name': '마산강관',\n",
       "  'stock_code': None,\n",
       "  'modify_date': '20170630'},\n",
       " {'corp_code': '00386724',\n",
       "  'corp_name': '세창철강공업',\n",
       "  'stock_code': None,\n",
       "  'modify_date': '20170630'},\n",
       " {'corp_code': '00255390',\n",
       "  'corp_name': '재무와정보',\n",
       "  'stock_code': None,\n",
       "  'modify_date': '20170630'},\n",
       " {'corp_code': '00455547',\n",
       "  'corp_name': '대양중공업',\n",
       "  'stock_code': None,\n",
       "  'modify_date': '20170630'},\n",
       " {'corp_code': '00233398',\n",
       "  'corp_name': '이에이지씨',\n",
       "  'stock_code': None,\n",
       "  'modify_date': '20170630'},\n",
       " {'corp_code': '00405065',\n",
       "  'corp_name': '페타코페트로륨',\n",
       "  'stock_code': None,\n",
       "  'modify_date': '20170630'},\n",
       " {'corp_code': '00425537',\n",
       "  'corp_name': 'MarubeniCorporation',\n",
       "  'stock_code': None,\n",
       "  'modify_date': '20170630'},\n",
       " {'corp_code': '00424158',\n",
       "  'corp_name': '캐피탈라인',\n",
       "  'stock_code': None,\n",
       "  'modify_date': '20170630'},\n",
       " {'corp_code': '00100920',\n",
       "  'corp_name': '건설증권',\n",
       "  'stock_code': None,\n",
       "  'modify_date': '20170630'},\n",
       " {'corp_code': '00370167',\n",
       "  'corp_name': '일진전자통신',\n",
       "  'stock_code': None,\n",
       "  'modify_date': '20170630'},\n",
       " {'corp_code': '00409131',\n",
       "  'corp_name': '오픈솔루션',\n",
       "  'stock_code': None,\n",
       "  'modify_date': '20170630'},\n",
       " {'corp_code': '00424194',\n",
       "  'corp_name': 'AMERICAORIENTALGROUP',\n",
       "  'stock_code': None,\n",
       "  'modify_date': '20170630'},\n",
       " {'corp_code': '00364713',\n",
       "  'corp_name': 'mvp창업투자',\n",
       "  'stock_code': None,\n",
       "  'modify_date': '20170630'},\n",
       " {'corp_code': '00408901',\n",
       "  'corp_name': '라이져',\n",
       "  'stock_code': None,\n",
       "  'modify_date': '20170630'},\n",
       " {'corp_code': '00161170',\n",
       "  'corp_name': '한라시멘트',\n",
       "  'stock_code': None,\n",
       "  'modify_date': '20170630'},\n",
       " {'corp_code': '00423557',\n",
       "  'corp_name': '한국알리안츠화재해상보험',\n",
       "  'stock_code': None,\n",
       "  'modify_date': '20170630'},\n",
       " {'corp_code': '00307444',\n",
       "  'corp_name': '코리아벌처투자',\n",
       "  'stock_code': None,\n",
       "  'modify_date': '20170630'},\n",
       " {'corp_code': '00370468',\n",
       "  'corp_name': '티에스케이지',\n",
       "  'stock_code': None,\n",
       "  'modify_date': '20170630'},\n",
       " {'corp_code': '00424547',\n",
       "  'corp_name': '메리츠투자자문',\n",
       "  'stock_code': None,\n",
       "  'modify_date': '20170630'},\n",
       " {'corp_code': '00424219',\n",
       "  'corp_name': '텔레닉스',\n",
       "  'stock_code': None,\n",
       "  'modify_date': '20170630'},\n",
       " {'corp_code': '00424185',\n",
       "  'corp_name': '유니텍워터시스템즈',\n",
       "  'stock_code': None,\n",
       "  'modify_date': '20170630'},\n",
       " {'corp_code': '00424556',\n",
       "  'corp_name': '거륜씨앤씨',\n",
       "  'stock_code': None,\n",
       "  'modify_date': '20170630'},\n",
       " {'corp_code': '00121631',\n",
       "  'corp_name': '문화',\n",
       "  'stock_code': None,\n",
       "  'modify_date': '20170630'},\n",
       " {'corp_code': '00424866',\n",
       "  'corp_name': '모비도미',\n",
       "  'stock_code': None,\n",
       "  'modify_date': '20170630'},\n",
       " {'corp_code': '00424884',\n",
       "  'corp_name': '에이치케이인베스트먼트유동화전문유한회사',\n",
       "  'stock_code': None,\n",
       "  'modify_date': '20170630'},\n",
       " {'corp_code': '00424927',\n",
       "  'corp_name': 'LiquidmetalTechnologies',\n",
       "  'stock_code': None,\n",
       "  'modify_date': '20170630'},\n",
       " {'corp_code': '00423797',\n",
       "  'corp_name': '모멘타(케이만)',\n",
       "  'stock_code': None,\n",
       "  'modify_date': '20170630'},\n",
       " {'corp_code': '00433350',\n",
       "  'corp_name': 'KTB프라임8호혼합형사모펀드',\n",
       "  'stock_code': None,\n",
       "  'modify_date': '20170630'},\n",
       " {'corp_code': '00433369',\n",
       "  'corp_name': '유리명품장기채권형사모펀드3호',\n",
       "  'stock_code': None,\n",
       "  'modify_date': '20170630'},\n",
       " {'corp_code': '00433378',\n",
       "  'corp_name': '유리유니콘채권혼합형펀드',\n",
       "  'stock_code': None,\n",
       "  'modify_date': '20170630'},\n",
       " {'corp_code': '00433387',\n",
       "  'corp_name': '맥쿼리아이엠엠프라임7호채권형사모펀드',\n",
       "  'stock_code': None,\n",
       "  'modify_date': '20170630'},\n",
       " {'corp_code': '00433420',\n",
       "  'corp_name': '마이에셋애국성장형이호펀드',\n",
       "  'stock_code': None,\n",
       "  'modify_date': '20170630'},\n",
       " {'corp_code': '00433457',\n",
       "  'corp_name': '채권플러스알파2호펀드',\n",
       "  'stock_code': None,\n",
       "  'modify_date': '20170630'},\n",
       " {'corp_code': '00433466',\n",
       "  'corp_name': '마이다스사모프라임안정형2호펀드',\n",
       "  'stock_code': None,\n",
       "  'modify_date': '20170630'},\n",
       " {'corp_code': '00376073',\n",
       "  'corp_name': '테크포인트',\n",
       "  'stock_code': None,\n",
       "  'modify_date': '20170630'},\n",
       " {'corp_code': '00234306',\n",
       "  'corp_name': '부국개발',\n",
       "  'stock_code': None,\n",
       "  'modify_date': '20170630'},\n",
       " {'corp_code': '00429418',\n",
       "  'corp_name': '세닥에듀케이션',\n",
       "  'stock_code': None,\n",
       "  'modify_date': '20170630'},\n",
       " {'corp_code': '00429977',\n",
       "  'corp_name': '에이치엘홀딩스에스에이',\n",
       "  'stock_code': None,\n",
       "  'modify_date': '20170630'},\n",
       " {'corp_code': '00340786',\n",
       "  'corp_name': '크레디리요네증권',\n",
       "  'stock_code': None,\n",
       "  'modify_date': '20170630'},\n",
       " {'corp_code': '00218928',\n",
       "  'corp_name': '케이티인더스트리',\n",
       "  'stock_code': None,\n",
       "  'modify_date': '20170630'},\n",
       " {'corp_code': '00106793',\n",
       "  'corp_name': '김천상호저축은행',\n",
       "  'stock_code': None,\n",
       "  'modify_date': '20170630'},\n",
       " {'corp_code': '00378886',\n",
       "  'corp_name': '이화홀딩스',\n",
       "  'stock_code': None,\n",
       "  'modify_date': '20170630'},\n",
       " {'corp_code': '00433484',\n",
       "  'corp_name': '미래에셋유니온사모혼합형펀드2호',\n",
       "  'stock_code': None,\n",
       "  'modify_date': '20170630'},\n",
       " {'corp_code': '00433493',\n",
       "  'corp_name': '맥쿼리아이엠엠액티브채권형사모펀드3호',\n",
       "  'stock_code': None,\n",
       "  'modify_date': '20170630'},\n",
       " {'corp_code': '00433509',\n",
       "  'corp_name': '맥쿼리아이엠엠프라임6호혼합형사모펀드',\n",
       "  'stock_code': None,\n",
       "  'modify_date': '20170630'},\n",
       " {'corp_code': '00433518',\n",
       "  'corp_name': '유리명품장기채권형사모펀드2호',\n",
       "  'stock_code': None,\n",
       "  'modify_date': '20170630'},\n",
       " {'corp_code': '00406596',\n",
       "  'corp_name': '신우쉬핑',\n",
       "  'stock_code': None,\n",
       "  'modify_date': '20170630'},\n",
       " {'corp_code': '00443001',\n",
       "  'corp_name': '동흥컨설팅',\n",
       "  'stock_code': None,\n",
       "  'modify_date': '20170630'},\n",
       " {'corp_code': '00363741',\n",
       "  'corp_name': '디조콤',\n",
       "  'stock_code': None,\n",
       "  'modify_date': '20170630'},\n",
       " {'corp_code': '00436375',\n",
       "  'corp_name': '맘모스산업개발',\n",
       "  'stock_code': None,\n",
       "  'modify_date': '20170630'},\n",
       " {'corp_code': '00222277',\n",
       "  'corp_name': '아성',\n",
       "  'stock_code': None,\n",
       "  'modify_date': '20170630'},\n",
       " {'corp_code': '00446284',\n",
       "  'corp_name': '디토정보기술',\n",
       "  'stock_code': None,\n",
       "  'modify_date': '20170630'},\n",
       " {'corp_code': '00446682',\n",
       "  'corp_name': '오우디앤씨',\n",
       "  'stock_code': None,\n",
       "  'modify_date': '20170630'},\n",
       " {'corp_code': '00139995',\n",
       "  'corp_name': '에어웨이엑스프레스',\n",
       "  'stock_code': None,\n",
       "  'modify_date': '20170630'},\n",
       " {'corp_code': '00444602',\n",
       "  'corp_name': '탑월드',\n",
       "  'stock_code': None,\n",
       "  'modify_date': '20170630'},\n",
       " {'corp_code': '00446433',\n",
       "  'corp_name': '옥시큐어',\n",
       "  'stock_code': None,\n",
       "  'modify_date': '20170630'},\n",
       " {'corp_code': '00150314',\n",
       "  'corp_name': '진로종합유통',\n",
       "  'stock_code': None,\n",
       "  'modify_date': '20170630'},\n",
       " {'corp_code': '00231840',\n",
       "  'corp_name': '케이에프텍',\n",
       "  'stock_code': None,\n",
       "  'modify_date': '20170630'},\n",
       " {'corp_code': '00236243',\n",
       "  'corp_name': '나토상사',\n",
       "  'stock_code': None,\n",
       "  'modify_date': '20170630'},\n",
       " {'corp_code': '00309479',\n",
       "  'corp_name': '지오이네트',\n",
       "  'stock_code': None,\n",
       "  'modify_date': '20170630'},\n",
       " {'corp_code': '00447034',\n",
       "  'corp_name': '이십일세기종합건설',\n",
       "  'stock_code': None,\n",
       "  'modify_date': '20170630'},\n",
       " {'corp_code': '00447496',\n",
       "  'corp_name': '일현건설',\n",
       "  'stock_code': None,\n",
       "  'modify_date': '20170630'},\n",
       " {'corp_code': '00300928',\n",
       "  'corp_name': '삼영기공',\n",
       "  'stock_code': None,\n",
       "  'modify_date': '20170630'},\n",
       " {'corp_code': '00317566',\n",
       "  'corp_name': '삼능주택',\n",
       "  'stock_code': None,\n",
       "  'modify_date': '20170630'},\n",
       " {'corp_code': '00412001',\n",
       "  'corp_name': '동해',\n",
       "  'stock_code': None,\n",
       "  'modify_date': '20170630'},\n",
       " {'corp_code': '00155407',\n",
       "  'corp_name': '풍광직물',\n",
       "  'stock_code': None,\n",
       "  'modify_date': '20170630'},\n",
       " {'corp_code': '00443542',\n",
       "  'corp_name': '기성텍스타일',\n",
       "  'stock_code': None,\n",
       "  'modify_date': '20170630'},\n",
       " {'corp_code': '00179726',\n",
       "  'corp_name': '제텍스바론',\n",
       "  'stock_code': None,\n",
       "  'modify_date': '20170630'},\n",
       " {'corp_code': '00300982',\n",
       "  'corp_name': '국제개발',\n",
       "  'stock_code': None,\n",
       "  'modify_date': '20170630'},\n",
       " {'corp_code': '00298818',\n",
       "  'corp_name': '유유후마킬라',\n",
       "  'stock_code': None,\n",
       "  'modify_date': '20170630'},\n",
       " {'corp_code': '00424644',\n",
       "  'corp_name': '피앤씨미디어',\n",
       "  'stock_code': None,\n",
       "  'modify_date': '20170630'},\n",
       " {'corp_code': '00350570',\n",
       "  'corp_name': '비앤에프투자자문',\n",
       "  'stock_code': None,\n",
       "  'modify_date': '20170630'},\n",
       " {'corp_code': '00424316',\n",
       "  'corp_name': '한국부동산신탁제이차유동화전문유한회사',\n",
       "  'stock_code': None,\n",
       "  'modify_date': '20170630'},\n",
       " {'corp_code': '00368551',\n",
       "  'corp_name': '에이텍',\n",
       "  'stock_code': None,\n",
       "  'modify_date': '20170630'},\n",
       " {'corp_code': '00424307',\n",
       "  'corp_name': '덕경종합건설',\n",
       "  'stock_code': None,\n",
       "  'modify_date': '20170630'},\n",
       " {'corp_code': '00425078',\n",
       "  'corp_name': '글로벌스페셜혼합형사모펀드',\n",
       "  'stock_code': None,\n",
       "  'modify_date': '20170630'},\n",
       " {'corp_code': '00154499',\n",
       "  'corp_name': '태화',\n",
       "  'stock_code': None,\n",
       "  'modify_date': '20170630'},\n",
       " {'corp_code': '00424653',\n",
       "  'corp_name': '씨앤앰유동화전문유한회사',\n",
       "  'stock_code': None,\n",
       "  'modify_date': '20170630'},\n",
       " {'corp_code': '00414522',\n",
       "  'corp_name': '온누리방송',\n",
       "  'stock_code': None,\n",
       "  'modify_date': '20170630'},\n",
       " {'corp_code': '00425120',\n",
       "  'corp_name': '케이티엠',\n",
       "  'stock_code': None,\n",
       "  'modify_date': '20170630'},\n",
       " {'corp_code': '00356723',\n",
       "  'corp_name': '아이앤비골드문컨설팅',\n",
       "  'stock_code': None,\n",
       "  'modify_date': '20170630'},\n",
       " {'corp_code': '00375506',\n",
       "  'corp_name': '동국제강제일차유동화전문유한회사',\n",
       "  'stock_code': None,\n",
       "  'modify_date': '20170630'},\n",
       " {'corp_code': '00424769',\n",
       "  'corp_name': '밸류노믹스기업구조조정전문회사',\n",
       "  'stock_code': None,\n",
       "  'modify_date': '20170630'},\n",
       " {'corp_code': '00223300',\n",
       "  'corp_name': '조창',\n",
       "  'stock_code': None,\n",
       "  'modify_date': '20170630'},\n",
       " {'corp_code': '00378178',\n",
       "  'corp_name': '테크노켐',\n",
       "  'stock_code': None,\n",
       "  'modify_date': '20170630'},\n",
       " {'corp_code': '00360294',\n",
       "  'corp_name': '영지통상',\n",
       "  'stock_code': None,\n",
       "  'modify_date': '20170630'},\n",
       " {'corp_code': '00425209',\n",
       "  'corp_name': 'RosewellConsulting&InvestmentLtd.',\n",
       "  'stock_code': None,\n",
       "  'modify_date': '20170630'},\n",
       " {'corp_code': '00433527',\n",
       "  'corp_name': '유리시티즌장기채권형사모펀드',\n",
       "  'stock_code': None,\n",
       "  'modify_date': '20170630'},\n",
       " {'corp_code': '00433536',\n",
       "  'corp_name': 'KTB장기채권형사모펀드3호',\n",
       "  'stock_code': None,\n",
       "  'modify_date': '20170630'},\n",
       " {'corp_code': '00433545',\n",
       "  'corp_name': 'KTB장기채권형사모펀드4호',\n",
       "  'stock_code': None,\n",
       "  'modify_date': '20170630'},\n",
       " {'corp_code': '00433554',\n",
       "  'corp_name': '맥쿼리아이엠엠포세이돈채권형사모펀드4호',\n",
       "  'stock_code': None,\n",
       "  'modify_date': '20170630'},\n",
       " {'corp_code': '00433563',\n",
       "  'corp_name': '마이에셋애국안정형1호펀드',\n",
       "  'stock_code': None,\n",
       "  'modify_date': '20170630'},\n",
       " {'corp_code': '00434702',\n",
       "  'corp_name': '노보스',\n",
       "  'stock_code': None,\n",
       "  'modify_date': '20170630'},\n",
       " {'corp_code': '00434711',\n",
       "  'corp_name': '세이유니온채권혼합형사모펀드',\n",
       "  'stock_code': None,\n",
       "  'modify_date': '20170630'},\n",
       " {'corp_code': '00434720',\n",
       "  'corp_name': 'LG드림혼합형펀드',\n",
       "  'stock_code': None,\n",
       "  'modify_date': '20170630'},\n",
       " {'corp_code': '00434739',\n",
       "  'corp_name': '알파그로스주식형펀드',\n",
       "  'stock_code': None,\n",
       "  'modify_date': '20170630'},\n",
       " {'corp_code': '00434748',\n",
       "  'corp_name': '유리알파헷지채권혼합형사모펀드',\n",
       "  'stock_code': None,\n",
       "  'modify_date': '20170630'},\n",
       " {'corp_code': '00434757',\n",
       "  'corp_name': '알파헷지이기욱혼합형펀드',\n",
       "  'stock_code': None,\n",
       "  'modify_date': '20170630'},\n",
       " {'corp_code': '00434775',\n",
       "  'corp_name': '맥쿼리IMM홀인원채권형펀드',\n",
       "  'stock_code': None,\n",
       "  'modify_date': '20170630'},\n",
       " {'corp_code': '00434793',\n",
       "  'corp_name': '유리시장중립채권형사모펀드',\n",
       "  'stock_code': None,\n",
       "  'modify_date': '20170630'},\n",
       " {'corp_code': '00434809',\n",
       "  'corp_name': '유리알파30채권혼합형사모펀드',\n",
       "  'stock_code': None,\n",
       "  'modify_date': '20170630'},\n",
       " {'corp_code': '00432573',\n",
       "  'corp_name': '파워외환카드제사차유동화전문유한회사',\n",
       "  'stock_code': None,\n",
       "  'modify_date': '20170630'},\n",
       " {'corp_code': '00432607',\n",
       "  'corp_name': '파워외환카드제이차유동화전문유한회사',\n",
       "  'stock_code': None,\n",
       "  'modify_date': '20170630'},\n",
       " {'corp_code': '00432643',\n",
       "  'corp_name': '케드제이차유동화전문유한회사',\n",
       "  'stock_code': None,\n",
       "  'modify_date': '20170630'},\n",
       " {'corp_code': '00323390',\n",
       "  'corp_name': '굿윌경영자문',\n",
       "  'stock_code': None,\n",
       "  'modify_date': '20170630'},\n",
       " {'corp_code': '00412861',\n",
       "  'corp_name': '국제금속산업',\n",
       "  'stock_code': None,\n",
       "  'modify_date': '20170630'},\n",
       " {'corp_code': '00443913',\n",
       "  'corp_name': '덕정무역',\n",
       "  'stock_code': None,\n",
       "  'modify_date': '20170630'},\n",
       " {'corp_code': '00315179',\n",
       "  'corp_name': '삼성코닝마이크로옵틱스',\n",
       "  'stock_code': None,\n",
       "  'modify_date': '20170630'},\n",
       " {'corp_code': '00165264',\n",
       "  'corp_name': '혜성건설',\n",
       "  'stock_code': None,\n",
       "  'modify_date': '20170630'},\n",
       " {'corp_code': '00368171',\n",
       "  'corp_name': '코스모에쿼티파트너스',\n",
       "  'stock_code': None,\n",
       "  'modify_date': '20170630'},\n",
       " {'corp_code': '00369480',\n",
       "  'corp_name': '경빈',\n",
       "  'stock_code': None,\n",
       "  'modify_date': '20170630'},\n",
       " {'corp_code': '00446196',\n",
       "  'corp_name': '내외시스템',\n",
       "  'stock_code': None,\n",
       "  'modify_date': '20170630'},\n",
       " {'corp_code': '00108311',\n",
       "  'corp_name': '태승어패럴',\n",
       "  'stock_code': None,\n",
       "  'modify_date': '20170630'},\n",
       " {'corp_code': '00105615',\n",
       "  'corp_name': '금동조명',\n",
       "  'stock_code': None,\n",
       "  'modify_date': '20170630'},\n",
       " {'corp_code': '00360197',\n",
       "  'corp_name': '태광정밀공업',\n",
       "  'stock_code': None,\n",
       "  'modify_date': '20170630'},\n",
       " {'corp_code': '00360364',\n",
       "  'corp_name': '게르마니셀로이드코리아',\n",
       "  'stock_code': None,\n",
       "  'modify_date': '20170630'},\n",
       " {'corp_code': '00366720',\n",
       "  'corp_name': '청우제강',\n",
       "  'stock_code': None,\n",
       "  'modify_date': '20170630'},\n",
       " {'corp_code': '00273536',\n",
       "  'corp_name': '필리아텔레콤',\n",
       "  'stock_code': None,\n",
       "  'modify_date': '20170630'},\n",
       " {'corp_code': '00443375',\n",
       "  'corp_name': '진도개발',\n",
       "  'stock_code': None,\n",
       "  'modify_date': '20170630'},\n",
       " {'corp_code': '00447511',\n",
       "  'corp_name': '만남과축복',\n",
       "  'stock_code': None,\n",
       "  'modify_date': '20170630'},\n",
       " {'corp_code': '00403872',\n",
       "  'corp_name': '영상산업',\n",
       "  'stock_code': None,\n",
       "  'modify_date': '20170630'},\n",
       " {'corp_code': '00243793',\n",
       "  'corp_name': '카이저산업',\n",
       "  'stock_code': None,\n",
       "  'modify_date': '20170630'},\n",
       " {'corp_code': '00441757',\n",
       "  'corp_name': '쌈솔',\n",
       "  'stock_code': None,\n",
       "  'modify_date': '20170630'},\n",
       " {'corp_code': '00445221',\n",
       "  'corp_name': '링크테크21',\n",
       "  'stock_code': None,\n",
       "  'modify_date': '20170630'},\n",
       " {'corp_code': '00448769',\n",
       "  'corp_name': '건화메디팜',\n",
       "  'stock_code': None,\n",
       "  'modify_date': '20170630'},\n",
       " {'corp_code': '00351357',\n",
       "  'corp_name': '윈윈창업투자',\n",
       "  'stock_code': None,\n",
       "  'modify_date': '20170630'},\n",
       " {'corp_code': '00371333',\n",
       "  'corp_name': '지티웹코리아',\n",
       "  'stock_code': None,\n",
       "  'modify_date': '20170630'},\n",
       " {'corp_code': '00392716',\n",
       "  'corp_name': '트랜스미디어매니지먼트',\n",
       "  'stock_code': None,\n",
       "  'modify_date': '20170630'},\n",
       " {'corp_code': '00424398',\n",
       "  'corp_name': '남성유통',\n",
       "  'stock_code': None,\n",
       "  'modify_date': '20170630'},\n",
       " {'corp_code': '00380322',\n",
       "  'corp_name': '무지개유동화전문유한회사',\n",
       "  'stock_code': None,\n",
       "  'modify_date': '20170630'},\n",
       " {'corp_code': '00387264',\n",
       "  'corp_name': '엘지화학제일차유동화전문유한회사',\n",
       "  'stock_code': None,\n",
       "  'modify_date': '20170630'},\n",
       " {'corp_code': '00425379',\n",
       "  'corp_name': '페가수스캐피탈아시아',\n",
       "  'stock_code': None,\n",
       "  'modify_date': '20170630'},\n",
       " {'corp_code': '00421595',\n",
       "  'corp_name': '한솔케미언스제일차유동화전문유한회사',\n",
       "  'stock_code': None,\n",
       "  'modify_date': '20170630'},\n",
       " {'corp_code': '00128564',\n",
       "  'corp_name': '삼천리M&C',\n",
       "  'stock_code': None,\n",
       "  'modify_date': '20170630'},\n",
       " {'corp_code': '00304757',\n",
       "  'corp_name': '넥스트디앤드에스',\n",
       "  'stock_code': None,\n",
       "  'modify_date': '20170630'},\n",
       " {'corp_code': '00407142',\n",
       "  'corp_name': '드림라인제일차유동화전문유한회사',\n",
       "  'stock_code': None,\n",
       "  'modify_date': '20170630'},\n",
       " {'corp_code': '00408044',\n",
       "  'corp_name': '동국산업제일차유동화전문유한회사',\n",
       "  'stock_code': None,\n",
       "  'modify_date': '20170630'},\n",
       " {'corp_code': '00112387',\n",
       "  'corp_name': '휴먼이노텍',\n",
       "  'stock_code': None,\n",
       "  'modify_date': '20170630'},\n",
       " {'corp_code': '00423539',\n",
       "  'corp_name': '자도',\n",
       "  'stock_code': None,\n",
       "  'modify_date': '20170630'},\n",
       " {'corp_code': '00103981',\n",
       "  'corp_name': '광전자INT',\n",
       "  'stock_code': None,\n",
       "  'modify_date': '20170630'},\n",
       " {'corp_code': '00416478',\n",
       "  'corp_name': '굿케이디비제삼차유동화전문유한회사',\n",
       "  'stock_code': None,\n",
       "  'modify_date': '20170630'},\n",
       " {'corp_code': '00418801',\n",
       "  'corp_name': '신엑스퍼트유동화전문',\n",
       "  'stock_code': None,\n",
       "  'modify_date': '20170630'},\n",
       " {'corp_code': '00419332',\n",
       "  'corp_name': '비발디제일차유동화전문유한회사',\n",
       "  'stock_code': None,\n",
       "  'modify_date': '20170630'},\n",
       " {'corp_code': '00418078',\n",
       "  'corp_name': '두산위브유동화전문유한회사',\n",
       "  'stock_code': None,\n",
       "  'modify_date': '20170630'},\n",
       " {'corp_code': '00419651',\n",
       "  'corp_name': '코오롱폴리스유동화전문유한회사',\n",
       "  'stock_code': None,\n",
       "  'modify_date': '20170630'},\n",
       " {'corp_code': '00251695',\n",
       "  'corp_name': '메디캐피탈',\n",
       "  'stock_code': None,\n",
       "  'modify_date': '20170630'},\n",
       " {'corp_code': '00432661',\n",
       "  'corp_name': '파워외환카드제삼차유동화전문유한회사',\n",
       "  'stock_code': None,\n",
       "  'modify_date': '20170630'},\n",
       " {'corp_code': '00430858',\n",
       "  'corp_name': '에이치에스비프로퍼티원인베스트먼트유동화전문유한회사',\n",
       "  'stock_code': None,\n",
       "  'modify_date': '20170630'},\n",
       " {'corp_code': '00432670',\n",
       "  'corp_name': '서상금속',\n",
       "  'stock_code': None,\n",
       "  'modify_date': '20170630'},\n",
       " {'corp_code': '00434827',\n",
       "  'corp_name': '세이한가족주식형펀드',\n",
       "  'stock_code': None,\n",
       "  'modify_date': '20170630'},\n",
       " {'corp_code': '00434872',\n",
       "  'corp_name': '알파크레디트플러스채권형펀드',\n",
       "  'stock_code': None,\n",
       "  'modify_date': '20170630'},\n",
       " {'corp_code': '00434881',\n",
       "  'corp_name': '알파국공채채권형사모펀드',\n",
       "  'stock_code': None,\n",
       "  'modify_date': '20170630'},\n",
       " {'corp_code': '00434906',\n",
       "  'corp_name': '세이에이스알파혼합형펀드',\n",
       "  'stock_code': None,\n",
       "  'modify_date': '20170630'},\n",
       " {'corp_code': '00434915',\n",
       "  'corp_name': '맥쿼리IMM코리아플러스채권형펀드',\n",
       "  'stock_code': None,\n",
       "  'modify_date': '20170630'},\n",
       " {'corp_code': '00434924',\n",
       "  'corp_name': '맥쿼리IMM마켓뉴트럴혼합형사모펀드',\n",
       "  'stock_code': None,\n",
       "  'modify_date': '20170630'},\n",
       " {'corp_code': '00434933',\n",
       "  'corp_name': '세이원채권형펀드',\n",
       "  'stock_code': None,\n",
       "  'modify_date': '20170630'},\n",
       " {'corp_code': '00435093',\n",
       "  'corp_name': '그레이터차이나1호사모펀드',\n",
       "  'stock_code': None,\n",
       "  'modify_date': '20170630'},\n",
       " {'corp_code': '00435109',\n",
       "  'corp_name': '윌러스',\n",
       "  'stock_code': None,\n",
       "  'modify_date': '20170630'},\n",
       " {'corp_code': '00431820',\n",
       "  'corp_name': '디베스트사모엠엔에이펀드일호',\n",
       "  'stock_code': None,\n",
       "  'modify_date': '20170630'},\n",
       " {'corp_code': '00398525',\n",
       "  'corp_name': '미래에셋프리미어전환혼합형이호펀드',\n",
       "  'stock_code': None,\n",
       "  'modify_date': '20170630'},\n",
       " {'corp_code': '00260967',\n",
       "  'corp_name': '디지텔',\n",
       "  'stock_code': None,\n",
       "  'modify_date': '20170630'},\n",
       " {'corp_code': '00378956',\n",
       "  'corp_name': '유리세이프롱숏채권혼합형펀드',\n",
       "  'stock_code': None,\n",
       "  'modify_date': '20170630'},\n",
       " {'corp_code': '00164104',\n",
       "  'corp_name': '리젠트화재보험',\n",
       "  'stock_code': None,\n",
       "  'modify_date': '20170630'},\n",
       " {'corp_code': '00101266',\n",
       "  'corp_name': '경남리스금융',\n",
       "  'stock_code': None,\n",
       "  'modify_date': '20170630'},\n",
       " {'corp_code': '00412834',\n",
       "  'corp_name': '굿머니',\n",
       "  'stock_code': None,\n",
       "  'modify_date': '20170630'},\n",
       " {'corp_code': '00226343',\n",
       "  'corp_name': '한소닉테크',\n",
       "  'stock_code': None,\n",
       "  'modify_date': '20170630'},\n",
       " {'corp_code': '00150147',\n",
       "  'corp_name': '지산개발',\n",
       "  'stock_code': None,\n",
       "  'modify_date': '20170630'},\n",
       " {'corp_code': '00416937',\n",
       "  'corp_name': '지구환경산업',\n",
       "  'stock_code': None,\n",
       "  'modify_date': '20170630'},\n",
       " {'corp_code': '00132497',\n",
       "  'corp_name': '성도통상',\n",
       "  'stock_code': None,\n",
       "  'modify_date': '20170630'},\n",
       " {'corp_code': '00216461',\n",
       "  'corp_name': '에프샵',\n",
       "  'stock_code': None,\n",
       "  'modify_date': '20170630'},\n",
       " {'corp_code': '00369301',\n",
       "  'corp_name': '근영전자통신',\n",
       "  'stock_code': None,\n",
       "  'modify_date': '20170630'},\n",
       " {'corp_code': '00360106',\n",
       "  'corp_name': '보해주정',\n",
       "  'stock_code': None,\n",
       "  'modify_date': '20170630'},\n",
       " {'corp_code': '00183710',\n",
       "  'corp_name': '영화',\n",
       "  'stock_code': None,\n",
       "  'modify_date': '20170630'},\n",
       " {'corp_code': '00410483',\n",
       "  'corp_name': '윈스텍',\n",
       "  'stock_code': None,\n",
       "  'modify_date': '20170630'},\n",
       " {'corp_code': '00409928',\n",
       "  'corp_name': '조한도시개발',\n",
       "  'stock_code': None,\n",
       "  'modify_date': '20170630'},\n",
       " {'corp_code': '00209647',\n",
       "  'corp_name': '대웅전기산업',\n",
       "  'stock_code': None,\n",
       "  'modify_date': '20170630'},\n",
       " {'corp_code': '00370316',\n",
       "  'corp_name': '해피라인',\n",
       "  'stock_code': None,\n",
       "  'modify_date': '20170630'},\n",
       " {'corp_code': '00134246',\n",
       "  'corp_name': '세원건설',\n",
       "  'stock_code': None,\n",
       "  'modify_date': '20170630'},\n",
       " {'corp_code': '00444806',\n",
       "  'corp_name': '린나이씨에스',\n",
       "  'stock_code': None,\n",
       "  'modify_date': '20170630'},\n",
       " {'corp_code': '00233112',\n",
       "  'corp_name': '성우전자',\n",
       "  'stock_code': None,\n",
       "  'modify_date': '20170630'},\n",
       " {'corp_code': '00297758',\n",
       "  'corp_name': '에스더블유씨코퍼레이션',\n",
       "  'stock_code': None,\n",
       "  'modify_date': '20170630'},\n",
       " {'corp_code': '00450986',\n",
       "  'corp_name': '미도산업개발',\n",
       "  'stock_code': None,\n",
       "  'modify_date': '20170630'},\n",
       " {'corp_code': '00442206',\n",
       "  'corp_name': '덕성섬유',\n",
       "  'stock_code': None,\n",
       "  'modify_date': '20170630'},\n",
       " {'corp_code': '00361664',\n",
       "  'corp_name': '기흥종합건설',\n",
       "  'stock_code': None,\n",
       "  'modify_date': '20170630'},\n",
       " {'corp_code': '00370334',\n",
       "  'corp_name': '이에이치상사',\n",
       "  'stock_code': None,\n",
       "  'modify_date': '20170630'},\n",
       " {'corp_code': '00432616',\n",
       "  'corp_name': '웨이브티브이',\n",
       "  'stock_code': None,\n",
       "  'modify_date': '20170630'},\n",
       " {'corp_code': '00444073',\n",
       "  'corp_name': '축산농협안산연합사료',\n",
       "  'stock_code': None,\n",
       "  'modify_date': '20170630'},\n",
       " {'corp_code': '00405436',\n",
       "  'corp_name': '유니크',\n",
       "  'stock_code': None,\n",
       "  'modify_date': '20170630'},\n",
       " {'corp_code': '00414319',\n",
       "  'corp_name': '송학장갑',\n",
       "  'stock_code': None,\n",
       "  'modify_date': '20170630'},\n",
       " {'corp_code': '00261610',\n",
       "  'corp_name': '위트비전',\n",
       "  'stock_code': None,\n",
       "  'modify_date': '20170630'},\n",
       " {'corp_code': '00362432',\n",
       "  'corp_name': '월드무역',\n",
       "  'stock_code': None,\n",
       "  'modify_date': '20170630'},\n",
       " {'corp_code': '00415293',\n",
       "  'corp_name': '오픈테크',\n",
       "  'stock_code': None,\n",
       "  'modify_date': '20170630'},\n",
       " {'corp_code': '00413204',\n",
       "  'corp_name': '아피아',\n",
       "  'stock_code': None,\n",
       "  'modify_date': '20170630'},\n",
       " {'corp_code': '00413277',\n",
       "  'corp_name': '차세대정보통신',\n",
       "  'stock_code': None,\n",
       "  'modify_date': '20170630'},\n",
       " {'corp_code': '00268455',\n",
       "  'corp_name': '조흥신탁유동화전문회사',\n",
       "  'stock_code': None,\n",
       "  'modify_date': '20170630'},\n",
       " {'corp_code': '00273606',\n",
       "  'corp_name': '오토일천구백구십구의일유동화전문유한회사',\n",
       "  'stock_code': None,\n",
       "  'modify_date': '20170630'},\n",
       " {'corp_code': '00303369',\n",
       "  'corp_name': '한국토지신탁제이차유동화전문유한회사',\n",
       "  'stock_code': None,\n",
       "  'modify_date': '20170630'},\n",
       " {'corp_code': '00317043',\n",
       "  'corp_name': '포커스제1차유동화전문유한회사',\n",
       "  'stock_code': None,\n",
       "  'modify_date': '20170630'},\n",
       " {'corp_code': '00328517',\n",
       "  'corp_name': '베스트이지제일차유동화전문유한회사',\n",
       "  'stock_code': None,\n",
       "  'modify_date': '20170630'},\n",
       " {'corp_code': '00341776',\n",
       "  'corp_name': '모비스코람유동화전문유한회사',\n",
       "  'stock_code': None,\n",
       "  'modify_date': '20170630'},\n",
       " {'corp_code': '00362131',\n",
       "  'corp_name': '아이에스피',\n",
       "  'stock_code': None,\n",
       "  'modify_date': '20170630'},\n",
       " {'corp_code': '00427492',\n",
       "  'corp_name': '한실흥산',\n",
       "  'stock_code': None,\n",
       "  'modify_date': '20170630'},\n",
       " {'corp_code': '00363413',\n",
       "  'corp_name': '아이티엔방송',\n",
       "  'stock_code': None,\n",
       "  'modify_date': '20170630'},\n",
       " {'corp_code': '00302829',\n",
       "  'corp_name': '슈퍼데크코리아',\n",
       "  'stock_code': None,\n",
       "  'modify_date': '20170630'},\n",
       " {'corp_code': '00426758',\n",
       "  'corp_name': '산은부동산제오차유동화전문유한회사',\n",
       "  'stock_code': None,\n",
       "  'modify_date': '20170630'},\n",
       " {'corp_code': '00427474',\n",
       "  'corp_name': '덕화산업',\n",
       "  'stock_code': None,\n",
       "  'modify_date': '20170630'},\n",
       " {'corp_code': '00428695',\n",
       "  'corp_name': '국민카드이천이의일유동화전문유한회사',\n",
       "  'stock_code': None,\n",
       "  'modify_date': '20170630'},\n",
       " {'corp_code': '00366508',\n",
       "  'corp_name': '마일스톤벤처투자',\n",
       "  'stock_code': None,\n",
       "  'modify_date': '20170630'},\n",
       " {'corp_code': '00402208',\n",
       "  'corp_name': '에스비아이코리아',\n",
       "  'stock_code': None,\n",
       "  'modify_date': '20170630'},\n",
       " {'corp_code': '00175021',\n",
       "  'corp_name': '씨티은행',\n",
       "  'stock_code': None,\n",
       "  'modify_date': '20170630'},\n",
       " {'corp_code': '00429250',\n",
       "  'corp_name': 'AllianzFinanceB.V.',\n",
       "  'stock_code': None,\n",
       "  'modify_date': '20170630'},\n",
       " {'corp_code': '00425777',\n",
       "  'corp_name': '동의보감유동화전문유한회사',\n",
       "  'stock_code': None,\n",
       "  'modify_date': '20170630'},\n",
       " {'corp_code': '00109125',\n",
       "  'corp_name': '세화기술투자',\n",
       "  'stock_code': None,\n",
       "  'modify_date': '20170630'},\n",
       " {'corp_code': '00388810',\n",
       "  'corp_name': '미래에셋프리미어혼합형펀드',\n",
       "  'stock_code': None,\n",
       "  'modify_date': '20170630'},\n",
       " {'corp_code': '00383426',\n",
       "  'corp_name': '마이다스차익거래안정혼합형펀드',\n",
       "  'stock_code': None,\n",
       "  'modify_date': '20170630'},\n",
       " {'corp_code': '00146676',\n",
       "  'corp_name': '아이씨켐',\n",
       "  'stock_code': None,\n",
       "  'modify_date': '20170630'},\n",
       " {'corp_code': '00338152',\n",
       "  'corp_name': '소프트윈',\n",
       "  'stock_code': None,\n",
       "  'modify_date': '20170630'},\n",
       " {'corp_code': '00438902',\n",
       "  'corp_name': '신하나로유동화전문유한회사',\n",
       "  'stock_code': None,\n",
       "  'modify_date': '20170630'},\n",
       " {'corp_code': '00432856',\n",
       "  'corp_name': '벽산건설블루밍제일차유동화전문유한회사',\n",
       "  'stock_code': None,\n",
       "  'modify_date': '20170630'},\n",
       " {'corp_code': '00431033',\n",
       "  'corp_name': '이천일아울렛제일차유동화전문유한회사',\n",
       "  'stock_code': None,\n",
       "  'modify_date': '20170630'},\n",
       " {'corp_code': '00240866',\n",
       "  'corp_name': '씨마유통',\n",
       "  'stock_code': None,\n",
       "  'modify_date': '20170630'},\n",
       " {'corp_code': '00440934',\n",
       "  'corp_name': '캠앤아이코리아',\n",
       "  'stock_code': None,\n",
       "  'modify_date': '20170630'},\n",
       " {'corp_code': '00440952',\n",
       "  'corp_name': '제이경영컨설팅',\n",
       "  'stock_code': None,\n",
       "  'modify_date': '20170630'},\n",
       " {'corp_code': '00435905',\n",
       "  'corp_name': '이리연료',\n",
       "  'stock_code': None,\n",
       "  'modify_date': '20170630'},\n",
       " {'corp_code': '00435598',\n",
       "  'corp_name': '태거산업',\n",
       "  'stock_code': None,\n",
       "  'modify_date': '20170630'},\n",
       " {'corp_code': '00350136',\n",
       "  'corp_name': '마인드텔',\n",
       "  'stock_code': None,\n",
       "  'modify_date': '20170630'},\n",
       " {'corp_code': '00350206',\n",
       "  'corp_name': '엘파오벤쳐캐피탈',\n",
       "  'stock_code': None,\n",
       "  'modify_date': '20170630'},\n",
       " {'corp_code': '00268288',\n",
       "  'corp_name': '심스밸리',\n",
       "  'stock_code': None,\n",
       "  'modify_date': '20170630'},\n",
       " {'corp_code': '00105846',\n",
       "  'corp_name': 'LGEI',\n",
       "  'stock_code': None,\n",
       "  'modify_date': '20170630'},\n",
       " {'corp_code': '00350756',\n",
       "  'corp_name': '유리크레디트회사채혼합형펀드',\n",
       "  'stock_code': None,\n",
       "  'modify_date': '20170630'},\n",
       " {'corp_code': '00149497',\n",
       "  'corp_name': '알파캐피탈',\n",
       "  'stock_code': None,\n",
       "  'modify_date': '20170630'},\n",
       " {'corp_code': '00264778',\n",
       "  'corp_name': '유니씨앤티',\n",
       "  'stock_code': None,\n",
       "  'modify_date': '20170630'},\n",
       " {'corp_code': '00289227',\n",
       "  'corp_name': '미래에셋파이오니어벤처코스닥펀드',\n",
       "  'stock_code': None,\n",
       "  'modify_date': '20170630'},\n",
       " {'corp_code': '00449184',\n",
       "  'corp_name': '디에이치파트너스',\n",
       "  'stock_code': None,\n",
       "  'modify_date': '20170630'},\n",
       " {'corp_code': '00369028',\n",
       "  'corp_name': '근하종합개발호텔엑스포',\n",
       "  'stock_code': None,\n",
       "  'modify_date': '20170630'},\n",
       " {'corp_code': '00152491',\n",
       "  'corp_name': '코락',\n",
       "  'stock_code': None,\n",
       "  'modify_date': '20170630'},\n",
       " {'corp_code': '00445601',\n",
       "  'corp_name': '터보엔지니어링',\n",
       "  'stock_code': None,\n",
       "  'modify_date': '20170630'},\n",
       " {'corp_code': '00407610',\n",
       "  'corp_name': '알파엔지니어링',\n",
       "  'stock_code': None,\n",
       "  'modify_date': '20170630'},\n",
       " {'corp_code': '00146241',\n",
       "  'corp_name': '명성건설',\n",
       "  'stock_code': None,\n",
       "  'modify_date': '20170630'},\n",
       " {'corp_code': '00446071',\n",
       "  'corp_name': '스카이함백',\n",
       "  'stock_code': None,\n",
       "  'modify_date': '20170630'},\n",
       " {'corp_code': '00368384',\n",
       "  'corp_name': '비에스그룹',\n",
       "  'stock_code': None,\n",
       "  'modify_date': '20170630'},\n",
       " {'corp_code': '00446840',\n",
       "  'corp_name': '삼부이엔씨',\n",
       "  'stock_code': None,\n",
       "  'modify_date': '20170630'},\n",
       " {'corp_code': '00245791',\n",
       "  'corp_name': '두앙종합건설',\n",
       "  'stock_code': None,\n",
       "  'modify_date': '20170630'},\n",
       " {'corp_code': '00449625',\n",
       "  'corp_name': '신성전자',\n",
       "  'stock_code': None,\n",
       "  'modify_date': '20170630'},\n",
       " {'corp_code': '00375223',\n",
       "  'corp_name': '한국기업금융자문',\n",
       "  'stock_code': None,\n",
       "  'modify_date': '20170630'},\n",
       " {'corp_code': '00411631',\n",
       "  'corp_name': '고룡',\n",
       "  'stock_code': None,\n",
       "  'modify_date': '20170630'},\n",
       " {'corp_code': '00256326',\n",
       "  'corp_name': '아성식품',\n",
       "  'stock_code': None,\n",
       "  'modify_date': '20170630'},\n",
       " {'corp_code': '00367330',\n",
       "  'corp_name': '세원지애에이치',\n",
       "  'stock_code': None,\n",
       "  'modify_date': '20170630'},\n",
       " {'corp_code': '00371838',\n",
       "  'corp_name': '남양주택건설',\n",
       "  'stock_code': None,\n",
       "  'modify_date': '20170630'},\n",
       " {'corp_code': '00246480',\n",
       "  'corp_name': '이조해운',\n",
       "  'stock_code': None,\n",
       "  'modify_date': '20170630'},\n",
       " {'corp_code': '00359304',\n",
       "  'corp_name': '한서화학',\n",
       "  'stock_code': None,\n",
       "  'modify_date': '20170630'},\n",
       " {'corp_code': '00415600',\n",
       "  'corp_name': '대륭전자',\n",
       "  'stock_code': None,\n",
       "  'modify_date': '20170630'},\n",
       " {'corp_code': '00422910',\n",
       "  'corp_name': '서울에프엔텍파트너스',\n",
       "  'stock_code': None,\n",
       "  'modify_date': '20170630'},\n",
       " {'corp_code': '00451055',\n",
       "  'corp_name': '팔공산온천관광호텔',\n",
       "  'stock_code': None,\n",
       "  'modify_date': '20170630'},\n",
       " {'corp_code': '00448839',\n",
       "  'corp_name': '택산개발',\n",
       "  'stock_code': None,\n",
       "  'modify_date': '20170630'},\n",
       " {'corp_code': '00234670',\n",
       "  'corp_name': '동진피엠씨',\n",
       "  'stock_code': None,\n",
       "  'modify_date': '20170630'},\n",
       " {'corp_code': '00224707',\n",
       "  'corp_name': '대흥정공',\n",
       "  'stock_code': None,\n",
       "  'modify_date': '20170630'},\n",
       " {'corp_code': '00193568',\n",
       "  'corp_name': '신대광주택',\n",
       "  'stock_code': None,\n",
       "  'modify_date': '20170630'},\n",
       " {'corp_code': '00415080',\n",
       "  'corp_name': '아프로시스템스',\n",
       "  'stock_code': None,\n",
       "  'modify_date': '20170630'},\n",
       " {'corp_code': '00415053',\n",
       "  'corp_name': '화진코스메틱',\n",
       "  'stock_code': None,\n",
       "  'modify_date': '20170630'},\n",
       " {'corp_code': '00414869',\n",
       "  'corp_name': '모비야',\n",
       "  'stock_code': None,\n",
       "  'modify_date': '20170630'},\n",
       " {'corp_code': '00365527',\n",
       "  'corp_name': '우리켐테크',\n",
       "  'stock_code': None,\n",
       "  'modify_date': '20170630'},\n",
       " {'corp_code': '00364245',\n",
       "  'corp_name': 'ABC',\n",
       "  'stock_code': None,\n",
       "  'modify_date': '20170630'},\n",
       " {'corp_code': '00364005',\n",
       "  'corp_name': '캐피탈아거스',\n",
       "  'stock_code': None,\n",
       "  'modify_date': '20170630'},\n",
       " {'corp_code': '00413329',\n",
       "  'corp_name': '유니솔',\n",
       "  'stock_code': None,\n",
       "  'modify_date': '20170630'},\n",
       " {'corp_code': '00215222',\n",
       "  'corp_name': '세화유통',\n",
       "  'stock_code': None,\n",
       "  'modify_date': '20170630'},\n",
       " {'corp_code': '00252481',\n",
       "  'corp_name': '용강',\n",
       "  'stock_code': None,\n",
       "  'modify_date': '20170630'},\n",
       " {'corp_code': '00369897',\n",
       "  'corp_name': '기바전자',\n",
       "  'stock_code': None,\n",
       "  'modify_date': '20170630'},\n",
       " {'corp_code': '00310855',\n",
       "  'corp_name': '에프에스비티아이코리아',\n",
       "  'stock_code': None,\n",
       "  'modify_date': '20170630'},\n",
       " {'corp_code': '00370015',\n",
       "  'corp_name': '디지텍',\n",
       "  'stock_code': None,\n",
       "  'modify_date': '20170630'},\n",
       " {'corp_code': '00303448',\n",
       "  'corp_name': '알에이코프',\n",
       "  'stock_code': None,\n",
       "  'modify_date': '20170630'},\n",
       " {'corp_code': '00404394',\n",
       "  'corp_name': '매경휴스닥',\n",
       "  'stock_code': None,\n",
       "  'modify_date': '20170630'},\n",
       " {'corp_code': '00201946',\n",
       "  'corp_name': '한국이연',\n",
       "  'stock_code': None,\n",
       "  'modify_date': '20170630'},\n",
       " {'corp_code': '00304207',\n",
       "  'corp_name': '한원텔레콤',\n",
       "  'stock_code': None,\n",
       "  'modify_date': '20170630'},\n",
       " {'corp_code': '00305093',\n",
       "  'corp_name': '진우',\n",
       "  'stock_code': None,\n",
       "  'modify_date': '20170630'},\n",
       " {'corp_code': '00410720',\n",
       "  'corp_name': '탑종합건설',\n",
       "  'stock_code': None,\n",
       "  'modify_date': '20170630'},\n",
       " {'corp_code': '00354354',\n",
       "  'corp_name': '썬키스',\n",
       "  'stock_code': None,\n",
       "  'modify_date': '20170630'},\n",
       " {'corp_code': '00311049',\n",
       "  'corp_name': '위슬런',\n",
       "  'stock_code': None,\n",
       "  'modify_date': '20170630'},\n",
       " {'corp_code': '00412782',\n",
       "  'corp_name': '대산반도체',\n",
       "  'stock_code': None,\n",
       "  'modify_date': '20170630'},\n",
       " {'corp_code': '00426615',\n",
       "  'corp_name': '네오소프트',\n",
       "  'stock_code': None,\n",
       "  'modify_date': '20170630'},\n",
       " {'corp_code': '00164061',\n",
       "  'corp_name': '드림에스디',\n",
       "  'stock_code': None,\n",
       "  'modify_date': '20170630'},\n",
       " {'corp_code': '00381659',\n",
       "  'corp_name': '크레디피아제십구차유동화전문',\n",
       "  'stock_code': None,\n",
       "  'modify_date': '20170630'},\n",
       " {'corp_code': '00382959',\n",
       "  'corp_name': '콩코드캐피탈아시아',\n",
       "  'stock_code': None,\n",
       "  'modify_date': '20170630'},\n",
       " {'corp_code': '00118886',\n",
       "  'corp_name': '에이브이씨닷컴',\n",
       "  'stock_code': None,\n",
       "  'modify_date': '20170630'},\n",
       " {'corp_code': '00374835',\n",
       "  'corp_name': '케이씨알파트너스',\n",
       "  'stock_code': None,\n",
       "  'modify_date': '20170630'},\n",
       " {'corp_code': '00115700',\n",
       "  'corp_name': '동성투자',\n",
       "  'stock_code': None,\n",
       "  'modify_date': '20170630'},\n",
       " {'corp_code': '00389192',\n",
       "  'corp_name': '오엔씨네트웍스',\n",
       "  'stock_code': None,\n",
       "  'modify_date': '20170630'},\n",
       " {'corp_code': '00346452',\n",
       "  'corp_name': '씨에스지',\n",
       "  'stock_code': None,\n",
       "  'modify_date': '20170630'},\n",
       " {'corp_code': '00420356',\n",
       "  'corp_name': '하이페리온제이차유동화전문유한회사',\n",
       "  'stock_code': None,\n",
       "  'modify_date': '20170630'},\n",
       " {'corp_code': '00425528',\n",
       "  'corp_name': '부산유조선',\n",
       "  'stock_code': None,\n",
       "  'modify_date': '20170630'},\n",
       " {'corp_code': '00427784',\n",
       "  'corp_name': '목동우림루미아트유동화전문유한회사',\n",
       "  'stock_code': None,\n",
       "  'modify_date': '20170630'},\n",
       " {'corp_code': '00244297',\n",
       "  'corp_name': '천보파이낸스',\n",
       "  'stock_code': None,\n",
       "  'modify_date': '20170630'},\n",
       " {'corp_code': '00428817',\n",
       "  'corp_name': '나라펫',\n",
       "  'stock_code': None,\n",
       "  'modify_date': '20170630'},\n",
       " {'corp_code': '00425740',\n",
       "  'corp_name': '하이케어시스템즈',\n",
       "  'stock_code': None,\n",
       "  'modify_date': '20170630'},\n",
       " {'corp_code': '00389086',\n",
       "  'corp_name': '우리금융제일차유동화전문유한회사',\n",
       "  'stock_code': None,\n",
       "  'modify_date': '20170630'},\n",
       " {'corp_code': '00425759',\n",
       "  'corp_name': '키치녹스',\n",
       "  'stock_code': None,\n",
       "  'modify_date': '20170630'},\n",
       " {'corp_code': '00426721',\n",
       "  'corp_name': '에이치에스제일차유동화전문유한회사',\n",
       "  'stock_code': None,\n",
       "  'modify_date': '20170630'},\n",
       " {'corp_code': '00426651',\n",
       "  'corp_name': '신드림풀유동화전문유한회사',\n",
       "  'stock_code': None,\n",
       "  'modify_date': '20170630'},\n",
       " {'corp_code': '00427951',\n",
       "  'corp_name': '넥센캐피탈',\n",
       "  'stock_code': None,\n",
       "  'modify_date': '20170630'},\n",
       " {'corp_code': '00448112',\n",
       "  'corp_name': '종연산업',\n",
       "  'stock_code': None,\n",
       "  'modify_date': '20170630'},\n",
       " {'corp_code': '00446655',\n",
       "  'corp_name': '성환',\n",
       "  'stock_code': None,\n",
       "  'modify_date': '20170630'},\n",
       " {'corp_code': '00357111',\n",
       "  'corp_name': '삼두디엔에스',\n",
       "  'stock_code': None,\n",
       "  'modify_date': '20170630'},\n",
       " {'corp_code': '00360717',\n",
       "  'corp_name': '녹십자피디',\n",
       "  'stock_code': None,\n",
       "  'modify_date': '20170630'},\n",
       " {'corp_code': '00411321',\n",
       "  'corp_name': '율비',\n",
       "  'stock_code': None,\n",
       "  'modify_date': '20170630'},\n",
       " {'corp_code': '00193221',\n",
       "  'corp_name': '삼희산업',\n",
       "  'stock_code': None,\n",
       "  'modify_date': '20170630'},\n",
       " {'corp_code': '00407595',\n",
       "  'corp_name': '아이스타뮤직',\n",
       "  'stock_code': None,\n",
       "  'modify_date': '20170630'},\n",
       " {'corp_code': '00147417',\n",
       "  'corp_name': '전일제지',\n",
       "  'stock_code': None,\n",
       "  'modify_date': '20170630'},\n",
       " {'corp_code': '00367075',\n",
       "  'corp_name': '신흥울테크',\n",
       "  'stock_code': None,\n",
       "  'modify_date': '20170630'},\n",
       " {'corp_code': '00448501',\n",
       "  'corp_name': '삼양이컴',\n",
       "  'stock_code': None,\n",
       "  'modify_date': '20170630'},\n",
       " {'corp_code': '00197856',\n",
       "  'corp_name': '전주코아호텔',\n",
       "  'stock_code': None,\n",
       "  'modify_date': '20170630'},\n",
       " {'corp_code': '00378017',\n",
       "  'corp_name': '헬리오스기업구조조정전문회사',\n",
       "  'stock_code': None,\n",
       "  'modify_date': '20170630'},\n",
       " {'corp_code': '00207384',\n",
       "  'corp_name': '동일상사',\n",
       "  'stock_code': None,\n",
       "  'modify_date': '20170630'},\n",
       " {'corp_code': '00233927',\n",
       "  'corp_name': '헨켈코리아',\n",
       "  'stock_code': None,\n",
       "  'modify_date': '20170630'},\n",
       " {'corp_code': '00255372',\n",
       "  'corp_name': '센텍',\n",
       "  'stock_code': None,\n",
       "  'modify_date': '20170630'},\n",
       " {'corp_code': '00246693',\n",
       "  'corp_name': '태흥기업',\n",
       "  'stock_code': None,\n",
       "  'modify_date': '20170630'},\n",
       " {'corp_code': '00367932',\n",
       "  'corp_name': '만적',\n",
       "  'stock_code': None,\n",
       "  'modify_date': '20170630'},\n",
       " {'corp_code': '00334341',\n",
       "  'corp_name': '성신무역',\n",
       "  'stock_code': None,\n",
       "  'modify_date': '20170630'},\n",
       " {'corp_code': '00190224',\n",
       "  'corp_name': '새한철강',\n",
       "  'stock_code': None,\n",
       "  'modify_date': '20170630'},\n",
       " {'corp_code': '00448291',\n",
       "  'corp_name': '한림종합개발',\n",
       "  'stock_code': None,\n",
       "  'modify_date': '20170630'},\n",
       " {'corp_code': '00445391',\n",
       "  'corp_name': '동방귀석',\n",
       "  'stock_code': None,\n",
       "  'modify_date': '20170630'},\n",
       " {'corp_code': '00169321',\n",
       "  'corp_name': '부곡관광',\n",
       "  'stock_code': None,\n",
       "  'modify_date': '20170630'},\n",
       " {'corp_code': '00434076',\n",
       "  'corp_name': '에이취.엠.에스',\n",
       "  'stock_code': None,\n",
       "  'modify_date': '20170630'},\n",
       " {'corp_code': '00205128',\n",
       "  'corp_name': '서통테크놀로지',\n",
       "  'stock_code': None,\n",
       "  'modify_date': '20170630'},\n",
       " {'corp_code': '00450250',\n",
       "  'corp_name': '한경섬유',\n",
       "  'stock_code': None,\n",
       "  'modify_date': '20170630'},\n",
       " {'corp_code': '00368126',\n",
       "  'corp_name': '세진티앤엠',\n",
       "  'stock_code': None,\n",
       "  'modify_date': '20170630'},\n",
       " {'corp_code': '00175386',\n",
       "  'corp_name': '경기교통',\n",
       "  'stock_code': None,\n",
       "  'modify_date': '20170630'},\n",
       " {'corp_code': '00205748',\n",
       "  'corp_name': '강호개발',\n",
       "  'stock_code': None,\n",
       "  'modify_date': '20170630'},\n",
       " {'corp_code': '00358378',\n",
       "  'corp_name': '만덕',\n",
       "  'stock_code': None,\n",
       "  'modify_date': '20170630'},\n",
       " {'corp_code': '00221409',\n",
       "  'corp_name': '한국어센셜소프트웨어',\n",
       "  'stock_code': None,\n",
       "  'modify_date': '20170630'},\n",
       " {'corp_code': '00414328',\n",
       "  'corp_name': '와우북',\n",
       "  'stock_code': None,\n",
       "  'modify_date': '20170630'},\n",
       " {'corp_code': '00188061',\n",
       "  'corp_name': '한서시계',\n",
       "  'stock_code': None,\n",
       "  'modify_date': '20170630'},\n",
       " {'corp_code': '00409982',\n",
       "  'corp_name': '부풍',\n",
       "  'stock_code': None,\n",
       "  'modify_date': '20170630'},\n",
       " {'corp_code': '00134149',\n",
       "  'corp_name': '세우무역',\n",
       "  'stock_code': None,\n",
       "  'modify_date': '20170630'},\n",
       " {'corp_code': '00414461',\n",
       "  'corp_name': '신우종합건설',\n",
       "  'stock_code': None,\n",
       "  'modify_date': '20170630'},\n",
       " {'corp_code': '00304508',\n",
       "  'corp_name': '중원',\n",
       "  'stock_code': None,\n",
       "  'modify_date': '20170630'},\n",
       " {'corp_code': '00247753',\n",
       "  'corp_name': '아스트로',\n",
       "  'stock_code': None,\n",
       "  'modify_date': '20170630'},\n",
       " {'corp_code': '00368816',\n",
       "  'corp_name': '한국멀티넷',\n",
       "  'stock_code': None,\n",
       "  'modify_date': '20170630'},\n",
       " {'corp_code': '00366085',\n",
       "  'corp_name': '넥스트미디어아이',\n",
       "  'stock_code': None,\n",
       "  'modify_date': '20170630'},\n",
       " {'corp_code': '00412302',\n",
       "  'corp_name': '일성리조트',\n",
       "  'stock_code': None,\n",
       "  'modify_date': '20170630'},\n",
       " {'corp_code': '00387246',\n",
       "  'corp_name': '동광산건',\n",
       "  'stock_code': None,\n",
       "  'modify_date': '20170630'},\n",
       " {'corp_code': '00265050',\n",
       "  'corp_name': '유렉셀테크놀러지',\n",
       "  'stock_code': None,\n",
       "  'modify_date': '20170630'},\n",
       " {'corp_code': '00236182',\n",
       "  'corp_name': '성일컴퓨텍',\n",
       "  'stock_code': None,\n",
       "  'modify_date': '20170630'},\n",
       " {'corp_code': '00296555',\n",
       "  'corp_name': '엠에프씨',\n",
       "  'stock_code': None,\n",
       "  'modify_date': '20170630'},\n",
       " {'corp_code': '00327226',\n",
       "  'corp_name': '얼라이언스시스템',\n",
       "  'stock_code': None,\n",
       "  'modify_date': '20170630'},\n",
       " {'corp_code': '00412852',\n",
       "  'corp_name': '대한주택이앤지',\n",
       "  'stock_code': None,\n",
       "  'modify_date': '20170630'},\n",
       " {'corp_code': '00143970',\n",
       "  'corp_name': '원창판지',\n",
       "  'stock_code': None,\n",
       "  'modify_date': '20170630'},\n",
       " {'corp_code': '00301404',\n",
       "  'corp_name': '한국피시',\n",
       "  'stock_code': None,\n",
       "  'modify_date': '20170630'},\n",
       " {'corp_code': '00109541',\n",
       "  'corp_name': '대륙공업',\n",
       "  'stock_code': None,\n",
       "  'modify_date': '20170630'},\n",
       " {'corp_code': '00404880',\n",
       "  'corp_name': '디지털테크놀러지',\n",
       "  'stock_code': None,\n",
       "  'modify_date': '20170630'},\n",
       " {'corp_code': '00393858',\n",
       "  'corp_name': '드림데이타',\n",
       "  'stock_code': None,\n",
       "  'modify_date': '20170630'},\n",
       " {'corp_code': '00385123',\n",
       "  'corp_name': '리첸시아유동화전문유한회사',\n",
       "  'stock_code': None,\n",
       "  'modify_date': '20170630'},\n",
       " {'corp_code': '00429010',\n",
       "  'corp_name': '코리아페이넷',\n",
       "  'stock_code': None,\n",
       "  'modify_date': '20170630'},\n",
       " {'corp_code': '00424963',\n",
       "  'corp_name': '디더블유씨유동화전문유한회사',\n",
       "  'stock_code': None,\n",
       "  'modify_date': '20170630'},\n",
       " {'corp_code': '00425768',\n",
       "  'corp_name': '티지일차유동화전문유한회사',\n",
       "  'stock_code': None,\n",
       "  'modify_date': '20170630'},\n",
       " {'corp_code': '00426749',\n",
       "  'corp_name': '피앤지정보통신',\n",
       "  'stock_code': None,\n",
       "  'modify_date': '20170630'},\n",
       " {'corp_code': '00330415',\n",
       "  'corp_name': '인바인',\n",
       "  'stock_code': None,\n",
       "  'modify_date': '20170630'},\n",
       " {'corp_code': '00150794',\n",
       "  'corp_name': '진흥주택',\n",
       "  'stock_code': None,\n",
       "  'modify_date': '20170630'},\n",
       " {'corp_code': '00429038',\n",
       "  'corp_name': '굿앤세이프',\n",
       "  'stock_code': None,\n",
       "  'modify_date': '20170630'},\n",
       " {'corp_code': '00429117',\n",
       "  'corp_name': 'ChugokuMarinePaints,Ltd.',\n",
       "  'stock_code': None,\n",
       "  'modify_date': '20170630'},\n",
       " {'corp_code': '00421081',\n",
       "  'corp_name': '디바이너',\n",
       "  'stock_code': None,\n",
       "  'modify_date': '20170630'},\n",
       " {'corp_code': '00361734',\n",
       "  'corp_name': '케이아이티창업투자',\n",
       "  'stock_code': None,\n",
       "  'modify_date': '20170630'},\n",
       " {'corp_code': '00388768',\n",
       "  'corp_name': '외환카드제사차유동화전문유한회사',\n",
       "  'stock_code': None,\n",
       "  'modify_date': '20170630'},\n",
       " {'corp_code': '00425421',\n",
       "  'corp_name': '오프마이십일',\n",
       "  'stock_code': None,\n",
       "  'modify_date': '20170630'},\n",
       " {'corp_code': '00421850',\n",
       "  'corp_name': '창신테크',\n",
       "  'stock_code': None,\n",
       "  'modify_date': '20170630'},\n",
       " {'corp_code': '00425315',\n",
       "  'corp_name': '파워엑시스',\n",
       "  'stock_code': None,\n",
       "  'modify_date': '20170630'},\n",
       " {'corp_code': '00427580',\n",
       "  'corp_name': '삼성프론티어제십이차유동화전문유한회사',\n",
       "  'stock_code': None,\n",
       "  'modify_date': '20170630'},\n",
       " {'corp_code': '00425218',\n",
       "  'corp_name': '쓰리엔제이차유동화전문유한회사',\n",
       "  'stock_code': None,\n",
       "  'modify_date': '20170630'},\n",
       " {'corp_code': '00106951',\n",
       "  'corp_name': '낙산관광호텔',\n",
       "  'stock_code': None,\n",
       "  'modify_date': '20170630'},\n",
       " {'corp_code': '00395661',\n",
       "  'corp_name': '현지개발',\n",
       "  'stock_code': None,\n",
       "  'modify_date': '20170630'},\n",
       " {'corp_code': '00275118',\n",
       "  'corp_name': '케이티비벤처벌처일호펀드',\n",
       "  'stock_code': None,\n",
       "  'modify_date': '20170630'},\n",
       " {'corp_code': '00295389',\n",
       "  'corp_name': '메타텍',\n",
       "  'stock_code': None,\n",
       "  'modify_date': '20170630'},\n",
       " {'corp_code': '00389147',\n",
       "  'corp_name': '골든보우창업투자',\n",
       "  'stock_code': None,\n",
       "  'modify_date': '20170630'},\n",
       " {'corp_code': '00126803',\n",
       "  'corp_name': '삼아',\n",
       "  'stock_code': None,\n",
       "  'modify_date': '20170630'},\n",
       " {'corp_code': '00242341',\n",
       "  'corp_name': '에스엠아이씨',\n",
       "  'stock_code': None,\n",
       "  'modify_date': '20170630'},\n",
       " {'corp_code': '00440314',\n",
       "  'corp_name': '오토피아제팔차유동화전문유한회사',\n",
       "  'stock_code': None,\n",
       "  'modify_date': '20170630'},\n",
       " {'corp_code': '00440332',\n",
       "  'corp_name': '니즈솔루션',\n",
       "  'stock_code': None,\n",
       "  'modify_date': '20170630'},\n",
       " {'corp_code': '00441322',\n",
       "  'corp_name': '이나라카드',\n",
       "  'stock_code': None,\n",
       "  'modify_date': '20170630'},\n",
       " {'corp_code': '00440165',\n",
       "  'corp_name': '히타치전선',\n",
       "  'stock_code': None,\n",
       "  'modify_date': '20170630'},\n",
       " {'corp_code': '00288884',\n",
       "  'corp_name': '미래에셋드림파이오니어펀드',\n",
       "  'stock_code': None,\n",
       "  'modify_date': '20170630'},\n",
       " {'corp_code': '00148452',\n",
       "  'corp_name': 'GPS',\n",
       "  'stock_code': None,\n",
       "  'modify_date': '20170630'},\n",
       " {'corp_code': '00156017',\n",
       "  'corp_name': '하나은행',\n",
       "  'stock_code': None,\n",
       "  'modify_date': '20170630'},\n",
       " {'corp_code': '00261045',\n",
       "  'corp_name': '시스컴',\n",
       "  'stock_code': None,\n",
       "  'modify_date': '20170630'},\n",
       " {'corp_code': '00437532',\n",
       "  'corp_name': '개풍주택개발',\n",
       "  'stock_code': None,\n",
       "  'modify_date': '20170630'},\n",
       " {'corp_code': '00303095',\n",
       "  'corp_name': '지오스테크널러지',\n",
       "  'stock_code': None,\n",
       "  'modify_date': '20170630'},\n",
       " {'corp_code': '00438753',\n",
       "  'corp_name': 'IndusAsiaPacificFund,Ltd.',\n",
       "  'stock_code': None,\n",
       "  'modify_date': '20170630'},\n",
       " {'corp_code': '00367464',\n",
       "  'corp_name': '지앤텍',\n",
       "  'stock_code': None,\n",
       "  'modify_date': '20170630'},\n",
       " {'corp_code': '00201955',\n",
       "  'corp_name': '금화냉동',\n",
       "  'stock_code': None,\n",
       "  'modify_date': '20170630'},\n",
       " {'corp_code': '00409849',\n",
       "  'corp_name': '혜성',\n",
       "  'stock_code': None,\n",
       "  'modify_date': '20170630'},\n",
       " {'corp_code': '00131443',\n",
       "  'corp_name': '서통상사',\n",
       "  'stock_code': None,\n",
       "  'modify_date': '20170630'},\n",
       " {'corp_code': '00174022',\n",
       "  'corp_name': '유창섬유',\n",
       "  'stock_code': None,\n",
       "  'modify_date': '20170630'},\n",
       " {'corp_code': '00444763',\n",
       "  'corp_name': '피프',\n",
       "  'stock_code': None,\n",
       "  'modify_date': '20170630'},\n",
       " {'corp_code': '00412171',\n",
       "  'corp_name': '모수인터내쇼날',\n",
       "  'stock_code': None,\n",
       "  'modify_date': '20170630'},\n",
       " {'corp_code': '00232973',\n",
       "  'corp_name': '동해산업',\n",
       "  'stock_code': None,\n",
       "  'modify_date': '20170630'},\n",
       " {'corp_code': '00152419',\n",
       "  'corp_name': '대농중공업',\n",
       "  'stock_code': None,\n",
       "  'modify_date': '20170630'},\n",
       " {'corp_code': '00257413',\n",
       "  'corp_name': '신영팩토링',\n",
       "  'stock_code': None,\n",
       "  'modify_date': '20170630'},\n",
       " {'corp_code': '00362511',\n",
       "  'corp_name': '승진건설',\n",
       "  'stock_code': None,\n",
       "  'modify_date': '20170630'},\n",
       " {'corp_code': '00446743',\n",
       "  'corp_name': '아워스인베스트먼트',\n",
       "  'stock_code': None,\n",
       "  'modify_date': '20170630'},\n",
       " {'corp_code': '00253055',\n",
       "  'corp_name': '태흥산업개발',\n",
       "  'stock_code': None,\n",
       "  'modify_date': '20170630'},\n",
       " {'corp_code': '00448714',\n",
       "  'corp_name': '마하인더스트리',\n",
       "  'stock_code': None,\n",
       "  'modify_date': '20170630'},\n",
       " {'corp_code': '00448705',\n",
       "  'corp_name': '모아건설',\n",
       "  'stock_code': None,\n",
       "  'modify_date': '20170630'},\n",
       " {'corp_code': '00101716',\n",
       "  'corp_name': '경북레미콘',\n",
       "  'stock_code': None,\n",
       "  'modify_date': '20170630'},\n",
       " {'corp_code': '00447876',\n",
       "  'corp_name': '그루빅',\n",
       "  'stock_code': None,\n",
       "  'modify_date': '20170630'},\n",
       " {'corp_code': '00448671',\n",
       "  'corp_name': '라이프건설',\n",
       "  'stock_code': None,\n",
       "  'modify_date': '20170630'},\n",
       " {'corp_code': '00217150',\n",
       "  'corp_name': '대진종합건설',\n",
       "  'stock_code': None,\n",
       "  'modify_date': '20170630'},\n",
       " {'corp_code': '00164344',\n",
       "  'corp_name': '해피아이',\n",
       "  'stock_code': None,\n",
       "  'modify_date': '20170630'},\n",
       " {'corp_code': '00303314',\n",
       "  'corp_name': '성서',\n",
       "  'stock_code': None,\n",
       "  'modify_date': '20170630'},\n",
       " {'corp_code': '00451213',\n",
       "  'corp_name': '한신공업',\n",
       "  'stock_code': None,\n",
       "  'modify_date': '20170630'},\n",
       " {'corp_code': '00407416',\n",
       "  'corp_name': '오랙스정유',\n",
       "  'stock_code': None,\n",
       "  'modify_date': '20170630'},\n",
       " {'corp_code': '00178675',\n",
       "  'corp_name': '이논',\n",
       "  'stock_code': None,\n",
       "  'modify_date': '20170630'},\n",
       " {'corp_code': '00367181',\n",
       "  'corp_name': '예들',\n",
       "  'stock_code': None,\n",
       "  'modify_date': '20170630'},\n",
       " {'corp_code': '00439062',\n",
       "  'corp_name': '세제',\n",
       "  'stock_code': None,\n",
       "  'modify_date': '20170630'},\n",
       " {'corp_code': '00413514',\n",
       "  'corp_name': '가인수산',\n",
       "  'stock_code': None,\n",
       "  'modify_date': '20170630'},\n",
       " {'corp_code': '00127538',\n",
       "  'corp_name': '삼원산업',\n",
       "  'stock_code': None,\n",
       "  'modify_date': '20170630'},\n",
       " {'corp_code': '00370051',\n",
       "  'corp_name': '유덕건설',\n",
       "  'stock_code': None,\n",
       "  'modify_date': '20170630'},\n",
       " {'corp_code': '00415123',\n",
       "  'corp_name': '크로스전자',\n",
       "  'stock_code': None,\n",
       "  'modify_date': '20170630'},\n",
       " {'corp_code': '00106012',\n",
       "  'corp_name': '금성텔',\n",
       "  'stock_code': None,\n",
       "  'modify_date': '20170630'},\n",
       " {'corp_code': '00158495',\n",
       "  'corp_name': '한국아프라이드매그네틱스',\n",
       "  'stock_code': None,\n",
       "  'modify_date': '20170630'},\n",
       " {'corp_code': '00299774',\n",
       "  'corp_name': '스타럽스',\n",
       "  'stock_code': None,\n",
       "  'modify_date': '20170630'},\n",
       " {'corp_code': '00414911',\n",
       "  'corp_name': '텔레프리',\n",
       "  'stock_code': None,\n",
       "  'modify_date': '20170630'},\n",
       " {'corp_code': '00414762',\n",
       "  'corp_name': '금화도시개발',\n",
       "  'stock_code': None,\n",
       "  'modify_date': '20170630'},\n",
       " {'corp_code': '00234078',\n",
       "  'corp_name': '길정종합건설',\n",
       "  'stock_code': None,\n",
       "  'modify_date': '20170630'},\n",
       " {'corp_code': '00412515',\n",
       "  'corp_name': '메디링스',\n",
       "  'stock_code': None,\n",
       "  'modify_date': '20170630'},\n",
       " {'corp_code': '00151076',\n",
       "  'corp_name': '창원개발',\n",
       "  'stock_code': None,\n",
       "  'modify_date': '20170630'},\n",
       " {'corp_code': '00170512',\n",
       "  'corp_name': '우신레저산업',\n",
       "  'stock_code': None,\n",
       "  'modify_date': '20170630'},\n",
       " {'corp_code': '00370033',\n",
       "  'corp_name': '연이산업',\n",
       "  'stock_code': None,\n",
       "  'modify_date': '20170630'},\n",
       " {'corp_code': '00406587',\n",
       "  'corp_name': '다른신문',\n",
       "  'stock_code': None,\n",
       "  'modify_date': '20170630'},\n",
       " {'corp_code': '00413471',\n",
       "  'corp_name': '비투올네트',\n",
       "  'stock_code': None,\n",
       "  'modify_date': '20170630'},\n",
       " {'corp_code': '00248804',\n",
       "  'corp_name': '성진사',\n",
       "  'stock_code': None,\n",
       "  'modify_date': '20170630'},\n",
       " {'corp_code': '00359854',\n",
       "  'corp_name': '네투스테크놀러지',\n",
       "  'stock_code': None,\n",
       "  'modify_date': '20170630'},\n",
       " {'corp_code': '00252870',\n",
       "  'corp_name': '동구',\n",
       "  'stock_code': None,\n",
       "  'modify_date': '20170630'},\n",
       " {'corp_code': '00300432',\n",
       "  'corp_name': '비아이캐피탈',\n",
       "  'stock_code': None,\n",
       "  'modify_date': '20170630'},\n",
       " {'corp_code': '00415938',\n",
       "  'corp_name': '세아개발',\n",
       "  'stock_code': None,\n",
       "  'modify_date': '20170630'},\n",
       " {'corp_code': '00370714',\n",
       "  'corp_name': '퍼시픽스타',\n",
       "  'stock_code': None,\n",
       "  'modify_date': '20170630'},\n",
       " {'corp_code': '00345693',\n",
       "  'corp_name': 'SKIMT',\n",
       "  'stock_code': None,\n",
       "  'modify_date': '20170630'},\n",
       " {'corp_code': '00426226',\n",
       "  'corp_name': '일신제약',\n",
       "  'stock_code': None,\n",
       "  'modify_date': '20170630'},\n",
       " {'corp_code': '00426235',\n",
       "  'corp_name': '모아에셋',\n",
       "  'stock_code': None,\n",
       "  'modify_date': '20170630'},\n",
       " {'corp_code': '00376505',\n",
       "  'corp_name': '그린페이퍼텍',\n",
       "  'stock_code': None,\n",
       "  'modify_date': '20170630'},\n",
       " {'corp_code': '00427058',\n",
       "  'corp_name': '원업제이차유동화전문유한회사',\n",
       "  'stock_code': None,\n",
       "  'modify_date': '20170630'},\n",
       " {'corp_code': '00427100',\n",
       "  'corp_name': '두손테크피아',\n",
       "  'stock_code': None,\n",
       "  'modify_date': '20170630'},\n",
       " {'corp_code': '00427331',\n",
       "  'corp_name': '유니맥코리아',\n",
       "  'stock_code': None,\n",
       "  'modify_date': '20170630'},\n",
       " {'corp_code': '00429144',\n",
       "  'corp_name': '아하크레딧유동화전문유한회사',\n",
       "  'stock_code': None,\n",
       "  'modify_date': '20170630'},\n",
       " {'corp_code': '00429180',\n",
       "  'corp_name': '거버너스M&A사모펀드2호',\n",
       "  'stock_code': None,\n",
       "  'modify_date': '20170630'},\n",
       " {'corp_code': '00419916',\n",
       "  'corp_name': '기가솔',\n",
       "  'stock_code': None,\n",
       "  'modify_date': '20170630'},\n",
       " {'corp_code': '00421009',\n",
       "  'corp_name': '모쿠스',\n",
       "  'stock_code': None,\n",
       "  'modify_date': '20170630'},\n",
       " {'corp_code': '00363796',\n",
       "  'corp_name': '남양산업',\n",
       "  'stock_code': None,\n",
       "  'modify_date': '20170630'},\n",
       " {'corp_code': '00302148',\n",
       "  'corp_name': '에이팩스기술투자',\n",
       "  'stock_code': None,\n",
       "  'modify_date': '20170630'},\n",
       " {'corp_code': '00426314',\n",
       "  'corp_name': '에스지테크놀러지',\n",
       "  'stock_code': None,\n",
       "  'modify_date': '20170630'},\n",
       " {'corp_code': '00427146',\n",
       "  'corp_name': '도이체방크아게런던',\n",
       "  'stock_code': None,\n",
       "  'modify_date': '20170630'},\n",
       " {'corp_code': '00245065',\n",
       "  'corp_name': '에이에스엠엘에스씨',\n",
       "  'stock_code': None,\n",
       "  'modify_date': '20170630'},\n",
       " {'corp_code': '00427182',\n",
       "  'corp_name': '얼라이언스캐피탈파트너즈',\n",
       "  'stock_code': None,\n",
       "  'modify_date': '20170630'},\n",
       " {'corp_code': '00382852',\n",
       "  'corp_name': '대진산업',\n",
       "  'stock_code': None,\n",
       "  'modify_date': '20170630'},\n",
       " {'corp_code': '00362113',\n",
       "  'corp_name': '하늘사랑',\n",
       "  'stock_code': None,\n",
       "  'modify_date': '20170630'},\n",
       " {'corp_code': '00220756',\n",
       "  'corp_name': '씨앤씨캐피탈',\n",
       "  'stock_code': None,\n",
       "  'modify_date': '20170630'},\n",
       " {'corp_code': '00162319',\n",
       "  'corp_name': '한양상사',\n",
       "  'stock_code': None,\n",
       "  'modify_date': '20170630'},\n",
       " {'corp_code': '00355511',\n",
       "  'corp_name': 'Photronics,Inc.',\n",
       "  'stock_code': None,\n",
       "  'modify_date': '20170630'},\n",
       " {'corp_code': '00400176',\n",
       "  'corp_name': '무빙넷',\n",
       "  'stock_code': None,\n",
       "  'modify_date': '20170630'},\n",
       " {'corp_code': '00396402',\n",
       "  'corp_name': '슈마커코리아',\n",
       "  'stock_code': None,\n",
       "  'modify_date': '20170630'},\n",
       " {'corp_code': '00439938',\n",
       "  'corp_name': '유케이',\n",
       "  'stock_code': None,\n",
       "  'modify_date': '20170630'},\n",
       " {'corp_code': '00337977',\n",
       "  'corp_name': '캐피탈리서치앤매니지먼트컴퍼니',\n",
       "  'stock_code': None,\n",
       "  'modify_date': '20170630'},\n",
       " {'corp_code': '00436047',\n",
       "  'corp_name': '월드타운',\n",
       "  'stock_code': None,\n",
       "  'modify_date': '20170630'},\n",
       " {'corp_code': '00387097',\n",
       "  'corp_name': '센텀파크유동화전문유한회사',\n",
       "  'stock_code': None,\n",
       "  'modify_date': '20170630'},\n",
       " {'corp_code': '00274410',\n",
       "  'corp_name': '인트빔',\n",
       "  'stock_code': None,\n",
       "  'modify_date': '20170630'},\n",
       " {'corp_code': '00328100',\n",
       "  'corp_name': '나래소프트시스템',\n",
       "  'stock_code': None,\n",
       "  'modify_date': '20170630'},\n",
       " {'corp_code': '00243845',\n",
       "  'corp_name': '삼광고하켐',\n",
       "  'stock_code': None,\n",
       "  'modify_date': '20170630'},\n",
       " {'corp_code': '00336260',\n",
       "  'corp_name': 'OAKMARKINTERNATIONALFUND',\n",
       "  'stock_code': None,\n",
       "  'modify_date': '20170630'},\n",
       " {'corp_code': '00262026',\n",
       "  'corp_name': '신중앙99-1유동화전문유한회사',\n",
       "  'stock_code': None,\n",
       "  'modify_date': '20170630'},\n",
       " {'corp_code': '00264431',\n",
       "  'corp_name': '크레디피아유동화전문',\n",
       "  'stock_code': None,\n",
       "  'modify_date': '20170630'},\n",
       " {'corp_code': '00264495',\n",
       "  'corp_name': '중소기업유동화전문유한회사',\n",
       "  'stock_code': None,\n",
       "  'modify_date': '20170630'},\n",
       " {'corp_code': '00267067',\n",
       "  'corp_name': '산은캐피탈제일호유동화전문유한회사',\n",
       "  'stock_code': None,\n",
       "  'modify_date': '20170630'},\n",
       " {'corp_code': '00290791',\n",
       "  'corp_name': '국민제이차유동화전문회사',\n",
       "  'stock_code': None,\n",
       "  'modify_date': '20170630'},\n",
       " {'corp_code': '00297837',\n",
       "  'corp_name': '국민제일차유동화전문유한회사',\n",
       "  'stock_code': None,\n",
       "  'modify_date': '20170630'},\n",
       " {'corp_code': '00429162',\n",
       "  'corp_name': '남양씨앤씨',\n",
       "  'stock_code': None,\n",
       "  'modify_date': '20170630'},\n",
       " {'corp_code': '00203643',\n",
       "  'corp_name': '유일냉장',\n",
       "  'stock_code': None,\n",
       "  'modify_date': '20170630'},\n",
       " {'corp_code': '00450108',\n",
       "  'corp_name': '평산공영',\n",
       "  'stock_code': None,\n",
       "  'modify_date': '20170630'},\n",
       " {'corp_code': '00171414',\n",
       "  'corp_name': '파산자한국산업증권',\n",
       "  'stock_code': None,\n",
       "  'modify_date': '20170630'},\n",
       " {'corp_code': '00200549',\n",
       "  'corp_name': '대홍방직',\n",
       "  'stock_code': None,\n",
       "  'modify_date': '20170630'},\n",
       " {'corp_code': '00114543',\n",
       "  'corp_name': '도투락',\n",
       "  'stock_code': None,\n",
       "  'modify_date': '20170630'},\n",
       " {'corp_code': '00197607',\n",
       "  'corp_name': '해덕기업',\n",
       "  'stock_code': None,\n",
       "  'modify_date': '20170630'},\n",
       " {'corp_code': '00258263',\n",
       "  'corp_name': '이수금속',\n",
       "  'stock_code': None,\n",
       "  'modify_date': '20170630'},\n",
       " {'corp_code': '00363617',\n",
       "  'corp_name': '세미코리아',\n",
       "  'stock_code': None,\n",
       "  'modify_date': '20170630'},\n",
       " {'corp_code': '00450287',\n",
       "  'corp_name': '정방종합건설',\n",
       "  'stock_code': None,\n",
       "  'modify_date': '20170630'},\n",
       " {'corp_code': '00413082',\n",
       "  'corp_name': '성우종합건설',\n",
       "  'stock_code': None,\n",
       "  'modify_date': '20170630'},\n",
       " {'corp_code': '00449537',\n",
       "  'corp_name': '신아토건',\n",
       "  'stock_code': None,\n",
       "  'modify_date': '20170630'},\n",
       " {'corp_code': '00163071',\n",
       "  'corp_name': '한일염공',\n",
       "  'stock_code': None,\n",
       "  'modify_date': '20170630'},\n",
       " {'corp_code': '00453239',\n",
       "  'corp_name': '코스모건설',\n",
       "  'stock_code': None,\n",
       "  'modify_date': '20170630'},\n",
       " {'corp_code': '00414267',\n",
       "  'corp_name': '한국방송출판',\n",
       "  'stock_code': None,\n",
       "  'modify_date': '20170630'},\n",
       " {'corp_code': '00349088',\n",
       "  'corp_name': '태성개발',\n",
       "  'stock_code': None,\n",
       "  'modify_date': '20170630'},\n",
       " {'corp_code': '00451514',\n",
       "  'corp_name': '월성주택건설',\n",
       "  'stock_code': None,\n",
       "  'modify_date': '20170630'},\n",
       " {'corp_code': '00386830',\n",
       "  'corp_name': '심도산업',\n",
       "  'stock_code': None,\n",
       "  'modify_date': '20170630'},\n",
       " {'corp_code': '00410128',\n",
       "  'corp_name': '코리아라이닝',\n",
       "  'stock_code': None,\n",
       "  'modify_date': '20170630'},\n",
       " {'corp_code': '00161198',\n",
       "  'corp_name': '한라종합건설',\n",
       "  'stock_code': None,\n",
       "  'modify_date': '20170630'},\n",
       " {'corp_code': '00126849',\n",
       "  'corp_name': '삼안공영',\n",
       "  'stock_code': None,\n",
       "  'modify_date': '20170630'},\n",
       " {'corp_code': '00437824',\n",
       "  'corp_name': '제석주택',\n",
       "  'stock_code': None,\n",
       "  'modify_date': '20170630'},\n",
       " {'corp_code': '00363176',\n",
       "  'corp_name': '한국모빌솔루션',\n",
       "  'stock_code': None,\n",
       "  'modify_date': '20170630'},\n",
       " {'corp_code': '00299871',\n",
       "  'corp_name': '연화상사',\n",
       "  'stock_code': None,\n",
       "  'modify_date': '20170630'},\n",
       " {'corp_code': '00336686',\n",
       "  'corp_name': '현대티타늄',\n",
       "  'stock_code': None,\n",
       "  'modify_date': '20170630'},\n",
       " {'corp_code': '00340892',\n",
       "  'corp_name': '한강온천',\n",
       "  'stock_code': None,\n",
       "  'modify_date': '20170630'},\n",
       " {'corp_code': '00415725',\n",
       "  'corp_name': '나우아이엔에스',\n",
       "  'stock_code': None,\n",
       "  'modify_date': '20170630'},\n",
       " {'corp_code': '00306205',\n",
       "  'corp_name': '디아이씨',\n",
       "  'stock_code': None,\n",
       "  'modify_date': '20170630'},\n",
       " {'corp_code': '00371351',\n",
       "  'corp_name': '비앤에스아이엔씨',\n",
       "  'stock_code': None,\n",
       "  'modify_date': '20170630'},\n",
       " {'corp_code': '00369851',\n",
       "  'corp_name': '창원건설',\n",
       "  'stock_code': None,\n",
       "  'modify_date': '20170630'},\n",
       " {'corp_code': '00415840',\n",
       "  'corp_name': '알루테크',\n",
       "  'stock_code': None,\n",
       "  'modify_date': '20170630'},\n",
       " {'corp_code': '00246666',\n",
       "  'corp_name': '대상하이디어',\n",
       "  'stock_code': None,\n",
       "  'modify_date': '20170630'},\n",
       " {'corp_code': '00153296',\n",
       "  'corp_name': '태강산업',\n",
       "  'stock_code': None,\n",
       "  'modify_date': '20170630'},\n",
       " {'corp_code': '00161268',\n",
       "  'corp_name': '한륙전자',\n",
       "  'stock_code': None,\n",
       "  'modify_date': '20170630'},\n",
       " {'corp_code': '00210476',\n",
       "  'corp_name': '영신산업',\n",
       "  'stock_code': None,\n",
       "  'modify_date': '20170630'},\n",
       " {'corp_code': '00365581',\n",
       "  'corp_name': '이사이트랩',\n",
       "  'stock_code': None,\n",
       "  'modify_date': '20170630'},\n",
       " {'corp_code': '00183598',\n",
       "  'corp_name': '영신플랜트',\n",
       "  'stock_code': None,\n",
       "  'modify_date': '20170630'},\n",
       " {'corp_code': '00417088',\n",
       "  'corp_name': '정연산업',\n",
       "  'stock_code': None,\n",
       "  'modify_date': '20170630'},\n",
       " {'corp_code': '00415062',\n",
       "  'corp_name': '아코텔레콤',\n",
       "  'stock_code': None,\n",
       "  'modify_date': '20170630'},\n",
       " {'corp_code': '00172529',\n",
       "  'corp_name': '대영',\n",
       "  'stock_code': None,\n",
       "  'modify_date': '20170630'},\n",
       " {'corp_code': '00407337',\n",
       "  'corp_name': '프라임플러스캐피탈',\n",
       "  'stock_code': None,\n",
       "  'modify_date': '20170630'},\n",
       " {'corp_code': '00405092',\n",
       "  'corp_name': '에스티지시큐리티',\n",
       "  'stock_code': None,\n",
       "  'modify_date': '20170630'},\n",
       " {'corp_code': '00226060',\n",
       "  'corp_name': '보성설비',\n",
       "  'stock_code': None,\n",
       "  'modify_date': '20170630'},\n",
       " {'corp_code': '00206349',\n",
       "  'corp_name': '록정개발',\n",
       "  'stock_code': None,\n",
       "  'modify_date': '20170630'},\n",
       " {'corp_code': '00217035',\n",
       "  'corp_name': '신아스포츠',\n",
       "  'stock_code': None,\n",
       "  'modify_date': '20170630'},\n",
       " {'corp_code': '00224318',\n",
       "  'corp_name': '뉴라인여신금융',\n",
       "  'stock_code': None,\n",
       "  'modify_date': '20170630'},\n",
       " {'corp_code': '00424945',\n",
       "  'corp_name': '중소기업제삼차유동화전문유한회사',\n",
       "  'stock_code': None,\n",
       "  'modify_date': '20170630'},\n",
       " {'corp_code': '00428604',\n",
       "  'corp_name': '알비에이',\n",
       "  'stock_code': None,\n",
       "  'modify_date': '20170630'},\n",
       " {'corp_code': '00424565',\n",
       "  'corp_name': '체리스톤코리아',\n",
       "  'stock_code': None,\n",
       "  'modify_date': '20170630'},\n",
       " {'corp_code': '00226574',\n",
       "  'corp_name': '세모화학',\n",
       "  'stock_code': None,\n",
       "  'modify_date': '20170630'},\n",
       " {'corp_code': '00425157',\n",
       "  'corp_name': '리딩씨앤씨',\n",
       "  'stock_code': None,\n",
       "  'modify_date': '20170630'},\n",
       " {'corp_code': '00427340',\n",
       "  'corp_name': '폴리코',\n",
       "  'stock_code': None,\n",
       "  'modify_date': '20170630'},\n",
       " {'corp_code': '00427429',\n",
       "  'corp_name': '산은굿밸류제일차유동화전문유한회사',\n",
       "  'stock_code': None,\n",
       "  'modify_date': '20170630'},\n",
       " {'corp_code': '00420453',\n",
       "  'corp_name': '이프리즘',\n",
       "  'stock_code': None,\n",
       "  'modify_date': '20170630'},\n",
       " {'corp_code': '00403696',\n",
       "  'corp_name': '디미디어',\n",
       "  'stock_code': None,\n",
       "  'modify_date': '20170630'},\n",
       " {'corp_code': '00417592',\n",
       "  'corp_name': '유피텍',\n",
       "  'stock_code': None,\n",
       "  'modify_date': '20170630'},\n",
       " {'corp_code': '00365998',\n",
       "  'corp_name': '티브이가이드',\n",
       "  'stock_code': None,\n",
       "  'modify_date': '20170630'},\n",
       " {'corp_code': '00412913',\n",
       "  'corp_name': '스타코리아웹케스팅',\n",
       "  'stock_code': None,\n",
       "  'modify_date': '20170630'},\n",
       " {'corp_code': '00421355',\n",
       "  'corp_name': '아라정보기술',\n",
       "  'stock_code': None,\n",
       "  'modify_date': '20170630'},\n",
       " {'corp_code': '00426439',\n",
       "  'corp_name': '코리아컨텐츠네트워크',\n",
       "  'stock_code': None,\n",
       "  'modify_date': '20170630'},\n",
       " {'corp_code': '00427386',\n",
       "  'corp_name': '티티월드',\n",
       "  'stock_code': None,\n",
       "  'modify_date': '20170630'},\n",
       " {'corp_code': '00167129',\n",
       "  'corp_name': '흥산건설',\n",
       "  'stock_code': None,\n",
       "  'modify_date': '20170630'},\n",
       " {'corp_code': '00217707',\n",
       "  'corp_name': '연덕건설',\n",
       "  'stock_code': None,\n",
       "  'modify_date': '20170630'},\n",
       " {'corp_code': '00426518',\n",
       "  'corp_name': '비추미코리아제일차유동화전문유한회사',\n",
       "  'stock_code': None,\n",
       "  'modify_date': '20170630'},\n",
       " {'corp_code': '00426536',\n",
       "  'corp_name': '크레디피아제삼십오차유동화전문유한회사',\n",
       "  'stock_code': None,\n",
       "  'modify_date': '20170630'},\n",
       " {'corp_code': '00426545',\n",
       "  'corp_name': '아하론제삼차유동화전문유한회사',\n",
       "  'stock_code': None,\n",
       "  'modify_date': '20170630'},\n",
       " {'corp_code': '00335951',\n",
       "  'corp_name': '동원제일차유동화전문',\n",
       "  'stock_code': None,\n",
       "  'modify_date': '20170630'},\n",
       " {'corp_code': '00436588',\n",
       "  'corp_name': '케이투이',\n",
       "  'stock_code': None,\n",
       "  'modify_date': '20170630'},\n",
       " {'corp_code': '00435349',\n",
       "  'corp_name': '지영상사',\n",
       "  'stock_code': None,\n",
       "  'modify_date': '20170630'},\n",
       " {'corp_code': '00331450',\n",
       "  'corp_name': '아주의대벤처메딕스',\n",
       "  'stock_code': None,\n",
       "  'modify_date': '20170630'},\n",
       " {'corp_code': '00341952',\n",
       "  'corp_name': '엑스퍼트유동화전문유한회사',\n",
       "  'stock_code': None,\n",
       "  'modify_date': '20170630'},\n",
       " {'corp_code': '00342739',\n",
       "  'corp_name': '마이에셋유동화전문유한회사',\n",
       "  'stock_code': None,\n",
       "  'modify_date': '20170630'},\n",
       " {'corp_code': '00342988',\n",
       "  'corp_name': '한아름제2차유동화전문유한회사',\n",
       "  'stock_code': None,\n",
       "  'modify_date': '20170630'},\n",
       " {'corp_code': '00436241',\n",
       "  'corp_name': '에셋외환카드제이차유동화전문유한회사',\n",
       "  'stock_code': None,\n",
       "  'modify_date': '20170630'},\n",
       " {'corp_code': '00436269',\n",
       "  'corp_name': '에셋외환카드제육차유동화전문유한회사',\n",
       "  'stock_code': None,\n",
       "  'modify_date': '20170630'},\n",
       " {'corp_code': '00436296',\n",
       "  'corp_name': '타이거유동화전문유한회사',\n",
       "  'stock_code': None,\n",
       "  'modify_date': '20170630'},\n",
       " {'corp_code': '00237491',\n",
       "  'corp_name': '서한전자',\n",
       "  'stock_code': None,\n",
       "  'modify_date': '20170630'},\n",
       " {'corp_code': '00118099',\n",
       "  'corp_name': '동원직물',\n",
       "  'stock_code': None,\n",
       "  'modify_date': '20170630'},\n",
       " {'corp_code': '00436685',\n",
       "  'corp_name': '청유',\n",
       "  'stock_code': None,\n",
       "  'modify_date': '20170630'},\n",
       " {'corp_code': '00437107',\n",
       "  'corp_name': '서울전산',\n",
       "  'stock_code': None,\n",
       "  'modify_date': '20170630'},\n",
       " {'corp_code': '00436490',\n",
       "  'corp_name': '씨에스',\n",
       "  'stock_code': None,\n",
       "  'modify_date': '20170630'},\n",
       " {'corp_code': '00436524',\n",
       "  'corp_name': '선암건설',\n",
       "  'stock_code': None,\n",
       "  'modify_date': '20170630'},\n",
       " {'corp_code': '00435923',\n",
       "  'corp_name': '아세텔레콤',\n",
       "  'stock_code': None,\n",
       "  'modify_date': '20170630'},\n",
       " {'corp_code': '00437541',\n",
       "  'corp_name': '우리엘비제칠차유동화전문유한회사',\n",
       "  'stock_code': None,\n",
       "  'modify_date': '20170630'},\n",
       " {'corp_code': '00437569',\n",
       "  'corp_name': '지오택드레인',\n",
       "  'stock_code': None,\n",
       "  'modify_date': '20170630'},\n",
       " {'corp_code': '00336385',\n",
       "  'corp_name': '몬덱스코리아',\n",
       "  'stock_code': None,\n",
       "  'modify_date': '20170630'},\n",
       " {'corp_code': '00198253',\n",
       "  'corp_name': '서광티앤씨',\n",
       "  'stock_code': None,\n",
       "  'modify_date': '20170630'},\n",
       " {'corp_code': '00354062',\n",
       "  'corp_name': '로직스컴퓨터',\n",
       "  'stock_code': None,\n",
       "  'modify_date': '20170630'},\n",
       " {'corp_code': '00311818',\n",
       "  'corp_name': 'RedTulipInvestments',\n",
       "  'stock_code': None,\n",
       "  'modify_date': '20170630'},\n",
       " {'corp_code': '00452267',\n",
       "  'corp_name': '아이산업개발',\n",
       "  'stock_code': None,\n",
       "  'modify_date': '20170630'},\n",
       " {'corp_code': '00446141',\n",
       "  'corp_name': '비코레트',\n",
       "  'stock_code': None,\n",
       "  'modify_date': '20170630'},\n",
       " {'corp_code': '00245117',\n",
       "  'corp_name': '강남산업',\n",
       "  'stock_code': None,\n",
       "  'modify_date': '20170630'},\n",
       " {'corp_code': '00451365',\n",
       "  'corp_name': '우림엔지니어링건축사사무소',\n",
       "  'stock_code': None,\n",
       "  'modify_date': '20170630'},\n",
       " {'corp_code': '00263627',\n",
       "  'corp_name': '백현건설',\n",
       "  'stock_code': None,\n",
       "  'modify_date': '20170630'},\n",
       " {'corp_code': '00257440',\n",
       "  'corp_name': '남흥',\n",
       "  'stock_code': None,\n",
       "  'modify_date': '20170630'},\n",
       " {'corp_code': '00413912',\n",
       "  'corp_name': '우연종합건설',\n",
       "  'stock_code': None,\n",
       "  'modify_date': '20170630'},\n",
       " {'corp_code': '00362618',\n",
       "  'corp_name': '용성조선',\n",
       "  'stock_code': None,\n",
       "  'modify_date': '20170630'},\n",
       " {'corp_code': '00202404',\n",
       "  'corp_name': '송원자동차조명',\n",
       "  'stock_code': None,\n",
       "  'modify_date': '20170630'},\n",
       " {'corp_code': '00450773',\n",
       "  'corp_name': '태산종합건설',\n",
       "  'stock_code': None,\n",
       "  'modify_date': '20170630'},\n",
       " {'corp_code': '00252852',\n",
       "  'corp_name': '근도물산',\n",
       "  'stock_code': None,\n",
       "  'modify_date': '20170630'},\n",
       " {'corp_code': '00451879',\n",
       "  'corp_name': '씨에스피산업',\n",
       "  'stock_code': None,\n",
       "  'modify_date': '20170630'},\n",
       " {'corp_code': '00181217',\n",
       "  'corp_name': '삼흥판지',\n",
       "  'stock_code': None,\n",
       "  'modify_date': '20170630'},\n",
       " {'corp_code': '00375728',\n",
       "  'corp_name': '인터내셔날쥬피텍',\n",
       "  'stock_code': None,\n",
       "  'modify_date': '20170630'},\n",
       " {'corp_code': '00445823',\n",
       "  'corp_name': '대륙종합건설',\n",
       "  'stock_code': None,\n",
       "  'modify_date': '20170630'},\n",
       " {'corp_code': '00387167',\n",
       "  'corp_name': '마시나코아',\n",
       "  'stock_code': None,\n",
       "  'modify_date': '20170630'},\n",
       " {'corp_code': '00256885',\n",
       "  'corp_name': '부천산업',\n",
       "  'stock_code': None,\n",
       "  'modify_date': '20170630'},\n",
       " {'corp_code': '00452674',\n",
       "  'corp_name': '바롬테크',\n",
       "  'stock_code': None,\n",
       "  'modify_date': '20170630'},\n",
       " {'corp_code': '00449421',\n",
       "  'corp_name': '대방종합건설',\n",
       "  'stock_code': None,\n",
       "  'modify_date': '20170630'},\n",
       " {'corp_code': '00209230',\n",
       "  'corp_name': '영도섬유',\n",
       "  'stock_code': None,\n",
       "  'modify_date': '20170630'},\n",
       " {'corp_code': '00412311',\n",
       "  'corp_name': '미디어파트너스',\n",
       "  'stock_code': None,\n",
       "  'modify_date': '20170630'},\n",
       " {'corp_code': '00233741',\n",
       "  'corp_name': '한이해운',\n",
       "  'stock_code': None,\n",
       "  'modify_date': '20170630'},\n",
       " {'corp_code': '00299400',\n",
       "  'corp_name': '금영',\n",
       "  'stock_code': None,\n",
       "  'modify_date': '20170630'},\n",
       " {'corp_code': '00112518',\n",
       "  'corp_name': '대준섬유',\n",
       "  'stock_code': None,\n",
       "  'modify_date': '20170630'},\n",
       " {'corp_code': '00416760',\n",
       "  'corp_name': '두일',\n",
       "  'stock_code': None,\n",
       "  'modify_date': '20170630'},\n",
       " {'corp_code': '00397438',\n",
       "  'corp_name': '벽송종합건설',\n",
       "  'stock_code': None,\n",
       "  'modify_date': '20170630'},\n",
       " {'corp_code': '00198615',\n",
       "  'corp_name': '평해건설',\n",
       "  'stock_code': None,\n",
       "  'modify_date': '20170630'},\n",
       " {'corp_code': '00363228',\n",
       "  'corp_name': '대동제지공업',\n",
       "  'stock_code': None,\n",
       "  'modify_date': '20170630'},\n",
       " {'corp_code': '00415257',\n",
       "  'corp_name': '동서디엔씨',\n",
       "  'stock_code': None,\n",
       "  'modify_date': '20170630'},\n",
       " {'corp_code': '00369365',\n",
       "  'corp_name': '케미스',\n",
       "  'stock_code': None,\n",
       "  'modify_date': '20170630'},\n",
       " {'corp_code': '00405126',\n",
       "  'corp_name': '텔리맨',\n",
       "  'stock_code': None,\n",
       "  'modify_date': '20170630'},\n",
       " {'corp_code': '00415266',\n",
       "  'corp_name': '과일나라',\n",
       "  'stock_code': None,\n",
       "  'modify_date': '20170630'},\n",
       " {'corp_code': '00361354',\n",
       "  'corp_name': '넷츠고',\n",
       "  'stock_code': None,\n",
       "  'modify_date': '20170630'},\n",
       " {'corp_code': '00415275',\n",
       "  'corp_name': '동승건설',\n",
       "  'stock_code': None,\n",
       "  'modify_date': '20170630'},\n",
       " {'corp_code': '00367446',\n",
       "  'corp_name': '주영크리에이션',\n",
       "  'stock_code': None,\n",
       "  'modify_date': '20170630'},\n",
       " {'corp_code': '00415673',\n",
       "  'corp_name': '태광엔터프라이즈',\n",
       "  'stock_code': None,\n",
       "  'modify_date': '20170630'},\n",
       " {'corp_code': '00171751',\n",
       "  'corp_name': '한주종합건설',\n",
       "  'stock_code': None,\n",
       "  'modify_date': '20170630'},\n",
       " {'corp_code': '00416797',\n",
       "  'corp_name': '유정건설',\n",
       "  'stock_code': None,\n",
       "  'modify_date': '20170630'},\n",
       " {'corp_code': '00193407',\n",
       "  'corp_name': '세광종합건설',\n",
       "  'stock_code': None,\n",
       "  'modify_date': '20170630'},\n",
       " {'corp_code': '00365943',\n",
       "  'corp_name': '금양레포츠',\n",
       "  'stock_code': None,\n",
       "  'modify_date': '20170630'},\n",
       " {'corp_code': '00363060',\n",
       "  'corp_name': '게임벤처',\n",
       "  'stock_code': None,\n",
       "  'modify_date': '20170630'},\n",
       " {'corp_code': '00418892',\n",
       "  'corp_name': '마이애셋사모M&A펀드B호',\n",
       "  'stock_code': None,\n",
       "  'modify_date': '20170630'},\n",
       " {'corp_code': '00418917',\n",
       "  'corp_name': '하나로밀레니엄',\n",
       "  'stock_code': None,\n",
       "  'modify_date': '20170630'},\n",
       " {'corp_code': '00417370',\n",
       "  'corp_name': '메트로에이전시',\n",
       "  'stock_code': None,\n",
       "  'modify_date': '20170630'},\n",
       " {'corp_code': '00427508',\n",
       "  'corp_name': '국민카드제십차유동화전문유한회사',\n",
       "  'stock_code': None,\n",
       "  'modify_date': '20170630'},\n",
       " {'corp_code': '00367987',\n",
       "  'corp_name': '시봉전자',\n",
       "  'stock_code': None,\n",
       "  'modify_date': '20170630'},\n",
       " {'corp_code': '00428020',\n",
       "  'corp_name': '두산스피리츠',\n",
       "  'stock_code': None,\n",
       "  'modify_date': '20170630'},\n",
       " {'corp_code': '00382296',\n",
       "  'corp_name': '게토코리아',\n",
       "  'stock_code': None,\n",
       "  'modify_date': '20170630'},\n",
       " {'corp_code': '00297332',\n",
       "  'corp_name': 'AmkorTechnology,Inc.',\n",
       "  'stock_code': None,\n",
       "  'modify_date': '20170630'},\n",
       " {'corp_code': '00378929',\n",
       "  'corp_name': '에이피엠쇼핑몰',\n",
       "  'stock_code': None,\n",
       "  'modify_date': '20170630'},\n",
       " {'corp_code': '00384735',\n",
       "  'corp_name': '코텍',\n",
       "  'stock_code': None,\n",
       "  'modify_date': '20170630'},\n",
       " {'corp_code': '00303572',\n",
       "  'corp_name': '아이거넷',\n",
       "  'stock_code': None,\n",
       "  'modify_date': '20170630'},\n",
       " {'corp_code': '00399250',\n",
       "  'corp_name': '도원닷컴',\n",
       "  'stock_code': None,\n",
       "  'modify_date': '20170630'},\n",
       " {'corp_code': '00434951',\n",
       "  'corp_name': '맥쿼리장기채권형펀드',\n",
       "  'stock_code': None,\n",
       "  'modify_date': '20170630'},\n",
       " {'corp_code': '00434988',\n",
       "  'corp_name': '세이리딩스톡혼합형펀드',\n",
       "  'stock_code': None,\n",
       "  'modify_date': '20170630'},\n",
       " {'corp_code': '00434997',\n",
       "  'corp_name': '세이고배당장기증권저축펀드',\n",
       "  'stock_code': None,\n",
       "  'modify_date': '20170630'},\n",
       " {'corp_code': '00435002',\n",
       "  'corp_name': '세이고배당주식형펀드',\n",
       "  'stock_code': None,\n",
       "  'modify_date': '20170630'},\n",
       " {'corp_code': '00435136',\n",
       "  'corp_name': '맥쿼리IMM슈페리어채권형사모펀드',\n",
       "  'stock_code': None,\n",
       "  'modify_date': '20170630'},\n",
       " {'corp_code': '00434331',\n",
       "  'corp_name': 'KTB채권형펀드',\n",
       "  'stock_code': None,\n",
       "  'modify_date': '20170630'},\n",
       " {'corp_code': '00434359',\n",
       "  'corp_name': '글로벌퍼펙트혼합형펀드',\n",
       "  'stock_code': None,\n",
       "  'modify_date': '20170630'},\n",
       " {'corp_code': '00434377',\n",
       "  'corp_name': '삼성중소형알짜주식형뮤추얼펀드',\n",
       "  'stock_code': None,\n",
       "  'modify_date': '20170630'},\n",
       " {'corp_code': '00434386',\n",
       "  'corp_name': 'KTB장기증권저축펀드1호',\n",
       "  'stock_code': None,\n",
       "  'modify_date': '20170630'},\n",
       " {'corp_code': '00434438',\n",
       "  'corp_name': 'KTB에이플러스2호혼합형사모펀드',\n",
       "  'stock_code': None,\n",
       "  'modify_date': '20170630'},\n",
       " {'corp_code': '00286877',\n",
       "  'corp_name': '비비앤씨',\n",
       "  'stock_code': None,\n",
       "  'modify_date': '20170630'},\n",
       " {'corp_code': '00436913',\n",
       "  'corp_name': '대청산업',\n",
       "  'stock_code': None,\n",
       "  'modify_date': '20170630'},\n",
       " {'corp_code': '00436366',\n",
       "  'corp_name': '링컨아카데미',\n",
       "  'stock_code': None,\n",
       "  'modify_date': '20170630'},\n",
       " {'corp_code': '00369116',\n",
       "  'corp_name': '디아이컨설팅',\n",
       "  'stock_code': None,\n",
       "  'modify_date': '20170630'},\n",
       " {'corp_code': '00261577',\n",
       "  'corp_name': '네띠앙',\n",
       "  'stock_code': None,\n",
       "  'modify_date': '20170630'},\n",
       " {'corp_code': '00434261',\n",
       "  'corp_name': '크레디피아제삼십팔차유동화전문유한회사',\n",
       "  'stock_code': None,\n",
       "  'modify_date': '20170630'},\n",
       " {'corp_code': '00222204',\n",
       "  'corp_name': '산내들축산',\n",
       "  'stock_code': None,\n",
       "  'modify_date': '20170630'},\n",
       " {'corp_code': '00436153',\n",
       "  'corp_name': '거장주택건설',\n",
       "  'stock_code': None,\n",
       "  'modify_date': '20170630'},\n",
       " {'corp_code': '00437967',\n",
       "  'corp_name': '쓰리디컴넷',\n",
       "  'stock_code': None,\n",
       "  'modify_date': '20170630'},\n",
       " {'corp_code': '00435914',\n",
       "  'corp_name': '대양식품',\n",
       "  'stock_code': None,\n",
       "  'modify_date': '20170630'},\n",
       " {'corp_code': '00435899',\n",
       "  'corp_name': '태강건설',\n",
       "  'stock_code': None,\n",
       "  'modify_date': '20170630'},\n",
       " {'corp_code': '00437383',\n",
       "  'corp_name': '국제전자정밀',\n",
       "  'stock_code': None,\n",
       "  'modify_date': '20170630'},\n",
       " {'corp_code': '00351825',\n",
       "  'corp_name': '투어토털닷컴',\n",
       "  'stock_code': None,\n",
       "  'modify_date': '20170630'},\n",
       " {'corp_code': '00415008',\n",
       "  'corp_name': '드림미르',\n",
       "  'stock_code': None,\n",
       "  'modify_date': '20170630'},\n",
       " {'corp_code': '00436968',\n",
       "  'corp_name': '부광',\n",
       "  'stock_code': None,\n",
       "  'modify_date': '20170630'},\n",
       " {'corp_code': '00436852',\n",
       "  'corp_name': '도원건설',\n",
       "  'stock_code': None,\n",
       "  'modify_date': '20170630'},\n",
       " {'corp_code': '00436393',\n",
       "  'corp_name': '현우유통',\n",
       "  'stock_code': None,\n",
       "  'modify_date': '20170630'},\n",
       " {'corp_code': '00261142',\n",
       "  'corp_name': '엘리온정보기술',\n",
       "  'stock_code': None,\n",
       "  'modify_date': '20170630'},\n",
       " {'corp_code': '00439406',\n",
       "  'corp_name': '지석공영',\n",
       "  'stock_code': None,\n",
       "  'modify_date': '20170630'},\n",
       " {'corp_code': '00421559',\n",
       "  'corp_name': '에쓰엠제일차자산유동화전문',\n",
       "  'stock_code': None,\n",
       "  'modify_date': '20170630'},\n",
       " {'corp_code': '00387060',\n",
       "  'corp_name': '뉴밀레니엄코람제이차유동화전문유한회사',\n",
       "  'stock_code': None,\n",
       "  'modify_date': '20170630'},\n",
       " {'corp_code': '00434067',\n",
       "  'corp_name': '렉스상사',\n",
       "  'stock_code': None,\n",
       "  'modify_date': '20170630'},\n",
       " {'corp_code': '00446938',\n",
       "  'corp_name': '보나뱅크',\n",
       "  'stock_code': None,\n",
       "  'modify_date': '20170630'},\n",
       " {'corp_code': '00413161',\n",
       "  'corp_name': '토탈메드',\n",
       "  'stock_code': None,\n",
       "  'modify_date': '20170630'},\n",
       " {'corp_code': '00450409',\n",
       "  'corp_name': '엔트',\n",
       "  'stock_code': None,\n",
       "  'modify_date': '20170630'},\n",
       " {'corp_code': '00430283',\n",
       "  'corp_name': '협성염공',\n",
       "  'stock_code': None,\n",
       "  'modify_date': '20170630'},\n",
       " {'corp_code': '00370875',\n",
       "  'corp_name': '디비엔지니어링',\n",
       "  'stock_code': None,\n",
       "  'modify_date': '20170630'},\n",
       " {'corp_code': '00230878',\n",
       "  'corp_name': '삼양텍스',\n",
       "  'stock_code': None,\n",
       "  'modify_date': '20170630'},\n",
       " {'corp_code': '00409867',\n",
       "  'corp_name': '얄개네트워크',\n",
       "  'stock_code': None,\n",
       "  'modify_date': '20170630'},\n",
       " {'corp_code': '00385044',\n",
       "  'corp_name': '지트랜코리아',\n",
       "  'stock_code': None,\n",
       "  'modify_date': '20170630'},\n",
       " {'corp_code': '00173245',\n",
       "  'corp_name': '삼보',\n",
       "  'stock_code': None,\n",
       "  'modify_date': '20170630'},\n",
       " {'corp_code': '00423812',\n",
       "  'corp_name': '국민카드제구차유동화전문유한회사',\n",
       "  'stock_code': None,\n",
       "  'modify_date': '20170630'},\n",
       " {'corp_code': '00425661',\n",
       "  'corp_name': '국민카드제십일차유동화전문유한회사',\n",
       "  'stock_code': None,\n",
       "  'modify_date': '20170630'},\n",
       " {'corp_code': '00273907',\n",
       "  'corp_name': '하나로제4차유동화전문회사',\n",
       "  'stock_code': None,\n",
       "  'modify_date': '20170630'},\n",
       " {'corp_code': '00283533',\n",
       "  'corp_name': '와이디세이프유동화전문유한회사',\n",
       "  'stock_code': None,\n",
       "  'modify_date': '20170630'},\n",
       " {'corp_code': '00445966',\n",
       "  'corp_name': '늘푸른마을',\n",
       "  'stock_code': None,\n",
       "  'modify_date': '20170630'},\n",
       " {'corp_code': '00450001',\n",
       "  'corp_name': '이노크래프트',\n",
       "  'stock_code': None,\n",
       "  'modify_date': '20170630'},\n",
       " {'corp_code': '00449555',\n",
       "  'corp_name': '강동종합유선방송',\n",
       "  'stock_code': None,\n",
       "  'modify_date': '20170630'},\n",
       " {'corp_code': '00452443',\n",
       "  'corp_name': '한림하우징',\n",
       "  'stock_code': None,\n",
       "  'modify_date': '20170630'},\n",
       " {'corp_code': '00366836',\n",
       "  'corp_name': '아이티엠',\n",
       "  'stock_code': None,\n",
       "  'modify_date': '20170630'},\n",
       " {'corp_code': '00444426',\n",
       "  'corp_name': '코산아이엔티',\n",
       "  'stock_code': None,\n",
       "  'modify_date': '20170630'},\n",
       " {'corp_code': '00261665',\n",
       "  'corp_name': '미광핸드백',\n",
       "  'stock_code': None,\n",
       "  'modify_date': '20170630'},\n",
       " {'corp_code': '00363945',\n",
       "  'corp_name': '신정건설',\n",
       "  'stock_code': None,\n",
       "  'modify_date': '20170630'},\n",
       " {'corp_code': '00414832',\n",
       "  'corp_name': '코이넬',\n",
       "  'stock_code': None,\n",
       "  'modify_date': '20170630'},\n",
       " {'corp_code': '00383161',\n",
       "  'corp_name': '서울제일차유동화전문유한회사',\n",
       "  'stock_code': None,\n",
       "  'modify_date': '20170630'},\n",
       " {'corp_code': '00163026',\n",
       "  'corp_name': '이지닷컴',\n",
       "  'stock_code': None,\n",
       "  'modify_date': '20170630'},\n",
       " {'corp_code': '00414610',\n",
       "  'corp_name': '지에프엠에스',\n",
       "  'stock_code': None,\n",
       "  'modify_date': '20170630'},\n",
       " {'corp_code': '00415947',\n",
       "  'corp_name': '언아더월드',\n",
       "  'stock_code': None,\n",
       "  'modify_date': '20170630'},\n",
       " {'corp_code': '00304605',\n",
       "  'corp_name': '로티스',\n",
       "  'stock_code': None,\n",
       "  'modify_date': '20170630'},\n",
       " {'corp_code': '00414957',\n",
       "  'corp_name': '이파워게이트',\n",
       "  'stock_code': None,\n",
       "  'modify_date': '20170630'},\n",
       " {'corp_code': '00416229',\n",
       "  'corp_name': '윤진개발',\n",
       "  'stock_code': None,\n",
       "  'modify_date': '20170630'},\n",
       " {'corp_code': '00120243',\n",
       "  'corp_name': '레이디',\n",
       "  'stock_code': None,\n",
       "  'modify_date': '20170630'},\n",
       " {'corp_code': '00411659',\n",
       "  'corp_name': '미트마트옥션',\n",
       "  'stock_code': None,\n",
       "  'modify_date': '20170630'},\n",
       " {'corp_code': '00198314',\n",
       "  'corp_name': '아싸',\n",
       "  'stock_code': None,\n",
       "  'modify_date': '20170630'},\n",
       " {'corp_code': '00413408',\n",
       "  'corp_name': '웰리치개발',\n",
       "  'stock_code': None,\n",
       "  'modify_date': '20170630'},\n",
       " {'corp_code': '00163965',\n",
       "  'corp_name': '항도종합금융',\n",
       "  'stock_code': None,\n",
       "  'modify_date': '20170630'},\n",
       " {'corp_code': '00416724',\n",
       "  'corp_name': '아이텍테크널러지',\n",
       "  'stock_code': None,\n",
       "  'modify_date': '20170630'},\n",
       " {'corp_code': '00218502',\n",
       "  'corp_name': '중앙제약',\n",
       "  'stock_code': None,\n",
       "  'modify_date': '20170630'},\n",
       " {'corp_code': '00364175',\n",
       "  'corp_name': '우남산업',\n",
       "  'stock_code': None,\n",
       "  'modify_date': '20170630'},\n",
       " {'corp_code': '00417422',\n",
       "  'corp_name': '윈로지스뉴톤보레알',\n",
       "  'stock_code': None,\n",
       "  'modify_date': '20170630'},\n",
       " {'corp_code': '00417981',\n",
       "  'corp_name': '한국지방재정공제회',\n",
       "  'stock_code': None,\n",
       "  'modify_date': '20170630'},\n",
       " {'corp_code': '00307046',\n",
       "  'corp_name': '창도건설',\n",
       "  'stock_code': None,\n",
       "  'modify_date': '20170630'},\n",
       " {'corp_code': '00237349',\n",
       "  'corp_name': '부국개발',\n",
       "  'stock_code': None,\n",
       "  'modify_date': '20170630'},\n",
       " {'corp_code': '00414364',\n",
       "  'corp_name': '유경엔지니어링',\n",
       "  'stock_code': None,\n",
       "  'modify_date': '20170630'},\n",
       " {'corp_code': '00417626',\n",
       "  'corp_name': '한국레이저영상',\n",
       "  'stock_code': None,\n",
       "  'modify_date': '20170630'},\n",
       " {'corp_code': '00414337',\n",
       "  'corp_name': '뷰텍',\n",
       "  'stock_code': None,\n",
       "  'modify_date': '20170630'},\n",
       " {'corp_code': '00418050',\n",
       "  'corp_name': '씨에이블',\n",
       "  'stock_code': None,\n",
       "  'modify_date': '20170630'},\n",
       " {'corp_code': '00415567',\n",
       "  'corp_name': '아토메가',\n",
       "  'stock_code': None,\n",
       "  'modify_date': '20170630'},\n",
       " {'corp_code': '00247984',\n",
       "  'corp_name': '도레미농산',\n",
       "  'stock_code': None,\n",
       "  'modify_date': '20170630'},\n",
       " {'corp_code': '00371494',\n",
       "  'corp_name': '다인개발',\n",
       "  'stock_code': None,\n",
       "  'modify_date': '20170630'},\n",
       " {'corp_code': '00358147',\n",
       "  'corp_name': '호만기업',\n",
       "  'stock_code': None,\n",
       "  'modify_date': '20170630'},\n",
       " {'corp_code': '00150554',\n",
       "  'corp_name': '갑을개발',\n",
       "  'stock_code': None,\n",
       "  'modify_date': '20170630'},\n",
       " {'corp_code': '00305279',\n",
       "  'corp_name': '에버그린유동화전문유한회사',\n",
       "  'stock_code': None,\n",
       "  'modify_date': '20170630'},\n",
       " {'corp_code': '00386326',\n",
       "  'corp_name': '맥트랜스인터내셔날',\n",
       "  'stock_code': None,\n",
       "  'modify_date': '20170630'},\n",
       " {'corp_code': '00100753',\n",
       "  'corp_name': '거봉',\n",
       "  'stock_code': None,\n",
       "  'modify_date': '20170630'},\n",
       " {'corp_code': '00204703',\n",
       "  'corp_name': '대산레미콘',\n",
       "  'stock_code': None,\n",
       "  'modify_date': '20170630'},\n",
       " {'corp_code': '00417316',\n",
       "  'corp_name': '크레딧크리에이터이천이유동화전문유한회사',\n",
       "  'stock_code': None,\n",
       "  'modify_date': '20170630'},\n",
       " {'corp_code': '00207959',\n",
       "  'corp_name': '신택',\n",
       "  'stock_code': None,\n",
       "  'modify_date': '20170630'},\n",
       " {'corp_code': '00411109',\n",
       "  'corp_name': '바티오테크',\n",
       "  'stock_code': None,\n",
       "  'modify_date': '20170630'},\n",
       " {'corp_code': '00417477',\n",
       "  'corp_name': '하우징그룹우신',\n",
       "  'stock_code': None,\n",
       "  'modify_date': '20170630'},\n",
       " {'corp_code': '00414054',\n",
       "  'corp_name': '통인물류정보통신',\n",
       "  'stock_code': None,\n",
       "  'modify_date': '20170630'},\n",
       " {'corp_code': '00303730',\n",
       "  'corp_name': '에스지에스컨테크',\n",
       "  'stock_code': None,\n",
       "  'modify_date': '20170630'},\n",
       " {'corp_code': '00362229',\n",
       "  'corp_name': '광호',\n",
       "  'stock_code': None,\n",
       "  'modify_date': '20170630'},\n",
       " {'corp_code': '00317326',\n",
       "  'corp_name': '펜다하우스',\n",
       "  'stock_code': None,\n",
       "  'modify_date': '20170630'},\n",
       " {'corp_code': '00418430',\n",
       "  'corp_name': '프르덴셜어슈어런스컴퍼니리티니드',\n",
       "  'stock_code': None,\n",
       "  'modify_date': '20170630'},\n",
       " {'corp_code': '00434447',\n",
       "  'corp_name': 'KTB장기증권저축펀드',\n",
       "  'stock_code': None,\n",
       "  'modify_date': '20170630'},\n",
       " {'corp_code': '00434517',\n",
       "  'corp_name': '삼성인덱스프리미엄주식형뮤추얼펀드',\n",
       "  'stock_code': None,\n",
       "  'modify_date': '20170630'},\n",
       " {'corp_code': '00434526',\n",
       "  'corp_name': 'KTB하이스타혼합형펀드',\n",
       "  'stock_code': None,\n",
       "  'modify_date': '20170630'},\n",
       " {'corp_code': '00433721',\n",
       "  'corp_name': '한국광학초자',\n",
       "  'stock_code': None,\n",
       "  'modify_date': '20170630'},\n",
       " {'corp_code': '00434207',\n",
       "  'corp_name': '광평개발',\n",
       "  'stock_code': None,\n",
       "  'modify_date': '20170630'},\n",
       " {'corp_code': '00434562',\n",
       "  'corp_name': 'KTB밸류스타혼합형펀드',\n",
       "  'stock_code': None,\n",
       "  'modify_date': '20170630'},\n",
       " {'corp_code': '00434571',\n",
       "  'corp_name': 'KTB글로벌스타주식형펀드',\n",
       "  'stock_code': None,\n",
       "  'modify_date': '20170630'},\n",
       " {'corp_code': '00434580',\n",
       "  'corp_name': 'KTB프라임4호주식형사모펀드',\n",
       "  'stock_code': None,\n",
       "  'modify_date': '20170630'},\n",
       " {'corp_code': '00434599',\n",
       "  'corp_name': 'KTB베스트바이혼합형펀드',\n",
       "  'stock_code': None,\n",
       "  'modify_date': '20170630'},\n",
       " {'corp_code': '00434605',\n",
       "  'corp_name': 'KTB하이턴펀드',\n",
       "  'stock_code': None,\n",
       "  'modify_date': '20170630'},\n",
       " {'corp_code': '00434614',\n",
       "  'corp_name': '마이다스A등급채권혼합형펀드',\n",
       "  'stock_code': None,\n",
       "  'modify_date': '20170630'},\n",
       " {'corp_code': '00435145',\n",
       "  'corp_name': '맥쿼리아이엠엠프라임3혼합형사모펀드',\n",
       "  'stock_code': None,\n",
       "  'modify_date': '20170630'},\n",
       " {'corp_code': '00396448',\n",
       "  'corp_name': '피이아이코리아사모엠엔에이일호펀드',\n",
       "  'stock_code': None,\n",
       "  'modify_date': '20170630'},\n",
       " {'corp_code': '00430937',\n",
       "  'corp_name': '아담소프트',\n",
       "  'stock_code': None,\n",
       "  'modify_date': '20170630'},\n",
       " {'corp_code': '00423034',\n",
       "  'corp_name': '피델리티펀드',\n",
       "  'stock_code': None,\n",
       "  'modify_date': '20170630'},\n",
       " {'corp_code': '00435127',\n",
       "  'corp_name': '유리크레디트채권혼합형펀드',\n",
       "  'stock_code': None,\n",
       "  'modify_date': '20170630'},\n",
       " {'corp_code': '00434544',\n",
       "  'corp_name': 'KTB프리미엄찬스혼합형펀드',\n",
       "  'stock_code': None,\n",
       "  'modify_date': '20170630'},\n",
       " {'corp_code': '00434553',\n",
       "  'corp_name': 'KTB에이스찬스혼합형펀드',\n",
       "  'stock_code': None,\n",
       "  'modify_date': '20170630'},\n",
       " {'corp_code': '00432050',\n",
       "  'corp_name': '다린정보',\n",
       "  'stock_code': None,\n",
       "  'modify_date': '20170630'},\n",
       " {'corp_code': '00344843',\n",
       "  'corp_name': '기보캐피탈제일차유동화전문유한회사',\n",
       "  'stock_code': None,\n",
       "  'modify_date': '20170630'},\n",
       " {'corp_code': '00371908',\n",
       "  'corp_name': '엘에스에프프로퍼티투유동화전문',\n",
       "  'stock_code': None,\n",
       "  'modify_date': '20170630'},\n",
       " {'corp_code': '00339090',\n",
       "  'corp_name': '온디지털테크',\n",
       "  'stock_code': None,\n",
       "  'modify_date': '20170630'},\n",
       " {'corp_code': '00337986',\n",
       "  'corp_name': '캐피탈그룹인터내셔널인코포레이티드',\n",
       "  'stock_code': None,\n",
       "  'modify_date': '20170630'},\n",
       " {'corp_code': '00206136',\n",
       "  'corp_name': '세림아이텍',\n",
       "  'stock_code': None,\n",
       "  'modify_date': '20170630'},\n",
       " {'corp_code': '00440411',\n",
       "  'corp_name': '코스유동화전문유한회사',\n",
       "  'stock_code': None,\n",
       "  'modify_date': '20170630'},\n",
       " {'corp_code': '00422309',\n",
       "  'corp_name': '뉴밀레니엄하나유동화전문유한회사',\n",
       "  'stock_code': None,\n",
       "  'modify_date': '20170630'},\n",
       " {'corp_code': '00439257',\n",
       "  'corp_name': '동양정보통신M&A',\n",
       "  'stock_code': None,\n",
       "  'modify_date': '20170630'},\n",
       " {'corp_code': '00439284',\n",
       "  'corp_name': '하이페리온제삼차유동화전문유한회사',\n",
       "  'stock_code': None,\n",
       "  'modify_date': '20170630'},\n",
       " {'corp_code': '00439424',\n",
       "  'corp_name': '코머스에셋',\n",
       "  'stock_code': None,\n",
       "  'modify_date': '20170630'},\n",
       " {'corp_code': '00435011',\n",
       "  'corp_name': '경동실업',\n",
       "  'stock_code': None,\n",
       "  'modify_date': '20170630'},\n",
       " {'corp_code': '00428525',\n",
       "  'corp_name': '에스티엑스제이차유동화전문유한회사',\n",
       "  'stock_code': None,\n",
       "  'modify_date': '20170630'},\n",
       " {'corp_code': '00427128',\n",
       "  'corp_name': '오일뱅크제삼차유동화전문유한회사',\n",
       "  'stock_code': None,\n",
       "  'modify_date': '20170630'},\n",
       " {'corp_code': '00428677',\n",
       "  'corp_name': '케이지브이제일차유동화전문유한회사',\n",
       "  'stock_code': None,\n",
       "  'modify_date': '20170630'},\n",
       " {'corp_code': '00436560',\n",
       "  'corp_name': '인성어패럴',\n",
       "  'stock_code': None,\n",
       "  'modify_date': '20170630'},\n",
       " {'corp_code': '00440697',\n",
       "  'corp_name': '소프티안',\n",
       "  'stock_code': None,\n",
       "  'modify_date': '20170630'},\n",
       " {'corp_code': '00439734',\n",
       "  'corp_name': '동양알미늄',\n",
       "  'stock_code': None,\n",
       "  'modify_date': '20170630'},\n",
       " {'corp_code': '00327387',\n",
       "  'corp_name': '소모페스트',\n",
       "  'stock_code': None,\n",
       "  'modify_date': '20170630'},\n",
       " {'corp_code': '00437611',\n",
       "  'corp_name': '젤존항공여행사',\n",
       "  'stock_code': None,\n",
       "  'modify_date': '20170630'},\n",
       " {'corp_code': '00321064',\n",
       "  'corp_name': '바이오엔비텍',\n",
       "  'stock_code': None,\n",
       "  'modify_date': '20170630'},\n",
       " {'corp_code': '00362557',\n",
       "  'corp_name': '세원반도체',\n",
       "  'stock_code': None,\n",
       "  'modify_date': '20170630'},\n",
       " {'corp_code': '00224105',\n",
       "  'corp_name': '두원그린피아',\n",
       "  'stock_code': None,\n",
       "  'modify_date': '20170630'},\n",
       " {'corp_code': '00447654',\n",
       "  'corp_name': '미도핸드백',\n",
       "  'stock_code': None,\n",
       "  'modify_date': '20170630'},\n",
       " {'corp_code': '00453169',\n",
       "  'corp_name': '대영테크',\n",
       "  'stock_code': None,\n",
       "  'modify_date': '20170630'},\n",
       " {'corp_code': '00371388',\n",
       "  'corp_name': '아이비젠',\n",
       "  'stock_code': None,\n",
       "  'modify_date': '20170630'},\n",
       " {'corp_code': '00144340',\n",
       "  'corp_name': '한화포리마',\n",
       "  'stock_code': None,\n",
       "  'modify_date': '20170630'},\n",
       " {'corp_code': '00437204',\n",
       "  'corp_name': '신케이에스유동화전문유한회사',\n",
       "  'stock_code': None,\n",
       "  'modify_date': '20170630'},\n",
       " {'corp_code': '00443302',\n",
       "  'corp_name': '프라임유동화전문유한회사',\n",
       "  'stock_code': None,\n",
       "  'modify_date': '20170630'},\n",
       " {'corp_code': '00436463',\n",
       "  'corp_name': '우영제일차유동화전문유한회사',\n",
       "  'stock_code': None,\n",
       "  'modify_date': '20170630'},\n",
       " {'corp_code': '00452692',\n",
       "  'corp_name': '한컴리눅스',\n",
       "  'stock_code': None,\n",
       "  'modify_date': '20170630'},\n",
       " {'corp_code': '00441739',\n",
       "  'corp_name': '두산건설제육유동화전문유한회사',\n",
       "  'stock_code': None,\n",
       "  'modify_date': '20170630'},\n",
       " {'corp_code': '00441669',\n",
       "  'corp_name': '산은부동산제팔차유동화전문유한회사',\n",
       "  'stock_code': None,\n",
       "  'modify_date': '20170630'},\n",
       " {'corp_code': '00436940',\n",
       "  'corp_name': '오토피아제칠차유동화전문유한회사',\n",
       "  'stock_code': None,\n",
       "  'modify_date': '20170630'},\n",
       " {'corp_code': '00436959',\n",
       "  'corp_name': '외환카드제팔차유동화전문유한회사',\n",
       "  'stock_code': None,\n",
       "  'modify_date': '20170630'},\n",
       " {'corp_code': '00427526',\n",
       "  'corp_name': '삼성신한아하론일차유동화전문유한회사',\n",
       "  'stock_code': None,\n",
       "  'modify_date': '20170630'},\n",
       " {'corp_code': '00264705',\n",
       "  'corp_name': '현대유동화전문유한회사',\n",
       "  'stock_code': None,\n",
       "  'modify_date': '20170630'},\n",
       " {'corp_code': '00387714',\n",
       "  'corp_name': '칼제일차유동화전문유한회사',\n",
       "  'stock_code': None,\n",
       "  'modify_date': '20170630'},\n",
       " {'corp_code': '00300946',\n",
       "  'corp_name': '백두건설',\n",
       "  'stock_code': None,\n",
       "  'modify_date': '20170630'},\n",
       " {'corp_code': '00402086',\n",
       "  'corp_name': '리엔텍',\n",
       "  'stock_code': None,\n",
       "  'modify_date': '20170630'},\n",
       " {'corp_code': '00452461',\n",
       "  'corp_name': '대양건설',\n",
       "  'stock_code': None,\n",
       "  'modify_date': '20170630'},\n",
       " {'corp_code': '00100948',\n",
       "  'corp_name': '건양콘크리트',\n",
       "  'stock_code': None,\n",
       "  'modify_date': '20170630'},\n",
       " {'corp_code': '00365572',\n",
       "  'corp_name': '맥스미디어',\n",
       "  'stock_code': None,\n",
       "  'modify_date': '20170630'},\n",
       " {'corp_code': '00400486',\n",
       "  'corp_name': '루넷',\n",
       "  'stock_code': None,\n",
       "  'modify_date': '20170630'},\n",
       " {'corp_code': '00417909',\n",
       "  'corp_name': '충일아스콘',\n",
       "  'stock_code': None,\n",
       "  'modify_date': '20170630'},\n",
       " {'corp_code': '00153816',\n",
       "  'corp_name': '태양연와공업',\n",
       "  'stock_code': None,\n",
       "  'modify_date': '20170630'},\n",
       " {'corp_code': '00414586',\n",
       "  'corp_name': '제동',\n",
       "  'stock_code': None,\n",
       "  'modify_date': '20170630'},\n",
       " {'corp_code': '00187637',\n",
       "  'corp_name': '농협축산유통',\n",
       "  'stock_code': None,\n",
       "  'modify_date': '20170630'},\n",
       " {'corp_code': '00415035',\n",
       "  'corp_name': '동서D&S',\n",
       "  'stock_code': None,\n",
       "  'modify_date': '20170630'},\n",
       " {'corp_code': '00235864',\n",
       "  'corp_name': '에스앤제이',\n",
       "  'stock_code': None,\n",
       "  'modify_date': '20170630'},\n",
       " {'corp_code': '00416043',\n",
       "  'corp_name': '창영물산',\n",
       "  'stock_code': None,\n",
       "  'modify_date': '20170630'},\n",
       " {'corp_code': '00174280',\n",
       "  'corp_name': '태화건설',\n",
       "  'stock_code': None,\n",
       "  'modify_date': '20170630'},\n",
       " {'corp_code': '00417352',\n",
       "  'corp_name': '동방코리아',\n",
       "  'stock_code': None,\n",
       "  'modify_date': '20170630'},\n",
       " {'corp_code': '00238223',\n",
       "  'corp_name': '영텍스타일',\n",
       "  'stock_code': None,\n",
       "  'modify_date': '20170630'},\n",
       " {'corp_code': '00248530',\n",
       "  'corp_name': '미진시스템',\n",
       "  'stock_code': None,\n",
       "  'modify_date': '20170630'},\n",
       " {'corp_code': '00234740',\n",
       "  'corp_name': '고려소재개발',\n",
       "  'stock_code': None,\n",
       "  'modify_date': '20170630'},\n",
       " {'corp_code': '00417565',\n",
       "  'corp_name': '아이앤알코리아기업구조조정전문',\n",
       "  'stock_code': None,\n",
       "  'modify_date': '20170630'},\n",
       " {'corp_code': '00192958',\n",
       "  'corp_name': '건륭실업',\n",
       "  'stock_code': None,\n",
       "  'modify_date': '20170630'},\n",
       " {'corp_code': '00387459',\n",
       "  'corp_name': '충주공용버스터미널',\n",
       "  'stock_code': None,\n",
       "  'modify_date': '20170630'},\n",
       " {'corp_code': '00415761',\n",
       "  'corp_name': '푸른도시개발',\n",
       "  'stock_code': None,\n",
       "  'modify_date': '20170630'},\n",
       " {'corp_code': '00404011',\n",
       "  'corp_name': '로고스이넷',\n",
       "  'stock_code': None,\n",
       "  'modify_date': '20170630'},\n",
       " {'corp_code': '00168553',\n",
       "  'corp_name': '대광종합건설',\n",
       "  'stock_code': None,\n",
       "  'modify_date': '20170630'},\n",
       " {'corp_code': '00309804',\n",
       "  'corp_name': '굿윌씨앤아이',\n",
       "  'stock_code': None,\n",
       "  'modify_date': '20170630'},\n",
       " {'corp_code': '00408600',\n",
       "  'corp_name': '아라아이디시',\n",
       "  'stock_code': None,\n",
       "  'modify_date': '20170630'},\n",
       " {'corp_code': '00418731',\n",
       "  'corp_name': '디엠아이디',\n",
       "  'stock_code': None,\n",
       "  'modify_date': '20170630'},\n",
       " {'corp_code': '00363121',\n",
       "  'corp_name': '웅보개발',\n",
       "  'stock_code': None,\n",
       "  'modify_date': '20170630'},\n",
       " {'corp_code': '00230577',\n",
       "  'corp_name': '광복산업개발',\n",
       "  'stock_code': None,\n",
       "  'modify_date': '20170630'},\n",
       " {'corp_code': '00295671',\n",
       "  'corp_name': '리빙티브이',\n",
       "  'stock_code': None,\n",
       "  'modify_date': '20170630'},\n",
       " {'corp_code': '00418759',\n",
       "  'corp_name': '산은부동산제삼차유동화전문유한회사',\n",
       "  'stock_code': None,\n",
       "  'modify_date': '20170630'},\n",
       " {'corp_code': '00211448',\n",
       "  'corp_name': '신라',\n",
       "  'stock_code': None,\n",
       "  'modify_date': '20170630'},\n",
       " {'corp_code': '00406170',\n",
       "  'corp_name': '글로만',\n",
       "  'stock_code': None,\n",
       "  'modify_date': '20170630'},\n",
       " {'corp_code': '00301060',\n",
       "  'corp_name': '서림개스실린더',\n",
       "  'stock_code': None,\n",
       "  'modify_date': '20170630'},\n",
       " {'corp_code': '00242350',\n",
       "  'corp_name': '파인에셋홀딩스',\n",
       "  'stock_code': None,\n",
       "  'modify_date': '20170630'},\n",
       " {'corp_code': '00134352',\n",
       "  'corp_name': '세일',\n",
       "  'stock_code': None,\n",
       "  'modify_date': '20170630'},\n",
       " {'corp_code': '00420569',\n",
       "  'corp_name': '한일밀라노.존',\n",
       "  'stock_code': None,\n",
       "  'modify_date': '20170630'},\n",
       " {'corp_code': '00422141',\n",
       "  'corp_name': '첼린저이차유동화전문유한회사',\n",
       "  'stock_code': None,\n",
       "  'modify_date': '20170630'},\n",
       " {'corp_code': '00422178',\n",
       "  'corp_name': '휴민텍',\n",
       "  'stock_code': None,\n",
       "  'modify_date': '20170630'},\n",
       " {'corp_code': '00419891',\n",
       "  'corp_name': '템플턴스트래티직이머징마켓츠펀드엘디씨',\n",
       "  'stock_code': None,\n",
       "  'modify_date': '20170630'},\n",
       " {'corp_code': '00419907',\n",
       "  'corp_name': '신한파이낸스',\n",
       "  'stock_code': None,\n",
       "  'modify_date': '20170630'},\n",
       " {'corp_code': '00310989',\n",
       "  'corp_name': '코오롱모터스',\n",
       "  'stock_code': None,\n",
       "  'modify_date': '20170630'},\n",
       " {'corp_code': '00420976',\n",
       "  'corp_name': '큐마트솔루션',\n",
       "  'stock_code': None,\n",
       "  'modify_date': '20170630'},\n",
       " {'corp_code': '00421072',\n",
       "  'corp_name': '나은미디어',\n",
       "  'stock_code': None,\n",
       "  'modify_date': '20170630'},\n",
       " {'corp_code': '00423706',\n",
       "  'corp_name': 'BystronicLaserAG',\n",
       "  'stock_code': None,\n",
       "  'modify_date': '20170630'},\n",
       " {'corp_code': '00384425',\n",
       "  'corp_name': '코브코유동화전문유한회사',\n",
       "  'stock_code': None,\n",
       "  'modify_date': '20170630'},\n",
       " {'corp_code': '00350297',\n",
       "  'corp_name': '칼스버그에이에스',\n",
       "  'stock_code': None,\n",
       "  'modify_date': '20170630'},\n",
       " {'corp_code': '00421124',\n",
       "  'corp_name': '아이엠씨마케팅',\n",
       "  'stock_code': None,\n",
       "  'modify_date': '20170630'},\n",
       " {'corp_code': '00434632',\n",
       "  'corp_name': '글로벌채권프리미엄혼합형펀드',\n",
       "  'stock_code': None,\n",
       "  'modify_date': '20170630'},\n",
       " {'corp_code': '00434650',\n",
       "  'corp_name': 'KTB밸류코스닥혼합형펀드',\n",
       "  'stock_code': None,\n",
       "  'modify_date': '20170630'},\n",
       " {'corp_code': '00434669',\n",
       "  'corp_name': 'KTB밸류코리아혼합형사모펀드',\n",
       "  'stock_code': None,\n",
       "  'modify_date': '20170630'},\n",
       " {'corp_code': '00434678',\n",
       "  'corp_name': '삼성팀파워90주식형뮤추얼펀드',\n",
       "  'stock_code': None,\n",
       "  'modify_date': '20170630'},\n",
       " {'corp_code': '00429658',\n",
       "  'corp_name': '스톰홀딩스',\n",
       "  'stock_code': None,\n",
       "  'modify_date': '20170630'},\n",
       " {'corp_code': '00118831',\n",
       "  'corp_name': '아이넥스테크놀로지',\n",
       "  'stock_code': None,\n",
       "  'modify_date': '20170630'},\n",
       " {'corp_code': '00205483',\n",
       "  'corp_name': '세종토건',\n",
       "  'stock_code': None,\n",
       "  'modify_date': '20170630'},\n",
       " {'corp_code': '00434492',\n",
       "  'corp_name': '부평유선방송',\n",
       "  'stock_code': None,\n",
       "  'modify_date': '20170630'},\n",
       " {'corp_code': '00435622',\n",
       "  'corp_name': 'KTB온누리혼합형펀드',\n",
       "  'stock_code': None,\n",
       "  'modify_date': '20170630'},\n",
       " ...]"
      ]
     },
     "execution_count": 453,
     "metadata": {},
     "output_type": "execute_result"
    }
   ],
   "source": [
    "company_codes"
   ]
  },
  {
   "cell_type": "code",
   "execution_count": 454,
   "id": "35f1c5f9",
   "metadata": {},
   "outputs": [],
   "source": [
    "names = ['카카오', '삼성전자', 'SK하이닉스', 'NAVER']"
   ]
  },
  {
   "cell_type": "code",
   "execution_count": 455,
   "id": "027a14be",
   "metadata": {},
   "outputs": [],
   "source": [
    "def find_by_name(name: str, data: list):\n",
    "    return next(item for item in data if item['corp_name'] == name and item['stock_code'] != None)"
   ]
  },
  {
   "cell_type": "code",
   "execution_count": 456,
   "id": "ec0ec068",
   "metadata": {},
   "outputs": [],
   "source": [
    "code_map = {x: find_by_name(x, company_codes) for x in names}"
   ]
  },
  {
   "cell_type": "code",
   "execution_count": 457,
   "id": "a41cf72f",
   "metadata": {},
   "outputs": [
    {
     "name": "stdout",
     "output_type": "stream",
     "text": [
      "카카오 : {'corp_code': '00258801', 'corp_name': '카카오', 'stock_code': '035720', 'modify_date': '20201204'}\n",
      "삼성전자 : {'corp_code': '00126380', 'corp_name': '삼성전자', 'stock_code': '005930', 'modify_date': '20210610'}\n",
      "SK하이닉스 : {'corp_code': '00164779', 'corp_name': 'SK하이닉스', 'stock_code': '000660', 'modify_date': '20210511'}\n",
      "NAVER : {'corp_code': '00266961', 'corp_name': 'NAVER', 'stock_code': '035420', 'modify_date': '20210512'}\n"
     ]
    }
   ],
   "source": [
    "for key, value in code_map.items():\n",
    "    print(key,\":\", value)"
   ]
  },
  {
   "cell_type": "code",
   "execution_count": 458,
   "id": "3e8f4f58",
   "metadata": {},
   "outputs": [],
   "source": [
    "url ='https://opendart.fss.or.kr/api/fnlttSinglAcntAll.json'"
   ]
  },
  {
   "cell_type": "code",
   "execution_count": 459,
   "id": "d6ef3024",
   "metadata": {},
   "outputs": [],
   "source": [
    "import pandas as pd"
   ]
  },
  {
   "cell_type": "code",
   "execution_count": 460,
   "id": "21bbfd47",
   "metadata": {},
   "outputs": [],
   "source": [
    "param = dict(BASE_PARAM)\n",
    "param['corp_code'] = '00126380' \n",
    "param['bsns_year'] = '2020'\n",
    "param['reprt_code'] = '11011' # 사업보고서\n",
    "param['fs_div'] = 'CFS'"
   ]
  },
  {
   "cell_type": "code",
   "execution_count": 461,
   "id": "6cf9f78f",
   "metadata": {},
   "outputs": [],
   "source": [
    "res = requests.get(url, params = param).json()"
   ]
  },
  {
   "cell_type": "code",
   "execution_count": 462,
   "id": "fde29892",
   "metadata": {},
   "outputs": [],
   "source": [
    "df = pd.DataFrame(res['list'])"
   ]
  },
  {
   "cell_type": "code",
   "execution_count": 463,
   "id": "23fcc62b",
   "metadata": {},
   "outputs": [
    {
     "data": {
      "text/plain": [
       "(209, 17)"
      ]
     },
     "execution_count": 463,
     "metadata": {},
     "output_type": "execute_result"
    }
   ],
   "source": [
    "df.shape"
   ]
  },
  {
   "cell_type": "code",
   "execution_count": 464,
   "id": "345a8741",
   "metadata": {},
   "outputs": [
    {
     "data": {
      "text/plain": [
       "Index(['rcept_no', 'reprt_code', 'bsns_year', 'corp_code', 'sj_div', 'sj_nm',\n",
       "       'account_id', 'account_nm', 'account_detail', 'thstrm_nm',\n",
       "       'thstrm_amount', 'frmtrm_nm', 'frmtrm_amount', 'bfefrmtrm_nm',\n",
       "       'bfefrmtrm_amount', 'ord', 'thstrm_add_amount'],\n",
       "      dtype='object')"
      ]
     },
     "execution_count": 464,
     "metadata": {},
     "output_type": "execute_result"
    }
   ],
   "source": [
    "df.columns"
   ]
  },
  {
   "cell_type": "code",
   "execution_count": 465,
   "id": "c0f1d757",
   "metadata": {},
   "outputs": [
    {
     "data": {
      "text/html": [
       "<div>\n",
       "<style scoped>\n",
       "    .dataframe tbody tr th:only-of-type {\n",
       "        vertical-align: middle;\n",
       "    }\n",
       "\n",
       "    .dataframe tbody tr th {\n",
       "        vertical-align: top;\n",
       "    }\n",
       "\n",
       "    .dataframe thead th {\n",
       "        text-align: right;\n",
       "    }\n",
       "</style>\n",
       "<table border=\"1\" class=\"dataframe\">\n",
       "  <thead>\n",
       "    <tr style=\"text-align: right;\">\n",
       "      <th></th>\n",
       "      <th>rcept_no</th>\n",
       "      <th>reprt_code</th>\n",
       "      <th>bsns_year</th>\n",
       "      <th>corp_code</th>\n",
       "      <th>sj_div</th>\n",
       "      <th>sj_nm</th>\n",
       "      <th>account_id</th>\n",
       "      <th>account_nm</th>\n",
       "      <th>account_detail</th>\n",
       "      <th>thstrm_nm</th>\n",
       "      <th>thstrm_amount</th>\n",
       "      <th>frmtrm_nm</th>\n",
       "      <th>frmtrm_amount</th>\n",
       "      <th>bfefrmtrm_nm</th>\n",
       "      <th>bfefrmtrm_amount</th>\n",
       "      <th>ord</th>\n",
       "      <th>thstrm_add_amount</th>\n",
       "    </tr>\n",
       "  </thead>\n",
       "  <tbody>\n",
       "    <tr>\n",
       "      <th>0</th>\n",
       "      <td>20210309000744</td>\n",
       "      <td>11011</td>\n",
       "      <td>2020</td>\n",
       "      <td>00126380</td>\n",
       "      <td>BS</td>\n",
       "      <td>재무상태표</td>\n",
       "      <td>ifrs-full_CurrentAssets</td>\n",
       "      <td>유동자산</td>\n",
       "      <td>-</td>\n",
       "      <td>제 52 기</td>\n",
       "      <td>198215579000000</td>\n",
       "      <td>제 51 기</td>\n",
       "      <td>181385260000000</td>\n",
       "      <td>제 50 기</td>\n",
       "      <td>174697424000000</td>\n",
       "      <td>1</td>\n",
       "      <td>NaN</td>\n",
       "    </tr>\n",
       "    <tr>\n",
       "      <th>1</th>\n",
       "      <td>20210309000744</td>\n",
       "      <td>11011</td>\n",
       "      <td>2020</td>\n",
       "      <td>00126380</td>\n",
       "      <td>BS</td>\n",
       "      <td>재무상태표</td>\n",
       "      <td>ifrs-full_CashAndCashEquivalents</td>\n",
       "      <td>현금및현금성자산</td>\n",
       "      <td>-</td>\n",
       "      <td>제 52 기</td>\n",
       "      <td>29382578000000</td>\n",
       "      <td>제 51 기</td>\n",
       "      <td>26885999000000</td>\n",
       "      <td>제 50 기</td>\n",
       "      <td>30340505000000</td>\n",
       "      <td>2</td>\n",
       "      <td>NaN</td>\n",
       "    </tr>\n",
       "    <tr>\n",
       "      <th>2</th>\n",
       "      <td>20210309000744</td>\n",
       "      <td>11011</td>\n",
       "      <td>2020</td>\n",
       "      <td>00126380</td>\n",
       "      <td>BS</td>\n",
       "      <td>재무상태표</td>\n",
       "      <td>dart_ShortTermDepositsNotClassifiedAsCashEquiv...</td>\n",
       "      <td>단기금융상품</td>\n",
       "      <td>-</td>\n",
       "      <td>제 52 기</td>\n",
       "      <td>92441703000000</td>\n",
       "      <td>제 51 기</td>\n",
       "      <td>76252052000000</td>\n",
       "      <td>제 50 기</td>\n",
       "      <td>65893797000000</td>\n",
       "      <td>3</td>\n",
       "      <td>NaN</td>\n",
       "    </tr>\n",
       "    <tr>\n",
       "      <th>3</th>\n",
       "      <td>20210309000744</td>\n",
       "      <td>11011</td>\n",
       "      <td>2020</td>\n",
       "      <td>00126380</td>\n",
       "      <td>BS</td>\n",
       "      <td>재무상태표</td>\n",
       "      <td>-표준계정코드 미사용-</td>\n",
       "      <td>단기상각후원가금융자산</td>\n",
       "      <td>-</td>\n",
       "      <td>제 52 기</td>\n",
       "      <td>2757111000000</td>\n",
       "      <td>제 51 기</td>\n",
       "      <td>3914216000000</td>\n",
       "      <td>제 50 기</td>\n",
       "      <td>2703693000000</td>\n",
       "      <td>4</td>\n",
       "      <td>NaN</td>\n",
       "    </tr>\n",
       "    <tr>\n",
       "      <th>4</th>\n",
       "      <td>20210309000744</td>\n",
       "      <td>11011</td>\n",
       "      <td>2020</td>\n",
       "      <td>00126380</td>\n",
       "      <td>BS</td>\n",
       "      <td>재무상태표</td>\n",
       "      <td>ifrs-full_CurrentFinancialAssetsAtFairValueThr...</td>\n",
       "      <td>단기당기손익-공정가치금융자산</td>\n",
       "      <td>-</td>\n",
       "      <td>제 52 기</td>\n",
       "      <td>71451000000</td>\n",
       "      <td>제 51 기</td>\n",
       "      <td>1727436000000</td>\n",
       "      <td>제 50 기</td>\n",
       "      <td>2001948000000</td>\n",
       "      <td>5</td>\n",
       "      <td>NaN</td>\n",
       "    </tr>\n",
       "  </tbody>\n",
       "</table>\n",
       "</div>"
      ],
      "text/plain": [
       "         rcept_no reprt_code bsns_year corp_code sj_div  sj_nm  \\\n",
       "0  20210309000744      11011      2020  00126380     BS  재무상태표   \n",
       "1  20210309000744      11011      2020  00126380     BS  재무상태표   \n",
       "2  20210309000744      11011      2020  00126380     BS  재무상태표   \n",
       "3  20210309000744      11011      2020  00126380     BS  재무상태표   \n",
       "4  20210309000744      11011      2020  00126380     BS  재무상태표   \n",
       "\n",
       "                                          account_id       account_nm  \\\n",
       "0                            ifrs-full_CurrentAssets             유동자산   \n",
       "1                   ifrs-full_CashAndCashEquivalents         현금및현금성자산   \n",
       "2  dart_ShortTermDepositsNotClassifiedAsCashEquiv...           단기금융상품   \n",
       "3                                       -표준계정코드 미사용-      단기상각후원가금융자산   \n",
       "4  ifrs-full_CurrentFinancialAssetsAtFairValueThr...  단기당기손익-공정가치금융자산   \n",
       "\n",
       "  account_detail thstrm_nm    thstrm_amount frmtrm_nm    frmtrm_amount  \\\n",
       "0              -    제 52 기  198215579000000    제 51 기  181385260000000   \n",
       "1              -    제 52 기   29382578000000    제 51 기   26885999000000   \n",
       "2              -    제 52 기   92441703000000    제 51 기   76252052000000   \n",
       "3              -    제 52 기    2757111000000    제 51 기    3914216000000   \n",
       "4              -    제 52 기      71451000000    제 51 기    1727436000000   \n",
       "\n",
       "  bfefrmtrm_nm bfefrmtrm_amount ord thstrm_add_amount  \n",
       "0       제 50 기  174697424000000   1               NaN  \n",
       "1       제 50 기   30340505000000   2               NaN  \n",
       "2       제 50 기   65893797000000   3               NaN  \n",
       "3       제 50 기    2703693000000   4               NaN  \n",
       "4       제 50 기    2001948000000   5               NaN  "
      ]
     },
     "execution_count": 465,
     "metadata": {},
     "output_type": "execute_result"
    }
   ],
   "source": [
    "df.head()"
   ]
  },
  {
   "cell_type": "code",
   "execution_count": 466,
   "id": "5d09463f",
   "metadata": {},
   "outputs": [
    {
     "name": "stdout",
     "output_type": "stream",
     "text": [
      "현금흐름위험회피파생상품평가손익\n",
      "영업활동 현금흐름\n",
      "영업에서 창출된 현금흐름\n",
      "투자활동 현금흐름\n",
      "재무활동 현금흐름\n",
      "현금흐름위험회피파생상품평가손익\n",
      "현금흐름위험회피파생상품평가손익\n",
      "현금흐름위험회피파생상품평가손익\n"
     ]
    }
   ],
   "source": [
    "for account in df['account_nm']:\n",
    "    if \"현금흐름\" in account: # 찾고싶은 단어 넣기\n",
    "        print(account)"
   ]
  },
  {
   "cell_type": "code",
   "execution_count": 467,
   "id": "901135fc",
   "metadata": {},
   "outputs": [],
   "source": [
    "account_list = ['수익(매출액)','영업이익','영업활동 현금흐름']"
   ]
  },
  {
   "cell_type": "code",
   "execution_count": 468,
   "id": "a7443711",
   "metadata": {},
   "outputs": [
    {
     "data": {
      "text/html": [
       "<div>\n",
       "<style scoped>\n",
       "    .dataframe tbody tr th:only-of-type {\n",
       "        vertical-align: middle;\n",
       "    }\n",
       "\n",
       "    .dataframe tbody tr th {\n",
       "        vertical-align: top;\n",
       "    }\n",
       "\n",
       "    .dataframe thead th {\n",
       "        text-align: right;\n",
       "    }\n",
       "</style>\n",
       "<table border=\"1\" class=\"dataframe\">\n",
       "  <thead>\n",
       "    <tr style=\"text-align: right;\">\n",
       "      <th></th>\n",
       "      <th>rcept_no</th>\n",
       "      <th>reprt_code</th>\n",
       "      <th>bsns_year</th>\n",
       "      <th>corp_code</th>\n",
       "      <th>sj_div</th>\n",
       "      <th>sj_nm</th>\n",
       "      <th>account_id</th>\n",
       "      <th>account_nm</th>\n",
       "      <th>account_detail</th>\n",
       "      <th>thstrm_nm</th>\n",
       "      <th>thstrm_amount</th>\n",
       "      <th>frmtrm_nm</th>\n",
       "      <th>frmtrm_amount</th>\n",
       "      <th>bfefrmtrm_nm</th>\n",
       "      <th>bfefrmtrm_amount</th>\n",
       "      <th>ord</th>\n",
       "      <th>thstrm_add_amount</th>\n",
       "    </tr>\n",
       "  </thead>\n",
       "  <tbody>\n",
       "    <tr>\n",
       "      <th>67</th>\n",
       "      <td>20210309000744</td>\n",
       "      <td>11011</td>\n",
       "      <td>2020</td>\n",
       "      <td>00126380</td>\n",
       "      <td>IS</td>\n",
       "      <td>손익계산서</td>\n",
       "      <td>ifrs-full_ProfitLoss</td>\n",
       "      <td>당기순이익(손실)</td>\n",
       "      <td>-</td>\n",
       "      <td>제 52 기</td>\n",
       "      <td>26407832000000</td>\n",
       "      <td>제 51 기</td>\n",
       "      <td>21738865000000</td>\n",
       "      <td>제 50 기</td>\n",
       "      <td>44344857000000</td>\n",
       "      <td>13</td>\n",
       "      <td></td>\n",
       "    </tr>\n",
       "    <tr>\n",
       "      <th>72</th>\n",
       "      <td>20210309000744</td>\n",
       "      <td>11011</td>\n",
       "      <td>2020</td>\n",
       "      <td>00126380</td>\n",
       "      <td>CIS</td>\n",
       "      <td>포괄손익계산서</td>\n",
       "      <td>ifrs-full_ProfitLoss</td>\n",
       "      <td>당기순이익(손실)</td>\n",
       "      <td>-</td>\n",
       "      <td>제 52 기</td>\n",
       "      <td>26407832000000</td>\n",
       "      <td>제 51 기</td>\n",
       "      <td>21738865000000</td>\n",
       "      <td>제 50 기</td>\n",
       "      <td>44344857000000</td>\n",
       "      <td>0</td>\n",
       "      <td></td>\n",
       "    </tr>\n",
       "    <tr>\n",
       "      <th>150</th>\n",
       "      <td>20210309000744</td>\n",
       "      <td>11011</td>\n",
       "      <td>2020</td>\n",
       "      <td>00126380</td>\n",
       "      <td>SCE</td>\n",
       "      <td>자본변동표</td>\n",
       "      <td>ifrs-full_ProfitLoss</td>\n",
       "      <td>당기순이익(손실)</td>\n",
       "      <td>연결재무제표 [member]</td>\n",
       "      <td>제 52 기</td>\n",
       "      <td>26407832000000</td>\n",
       "      <td>제 51 기</td>\n",
       "      <td>21738865000000</td>\n",
       "      <td>제 50 기</td>\n",
       "      <td>44344857000000</td>\n",
       "      <td>4</td>\n",
       "      <td>NaN</td>\n",
       "    </tr>\n",
       "    <tr>\n",
       "      <th>151</th>\n",
       "      <td>20210309000744</td>\n",
       "      <td>11011</td>\n",
       "      <td>2020</td>\n",
       "      <td>00126380</td>\n",
       "      <td>SCE</td>\n",
       "      <td>자본변동표</td>\n",
       "      <td>ifrs-full_ProfitLoss</td>\n",
       "      <td>당기순이익(손실)</td>\n",
       "      <td>자본 [member]|비지배지분 [member]</td>\n",
       "      <td>제 52 기</td>\n",
       "      <td>316986000000</td>\n",
       "      <td>제 51 기</td>\n",
       "      <td>233811000000</td>\n",
       "      <td>제 50 기</td>\n",
       "      <td>453980000000</td>\n",
       "      <td>4</td>\n",
       "      <td>NaN</td>\n",
       "    </tr>\n",
       "    <tr>\n",
       "      <th>152</th>\n",
       "      <td>20210309000744</td>\n",
       "      <td>11011</td>\n",
       "      <td>2020</td>\n",
       "      <td>00126380</td>\n",
       "      <td>SCE</td>\n",
       "      <td>자본변동표</td>\n",
       "      <td>ifrs-full_ProfitLoss</td>\n",
       "      <td>당기순이익(손실)</td>\n",
       "      <td>자본 [member]|지배기업 소유주지분</td>\n",
       "      <td>제 52 기</td>\n",
       "      <td>26090846000000</td>\n",
       "      <td>제 51 기</td>\n",
       "      <td>21505054000000</td>\n",
       "      <td>제 50 기</td>\n",
       "      <td>43890877000000</td>\n",
       "      <td>4</td>\n",
       "      <td>NaN</td>\n",
       "    </tr>\n",
       "    <tr>\n",
       "      <th>153</th>\n",
       "      <td>20210309000744</td>\n",
       "      <td>11011</td>\n",
       "      <td>2020</td>\n",
       "      <td>00126380</td>\n",
       "      <td>SCE</td>\n",
       "      <td>자본변동표</td>\n",
       "      <td>ifrs-full_ProfitLoss</td>\n",
       "      <td>당기순이익(손실)</td>\n",
       "      <td>자본 [member]|지배기업 소유주지분|이익잉여금 [member]</td>\n",
       "      <td>제 52 기</td>\n",
       "      <td>26090846000000</td>\n",
       "      <td>제 51 기</td>\n",
       "      <td>21505054000000</td>\n",
       "      <td>제 50 기</td>\n",
       "      <td>43890877000000</td>\n",
       "      <td>4</td>\n",
       "      <td>NaN</td>\n",
       "    </tr>\n",
       "  </tbody>\n",
       "</table>\n",
       "</div>"
      ],
      "text/plain": [
       "           rcept_no reprt_code bsns_year corp_code sj_div    sj_nm  \\\n",
       "67   20210309000744      11011      2020  00126380     IS    손익계산서   \n",
       "72   20210309000744      11011      2020  00126380    CIS  포괄손익계산서   \n",
       "150  20210309000744      11011      2020  00126380    SCE    자본변동표   \n",
       "151  20210309000744      11011      2020  00126380    SCE    자본변동표   \n",
       "152  20210309000744      11011      2020  00126380    SCE    자본변동표   \n",
       "153  20210309000744      11011      2020  00126380    SCE    자본변동표   \n",
       "\n",
       "               account_id account_nm                         account_detail  \\\n",
       "67   ifrs-full_ProfitLoss  당기순이익(손실)                                      -   \n",
       "72   ifrs-full_ProfitLoss  당기순이익(손실)                                      -   \n",
       "150  ifrs-full_ProfitLoss  당기순이익(손실)                        연결재무제표 [member]   \n",
       "151  ifrs-full_ProfitLoss  당기순이익(손실)             자본 [member]|비지배지분 [member]   \n",
       "152  ifrs-full_ProfitLoss  당기순이익(손실)                 자본 [member]|지배기업 소유주지분   \n",
       "153  ifrs-full_ProfitLoss  당기순이익(손실)  자본 [member]|지배기업 소유주지분|이익잉여금 [member]   \n",
       "\n",
       "    thstrm_nm   thstrm_amount frmtrm_nm   frmtrm_amount bfefrmtrm_nm  \\\n",
       "67     제 52 기  26407832000000    제 51 기  21738865000000       제 50 기   \n",
       "72     제 52 기  26407832000000    제 51 기  21738865000000       제 50 기   \n",
       "150    제 52 기  26407832000000    제 51 기  21738865000000       제 50 기   \n",
       "151    제 52 기    316986000000    제 51 기    233811000000       제 50 기   \n",
       "152    제 52 기  26090846000000    제 51 기  21505054000000       제 50 기   \n",
       "153    제 52 기  26090846000000    제 51 기  21505054000000       제 50 기   \n",
       "\n",
       "    bfefrmtrm_amount ord thstrm_add_amount  \n",
       "67    44344857000000  13                    \n",
       "72    44344857000000   0                    \n",
       "150   44344857000000   4               NaN  \n",
       "151     453980000000   4               NaN  \n",
       "152   43890877000000   4               NaN  \n",
       "153   43890877000000   4               NaN  "
      ]
     },
     "execution_count": 468,
     "metadata": {},
     "output_type": "execute_result"
    }
   ],
   "source": [
    "df[df['account_nm'] == '당기순이익(손실)']"
   ]
  },
  {
   "cell_type": "code",
   "execution_count": 469,
   "id": "994ec74b",
   "metadata": {
    "scrolled": false
   },
   "outputs": [
    {
     "data": {
      "text/html": [
       "<div>\n",
       "<style scoped>\n",
       "    .dataframe tbody tr th:only-of-type {\n",
       "        vertical-align: middle;\n",
       "    }\n",
       "\n",
       "    .dataframe tbody tr th {\n",
       "        vertical-align: top;\n",
       "    }\n",
       "\n",
       "    .dataframe thead th {\n",
       "        text-align: right;\n",
       "    }\n",
       "</style>\n",
       "<table border=\"1\" class=\"dataframe\">\n",
       "  <thead>\n",
       "    <tr style=\"text-align: right;\">\n",
       "      <th></th>\n",
       "      <th>rcept_no</th>\n",
       "      <th>reprt_code</th>\n",
       "      <th>bsns_year</th>\n",
       "      <th>corp_code</th>\n",
       "      <th>sj_div</th>\n",
       "      <th>sj_nm</th>\n",
       "      <th>account_id</th>\n",
       "      <th>account_nm</th>\n",
       "      <th>account_detail</th>\n",
       "      <th>thstrm_nm</th>\n",
       "      <th>thstrm_amount</th>\n",
       "      <th>frmtrm_nm</th>\n",
       "      <th>frmtrm_amount</th>\n",
       "      <th>bfefrmtrm_nm</th>\n",
       "      <th>bfefrmtrm_amount</th>\n",
       "      <th>ord</th>\n",
       "      <th>thstrm_add_amount</th>\n",
       "    </tr>\n",
       "  </thead>\n",
       "  <tbody>\n",
       "    <tr>\n",
       "      <th>85</th>\n",
       "      <td>20210309000744</td>\n",
       "      <td>11011</td>\n",
       "      <td>2020</td>\n",
       "      <td>00126380</td>\n",
       "      <td>CF</td>\n",
       "      <td>현금흐름표</td>\n",
       "      <td>ifrs-full_CashFlowsFromUsedInOperatingActivities</td>\n",
       "      <td>영업활동 현금흐름</td>\n",
       "      <td>-</td>\n",
       "      <td>제 52 기</td>\n",
       "      <td>65287009000000</td>\n",
       "      <td>제 51 기</td>\n",
       "      <td>45382915000000</td>\n",
       "      <td>제 50 기</td>\n",
       "      <td>67031863000000</td>\n",
       "      <td>0</td>\n",
       "      <td>NaN</td>\n",
       "    </tr>\n",
       "  </tbody>\n",
       "</table>\n",
       "</div>"
      ],
      "text/plain": [
       "          rcept_no reprt_code bsns_year corp_code sj_div  sj_nm  \\\n",
       "85  20210309000744      11011      2020  00126380     CF  현금흐름표   \n",
       "\n",
       "                                          account_id account_nm  \\\n",
       "85  ifrs-full_CashFlowsFromUsedInOperatingActivities  영업활동 현금흐름   \n",
       "\n",
       "   account_detail thstrm_nm   thstrm_amount frmtrm_nm   frmtrm_amount  \\\n",
       "85              -    제 52 기  65287009000000    제 51 기  45382915000000   \n",
       "\n",
       "   bfefrmtrm_nm bfefrmtrm_amount ord thstrm_add_amount  \n",
       "85       제 50 기   67031863000000   0               NaN  "
      ]
     },
     "execution_count": 469,
     "metadata": {},
     "output_type": "execute_result"
    }
   ],
   "source": [
    "df[df['account_nm'] == account_list[2]]"
   ]
  },
  {
   "cell_type": "code",
   "execution_count": 470,
   "id": "0401ac82",
   "metadata": {},
   "outputs": [
    {
     "data": {
      "text/plain": [
       "[243771415000000.0, 230400881000000.0, 236806988000000.0]"
      ]
     },
     "execution_count": 470,
     "metadata": {},
     "output_type": "execute_result"
    }
   ],
   "source": [
    "# 수익(매출액)\n",
    "sales_list = []\n",
    "sales_list.append(float(df[df['account_nm'] == account_list[0]]['bfefrmtrm_amount'].iloc[0]))\n",
    "sales_list.append(float(df[df['account_nm'] == account_list[0]]['frmtrm_amount'].iloc[0]))\n",
    "sales_list.append(float(df[df['account_nm'] == account_list[0]]['thstrm_amount'].iloc[0]))\n",
    "\n",
    "sales_list"
   ]
  },
  {
   "cell_type": "code",
   "execution_count": 471,
   "id": "400a8bf7",
   "metadata": {},
   "outputs": [
    {
     "data": {
      "text/plain": [
       "{'2018': 243771415000000.0,\n",
       " '2019': 230400881000000.0,\n",
       " '2020': 236806988000000.0}"
      ]
     },
     "execution_count": 471,
     "metadata": {},
     "output_type": "execute_result"
    }
   ],
   "source": [
    "sales_dict = {}\n",
    "sales_dict['2018'] = float(df[df['account_nm'] == account_list[0]]['bfefrmtrm_amount'].iloc[0])\n",
    "sales_dict['2019'] = float(df[df['account_nm'] == account_list[0]]['frmtrm_amount'].iloc[0])\n",
    "sales_dict['2020'] = float(df[df['account_nm'] == account_list[0]]['thstrm_amount'].iloc[0])\n",
    "\n",
    "sales_dict"
   ]
  },
  {
   "cell_type": "code",
   "execution_count": 472,
   "id": "088d9453",
   "metadata": {},
   "outputs": [
    {
     "data": {
      "text/plain": [
       "236806988000000.0"
      ]
     },
     "execution_count": 472,
     "metadata": {},
     "output_type": "execute_result"
    }
   ],
   "source": [
    "float(df[df['account_nm'] == account_list[0]]['thstrm_amount'].iloc[0])"
   ]
  },
  {
   "cell_type": "code",
   "execution_count": 473,
   "id": "083b32a5",
   "metadata": {},
   "outputs": [
    {
     "data": {
      "text/plain": [
       "{'2018': 58886669000000.0, '2019': 27768509000000.0, '2020': 35993876000000.0}"
      ]
     },
     "execution_count": 473,
     "metadata": {},
     "output_type": "execute_result"
    }
   ],
   "source": [
    "# 영업이익\n",
    "profit_dict = {}\n",
    "profit_dict['2018'] = float(df[df['account_nm'] == account_list[1]]['bfefrmtrm_amount'].iloc[0])\n",
    "profit_dict['2019'] = float(df[df['account_nm'] == account_list[1]]['frmtrm_amount'].iloc[0])\n",
    "profit_dict['2020'] = float(df[df['account_nm'] == account_list[1]]['thstrm_amount'].iloc[0])\n",
    "\n",
    "profit_dict"
   ]
  },
  {
   "cell_type": "code",
   "execution_count": 474,
   "id": "2ac961e5",
   "metadata": {},
   "outputs": [
    {
     "data": {
      "text/plain": [
       "{'2018': 67031863000000.0, '2019': 45382915000000.0, '2020': 65287009000000.0}"
      ]
     },
     "execution_count": 474,
     "metadata": {},
     "output_type": "execute_result"
    }
   ],
   "source": [
    "# 영업활동 현금흐름\n",
    "ocf_dict = {}\n",
    "ocf_dict['2018'] = float(df[df['account_nm'] == account_list[2]]['bfefrmtrm_amount'].iloc[0])\n",
    "ocf_dict['2019'] = float(df[df['account_nm'] == account_list[2]]['frmtrm_amount'].iloc[0])\n",
    "ocf_dict['2020'] = float(df[df['account_nm'] == account_list[2]]['thstrm_amount'].iloc[0])\n",
    "\n",
    "ocf_dict"
   ]
  },
  {
   "cell_type": "code",
   "execution_count": 475,
   "id": "be70d401",
   "metadata": {},
   "outputs": [],
   "source": [
    "import plotly.express as px\n",
    "import plotly.graph_objects as go"
   ]
  },
  {
   "cell_type": "code",
   "execution_count": 476,
   "id": "eae1e07c",
   "metadata": {},
   "outputs": [
    {
     "data": {
      "text/plain": [
       "['2018', '2019', '2020']"
      ]
     },
     "execution_count": 476,
     "metadata": {},
     "output_type": "execute_result"
    }
   ],
   "source": [
    "list( sales_dict.keys() )"
   ]
  },
  {
   "cell_type": "code",
   "execution_count": 477,
   "id": "d23e5f76",
   "metadata": {},
   "outputs": [
    {
     "data": {
      "text/html": [
       "<div>\n",
       "<style scoped>\n",
       "    .dataframe tbody tr th:only-of-type {\n",
       "        vertical-align: middle;\n",
       "    }\n",
       "\n",
       "    .dataframe tbody tr th {\n",
       "        vertical-align: top;\n",
       "    }\n",
       "\n",
       "    .dataframe thead th {\n",
       "        text-align: right;\n",
       "    }\n",
       "</style>\n",
       "<table border=\"1\" class=\"dataframe\">\n",
       "  <thead>\n",
       "    <tr style=\"text-align: right;\">\n",
       "      <th></th>\n",
       "      <th>Year</th>\n",
       "      <th>Value</th>\n",
       "    </tr>\n",
       "  </thead>\n",
       "  <tbody>\n",
       "    <tr>\n",
       "      <th>0</th>\n",
       "      <td>2018</td>\n",
       "      <td>2.437714e+14</td>\n",
       "    </tr>\n",
       "    <tr>\n",
       "      <th>1</th>\n",
       "      <td>2019</td>\n",
       "      <td>2.304009e+14</td>\n",
       "    </tr>\n",
       "    <tr>\n",
       "      <th>2</th>\n",
       "      <td>2020</td>\n",
       "      <td>2.368070e+14</td>\n",
       "    </tr>\n",
       "  </tbody>\n",
       "</table>\n",
       "</div>"
      ],
      "text/plain": [
       "   Year         Value\n",
       "0  2018  2.437714e+14\n",
       "1  2019  2.304009e+14\n",
       "2  2020  2.368070e+14"
      ]
     },
     "execution_count": 477,
     "metadata": {},
     "output_type": "execute_result"
    }
   ],
   "source": [
    "df = pd.DataFrame()\n",
    "df['Year'] = sales_dict.keys()\n",
    "df['Value'] = sales_dict.values()\n",
    "\n",
    "df"
   ]
  },
  {
   "cell_type": "code",
   "execution_count": 478,
   "id": "08704ab5",
   "metadata": {},
   "outputs": [
    {
     "data": {
      "application/vnd.plotly.v1+json": {
       "config": {
        "plotlyServerURL": "https://plot.ly"
       },
       "data": [
        {
         "alignmentgroup": "True",
         "hovertemplate": "연도=%{x}<br>매출액=%{y}<extra></extra>",
         "legendgroup": "",
         "marker": {
          "color": "#636efa",
          "pattern": {
           "shape": ""
          }
         },
         "name": "",
         "offsetgroup": "",
         "orientation": "v",
         "showlegend": false,
         "textposition": "auto",
         "type": "bar",
         "x": [
          "2018",
          "2019",
          "2020"
         ],
         "xaxis": "x",
         "y": [
          243771415000000,
          230400881000000,
          236806988000000
         ],
         "yaxis": "y"
        }
       ],
       "layout": {
        "barmode": "relative",
        "legend": {
         "tracegroupgap": 0
        },
        "margin": {
         "t": 60
        },
        "template": {
         "data": {
          "bar": [
           {
            "error_x": {
             "color": "#2a3f5f"
            },
            "error_y": {
             "color": "#2a3f5f"
            },
            "marker": {
             "line": {
              "color": "#E5ECF6",
              "width": 0.5
             },
             "pattern": {
              "fillmode": "overlay",
              "size": 10,
              "solidity": 0.2
             }
            },
            "type": "bar"
           }
          ],
          "barpolar": [
           {
            "marker": {
             "line": {
              "color": "#E5ECF6",
              "width": 0.5
             },
             "pattern": {
              "fillmode": "overlay",
              "size": 10,
              "solidity": 0.2
             }
            },
            "type": "barpolar"
           }
          ],
          "carpet": [
           {
            "aaxis": {
             "endlinecolor": "#2a3f5f",
             "gridcolor": "white",
             "linecolor": "white",
             "minorgridcolor": "white",
             "startlinecolor": "#2a3f5f"
            },
            "baxis": {
             "endlinecolor": "#2a3f5f",
             "gridcolor": "white",
             "linecolor": "white",
             "minorgridcolor": "white",
             "startlinecolor": "#2a3f5f"
            },
            "type": "carpet"
           }
          ],
          "choropleth": [
           {
            "colorbar": {
             "outlinewidth": 0,
             "ticks": ""
            },
            "type": "choropleth"
           }
          ],
          "contour": [
           {
            "colorbar": {
             "outlinewidth": 0,
             "ticks": ""
            },
            "colorscale": [
             [
              0,
              "#0d0887"
             ],
             [
              0.1111111111111111,
              "#46039f"
             ],
             [
              0.2222222222222222,
              "#7201a8"
             ],
             [
              0.3333333333333333,
              "#9c179e"
             ],
             [
              0.4444444444444444,
              "#bd3786"
             ],
             [
              0.5555555555555556,
              "#d8576b"
             ],
             [
              0.6666666666666666,
              "#ed7953"
             ],
             [
              0.7777777777777778,
              "#fb9f3a"
             ],
             [
              0.8888888888888888,
              "#fdca26"
             ],
             [
              1,
              "#f0f921"
             ]
            ],
            "type": "contour"
           }
          ],
          "contourcarpet": [
           {
            "colorbar": {
             "outlinewidth": 0,
             "ticks": ""
            },
            "type": "contourcarpet"
           }
          ],
          "heatmap": [
           {
            "colorbar": {
             "outlinewidth": 0,
             "ticks": ""
            },
            "colorscale": [
             [
              0,
              "#0d0887"
             ],
             [
              0.1111111111111111,
              "#46039f"
             ],
             [
              0.2222222222222222,
              "#7201a8"
             ],
             [
              0.3333333333333333,
              "#9c179e"
             ],
             [
              0.4444444444444444,
              "#bd3786"
             ],
             [
              0.5555555555555556,
              "#d8576b"
             ],
             [
              0.6666666666666666,
              "#ed7953"
             ],
             [
              0.7777777777777778,
              "#fb9f3a"
             ],
             [
              0.8888888888888888,
              "#fdca26"
             ],
             [
              1,
              "#f0f921"
             ]
            ],
            "type": "heatmap"
           }
          ],
          "heatmapgl": [
           {
            "colorbar": {
             "outlinewidth": 0,
             "ticks": ""
            },
            "colorscale": [
             [
              0,
              "#0d0887"
             ],
             [
              0.1111111111111111,
              "#46039f"
             ],
             [
              0.2222222222222222,
              "#7201a8"
             ],
             [
              0.3333333333333333,
              "#9c179e"
             ],
             [
              0.4444444444444444,
              "#bd3786"
             ],
             [
              0.5555555555555556,
              "#d8576b"
             ],
             [
              0.6666666666666666,
              "#ed7953"
             ],
             [
              0.7777777777777778,
              "#fb9f3a"
             ],
             [
              0.8888888888888888,
              "#fdca26"
             ],
             [
              1,
              "#f0f921"
             ]
            ],
            "type": "heatmapgl"
           }
          ],
          "histogram": [
           {
            "marker": {
             "pattern": {
              "fillmode": "overlay",
              "size": 10,
              "solidity": 0.2
             }
            },
            "type": "histogram"
           }
          ],
          "histogram2d": [
           {
            "colorbar": {
             "outlinewidth": 0,
             "ticks": ""
            },
            "colorscale": [
             [
              0,
              "#0d0887"
             ],
             [
              0.1111111111111111,
              "#46039f"
             ],
             [
              0.2222222222222222,
              "#7201a8"
             ],
             [
              0.3333333333333333,
              "#9c179e"
             ],
             [
              0.4444444444444444,
              "#bd3786"
             ],
             [
              0.5555555555555556,
              "#d8576b"
             ],
             [
              0.6666666666666666,
              "#ed7953"
             ],
             [
              0.7777777777777778,
              "#fb9f3a"
             ],
             [
              0.8888888888888888,
              "#fdca26"
             ],
             [
              1,
              "#f0f921"
             ]
            ],
            "type": "histogram2d"
           }
          ],
          "histogram2dcontour": [
           {
            "colorbar": {
             "outlinewidth": 0,
             "ticks": ""
            },
            "colorscale": [
             [
              0,
              "#0d0887"
             ],
             [
              0.1111111111111111,
              "#46039f"
             ],
             [
              0.2222222222222222,
              "#7201a8"
             ],
             [
              0.3333333333333333,
              "#9c179e"
             ],
             [
              0.4444444444444444,
              "#bd3786"
             ],
             [
              0.5555555555555556,
              "#d8576b"
             ],
             [
              0.6666666666666666,
              "#ed7953"
             ],
             [
              0.7777777777777778,
              "#fb9f3a"
             ],
             [
              0.8888888888888888,
              "#fdca26"
             ],
             [
              1,
              "#f0f921"
             ]
            ],
            "type": "histogram2dcontour"
           }
          ],
          "mesh3d": [
           {
            "colorbar": {
             "outlinewidth": 0,
             "ticks": ""
            },
            "type": "mesh3d"
           }
          ],
          "parcoords": [
           {
            "line": {
             "colorbar": {
              "outlinewidth": 0,
              "ticks": ""
             }
            },
            "type": "parcoords"
           }
          ],
          "pie": [
           {
            "automargin": true,
            "type": "pie"
           }
          ],
          "scatter": [
           {
            "marker": {
             "colorbar": {
              "outlinewidth": 0,
              "ticks": ""
             }
            },
            "type": "scatter"
           }
          ],
          "scatter3d": [
           {
            "line": {
             "colorbar": {
              "outlinewidth": 0,
              "ticks": ""
             }
            },
            "marker": {
             "colorbar": {
              "outlinewidth": 0,
              "ticks": ""
             }
            },
            "type": "scatter3d"
           }
          ],
          "scattercarpet": [
           {
            "marker": {
             "colorbar": {
              "outlinewidth": 0,
              "ticks": ""
             }
            },
            "type": "scattercarpet"
           }
          ],
          "scattergeo": [
           {
            "marker": {
             "colorbar": {
              "outlinewidth": 0,
              "ticks": ""
             }
            },
            "type": "scattergeo"
           }
          ],
          "scattergl": [
           {
            "marker": {
             "colorbar": {
              "outlinewidth": 0,
              "ticks": ""
             }
            },
            "type": "scattergl"
           }
          ],
          "scattermapbox": [
           {
            "marker": {
             "colorbar": {
              "outlinewidth": 0,
              "ticks": ""
             }
            },
            "type": "scattermapbox"
           }
          ],
          "scatterpolar": [
           {
            "marker": {
             "colorbar": {
              "outlinewidth": 0,
              "ticks": ""
             }
            },
            "type": "scatterpolar"
           }
          ],
          "scatterpolargl": [
           {
            "marker": {
             "colorbar": {
              "outlinewidth": 0,
              "ticks": ""
             }
            },
            "type": "scatterpolargl"
           }
          ],
          "scatterternary": [
           {
            "marker": {
             "colorbar": {
              "outlinewidth": 0,
              "ticks": ""
             }
            },
            "type": "scatterternary"
           }
          ],
          "surface": [
           {
            "colorbar": {
             "outlinewidth": 0,
             "ticks": ""
            },
            "colorscale": [
             [
              0,
              "#0d0887"
             ],
             [
              0.1111111111111111,
              "#46039f"
             ],
             [
              0.2222222222222222,
              "#7201a8"
             ],
             [
              0.3333333333333333,
              "#9c179e"
             ],
             [
              0.4444444444444444,
              "#bd3786"
             ],
             [
              0.5555555555555556,
              "#d8576b"
             ],
             [
              0.6666666666666666,
              "#ed7953"
             ],
             [
              0.7777777777777778,
              "#fb9f3a"
             ],
             [
              0.8888888888888888,
              "#fdca26"
             ],
             [
              1,
              "#f0f921"
             ]
            ],
            "type": "surface"
           }
          ],
          "table": [
           {
            "cells": {
             "fill": {
              "color": "#EBF0F8"
             },
             "line": {
              "color": "white"
             }
            },
            "header": {
             "fill": {
              "color": "#C8D4E3"
             },
             "line": {
              "color": "white"
             }
            },
            "type": "table"
           }
          ]
         },
         "layout": {
          "annotationdefaults": {
           "arrowcolor": "#2a3f5f",
           "arrowhead": 0,
           "arrowwidth": 1
          },
          "autotypenumbers": "strict",
          "coloraxis": {
           "colorbar": {
            "outlinewidth": 0,
            "ticks": ""
           }
          },
          "colorscale": {
           "diverging": [
            [
             0,
             "#8e0152"
            ],
            [
             0.1,
             "#c51b7d"
            ],
            [
             0.2,
             "#de77ae"
            ],
            [
             0.3,
             "#f1b6da"
            ],
            [
             0.4,
             "#fde0ef"
            ],
            [
             0.5,
             "#f7f7f7"
            ],
            [
             0.6,
             "#e6f5d0"
            ],
            [
             0.7,
             "#b8e186"
            ],
            [
             0.8,
             "#7fbc41"
            ],
            [
             0.9,
             "#4d9221"
            ],
            [
             1,
             "#276419"
            ]
           ],
           "sequential": [
            [
             0,
             "#0d0887"
            ],
            [
             0.1111111111111111,
             "#46039f"
            ],
            [
             0.2222222222222222,
             "#7201a8"
            ],
            [
             0.3333333333333333,
             "#9c179e"
            ],
            [
             0.4444444444444444,
             "#bd3786"
            ],
            [
             0.5555555555555556,
             "#d8576b"
            ],
            [
             0.6666666666666666,
             "#ed7953"
            ],
            [
             0.7777777777777778,
             "#fb9f3a"
            ],
            [
             0.8888888888888888,
             "#fdca26"
            ],
            [
             1,
             "#f0f921"
            ]
           ],
           "sequentialminus": [
            [
             0,
             "#0d0887"
            ],
            [
             0.1111111111111111,
             "#46039f"
            ],
            [
             0.2222222222222222,
             "#7201a8"
            ],
            [
             0.3333333333333333,
             "#9c179e"
            ],
            [
             0.4444444444444444,
             "#bd3786"
            ],
            [
             0.5555555555555556,
             "#d8576b"
            ],
            [
             0.6666666666666666,
             "#ed7953"
            ],
            [
             0.7777777777777778,
             "#fb9f3a"
            ],
            [
             0.8888888888888888,
             "#fdca26"
            ],
            [
             1,
             "#f0f921"
            ]
           ]
          },
          "colorway": [
           "#636efa",
           "#EF553B",
           "#00cc96",
           "#ab63fa",
           "#FFA15A",
           "#19d3f3",
           "#FF6692",
           "#B6E880",
           "#FF97FF",
           "#FECB52"
          ],
          "font": {
           "color": "#2a3f5f"
          },
          "geo": {
           "bgcolor": "white",
           "lakecolor": "white",
           "landcolor": "#E5ECF6",
           "showlakes": true,
           "showland": true,
           "subunitcolor": "white"
          },
          "hoverlabel": {
           "align": "left"
          },
          "hovermode": "closest",
          "mapbox": {
           "style": "light"
          },
          "paper_bgcolor": "white",
          "plot_bgcolor": "#E5ECF6",
          "polar": {
           "angularaxis": {
            "gridcolor": "white",
            "linecolor": "white",
            "ticks": ""
           },
           "bgcolor": "#E5ECF6",
           "radialaxis": {
            "gridcolor": "white",
            "linecolor": "white",
            "ticks": ""
           }
          },
          "scene": {
           "xaxis": {
            "backgroundcolor": "#E5ECF6",
            "gridcolor": "white",
            "gridwidth": 2,
            "linecolor": "white",
            "showbackground": true,
            "ticks": "",
            "zerolinecolor": "white"
           },
           "yaxis": {
            "backgroundcolor": "#E5ECF6",
            "gridcolor": "white",
            "gridwidth": 2,
            "linecolor": "white",
            "showbackground": true,
            "ticks": "",
            "zerolinecolor": "white"
           },
           "zaxis": {
            "backgroundcolor": "#E5ECF6",
            "gridcolor": "white",
            "gridwidth": 2,
            "linecolor": "white",
            "showbackground": true,
            "ticks": "",
            "zerolinecolor": "white"
           }
          },
          "shapedefaults": {
           "line": {
            "color": "#2a3f5f"
           }
          },
          "ternary": {
           "aaxis": {
            "gridcolor": "white",
            "linecolor": "white",
            "ticks": ""
           },
           "baxis": {
            "gridcolor": "white",
            "linecolor": "white",
            "ticks": ""
           },
           "bgcolor": "#E5ECF6",
           "caxis": {
            "gridcolor": "white",
            "linecolor": "white",
            "ticks": ""
           }
          },
          "title": {
           "x": 0.05
          },
          "xaxis": {
           "automargin": true,
           "gridcolor": "white",
           "linecolor": "white",
           "ticks": "",
           "title": {
            "standoff": 15
           },
           "zerolinecolor": "white",
           "zerolinewidth": 2
          },
          "yaxis": {
           "automargin": true,
           "gridcolor": "white",
           "linecolor": "white",
           "ticks": "",
           "title": {
            "standoff": 15
           },
           "zerolinecolor": "white",
           "zerolinewidth": 2
          }
         }
        },
        "title": {
         "text": "<b>연도별 매출액</b><br><sup>(단위: 원)</sup>"
        },
        "xaxis": {
         "anchor": "y",
         "domain": [
          0,
          1
         ],
         "title": {
          "text": "연도"
         }
        },
        "yaxis": {
         "anchor": "x",
         "domain": [
          0,
          1
         ],
         "title": {
          "text": "매출액"
         }
        }
       }
      },
      "text/html": [
       "<div>                            <div id=\"9952bc86-b75b-4ddc-90a0-9d461695289a\" class=\"plotly-graph-div\" style=\"height:525px; width:100%;\"></div>            <script type=\"text/javascript\">                require([\"plotly\"], function(Plotly) {                    window.PLOTLYENV=window.PLOTLYENV || {};                                    if (document.getElementById(\"9952bc86-b75b-4ddc-90a0-9d461695289a\")) {                    Plotly.newPlot(                        \"9952bc86-b75b-4ddc-90a0-9d461695289a\",                        [{\"alignmentgroup\":\"True\",\"hovertemplate\":\"\\uc5f0\\ub3c4=%{x}<br>\\ub9e4\\ucd9c\\uc561=%{y}<extra></extra>\",\"legendgroup\":\"\",\"marker\":{\"color\":\"#636efa\",\"pattern\":{\"shape\":\"\"}},\"name\":\"\",\"offsetgroup\":\"\",\"orientation\":\"v\",\"showlegend\":false,\"textposition\":\"auto\",\"x\":[\"2018\",\"2019\",\"2020\"],\"xaxis\":\"x\",\"y\":[243771415000000.0,230400881000000.0,236806988000000.0],\"yaxis\":\"y\",\"type\":\"bar\"}],                        {\"template\":{\"data\":{\"bar\":[{\"error_x\":{\"color\":\"#2a3f5f\"},\"error_y\":{\"color\":\"#2a3f5f\"},\"marker\":{\"line\":{\"color\":\"#E5ECF6\",\"width\":0.5},\"pattern\":{\"fillmode\":\"overlay\",\"size\":10,\"solidity\":0.2}},\"type\":\"bar\"}],\"barpolar\":[{\"marker\":{\"line\":{\"color\":\"#E5ECF6\",\"width\":0.5},\"pattern\":{\"fillmode\":\"overlay\",\"size\":10,\"solidity\":0.2}},\"type\":\"barpolar\"}],\"carpet\":[{\"aaxis\":{\"endlinecolor\":\"#2a3f5f\",\"gridcolor\":\"white\",\"linecolor\":\"white\",\"minorgridcolor\":\"white\",\"startlinecolor\":\"#2a3f5f\"},\"baxis\":{\"endlinecolor\":\"#2a3f5f\",\"gridcolor\":\"white\",\"linecolor\":\"white\",\"minorgridcolor\":\"white\",\"startlinecolor\":\"#2a3f5f\"},\"type\":\"carpet\"}],\"choropleth\":[{\"colorbar\":{\"outlinewidth\":0,\"ticks\":\"\"},\"type\":\"choropleth\"}],\"contour\":[{\"colorbar\":{\"outlinewidth\":0,\"ticks\":\"\"},\"colorscale\":[[0.0,\"#0d0887\"],[0.1111111111111111,\"#46039f\"],[0.2222222222222222,\"#7201a8\"],[0.3333333333333333,\"#9c179e\"],[0.4444444444444444,\"#bd3786\"],[0.5555555555555556,\"#d8576b\"],[0.6666666666666666,\"#ed7953\"],[0.7777777777777778,\"#fb9f3a\"],[0.8888888888888888,\"#fdca26\"],[1.0,\"#f0f921\"]],\"type\":\"contour\"}],\"contourcarpet\":[{\"colorbar\":{\"outlinewidth\":0,\"ticks\":\"\"},\"type\":\"contourcarpet\"}],\"heatmap\":[{\"colorbar\":{\"outlinewidth\":0,\"ticks\":\"\"},\"colorscale\":[[0.0,\"#0d0887\"],[0.1111111111111111,\"#46039f\"],[0.2222222222222222,\"#7201a8\"],[0.3333333333333333,\"#9c179e\"],[0.4444444444444444,\"#bd3786\"],[0.5555555555555556,\"#d8576b\"],[0.6666666666666666,\"#ed7953\"],[0.7777777777777778,\"#fb9f3a\"],[0.8888888888888888,\"#fdca26\"],[1.0,\"#f0f921\"]],\"type\":\"heatmap\"}],\"heatmapgl\":[{\"colorbar\":{\"outlinewidth\":0,\"ticks\":\"\"},\"colorscale\":[[0.0,\"#0d0887\"],[0.1111111111111111,\"#46039f\"],[0.2222222222222222,\"#7201a8\"],[0.3333333333333333,\"#9c179e\"],[0.4444444444444444,\"#bd3786\"],[0.5555555555555556,\"#d8576b\"],[0.6666666666666666,\"#ed7953\"],[0.7777777777777778,\"#fb9f3a\"],[0.8888888888888888,\"#fdca26\"],[1.0,\"#f0f921\"]],\"type\":\"heatmapgl\"}],\"histogram\":[{\"marker\":{\"pattern\":{\"fillmode\":\"overlay\",\"size\":10,\"solidity\":0.2}},\"type\":\"histogram\"}],\"histogram2d\":[{\"colorbar\":{\"outlinewidth\":0,\"ticks\":\"\"},\"colorscale\":[[0.0,\"#0d0887\"],[0.1111111111111111,\"#46039f\"],[0.2222222222222222,\"#7201a8\"],[0.3333333333333333,\"#9c179e\"],[0.4444444444444444,\"#bd3786\"],[0.5555555555555556,\"#d8576b\"],[0.6666666666666666,\"#ed7953\"],[0.7777777777777778,\"#fb9f3a\"],[0.8888888888888888,\"#fdca26\"],[1.0,\"#f0f921\"]],\"type\":\"histogram2d\"}],\"histogram2dcontour\":[{\"colorbar\":{\"outlinewidth\":0,\"ticks\":\"\"},\"colorscale\":[[0.0,\"#0d0887\"],[0.1111111111111111,\"#46039f\"],[0.2222222222222222,\"#7201a8\"],[0.3333333333333333,\"#9c179e\"],[0.4444444444444444,\"#bd3786\"],[0.5555555555555556,\"#d8576b\"],[0.6666666666666666,\"#ed7953\"],[0.7777777777777778,\"#fb9f3a\"],[0.8888888888888888,\"#fdca26\"],[1.0,\"#f0f921\"]],\"type\":\"histogram2dcontour\"}],\"mesh3d\":[{\"colorbar\":{\"outlinewidth\":0,\"ticks\":\"\"},\"type\":\"mesh3d\"}],\"parcoords\":[{\"line\":{\"colorbar\":{\"outlinewidth\":0,\"ticks\":\"\"}},\"type\":\"parcoords\"}],\"pie\":[{\"automargin\":true,\"type\":\"pie\"}],\"scatter\":[{\"marker\":{\"colorbar\":{\"outlinewidth\":0,\"ticks\":\"\"}},\"type\":\"scatter\"}],\"scatter3d\":[{\"line\":{\"colorbar\":{\"outlinewidth\":0,\"ticks\":\"\"}},\"marker\":{\"colorbar\":{\"outlinewidth\":0,\"ticks\":\"\"}},\"type\":\"scatter3d\"}],\"scattercarpet\":[{\"marker\":{\"colorbar\":{\"outlinewidth\":0,\"ticks\":\"\"}},\"type\":\"scattercarpet\"}],\"scattergeo\":[{\"marker\":{\"colorbar\":{\"outlinewidth\":0,\"ticks\":\"\"}},\"type\":\"scattergeo\"}],\"scattergl\":[{\"marker\":{\"colorbar\":{\"outlinewidth\":0,\"ticks\":\"\"}},\"type\":\"scattergl\"}],\"scattermapbox\":[{\"marker\":{\"colorbar\":{\"outlinewidth\":0,\"ticks\":\"\"}},\"type\":\"scattermapbox\"}],\"scatterpolar\":[{\"marker\":{\"colorbar\":{\"outlinewidth\":0,\"ticks\":\"\"}},\"type\":\"scatterpolar\"}],\"scatterpolargl\":[{\"marker\":{\"colorbar\":{\"outlinewidth\":0,\"ticks\":\"\"}},\"type\":\"scatterpolargl\"}],\"scatterternary\":[{\"marker\":{\"colorbar\":{\"outlinewidth\":0,\"ticks\":\"\"}},\"type\":\"scatterternary\"}],\"surface\":[{\"colorbar\":{\"outlinewidth\":0,\"ticks\":\"\"},\"colorscale\":[[0.0,\"#0d0887\"],[0.1111111111111111,\"#46039f\"],[0.2222222222222222,\"#7201a8\"],[0.3333333333333333,\"#9c179e\"],[0.4444444444444444,\"#bd3786\"],[0.5555555555555556,\"#d8576b\"],[0.6666666666666666,\"#ed7953\"],[0.7777777777777778,\"#fb9f3a\"],[0.8888888888888888,\"#fdca26\"],[1.0,\"#f0f921\"]],\"type\":\"surface\"}],\"table\":[{\"cells\":{\"fill\":{\"color\":\"#EBF0F8\"},\"line\":{\"color\":\"white\"}},\"header\":{\"fill\":{\"color\":\"#C8D4E3\"},\"line\":{\"color\":\"white\"}},\"type\":\"table\"}]},\"layout\":{\"annotationdefaults\":{\"arrowcolor\":\"#2a3f5f\",\"arrowhead\":0,\"arrowwidth\":1},\"autotypenumbers\":\"strict\",\"coloraxis\":{\"colorbar\":{\"outlinewidth\":0,\"ticks\":\"\"}},\"colorscale\":{\"diverging\":[[0,\"#8e0152\"],[0.1,\"#c51b7d\"],[0.2,\"#de77ae\"],[0.3,\"#f1b6da\"],[0.4,\"#fde0ef\"],[0.5,\"#f7f7f7\"],[0.6,\"#e6f5d0\"],[0.7,\"#b8e186\"],[0.8,\"#7fbc41\"],[0.9,\"#4d9221\"],[1,\"#276419\"]],\"sequential\":[[0.0,\"#0d0887\"],[0.1111111111111111,\"#46039f\"],[0.2222222222222222,\"#7201a8\"],[0.3333333333333333,\"#9c179e\"],[0.4444444444444444,\"#bd3786\"],[0.5555555555555556,\"#d8576b\"],[0.6666666666666666,\"#ed7953\"],[0.7777777777777778,\"#fb9f3a\"],[0.8888888888888888,\"#fdca26\"],[1.0,\"#f0f921\"]],\"sequentialminus\":[[0.0,\"#0d0887\"],[0.1111111111111111,\"#46039f\"],[0.2222222222222222,\"#7201a8\"],[0.3333333333333333,\"#9c179e\"],[0.4444444444444444,\"#bd3786\"],[0.5555555555555556,\"#d8576b\"],[0.6666666666666666,\"#ed7953\"],[0.7777777777777778,\"#fb9f3a\"],[0.8888888888888888,\"#fdca26\"],[1.0,\"#f0f921\"]]},\"colorway\":[\"#636efa\",\"#EF553B\",\"#00cc96\",\"#ab63fa\",\"#FFA15A\",\"#19d3f3\",\"#FF6692\",\"#B6E880\",\"#FF97FF\",\"#FECB52\"],\"font\":{\"color\":\"#2a3f5f\"},\"geo\":{\"bgcolor\":\"white\",\"lakecolor\":\"white\",\"landcolor\":\"#E5ECF6\",\"showlakes\":true,\"showland\":true,\"subunitcolor\":\"white\"},\"hoverlabel\":{\"align\":\"left\"},\"hovermode\":\"closest\",\"mapbox\":{\"style\":\"light\"},\"paper_bgcolor\":\"white\",\"plot_bgcolor\":\"#E5ECF6\",\"polar\":{\"angularaxis\":{\"gridcolor\":\"white\",\"linecolor\":\"white\",\"ticks\":\"\"},\"bgcolor\":\"#E5ECF6\",\"radialaxis\":{\"gridcolor\":\"white\",\"linecolor\":\"white\",\"ticks\":\"\"}},\"scene\":{\"xaxis\":{\"backgroundcolor\":\"#E5ECF6\",\"gridcolor\":\"white\",\"gridwidth\":2,\"linecolor\":\"white\",\"showbackground\":true,\"ticks\":\"\",\"zerolinecolor\":\"white\"},\"yaxis\":{\"backgroundcolor\":\"#E5ECF6\",\"gridcolor\":\"white\",\"gridwidth\":2,\"linecolor\":\"white\",\"showbackground\":true,\"ticks\":\"\",\"zerolinecolor\":\"white\"},\"zaxis\":{\"backgroundcolor\":\"#E5ECF6\",\"gridcolor\":\"white\",\"gridwidth\":2,\"linecolor\":\"white\",\"showbackground\":true,\"ticks\":\"\",\"zerolinecolor\":\"white\"}},\"shapedefaults\":{\"line\":{\"color\":\"#2a3f5f\"}},\"ternary\":{\"aaxis\":{\"gridcolor\":\"white\",\"linecolor\":\"white\",\"ticks\":\"\"},\"baxis\":{\"gridcolor\":\"white\",\"linecolor\":\"white\",\"ticks\":\"\"},\"bgcolor\":\"#E5ECF6\",\"caxis\":{\"gridcolor\":\"white\",\"linecolor\":\"white\",\"ticks\":\"\"}},\"title\":{\"x\":0.05},\"xaxis\":{\"automargin\":true,\"gridcolor\":\"white\",\"linecolor\":\"white\",\"ticks\":\"\",\"title\":{\"standoff\":15},\"zerolinecolor\":\"white\",\"zerolinewidth\":2},\"yaxis\":{\"automargin\":true,\"gridcolor\":\"white\",\"linecolor\":\"white\",\"ticks\":\"\",\"title\":{\"standoff\":15},\"zerolinecolor\":\"white\",\"zerolinewidth\":2}}},\"xaxis\":{\"anchor\":\"y\",\"domain\":[0.0,1.0],\"title\":{\"text\":\"\\uc5f0\\ub3c4\"}},\"yaxis\":{\"anchor\":\"x\",\"domain\":[0.0,1.0],\"title\":{\"text\":\"\\ub9e4\\ucd9c\\uc561\"}},\"legend\":{\"tracegroupgap\":0},\"margin\":{\"t\":60},\"barmode\":\"relative\",\"title\":{\"text\":\"<b>\\uc5f0\\ub3c4\\ubcc4 \\ub9e4\\ucd9c\\uc561</b><br><sup>(\\ub2e8\\uc704: \\uc6d0)</sup>\"}},                        {\"responsive\": true}                    ).then(function(){\n",
       "                            \n",
       "var gd = document.getElementById('9952bc86-b75b-4ddc-90a0-9d461695289a');\n",
       "var x = new MutationObserver(function (mutations, observer) {{\n",
       "        var display = window.getComputedStyle(gd).display;\n",
       "        if (!display || display === 'none') {{\n",
       "            console.log([gd, 'removed!']);\n",
       "            Plotly.purge(gd);\n",
       "            observer.disconnect();\n",
       "        }}\n",
       "}});\n",
       "\n",
       "// Listen for the removal of the full notebook cells\n",
       "var notebookContainer = gd.closest('#notebook-container');\n",
       "if (notebookContainer) {{\n",
       "    x.observe(notebookContainer, {childList: true});\n",
       "}}\n",
       "\n",
       "// Listen for the clearing of the current output cell\n",
       "var outputEl = gd.closest('.output');\n",
       "if (outputEl) {{\n",
       "    x.observe(outputEl, {childList: true});\n",
       "}}\n",
       "\n",
       "                        })                };                });            </script>        </div>"
      ]
     },
     "metadata": {},
     "output_type": "display_data"
    }
   ],
   "source": [
    "sales_fig = px.bar(df, x='Year', y='Value',labels= {'Year': '연도', 'Value':'매출액'})\n",
    "sales_fig.update_layout(title_text = '<b>연도별 매출액</b><br><sup>(단위: 원)</sup>')\n",
    "sales_fig.show()"
   ]
  },
  {
   "cell_type": "code",
   "execution_count": 479,
   "id": "6f7831fd",
   "metadata": {},
   "outputs": [
    {
     "data": {
      "application/vnd.plotly.v1+json": {
       "config": {
        "plotlyServerURL": "https://plot.ly"
       },
       "data": [
        {
         "alignmentgroup": "True",
         "hovertemplate": "연도=%{x}<br>영업이익=%{y}<extra></extra>",
         "legendgroup": "",
         "marker": {
          "color": "#636efa",
          "pattern": {
           "shape": ""
          }
         },
         "name": "",
         "offsetgroup": "",
         "orientation": "v",
         "showlegend": false,
         "textposition": "auto",
         "type": "bar",
         "x": [
          "2018",
          "2019",
          "2020"
         ],
         "xaxis": "x",
         "y": [
          58886669000000,
          27768509000000,
          35993876000000
         ],
         "yaxis": "y"
        }
       ],
       "layout": {
        "barmode": "relative",
        "legend": {
         "tracegroupgap": 0
        },
        "margin": {
         "t": 60
        },
        "template": {
         "data": {
          "bar": [
           {
            "error_x": {
             "color": "#2a3f5f"
            },
            "error_y": {
             "color": "#2a3f5f"
            },
            "marker": {
             "line": {
              "color": "#E5ECF6",
              "width": 0.5
             },
             "pattern": {
              "fillmode": "overlay",
              "size": 10,
              "solidity": 0.2
             }
            },
            "type": "bar"
           }
          ],
          "barpolar": [
           {
            "marker": {
             "line": {
              "color": "#E5ECF6",
              "width": 0.5
             },
             "pattern": {
              "fillmode": "overlay",
              "size": 10,
              "solidity": 0.2
             }
            },
            "type": "barpolar"
           }
          ],
          "carpet": [
           {
            "aaxis": {
             "endlinecolor": "#2a3f5f",
             "gridcolor": "white",
             "linecolor": "white",
             "minorgridcolor": "white",
             "startlinecolor": "#2a3f5f"
            },
            "baxis": {
             "endlinecolor": "#2a3f5f",
             "gridcolor": "white",
             "linecolor": "white",
             "minorgridcolor": "white",
             "startlinecolor": "#2a3f5f"
            },
            "type": "carpet"
           }
          ],
          "choropleth": [
           {
            "colorbar": {
             "outlinewidth": 0,
             "ticks": ""
            },
            "type": "choropleth"
           }
          ],
          "contour": [
           {
            "colorbar": {
             "outlinewidth": 0,
             "ticks": ""
            },
            "colorscale": [
             [
              0,
              "#0d0887"
             ],
             [
              0.1111111111111111,
              "#46039f"
             ],
             [
              0.2222222222222222,
              "#7201a8"
             ],
             [
              0.3333333333333333,
              "#9c179e"
             ],
             [
              0.4444444444444444,
              "#bd3786"
             ],
             [
              0.5555555555555556,
              "#d8576b"
             ],
             [
              0.6666666666666666,
              "#ed7953"
             ],
             [
              0.7777777777777778,
              "#fb9f3a"
             ],
             [
              0.8888888888888888,
              "#fdca26"
             ],
             [
              1,
              "#f0f921"
             ]
            ],
            "type": "contour"
           }
          ],
          "contourcarpet": [
           {
            "colorbar": {
             "outlinewidth": 0,
             "ticks": ""
            },
            "type": "contourcarpet"
           }
          ],
          "heatmap": [
           {
            "colorbar": {
             "outlinewidth": 0,
             "ticks": ""
            },
            "colorscale": [
             [
              0,
              "#0d0887"
             ],
             [
              0.1111111111111111,
              "#46039f"
             ],
             [
              0.2222222222222222,
              "#7201a8"
             ],
             [
              0.3333333333333333,
              "#9c179e"
             ],
             [
              0.4444444444444444,
              "#bd3786"
             ],
             [
              0.5555555555555556,
              "#d8576b"
             ],
             [
              0.6666666666666666,
              "#ed7953"
             ],
             [
              0.7777777777777778,
              "#fb9f3a"
             ],
             [
              0.8888888888888888,
              "#fdca26"
             ],
             [
              1,
              "#f0f921"
             ]
            ],
            "type": "heatmap"
           }
          ],
          "heatmapgl": [
           {
            "colorbar": {
             "outlinewidth": 0,
             "ticks": ""
            },
            "colorscale": [
             [
              0,
              "#0d0887"
             ],
             [
              0.1111111111111111,
              "#46039f"
             ],
             [
              0.2222222222222222,
              "#7201a8"
             ],
             [
              0.3333333333333333,
              "#9c179e"
             ],
             [
              0.4444444444444444,
              "#bd3786"
             ],
             [
              0.5555555555555556,
              "#d8576b"
             ],
             [
              0.6666666666666666,
              "#ed7953"
             ],
             [
              0.7777777777777778,
              "#fb9f3a"
             ],
             [
              0.8888888888888888,
              "#fdca26"
             ],
             [
              1,
              "#f0f921"
             ]
            ],
            "type": "heatmapgl"
           }
          ],
          "histogram": [
           {
            "marker": {
             "pattern": {
              "fillmode": "overlay",
              "size": 10,
              "solidity": 0.2
             }
            },
            "type": "histogram"
           }
          ],
          "histogram2d": [
           {
            "colorbar": {
             "outlinewidth": 0,
             "ticks": ""
            },
            "colorscale": [
             [
              0,
              "#0d0887"
             ],
             [
              0.1111111111111111,
              "#46039f"
             ],
             [
              0.2222222222222222,
              "#7201a8"
             ],
             [
              0.3333333333333333,
              "#9c179e"
             ],
             [
              0.4444444444444444,
              "#bd3786"
             ],
             [
              0.5555555555555556,
              "#d8576b"
             ],
             [
              0.6666666666666666,
              "#ed7953"
             ],
             [
              0.7777777777777778,
              "#fb9f3a"
             ],
             [
              0.8888888888888888,
              "#fdca26"
             ],
             [
              1,
              "#f0f921"
             ]
            ],
            "type": "histogram2d"
           }
          ],
          "histogram2dcontour": [
           {
            "colorbar": {
             "outlinewidth": 0,
             "ticks": ""
            },
            "colorscale": [
             [
              0,
              "#0d0887"
             ],
             [
              0.1111111111111111,
              "#46039f"
             ],
             [
              0.2222222222222222,
              "#7201a8"
             ],
             [
              0.3333333333333333,
              "#9c179e"
             ],
             [
              0.4444444444444444,
              "#bd3786"
             ],
             [
              0.5555555555555556,
              "#d8576b"
             ],
             [
              0.6666666666666666,
              "#ed7953"
             ],
             [
              0.7777777777777778,
              "#fb9f3a"
             ],
             [
              0.8888888888888888,
              "#fdca26"
             ],
             [
              1,
              "#f0f921"
             ]
            ],
            "type": "histogram2dcontour"
           }
          ],
          "mesh3d": [
           {
            "colorbar": {
             "outlinewidth": 0,
             "ticks": ""
            },
            "type": "mesh3d"
           }
          ],
          "parcoords": [
           {
            "line": {
             "colorbar": {
              "outlinewidth": 0,
              "ticks": ""
             }
            },
            "type": "parcoords"
           }
          ],
          "pie": [
           {
            "automargin": true,
            "type": "pie"
           }
          ],
          "scatter": [
           {
            "marker": {
             "colorbar": {
              "outlinewidth": 0,
              "ticks": ""
             }
            },
            "type": "scatter"
           }
          ],
          "scatter3d": [
           {
            "line": {
             "colorbar": {
              "outlinewidth": 0,
              "ticks": ""
             }
            },
            "marker": {
             "colorbar": {
              "outlinewidth": 0,
              "ticks": ""
             }
            },
            "type": "scatter3d"
           }
          ],
          "scattercarpet": [
           {
            "marker": {
             "colorbar": {
              "outlinewidth": 0,
              "ticks": ""
             }
            },
            "type": "scattercarpet"
           }
          ],
          "scattergeo": [
           {
            "marker": {
             "colorbar": {
              "outlinewidth": 0,
              "ticks": ""
             }
            },
            "type": "scattergeo"
           }
          ],
          "scattergl": [
           {
            "marker": {
             "colorbar": {
              "outlinewidth": 0,
              "ticks": ""
             }
            },
            "type": "scattergl"
           }
          ],
          "scattermapbox": [
           {
            "marker": {
             "colorbar": {
              "outlinewidth": 0,
              "ticks": ""
             }
            },
            "type": "scattermapbox"
           }
          ],
          "scatterpolar": [
           {
            "marker": {
             "colorbar": {
              "outlinewidth": 0,
              "ticks": ""
             }
            },
            "type": "scatterpolar"
           }
          ],
          "scatterpolargl": [
           {
            "marker": {
             "colorbar": {
              "outlinewidth": 0,
              "ticks": ""
             }
            },
            "type": "scatterpolargl"
           }
          ],
          "scatterternary": [
           {
            "marker": {
             "colorbar": {
              "outlinewidth": 0,
              "ticks": ""
             }
            },
            "type": "scatterternary"
           }
          ],
          "surface": [
           {
            "colorbar": {
             "outlinewidth": 0,
             "ticks": ""
            },
            "colorscale": [
             [
              0,
              "#0d0887"
             ],
             [
              0.1111111111111111,
              "#46039f"
             ],
             [
              0.2222222222222222,
              "#7201a8"
             ],
             [
              0.3333333333333333,
              "#9c179e"
             ],
             [
              0.4444444444444444,
              "#bd3786"
             ],
             [
              0.5555555555555556,
              "#d8576b"
             ],
             [
              0.6666666666666666,
              "#ed7953"
             ],
             [
              0.7777777777777778,
              "#fb9f3a"
             ],
             [
              0.8888888888888888,
              "#fdca26"
             ],
             [
              1,
              "#f0f921"
             ]
            ],
            "type": "surface"
           }
          ],
          "table": [
           {
            "cells": {
             "fill": {
              "color": "#EBF0F8"
             },
             "line": {
              "color": "white"
             }
            },
            "header": {
             "fill": {
              "color": "#C8D4E3"
             },
             "line": {
              "color": "white"
             }
            },
            "type": "table"
           }
          ]
         },
         "layout": {
          "annotationdefaults": {
           "arrowcolor": "#2a3f5f",
           "arrowhead": 0,
           "arrowwidth": 1
          },
          "autotypenumbers": "strict",
          "coloraxis": {
           "colorbar": {
            "outlinewidth": 0,
            "ticks": ""
           }
          },
          "colorscale": {
           "diverging": [
            [
             0,
             "#8e0152"
            ],
            [
             0.1,
             "#c51b7d"
            ],
            [
             0.2,
             "#de77ae"
            ],
            [
             0.3,
             "#f1b6da"
            ],
            [
             0.4,
             "#fde0ef"
            ],
            [
             0.5,
             "#f7f7f7"
            ],
            [
             0.6,
             "#e6f5d0"
            ],
            [
             0.7,
             "#b8e186"
            ],
            [
             0.8,
             "#7fbc41"
            ],
            [
             0.9,
             "#4d9221"
            ],
            [
             1,
             "#276419"
            ]
           ],
           "sequential": [
            [
             0,
             "#0d0887"
            ],
            [
             0.1111111111111111,
             "#46039f"
            ],
            [
             0.2222222222222222,
             "#7201a8"
            ],
            [
             0.3333333333333333,
             "#9c179e"
            ],
            [
             0.4444444444444444,
             "#bd3786"
            ],
            [
             0.5555555555555556,
             "#d8576b"
            ],
            [
             0.6666666666666666,
             "#ed7953"
            ],
            [
             0.7777777777777778,
             "#fb9f3a"
            ],
            [
             0.8888888888888888,
             "#fdca26"
            ],
            [
             1,
             "#f0f921"
            ]
           ],
           "sequentialminus": [
            [
             0,
             "#0d0887"
            ],
            [
             0.1111111111111111,
             "#46039f"
            ],
            [
             0.2222222222222222,
             "#7201a8"
            ],
            [
             0.3333333333333333,
             "#9c179e"
            ],
            [
             0.4444444444444444,
             "#bd3786"
            ],
            [
             0.5555555555555556,
             "#d8576b"
            ],
            [
             0.6666666666666666,
             "#ed7953"
            ],
            [
             0.7777777777777778,
             "#fb9f3a"
            ],
            [
             0.8888888888888888,
             "#fdca26"
            ],
            [
             1,
             "#f0f921"
            ]
           ]
          },
          "colorway": [
           "#636efa",
           "#EF553B",
           "#00cc96",
           "#ab63fa",
           "#FFA15A",
           "#19d3f3",
           "#FF6692",
           "#B6E880",
           "#FF97FF",
           "#FECB52"
          ],
          "font": {
           "color": "#2a3f5f"
          },
          "geo": {
           "bgcolor": "white",
           "lakecolor": "white",
           "landcolor": "#E5ECF6",
           "showlakes": true,
           "showland": true,
           "subunitcolor": "white"
          },
          "hoverlabel": {
           "align": "left"
          },
          "hovermode": "closest",
          "mapbox": {
           "style": "light"
          },
          "paper_bgcolor": "white",
          "plot_bgcolor": "#E5ECF6",
          "polar": {
           "angularaxis": {
            "gridcolor": "white",
            "linecolor": "white",
            "ticks": ""
           },
           "bgcolor": "#E5ECF6",
           "radialaxis": {
            "gridcolor": "white",
            "linecolor": "white",
            "ticks": ""
           }
          },
          "scene": {
           "xaxis": {
            "backgroundcolor": "#E5ECF6",
            "gridcolor": "white",
            "gridwidth": 2,
            "linecolor": "white",
            "showbackground": true,
            "ticks": "",
            "zerolinecolor": "white"
           },
           "yaxis": {
            "backgroundcolor": "#E5ECF6",
            "gridcolor": "white",
            "gridwidth": 2,
            "linecolor": "white",
            "showbackground": true,
            "ticks": "",
            "zerolinecolor": "white"
           },
           "zaxis": {
            "backgroundcolor": "#E5ECF6",
            "gridcolor": "white",
            "gridwidth": 2,
            "linecolor": "white",
            "showbackground": true,
            "ticks": "",
            "zerolinecolor": "white"
           }
          },
          "shapedefaults": {
           "line": {
            "color": "#2a3f5f"
           }
          },
          "ternary": {
           "aaxis": {
            "gridcolor": "white",
            "linecolor": "white",
            "ticks": ""
           },
           "baxis": {
            "gridcolor": "white",
            "linecolor": "white",
            "ticks": ""
           },
           "bgcolor": "#E5ECF6",
           "caxis": {
            "gridcolor": "white",
            "linecolor": "white",
            "ticks": ""
           }
          },
          "title": {
           "x": 0.05
          },
          "xaxis": {
           "automargin": true,
           "gridcolor": "white",
           "linecolor": "white",
           "ticks": "",
           "title": {
            "standoff": 15
           },
           "zerolinecolor": "white",
           "zerolinewidth": 2
          },
          "yaxis": {
           "automargin": true,
           "gridcolor": "white",
           "linecolor": "white",
           "ticks": "",
           "title": {
            "standoff": 15
           },
           "zerolinecolor": "white",
           "zerolinewidth": 2
          }
         }
        },
        "title": {
         "text": "<b>연도별 영업이익</b><br><sup>(단위: 원)</sup>"
        },
        "xaxis": {
         "anchor": "y",
         "domain": [
          0,
          1
         ],
         "title": {
          "text": "연도"
         }
        },
        "yaxis": {
         "anchor": "x",
         "domain": [
          0,
          1
         ],
         "title": {
          "text": "영업이익"
         }
        }
       }
      },
      "text/html": [
       "<div>                            <div id=\"4dc71f4f-01e2-4b1a-b892-fefdfe8a2aff\" class=\"plotly-graph-div\" style=\"height:525px; width:100%;\"></div>            <script type=\"text/javascript\">                require([\"plotly\"], function(Plotly) {                    window.PLOTLYENV=window.PLOTLYENV || {};                                    if (document.getElementById(\"4dc71f4f-01e2-4b1a-b892-fefdfe8a2aff\")) {                    Plotly.newPlot(                        \"4dc71f4f-01e2-4b1a-b892-fefdfe8a2aff\",                        [{\"alignmentgroup\":\"True\",\"hovertemplate\":\"\\uc5f0\\ub3c4=%{x}<br>\\uc601\\uc5c5\\uc774\\uc775=%{y}<extra></extra>\",\"legendgroup\":\"\",\"marker\":{\"color\":\"#636efa\",\"pattern\":{\"shape\":\"\"}},\"name\":\"\",\"offsetgroup\":\"\",\"orientation\":\"v\",\"showlegend\":false,\"textposition\":\"auto\",\"x\":[\"2018\",\"2019\",\"2020\"],\"xaxis\":\"x\",\"y\":[58886669000000.0,27768509000000.0,35993876000000.0],\"yaxis\":\"y\",\"type\":\"bar\"}],                        {\"template\":{\"data\":{\"bar\":[{\"error_x\":{\"color\":\"#2a3f5f\"},\"error_y\":{\"color\":\"#2a3f5f\"},\"marker\":{\"line\":{\"color\":\"#E5ECF6\",\"width\":0.5},\"pattern\":{\"fillmode\":\"overlay\",\"size\":10,\"solidity\":0.2}},\"type\":\"bar\"}],\"barpolar\":[{\"marker\":{\"line\":{\"color\":\"#E5ECF6\",\"width\":0.5},\"pattern\":{\"fillmode\":\"overlay\",\"size\":10,\"solidity\":0.2}},\"type\":\"barpolar\"}],\"carpet\":[{\"aaxis\":{\"endlinecolor\":\"#2a3f5f\",\"gridcolor\":\"white\",\"linecolor\":\"white\",\"minorgridcolor\":\"white\",\"startlinecolor\":\"#2a3f5f\"},\"baxis\":{\"endlinecolor\":\"#2a3f5f\",\"gridcolor\":\"white\",\"linecolor\":\"white\",\"minorgridcolor\":\"white\",\"startlinecolor\":\"#2a3f5f\"},\"type\":\"carpet\"}],\"choropleth\":[{\"colorbar\":{\"outlinewidth\":0,\"ticks\":\"\"},\"type\":\"choropleth\"}],\"contour\":[{\"colorbar\":{\"outlinewidth\":0,\"ticks\":\"\"},\"colorscale\":[[0.0,\"#0d0887\"],[0.1111111111111111,\"#46039f\"],[0.2222222222222222,\"#7201a8\"],[0.3333333333333333,\"#9c179e\"],[0.4444444444444444,\"#bd3786\"],[0.5555555555555556,\"#d8576b\"],[0.6666666666666666,\"#ed7953\"],[0.7777777777777778,\"#fb9f3a\"],[0.8888888888888888,\"#fdca26\"],[1.0,\"#f0f921\"]],\"type\":\"contour\"}],\"contourcarpet\":[{\"colorbar\":{\"outlinewidth\":0,\"ticks\":\"\"},\"type\":\"contourcarpet\"}],\"heatmap\":[{\"colorbar\":{\"outlinewidth\":0,\"ticks\":\"\"},\"colorscale\":[[0.0,\"#0d0887\"],[0.1111111111111111,\"#46039f\"],[0.2222222222222222,\"#7201a8\"],[0.3333333333333333,\"#9c179e\"],[0.4444444444444444,\"#bd3786\"],[0.5555555555555556,\"#d8576b\"],[0.6666666666666666,\"#ed7953\"],[0.7777777777777778,\"#fb9f3a\"],[0.8888888888888888,\"#fdca26\"],[1.0,\"#f0f921\"]],\"type\":\"heatmap\"}],\"heatmapgl\":[{\"colorbar\":{\"outlinewidth\":0,\"ticks\":\"\"},\"colorscale\":[[0.0,\"#0d0887\"],[0.1111111111111111,\"#46039f\"],[0.2222222222222222,\"#7201a8\"],[0.3333333333333333,\"#9c179e\"],[0.4444444444444444,\"#bd3786\"],[0.5555555555555556,\"#d8576b\"],[0.6666666666666666,\"#ed7953\"],[0.7777777777777778,\"#fb9f3a\"],[0.8888888888888888,\"#fdca26\"],[1.0,\"#f0f921\"]],\"type\":\"heatmapgl\"}],\"histogram\":[{\"marker\":{\"pattern\":{\"fillmode\":\"overlay\",\"size\":10,\"solidity\":0.2}},\"type\":\"histogram\"}],\"histogram2d\":[{\"colorbar\":{\"outlinewidth\":0,\"ticks\":\"\"},\"colorscale\":[[0.0,\"#0d0887\"],[0.1111111111111111,\"#46039f\"],[0.2222222222222222,\"#7201a8\"],[0.3333333333333333,\"#9c179e\"],[0.4444444444444444,\"#bd3786\"],[0.5555555555555556,\"#d8576b\"],[0.6666666666666666,\"#ed7953\"],[0.7777777777777778,\"#fb9f3a\"],[0.8888888888888888,\"#fdca26\"],[1.0,\"#f0f921\"]],\"type\":\"histogram2d\"}],\"histogram2dcontour\":[{\"colorbar\":{\"outlinewidth\":0,\"ticks\":\"\"},\"colorscale\":[[0.0,\"#0d0887\"],[0.1111111111111111,\"#46039f\"],[0.2222222222222222,\"#7201a8\"],[0.3333333333333333,\"#9c179e\"],[0.4444444444444444,\"#bd3786\"],[0.5555555555555556,\"#d8576b\"],[0.6666666666666666,\"#ed7953\"],[0.7777777777777778,\"#fb9f3a\"],[0.8888888888888888,\"#fdca26\"],[1.0,\"#f0f921\"]],\"type\":\"histogram2dcontour\"}],\"mesh3d\":[{\"colorbar\":{\"outlinewidth\":0,\"ticks\":\"\"},\"type\":\"mesh3d\"}],\"parcoords\":[{\"line\":{\"colorbar\":{\"outlinewidth\":0,\"ticks\":\"\"}},\"type\":\"parcoords\"}],\"pie\":[{\"automargin\":true,\"type\":\"pie\"}],\"scatter\":[{\"marker\":{\"colorbar\":{\"outlinewidth\":0,\"ticks\":\"\"}},\"type\":\"scatter\"}],\"scatter3d\":[{\"line\":{\"colorbar\":{\"outlinewidth\":0,\"ticks\":\"\"}},\"marker\":{\"colorbar\":{\"outlinewidth\":0,\"ticks\":\"\"}},\"type\":\"scatter3d\"}],\"scattercarpet\":[{\"marker\":{\"colorbar\":{\"outlinewidth\":0,\"ticks\":\"\"}},\"type\":\"scattercarpet\"}],\"scattergeo\":[{\"marker\":{\"colorbar\":{\"outlinewidth\":0,\"ticks\":\"\"}},\"type\":\"scattergeo\"}],\"scattergl\":[{\"marker\":{\"colorbar\":{\"outlinewidth\":0,\"ticks\":\"\"}},\"type\":\"scattergl\"}],\"scattermapbox\":[{\"marker\":{\"colorbar\":{\"outlinewidth\":0,\"ticks\":\"\"}},\"type\":\"scattermapbox\"}],\"scatterpolar\":[{\"marker\":{\"colorbar\":{\"outlinewidth\":0,\"ticks\":\"\"}},\"type\":\"scatterpolar\"}],\"scatterpolargl\":[{\"marker\":{\"colorbar\":{\"outlinewidth\":0,\"ticks\":\"\"}},\"type\":\"scatterpolargl\"}],\"scatterternary\":[{\"marker\":{\"colorbar\":{\"outlinewidth\":0,\"ticks\":\"\"}},\"type\":\"scatterternary\"}],\"surface\":[{\"colorbar\":{\"outlinewidth\":0,\"ticks\":\"\"},\"colorscale\":[[0.0,\"#0d0887\"],[0.1111111111111111,\"#46039f\"],[0.2222222222222222,\"#7201a8\"],[0.3333333333333333,\"#9c179e\"],[0.4444444444444444,\"#bd3786\"],[0.5555555555555556,\"#d8576b\"],[0.6666666666666666,\"#ed7953\"],[0.7777777777777778,\"#fb9f3a\"],[0.8888888888888888,\"#fdca26\"],[1.0,\"#f0f921\"]],\"type\":\"surface\"}],\"table\":[{\"cells\":{\"fill\":{\"color\":\"#EBF0F8\"},\"line\":{\"color\":\"white\"}},\"header\":{\"fill\":{\"color\":\"#C8D4E3\"},\"line\":{\"color\":\"white\"}},\"type\":\"table\"}]},\"layout\":{\"annotationdefaults\":{\"arrowcolor\":\"#2a3f5f\",\"arrowhead\":0,\"arrowwidth\":1},\"autotypenumbers\":\"strict\",\"coloraxis\":{\"colorbar\":{\"outlinewidth\":0,\"ticks\":\"\"}},\"colorscale\":{\"diverging\":[[0,\"#8e0152\"],[0.1,\"#c51b7d\"],[0.2,\"#de77ae\"],[0.3,\"#f1b6da\"],[0.4,\"#fde0ef\"],[0.5,\"#f7f7f7\"],[0.6,\"#e6f5d0\"],[0.7,\"#b8e186\"],[0.8,\"#7fbc41\"],[0.9,\"#4d9221\"],[1,\"#276419\"]],\"sequential\":[[0.0,\"#0d0887\"],[0.1111111111111111,\"#46039f\"],[0.2222222222222222,\"#7201a8\"],[0.3333333333333333,\"#9c179e\"],[0.4444444444444444,\"#bd3786\"],[0.5555555555555556,\"#d8576b\"],[0.6666666666666666,\"#ed7953\"],[0.7777777777777778,\"#fb9f3a\"],[0.8888888888888888,\"#fdca26\"],[1.0,\"#f0f921\"]],\"sequentialminus\":[[0.0,\"#0d0887\"],[0.1111111111111111,\"#46039f\"],[0.2222222222222222,\"#7201a8\"],[0.3333333333333333,\"#9c179e\"],[0.4444444444444444,\"#bd3786\"],[0.5555555555555556,\"#d8576b\"],[0.6666666666666666,\"#ed7953\"],[0.7777777777777778,\"#fb9f3a\"],[0.8888888888888888,\"#fdca26\"],[1.0,\"#f0f921\"]]},\"colorway\":[\"#636efa\",\"#EF553B\",\"#00cc96\",\"#ab63fa\",\"#FFA15A\",\"#19d3f3\",\"#FF6692\",\"#B6E880\",\"#FF97FF\",\"#FECB52\"],\"font\":{\"color\":\"#2a3f5f\"},\"geo\":{\"bgcolor\":\"white\",\"lakecolor\":\"white\",\"landcolor\":\"#E5ECF6\",\"showlakes\":true,\"showland\":true,\"subunitcolor\":\"white\"},\"hoverlabel\":{\"align\":\"left\"},\"hovermode\":\"closest\",\"mapbox\":{\"style\":\"light\"},\"paper_bgcolor\":\"white\",\"plot_bgcolor\":\"#E5ECF6\",\"polar\":{\"angularaxis\":{\"gridcolor\":\"white\",\"linecolor\":\"white\",\"ticks\":\"\"},\"bgcolor\":\"#E5ECF6\",\"radialaxis\":{\"gridcolor\":\"white\",\"linecolor\":\"white\",\"ticks\":\"\"}},\"scene\":{\"xaxis\":{\"backgroundcolor\":\"#E5ECF6\",\"gridcolor\":\"white\",\"gridwidth\":2,\"linecolor\":\"white\",\"showbackground\":true,\"ticks\":\"\",\"zerolinecolor\":\"white\"},\"yaxis\":{\"backgroundcolor\":\"#E5ECF6\",\"gridcolor\":\"white\",\"gridwidth\":2,\"linecolor\":\"white\",\"showbackground\":true,\"ticks\":\"\",\"zerolinecolor\":\"white\"},\"zaxis\":{\"backgroundcolor\":\"#E5ECF6\",\"gridcolor\":\"white\",\"gridwidth\":2,\"linecolor\":\"white\",\"showbackground\":true,\"ticks\":\"\",\"zerolinecolor\":\"white\"}},\"shapedefaults\":{\"line\":{\"color\":\"#2a3f5f\"}},\"ternary\":{\"aaxis\":{\"gridcolor\":\"white\",\"linecolor\":\"white\",\"ticks\":\"\"},\"baxis\":{\"gridcolor\":\"white\",\"linecolor\":\"white\",\"ticks\":\"\"},\"bgcolor\":\"#E5ECF6\",\"caxis\":{\"gridcolor\":\"white\",\"linecolor\":\"white\",\"ticks\":\"\"}},\"title\":{\"x\":0.05},\"xaxis\":{\"automargin\":true,\"gridcolor\":\"white\",\"linecolor\":\"white\",\"ticks\":\"\",\"title\":{\"standoff\":15},\"zerolinecolor\":\"white\",\"zerolinewidth\":2},\"yaxis\":{\"automargin\":true,\"gridcolor\":\"white\",\"linecolor\":\"white\",\"ticks\":\"\",\"title\":{\"standoff\":15},\"zerolinecolor\":\"white\",\"zerolinewidth\":2}}},\"xaxis\":{\"anchor\":\"y\",\"domain\":[0.0,1.0],\"title\":{\"text\":\"\\uc5f0\\ub3c4\"}},\"yaxis\":{\"anchor\":\"x\",\"domain\":[0.0,1.0],\"title\":{\"text\":\"\\uc601\\uc5c5\\uc774\\uc775\"}},\"legend\":{\"tracegroupgap\":0},\"margin\":{\"t\":60},\"barmode\":\"relative\",\"title\":{\"text\":\"<b>\\uc5f0\\ub3c4\\ubcc4 \\uc601\\uc5c5\\uc774\\uc775</b><br><sup>(\\ub2e8\\uc704: \\uc6d0)</sup>\"}},                        {\"responsive\": true}                    ).then(function(){\n",
       "                            \n",
       "var gd = document.getElementById('4dc71f4f-01e2-4b1a-b892-fefdfe8a2aff');\n",
       "var x = new MutationObserver(function (mutations, observer) {{\n",
       "        var display = window.getComputedStyle(gd).display;\n",
       "        if (!display || display === 'none') {{\n",
       "            console.log([gd, 'removed!']);\n",
       "            Plotly.purge(gd);\n",
       "            observer.disconnect();\n",
       "        }}\n",
       "}});\n",
       "\n",
       "// Listen for the removal of the full notebook cells\n",
       "var notebookContainer = gd.closest('#notebook-container');\n",
       "if (notebookContainer) {{\n",
       "    x.observe(notebookContainer, {childList: true});\n",
       "}}\n",
       "\n",
       "// Listen for the clearing of the current output cell\n",
       "var outputEl = gd.closest('.output');\n",
       "if (outputEl) {{\n",
       "    x.observe(outputEl, {childList: true});\n",
       "}}\n",
       "\n",
       "                        })                };                });            </script>        </div>"
      ]
     },
     "metadata": {},
     "output_type": "display_data"
    }
   ],
   "source": [
    "df = pd.DataFrame()\n",
    "df['Year'] = profit_dict.keys()\n",
    "df['Value'] = profit_dict.values()\n",
    "\n",
    "profit_fig = px.bar(df, x='Year', y='Value',labels= {'Year': '연도', 'Value':'영업이익'})\n",
    "profit_fig.update_layout(title_text = '<b>연도별 영업이익</b><br><sup>(단위: 원)</sup>')\n",
    "profit_fig.show()"
   ]
  },
  {
   "cell_type": "code",
   "execution_count": 480,
   "id": "cd51af90",
   "metadata": {},
   "outputs": [
    {
     "data": {
      "application/vnd.plotly.v1+json": {
       "config": {
        "plotlyServerURL": "https://plot.ly"
       },
       "data": [
        {
         "alignmentgroup": "True",
         "hovertemplate": "연도=%{x}<br>영업활동 현금흐름=%{y}<extra></extra>",
         "legendgroup": "",
         "marker": {
          "color": "#636efa",
          "pattern": {
           "shape": ""
          }
         },
         "name": "",
         "offsetgroup": "",
         "orientation": "v",
         "showlegend": false,
         "textposition": "auto",
         "type": "bar",
         "x": [
          "2018",
          "2019",
          "2020"
         ],
         "xaxis": "x",
         "y": [
          67031863000000,
          45382915000000,
          65287009000000
         ],
         "yaxis": "y"
        }
       ],
       "layout": {
        "barmode": "relative",
        "legend": {
         "tracegroupgap": 0
        },
        "margin": {
         "t": 60
        },
        "template": {
         "data": {
          "bar": [
           {
            "error_x": {
             "color": "#2a3f5f"
            },
            "error_y": {
             "color": "#2a3f5f"
            },
            "marker": {
             "line": {
              "color": "#E5ECF6",
              "width": 0.5
             },
             "pattern": {
              "fillmode": "overlay",
              "size": 10,
              "solidity": 0.2
             }
            },
            "type": "bar"
           }
          ],
          "barpolar": [
           {
            "marker": {
             "line": {
              "color": "#E5ECF6",
              "width": 0.5
             },
             "pattern": {
              "fillmode": "overlay",
              "size": 10,
              "solidity": 0.2
             }
            },
            "type": "barpolar"
           }
          ],
          "carpet": [
           {
            "aaxis": {
             "endlinecolor": "#2a3f5f",
             "gridcolor": "white",
             "linecolor": "white",
             "minorgridcolor": "white",
             "startlinecolor": "#2a3f5f"
            },
            "baxis": {
             "endlinecolor": "#2a3f5f",
             "gridcolor": "white",
             "linecolor": "white",
             "minorgridcolor": "white",
             "startlinecolor": "#2a3f5f"
            },
            "type": "carpet"
           }
          ],
          "choropleth": [
           {
            "colorbar": {
             "outlinewidth": 0,
             "ticks": ""
            },
            "type": "choropleth"
           }
          ],
          "contour": [
           {
            "colorbar": {
             "outlinewidth": 0,
             "ticks": ""
            },
            "colorscale": [
             [
              0,
              "#0d0887"
             ],
             [
              0.1111111111111111,
              "#46039f"
             ],
             [
              0.2222222222222222,
              "#7201a8"
             ],
             [
              0.3333333333333333,
              "#9c179e"
             ],
             [
              0.4444444444444444,
              "#bd3786"
             ],
             [
              0.5555555555555556,
              "#d8576b"
             ],
             [
              0.6666666666666666,
              "#ed7953"
             ],
             [
              0.7777777777777778,
              "#fb9f3a"
             ],
             [
              0.8888888888888888,
              "#fdca26"
             ],
             [
              1,
              "#f0f921"
             ]
            ],
            "type": "contour"
           }
          ],
          "contourcarpet": [
           {
            "colorbar": {
             "outlinewidth": 0,
             "ticks": ""
            },
            "type": "contourcarpet"
           }
          ],
          "heatmap": [
           {
            "colorbar": {
             "outlinewidth": 0,
             "ticks": ""
            },
            "colorscale": [
             [
              0,
              "#0d0887"
             ],
             [
              0.1111111111111111,
              "#46039f"
             ],
             [
              0.2222222222222222,
              "#7201a8"
             ],
             [
              0.3333333333333333,
              "#9c179e"
             ],
             [
              0.4444444444444444,
              "#bd3786"
             ],
             [
              0.5555555555555556,
              "#d8576b"
             ],
             [
              0.6666666666666666,
              "#ed7953"
             ],
             [
              0.7777777777777778,
              "#fb9f3a"
             ],
             [
              0.8888888888888888,
              "#fdca26"
             ],
             [
              1,
              "#f0f921"
             ]
            ],
            "type": "heatmap"
           }
          ],
          "heatmapgl": [
           {
            "colorbar": {
             "outlinewidth": 0,
             "ticks": ""
            },
            "colorscale": [
             [
              0,
              "#0d0887"
             ],
             [
              0.1111111111111111,
              "#46039f"
             ],
             [
              0.2222222222222222,
              "#7201a8"
             ],
             [
              0.3333333333333333,
              "#9c179e"
             ],
             [
              0.4444444444444444,
              "#bd3786"
             ],
             [
              0.5555555555555556,
              "#d8576b"
             ],
             [
              0.6666666666666666,
              "#ed7953"
             ],
             [
              0.7777777777777778,
              "#fb9f3a"
             ],
             [
              0.8888888888888888,
              "#fdca26"
             ],
             [
              1,
              "#f0f921"
             ]
            ],
            "type": "heatmapgl"
           }
          ],
          "histogram": [
           {
            "marker": {
             "pattern": {
              "fillmode": "overlay",
              "size": 10,
              "solidity": 0.2
             }
            },
            "type": "histogram"
           }
          ],
          "histogram2d": [
           {
            "colorbar": {
             "outlinewidth": 0,
             "ticks": ""
            },
            "colorscale": [
             [
              0,
              "#0d0887"
             ],
             [
              0.1111111111111111,
              "#46039f"
             ],
             [
              0.2222222222222222,
              "#7201a8"
             ],
             [
              0.3333333333333333,
              "#9c179e"
             ],
             [
              0.4444444444444444,
              "#bd3786"
             ],
             [
              0.5555555555555556,
              "#d8576b"
             ],
             [
              0.6666666666666666,
              "#ed7953"
             ],
             [
              0.7777777777777778,
              "#fb9f3a"
             ],
             [
              0.8888888888888888,
              "#fdca26"
             ],
             [
              1,
              "#f0f921"
             ]
            ],
            "type": "histogram2d"
           }
          ],
          "histogram2dcontour": [
           {
            "colorbar": {
             "outlinewidth": 0,
             "ticks": ""
            },
            "colorscale": [
             [
              0,
              "#0d0887"
             ],
             [
              0.1111111111111111,
              "#46039f"
             ],
             [
              0.2222222222222222,
              "#7201a8"
             ],
             [
              0.3333333333333333,
              "#9c179e"
             ],
             [
              0.4444444444444444,
              "#bd3786"
             ],
             [
              0.5555555555555556,
              "#d8576b"
             ],
             [
              0.6666666666666666,
              "#ed7953"
             ],
             [
              0.7777777777777778,
              "#fb9f3a"
             ],
             [
              0.8888888888888888,
              "#fdca26"
             ],
             [
              1,
              "#f0f921"
             ]
            ],
            "type": "histogram2dcontour"
           }
          ],
          "mesh3d": [
           {
            "colorbar": {
             "outlinewidth": 0,
             "ticks": ""
            },
            "type": "mesh3d"
           }
          ],
          "parcoords": [
           {
            "line": {
             "colorbar": {
              "outlinewidth": 0,
              "ticks": ""
             }
            },
            "type": "parcoords"
           }
          ],
          "pie": [
           {
            "automargin": true,
            "type": "pie"
           }
          ],
          "scatter": [
           {
            "marker": {
             "colorbar": {
              "outlinewidth": 0,
              "ticks": ""
             }
            },
            "type": "scatter"
           }
          ],
          "scatter3d": [
           {
            "line": {
             "colorbar": {
              "outlinewidth": 0,
              "ticks": ""
             }
            },
            "marker": {
             "colorbar": {
              "outlinewidth": 0,
              "ticks": ""
             }
            },
            "type": "scatter3d"
           }
          ],
          "scattercarpet": [
           {
            "marker": {
             "colorbar": {
              "outlinewidth": 0,
              "ticks": ""
             }
            },
            "type": "scattercarpet"
           }
          ],
          "scattergeo": [
           {
            "marker": {
             "colorbar": {
              "outlinewidth": 0,
              "ticks": ""
             }
            },
            "type": "scattergeo"
           }
          ],
          "scattergl": [
           {
            "marker": {
             "colorbar": {
              "outlinewidth": 0,
              "ticks": ""
             }
            },
            "type": "scattergl"
           }
          ],
          "scattermapbox": [
           {
            "marker": {
             "colorbar": {
              "outlinewidth": 0,
              "ticks": ""
             }
            },
            "type": "scattermapbox"
           }
          ],
          "scatterpolar": [
           {
            "marker": {
             "colorbar": {
              "outlinewidth": 0,
              "ticks": ""
             }
            },
            "type": "scatterpolar"
           }
          ],
          "scatterpolargl": [
           {
            "marker": {
             "colorbar": {
              "outlinewidth": 0,
              "ticks": ""
             }
            },
            "type": "scatterpolargl"
           }
          ],
          "scatterternary": [
           {
            "marker": {
             "colorbar": {
              "outlinewidth": 0,
              "ticks": ""
             }
            },
            "type": "scatterternary"
           }
          ],
          "surface": [
           {
            "colorbar": {
             "outlinewidth": 0,
             "ticks": ""
            },
            "colorscale": [
             [
              0,
              "#0d0887"
             ],
             [
              0.1111111111111111,
              "#46039f"
             ],
             [
              0.2222222222222222,
              "#7201a8"
             ],
             [
              0.3333333333333333,
              "#9c179e"
             ],
             [
              0.4444444444444444,
              "#bd3786"
             ],
             [
              0.5555555555555556,
              "#d8576b"
             ],
             [
              0.6666666666666666,
              "#ed7953"
             ],
             [
              0.7777777777777778,
              "#fb9f3a"
             ],
             [
              0.8888888888888888,
              "#fdca26"
             ],
             [
              1,
              "#f0f921"
             ]
            ],
            "type": "surface"
           }
          ],
          "table": [
           {
            "cells": {
             "fill": {
              "color": "#EBF0F8"
             },
             "line": {
              "color": "white"
             }
            },
            "header": {
             "fill": {
              "color": "#C8D4E3"
             },
             "line": {
              "color": "white"
             }
            },
            "type": "table"
           }
          ]
         },
         "layout": {
          "annotationdefaults": {
           "arrowcolor": "#2a3f5f",
           "arrowhead": 0,
           "arrowwidth": 1
          },
          "autotypenumbers": "strict",
          "coloraxis": {
           "colorbar": {
            "outlinewidth": 0,
            "ticks": ""
           }
          },
          "colorscale": {
           "diverging": [
            [
             0,
             "#8e0152"
            ],
            [
             0.1,
             "#c51b7d"
            ],
            [
             0.2,
             "#de77ae"
            ],
            [
             0.3,
             "#f1b6da"
            ],
            [
             0.4,
             "#fde0ef"
            ],
            [
             0.5,
             "#f7f7f7"
            ],
            [
             0.6,
             "#e6f5d0"
            ],
            [
             0.7,
             "#b8e186"
            ],
            [
             0.8,
             "#7fbc41"
            ],
            [
             0.9,
             "#4d9221"
            ],
            [
             1,
             "#276419"
            ]
           ],
           "sequential": [
            [
             0,
             "#0d0887"
            ],
            [
             0.1111111111111111,
             "#46039f"
            ],
            [
             0.2222222222222222,
             "#7201a8"
            ],
            [
             0.3333333333333333,
             "#9c179e"
            ],
            [
             0.4444444444444444,
             "#bd3786"
            ],
            [
             0.5555555555555556,
             "#d8576b"
            ],
            [
             0.6666666666666666,
             "#ed7953"
            ],
            [
             0.7777777777777778,
             "#fb9f3a"
            ],
            [
             0.8888888888888888,
             "#fdca26"
            ],
            [
             1,
             "#f0f921"
            ]
           ],
           "sequentialminus": [
            [
             0,
             "#0d0887"
            ],
            [
             0.1111111111111111,
             "#46039f"
            ],
            [
             0.2222222222222222,
             "#7201a8"
            ],
            [
             0.3333333333333333,
             "#9c179e"
            ],
            [
             0.4444444444444444,
             "#bd3786"
            ],
            [
             0.5555555555555556,
             "#d8576b"
            ],
            [
             0.6666666666666666,
             "#ed7953"
            ],
            [
             0.7777777777777778,
             "#fb9f3a"
            ],
            [
             0.8888888888888888,
             "#fdca26"
            ],
            [
             1,
             "#f0f921"
            ]
           ]
          },
          "colorway": [
           "#636efa",
           "#EF553B",
           "#00cc96",
           "#ab63fa",
           "#FFA15A",
           "#19d3f3",
           "#FF6692",
           "#B6E880",
           "#FF97FF",
           "#FECB52"
          ],
          "font": {
           "color": "#2a3f5f"
          },
          "geo": {
           "bgcolor": "white",
           "lakecolor": "white",
           "landcolor": "#E5ECF6",
           "showlakes": true,
           "showland": true,
           "subunitcolor": "white"
          },
          "hoverlabel": {
           "align": "left"
          },
          "hovermode": "closest",
          "mapbox": {
           "style": "light"
          },
          "paper_bgcolor": "white",
          "plot_bgcolor": "#E5ECF6",
          "polar": {
           "angularaxis": {
            "gridcolor": "white",
            "linecolor": "white",
            "ticks": ""
           },
           "bgcolor": "#E5ECF6",
           "radialaxis": {
            "gridcolor": "white",
            "linecolor": "white",
            "ticks": ""
           }
          },
          "scene": {
           "xaxis": {
            "backgroundcolor": "#E5ECF6",
            "gridcolor": "white",
            "gridwidth": 2,
            "linecolor": "white",
            "showbackground": true,
            "ticks": "",
            "zerolinecolor": "white"
           },
           "yaxis": {
            "backgroundcolor": "#E5ECF6",
            "gridcolor": "white",
            "gridwidth": 2,
            "linecolor": "white",
            "showbackground": true,
            "ticks": "",
            "zerolinecolor": "white"
           },
           "zaxis": {
            "backgroundcolor": "#E5ECF6",
            "gridcolor": "white",
            "gridwidth": 2,
            "linecolor": "white",
            "showbackground": true,
            "ticks": "",
            "zerolinecolor": "white"
           }
          },
          "shapedefaults": {
           "line": {
            "color": "#2a3f5f"
           }
          },
          "ternary": {
           "aaxis": {
            "gridcolor": "white",
            "linecolor": "white",
            "ticks": ""
           },
           "baxis": {
            "gridcolor": "white",
            "linecolor": "white",
            "ticks": ""
           },
           "bgcolor": "#E5ECF6",
           "caxis": {
            "gridcolor": "white",
            "linecolor": "white",
            "ticks": ""
           }
          },
          "title": {
           "x": 0.05
          },
          "xaxis": {
           "automargin": true,
           "gridcolor": "white",
           "linecolor": "white",
           "ticks": "",
           "title": {
            "standoff": 15
           },
           "zerolinecolor": "white",
           "zerolinewidth": 2
          },
          "yaxis": {
           "automargin": true,
           "gridcolor": "white",
           "linecolor": "white",
           "ticks": "",
           "title": {
            "standoff": 15
           },
           "zerolinecolor": "white",
           "zerolinewidth": 2
          }
         }
        },
        "title": {
         "text": "<b>연도별 영업활동 현금흐름</b><br><sup>(단위: 원)</sup>"
        },
        "xaxis": {
         "anchor": "y",
         "domain": [
          0,
          1
         ],
         "title": {
          "text": "연도"
         }
        },
        "yaxis": {
         "anchor": "x",
         "domain": [
          0,
          1
         ],
         "title": {
          "text": "영업활동 현금흐름"
         }
        }
       }
      },
      "text/html": [
       "<div>                            <div id=\"67727f2f-8dcb-4ba7-bdad-1f8debd62313\" class=\"plotly-graph-div\" style=\"height:525px; width:100%;\"></div>            <script type=\"text/javascript\">                require([\"plotly\"], function(Plotly) {                    window.PLOTLYENV=window.PLOTLYENV || {};                                    if (document.getElementById(\"67727f2f-8dcb-4ba7-bdad-1f8debd62313\")) {                    Plotly.newPlot(                        \"67727f2f-8dcb-4ba7-bdad-1f8debd62313\",                        [{\"alignmentgroup\":\"True\",\"hovertemplate\":\"\\uc5f0\\ub3c4=%{x}<br>\\uc601\\uc5c5\\ud65c\\ub3d9 \\ud604\\uae08\\ud750\\ub984=%{y}<extra></extra>\",\"legendgroup\":\"\",\"marker\":{\"color\":\"#636efa\",\"pattern\":{\"shape\":\"\"}},\"name\":\"\",\"offsetgroup\":\"\",\"orientation\":\"v\",\"showlegend\":false,\"textposition\":\"auto\",\"x\":[\"2018\",\"2019\",\"2020\"],\"xaxis\":\"x\",\"y\":[67031863000000.0,45382915000000.0,65287009000000.0],\"yaxis\":\"y\",\"type\":\"bar\"}],                        {\"template\":{\"data\":{\"bar\":[{\"error_x\":{\"color\":\"#2a3f5f\"},\"error_y\":{\"color\":\"#2a3f5f\"},\"marker\":{\"line\":{\"color\":\"#E5ECF6\",\"width\":0.5},\"pattern\":{\"fillmode\":\"overlay\",\"size\":10,\"solidity\":0.2}},\"type\":\"bar\"}],\"barpolar\":[{\"marker\":{\"line\":{\"color\":\"#E5ECF6\",\"width\":0.5},\"pattern\":{\"fillmode\":\"overlay\",\"size\":10,\"solidity\":0.2}},\"type\":\"barpolar\"}],\"carpet\":[{\"aaxis\":{\"endlinecolor\":\"#2a3f5f\",\"gridcolor\":\"white\",\"linecolor\":\"white\",\"minorgridcolor\":\"white\",\"startlinecolor\":\"#2a3f5f\"},\"baxis\":{\"endlinecolor\":\"#2a3f5f\",\"gridcolor\":\"white\",\"linecolor\":\"white\",\"minorgridcolor\":\"white\",\"startlinecolor\":\"#2a3f5f\"},\"type\":\"carpet\"}],\"choropleth\":[{\"colorbar\":{\"outlinewidth\":0,\"ticks\":\"\"},\"type\":\"choropleth\"}],\"contour\":[{\"colorbar\":{\"outlinewidth\":0,\"ticks\":\"\"},\"colorscale\":[[0.0,\"#0d0887\"],[0.1111111111111111,\"#46039f\"],[0.2222222222222222,\"#7201a8\"],[0.3333333333333333,\"#9c179e\"],[0.4444444444444444,\"#bd3786\"],[0.5555555555555556,\"#d8576b\"],[0.6666666666666666,\"#ed7953\"],[0.7777777777777778,\"#fb9f3a\"],[0.8888888888888888,\"#fdca26\"],[1.0,\"#f0f921\"]],\"type\":\"contour\"}],\"contourcarpet\":[{\"colorbar\":{\"outlinewidth\":0,\"ticks\":\"\"},\"type\":\"contourcarpet\"}],\"heatmap\":[{\"colorbar\":{\"outlinewidth\":0,\"ticks\":\"\"},\"colorscale\":[[0.0,\"#0d0887\"],[0.1111111111111111,\"#46039f\"],[0.2222222222222222,\"#7201a8\"],[0.3333333333333333,\"#9c179e\"],[0.4444444444444444,\"#bd3786\"],[0.5555555555555556,\"#d8576b\"],[0.6666666666666666,\"#ed7953\"],[0.7777777777777778,\"#fb9f3a\"],[0.8888888888888888,\"#fdca26\"],[1.0,\"#f0f921\"]],\"type\":\"heatmap\"}],\"heatmapgl\":[{\"colorbar\":{\"outlinewidth\":0,\"ticks\":\"\"},\"colorscale\":[[0.0,\"#0d0887\"],[0.1111111111111111,\"#46039f\"],[0.2222222222222222,\"#7201a8\"],[0.3333333333333333,\"#9c179e\"],[0.4444444444444444,\"#bd3786\"],[0.5555555555555556,\"#d8576b\"],[0.6666666666666666,\"#ed7953\"],[0.7777777777777778,\"#fb9f3a\"],[0.8888888888888888,\"#fdca26\"],[1.0,\"#f0f921\"]],\"type\":\"heatmapgl\"}],\"histogram\":[{\"marker\":{\"pattern\":{\"fillmode\":\"overlay\",\"size\":10,\"solidity\":0.2}},\"type\":\"histogram\"}],\"histogram2d\":[{\"colorbar\":{\"outlinewidth\":0,\"ticks\":\"\"},\"colorscale\":[[0.0,\"#0d0887\"],[0.1111111111111111,\"#46039f\"],[0.2222222222222222,\"#7201a8\"],[0.3333333333333333,\"#9c179e\"],[0.4444444444444444,\"#bd3786\"],[0.5555555555555556,\"#d8576b\"],[0.6666666666666666,\"#ed7953\"],[0.7777777777777778,\"#fb9f3a\"],[0.8888888888888888,\"#fdca26\"],[1.0,\"#f0f921\"]],\"type\":\"histogram2d\"}],\"histogram2dcontour\":[{\"colorbar\":{\"outlinewidth\":0,\"ticks\":\"\"},\"colorscale\":[[0.0,\"#0d0887\"],[0.1111111111111111,\"#46039f\"],[0.2222222222222222,\"#7201a8\"],[0.3333333333333333,\"#9c179e\"],[0.4444444444444444,\"#bd3786\"],[0.5555555555555556,\"#d8576b\"],[0.6666666666666666,\"#ed7953\"],[0.7777777777777778,\"#fb9f3a\"],[0.8888888888888888,\"#fdca26\"],[1.0,\"#f0f921\"]],\"type\":\"histogram2dcontour\"}],\"mesh3d\":[{\"colorbar\":{\"outlinewidth\":0,\"ticks\":\"\"},\"type\":\"mesh3d\"}],\"parcoords\":[{\"line\":{\"colorbar\":{\"outlinewidth\":0,\"ticks\":\"\"}},\"type\":\"parcoords\"}],\"pie\":[{\"automargin\":true,\"type\":\"pie\"}],\"scatter\":[{\"marker\":{\"colorbar\":{\"outlinewidth\":0,\"ticks\":\"\"}},\"type\":\"scatter\"}],\"scatter3d\":[{\"line\":{\"colorbar\":{\"outlinewidth\":0,\"ticks\":\"\"}},\"marker\":{\"colorbar\":{\"outlinewidth\":0,\"ticks\":\"\"}},\"type\":\"scatter3d\"}],\"scattercarpet\":[{\"marker\":{\"colorbar\":{\"outlinewidth\":0,\"ticks\":\"\"}},\"type\":\"scattercarpet\"}],\"scattergeo\":[{\"marker\":{\"colorbar\":{\"outlinewidth\":0,\"ticks\":\"\"}},\"type\":\"scattergeo\"}],\"scattergl\":[{\"marker\":{\"colorbar\":{\"outlinewidth\":0,\"ticks\":\"\"}},\"type\":\"scattergl\"}],\"scattermapbox\":[{\"marker\":{\"colorbar\":{\"outlinewidth\":0,\"ticks\":\"\"}},\"type\":\"scattermapbox\"}],\"scatterpolar\":[{\"marker\":{\"colorbar\":{\"outlinewidth\":0,\"ticks\":\"\"}},\"type\":\"scatterpolar\"}],\"scatterpolargl\":[{\"marker\":{\"colorbar\":{\"outlinewidth\":0,\"ticks\":\"\"}},\"type\":\"scatterpolargl\"}],\"scatterternary\":[{\"marker\":{\"colorbar\":{\"outlinewidth\":0,\"ticks\":\"\"}},\"type\":\"scatterternary\"}],\"surface\":[{\"colorbar\":{\"outlinewidth\":0,\"ticks\":\"\"},\"colorscale\":[[0.0,\"#0d0887\"],[0.1111111111111111,\"#46039f\"],[0.2222222222222222,\"#7201a8\"],[0.3333333333333333,\"#9c179e\"],[0.4444444444444444,\"#bd3786\"],[0.5555555555555556,\"#d8576b\"],[0.6666666666666666,\"#ed7953\"],[0.7777777777777778,\"#fb9f3a\"],[0.8888888888888888,\"#fdca26\"],[1.0,\"#f0f921\"]],\"type\":\"surface\"}],\"table\":[{\"cells\":{\"fill\":{\"color\":\"#EBF0F8\"},\"line\":{\"color\":\"white\"}},\"header\":{\"fill\":{\"color\":\"#C8D4E3\"},\"line\":{\"color\":\"white\"}},\"type\":\"table\"}]},\"layout\":{\"annotationdefaults\":{\"arrowcolor\":\"#2a3f5f\",\"arrowhead\":0,\"arrowwidth\":1},\"autotypenumbers\":\"strict\",\"coloraxis\":{\"colorbar\":{\"outlinewidth\":0,\"ticks\":\"\"}},\"colorscale\":{\"diverging\":[[0,\"#8e0152\"],[0.1,\"#c51b7d\"],[0.2,\"#de77ae\"],[0.3,\"#f1b6da\"],[0.4,\"#fde0ef\"],[0.5,\"#f7f7f7\"],[0.6,\"#e6f5d0\"],[0.7,\"#b8e186\"],[0.8,\"#7fbc41\"],[0.9,\"#4d9221\"],[1,\"#276419\"]],\"sequential\":[[0.0,\"#0d0887\"],[0.1111111111111111,\"#46039f\"],[0.2222222222222222,\"#7201a8\"],[0.3333333333333333,\"#9c179e\"],[0.4444444444444444,\"#bd3786\"],[0.5555555555555556,\"#d8576b\"],[0.6666666666666666,\"#ed7953\"],[0.7777777777777778,\"#fb9f3a\"],[0.8888888888888888,\"#fdca26\"],[1.0,\"#f0f921\"]],\"sequentialminus\":[[0.0,\"#0d0887\"],[0.1111111111111111,\"#46039f\"],[0.2222222222222222,\"#7201a8\"],[0.3333333333333333,\"#9c179e\"],[0.4444444444444444,\"#bd3786\"],[0.5555555555555556,\"#d8576b\"],[0.6666666666666666,\"#ed7953\"],[0.7777777777777778,\"#fb9f3a\"],[0.8888888888888888,\"#fdca26\"],[1.0,\"#f0f921\"]]},\"colorway\":[\"#636efa\",\"#EF553B\",\"#00cc96\",\"#ab63fa\",\"#FFA15A\",\"#19d3f3\",\"#FF6692\",\"#B6E880\",\"#FF97FF\",\"#FECB52\"],\"font\":{\"color\":\"#2a3f5f\"},\"geo\":{\"bgcolor\":\"white\",\"lakecolor\":\"white\",\"landcolor\":\"#E5ECF6\",\"showlakes\":true,\"showland\":true,\"subunitcolor\":\"white\"},\"hoverlabel\":{\"align\":\"left\"},\"hovermode\":\"closest\",\"mapbox\":{\"style\":\"light\"},\"paper_bgcolor\":\"white\",\"plot_bgcolor\":\"#E5ECF6\",\"polar\":{\"angularaxis\":{\"gridcolor\":\"white\",\"linecolor\":\"white\",\"ticks\":\"\"},\"bgcolor\":\"#E5ECF6\",\"radialaxis\":{\"gridcolor\":\"white\",\"linecolor\":\"white\",\"ticks\":\"\"}},\"scene\":{\"xaxis\":{\"backgroundcolor\":\"#E5ECF6\",\"gridcolor\":\"white\",\"gridwidth\":2,\"linecolor\":\"white\",\"showbackground\":true,\"ticks\":\"\",\"zerolinecolor\":\"white\"},\"yaxis\":{\"backgroundcolor\":\"#E5ECF6\",\"gridcolor\":\"white\",\"gridwidth\":2,\"linecolor\":\"white\",\"showbackground\":true,\"ticks\":\"\",\"zerolinecolor\":\"white\"},\"zaxis\":{\"backgroundcolor\":\"#E5ECF6\",\"gridcolor\":\"white\",\"gridwidth\":2,\"linecolor\":\"white\",\"showbackground\":true,\"ticks\":\"\",\"zerolinecolor\":\"white\"}},\"shapedefaults\":{\"line\":{\"color\":\"#2a3f5f\"}},\"ternary\":{\"aaxis\":{\"gridcolor\":\"white\",\"linecolor\":\"white\",\"ticks\":\"\"},\"baxis\":{\"gridcolor\":\"white\",\"linecolor\":\"white\",\"ticks\":\"\"},\"bgcolor\":\"#E5ECF6\",\"caxis\":{\"gridcolor\":\"white\",\"linecolor\":\"white\",\"ticks\":\"\"}},\"title\":{\"x\":0.05},\"xaxis\":{\"automargin\":true,\"gridcolor\":\"white\",\"linecolor\":\"white\",\"ticks\":\"\",\"title\":{\"standoff\":15},\"zerolinecolor\":\"white\",\"zerolinewidth\":2},\"yaxis\":{\"automargin\":true,\"gridcolor\":\"white\",\"linecolor\":\"white\",\"ticks\":\"\",\"title\":{\"standoff\":15},\"zerolinecolor\":\"white\",\"zerolinewidth\":2}}},\"xaxis\":{\"anchor\":\"y\",\"domain\":[0.0,1.0],\"title\":{\"text\":\"\\uc5f0\\ub3c4\"}},\"yaxis\":{\"anchor\":\"x\",\"domain\":[0.0,1.0],\"title\":{\"text\":\"\\uc601\\uc5c5\\ud65c\\ub3d9 \\ud604\\uae08\\ud750\\ub984\"}},\"legend\":{\"tracegroupgap\":0},\"margin\":{\"t\":60},\"barmode\":\"relative\",\"title\":{\"text\":\"<b>\\uc5f0\\ub3c4\\ubcc4 \\uc601\\uc5c5\\ud65c\\ub3d9 \\ud604\\uae08\\ud750\\ub984</b><br><sup>(\\ub2e8\\uc704: \\uc6d0)</sup>\"}},                        {\"responsive\": true}                    ).then(function(){\n",
       "                            \n",
       "var gd = document.getElementById('67727f2f-8dcb-4ba7-bdad-1f8debd62313');\n",
       "var x = new MutationObserver(function (mutations, observer) {{\n",
       "        var display = window.getComputedStyle(gd).display;\n",
       "        if (!display || display === 'none') {{\n",
       "            console.log([gd, 'removed!']);\n",
       "            Plotly.purge(gd);\n",
       "            observer.disconnect();\n",
       "        }}\n",
       "}});\n",
       "\n",
       "// Listen for the removal of the full notebook cells\n",
       "var notebookContainer = gd.closest('#notebook-container');\n",
       "if (notebookContainer) {{\n",
       "    x.observe(notebookContainer, {childList: true});\n",
       "}}\n",
       "\n",
       "// Listen for the clearing of the current output cell\n",
       "var outputEl = gd.closest('.output');\n",
       "if (outputEl) {{\n",
       "    x.observe(outputEl, {childList: true});\n",
       "}}\n",
       "\n",
       "                        })                };                });            </script>        </div>"
      ]
     },
     "metadata": {},
     "output_type": "display_data"
    }
   ],
   "source": [
    "df = pd.DataFrame()\n",
    "df['Year'] = ocf_dict.keys()\n",
    "df['Value'] = ocf_dict.values()\n",
    "\n",
    "ocf_fig = px.bar(df, x='Year', y='Value',labels= {'Year': '연도', 'Value':'영업활동 현금흐름'})\n",
    "ocf_fig.update_layout(title_text = '<b>연도별 영업활동 현금흐름</b><br><sup>(단위: 원)</sup>')\n",
    "ocf_fig.show()"
   ]
  },
  {
   "cell_type": "code",
   "execution_count": 481,
   "id": "a4986303",
   "metadata": {},
   "outputs": [],
   "source": [
    "# 주주 정보\n",
    "holder_url = 'https://opendart.fss.or.kr/api/hyslrSttus.json'"
   ]
  },
  {
   "cell_type": "code",
   "execution_count": 482,
   "id": "35fb264e",
   "metadata": {},
   "outputs": [],
   "source": [
    "param = dict(BASE_PARAM)\n",
    "param['corp_code'] = '00126380' \n",
    "param['bsns_year'] = '2020'\n",
    "param['reprt_code'] = '11011' # 사업보고서"
   ]
  },
  {
   "cell_type": "code",
   "execution_count": 483,
   "id": "ca52fea9",
   "metadata": {},
   "outputs": [],
   "source": [
    "res = requests.get(holder_url, params = param).json()"
   ]
  },
  {
   "cell_type": "code",
   "execution_count": 484,
   "id": "d979b16e",
   "metadata": {},
   "outputs": [],
   "source": [
    "df = pd.DataFrame(res['list'])"
   ]
  },
  {
   "cell_type": "code",
   "execution_count": 485,
   "id": "53ceb4c7",
   "metadata": {},
   "outputs": [
    {
     "data": {
      "text/html": [
       "<div>\n",
       "<style scoped>\n",
       "    .dataframe tbody tr th:only-of-type {\n",
       "        vertical-align: middle;\n",
       "    }\n",
       "\n",
       "    .dataframe tbody tr th {\n",
       "        vertical-align: top;\n",
       "    }\n",
       "\n",
       "    .dataframe thead th {\n",
       "        text-align: right;\n",
       "    }\n",
       "</style>\n",
       "<table border=\"1\" class=\"dataframe\">\n",
       "  <thead>\n",
       "    <tr style=\"text-align: right;\">\n",
       "      <th></th>\n",
       "      <th>rcept_no</th>\n",
       "      <th>corp_cls</th>\n",
       "      <th>corp_code</th>\n",
       "      <th>corp_name</th>\n",
       "      <th>stock_knd</th>\n",
       "      <th>rm</th>\n",
       "      <th>nm</th>\n",
       "      <th>relate</th>\n",
       "      <th>bsis_posesn_stock_co</th>\n",
       "      <th>bsis_posesn_stock_qota_rt</th>\n",
       "      <th>trmend_posesn_stock_co</th>\n",
       "      <th>trmend_posesn_stock_qota_rt</th>\n",
       "    </tr>\n",
       "  </thead>\n",
       "  <tbody>\n",
       "    <tr>\n",
       "      <th>0</th>\n",
       "      <td>20210309000744</td>\n",
       "      <td>Y</td>\n",
       "      <td>00126380</td>\n",
       "      <td>삼성전자</td>\n",
       "      <td>보통주</td>\n",
       "      <td>-</td>\n",
       "      <td>이건희</td>\n",
       "      <td>최대주주 본인</td>\n",
       "      <td>249,273,200</td>\n",
       "      <td>4.18</td>\n",
       "      <td>249,273,200</td>\n",
       "      <td>4.18</td>\n",
       "    </tr>\n",
       "    <tr>\n",
       "      <th>1</th>\n",
       "      <td>20210309000744</td>\n",
       "      <td>Y</td>\n",
       "      <td>00126380</td>\n",
       "      <td>삼성전자</td>\n",
       "      <td>보통주</td>\n",
       "      <td>장내매매</td>\n",
       "      <td>삼성생명보험㈜(특별계정)</td>\n",
       "      <td>계열회사</td>\n",
       "      <td>18,286,593</td>\n",
       "      <td>0.31</td>\n",
       "      <td>16,284,877</td>\n",
       "      <td>0.27</td>\n",
       "    </tr>\n",
       "    <tr>\n",
       "      <th>2</th>\n",
       "      <td>20210309000744</td>\n",
       "      <td>Y</td>\n",
       "      <td>00126380</td>\n",
       "      <td>삼성전자</td>\n",
       "      <td>우선주</td>\n",
       "      <td>장내매매</td>\n",
       "      <td>삼성생명보험㈜(특별계정)</td>\n",
       "      <td>계열회사</td>\n",
       "      <td>1,352,563</td>\n",
       "      <td>0.16</td>\n",
       "      <td>772,567</td>\n",
       "      <td>0.09</td>\n",
       "    </tr>\n",
       "    <tr>\n",
       "      <th>3</th>\n",
       "      <td>20210309000744</td>\n",
       "      <td>Y</td>\n",
       "      <td>00126380</td>\n",
       "      <td>삼성전자</td>\n",
       "      <td>보통주</td>\n",
       "      <td>-</td>\n",
       "      <td>삼성화재해상보험㈜</td>\n",
       "      <td>계열회사</td>\n",
       "      <td>88,802,052</td>\n",
       "      <td>1.49</td>\n",
       "      <td>88,802,052</td>\n",
       "      <td>1.49</td>\n",
       "    </tr>\n",
       "    <tr>\n",
       "      <th>4</th>\n",
       "      <td>20210309000744</td>\n",
       "      <td>Y</td>\n",
       "      <td>00126380</td>\n",
       "      <td>삼성전자</td>\n",
       "      <td>보통주</td>\n",
       "      <td>-</td>\n",
       "      <td>김기남</td>\n",
       "      <td>발행회사 임원</td>\n",
       "      <td>200,000</td>\n",
       "      <td>0.00</td>\n",
       "      <td>200,000</td>\n",
       "      <td>0.00</td>\n",
       "    </tr>\n",
       "  </tbody>\n",
       "</table>\n",
       "</div>"
      ],
      "text/plain": [
       "         rcept_no corp_cls corp_code corp_name stock_knd    rm             nm  \\\n",
       "0  20210309000744        Y  00126380      삼성전자       보통주     -            이건희   \n",
       "1  20210309000744        Y  00126380      삼성전자       보통주  장내매매  삼성생명보험㈜(특별계정)   \n",
       "2  20210309000744        Y  00126380      삼성전자       우선주  장내매매  삼성생명보험㈜(특별계정)   \n",
       "3  20210309000744        Y  00126380      삼성전자       보통주     -      삼성화재해상보험㈜   \n",
       "4  20210309000744        Y  00126380      삼성전자       보통주     -            김기남   \n",
       "\n",
       "    relate bsis_posesn_stock_co bsis_posesn_stock_qota_rt  \\\n",
       "0  최대주주 본인          249,273,200                      4.18   \n",
       "1     계열회사           18,286,593                      0.31   \n",
       "2     계열회사            1,352,563                      0.16   \n",
       "3     계열회사           88,802,052                      1.49   \n",
       "4  발행회사 임원              200,000                      0.00   \n",
       "\n",
       "  trmend_posesn_stock_co trmend_posesn_stock_qota_rt  \n",
       "0            249,273,200                        4.18  \n",
       "1             16,284,877                        0.27  \n",
       "2                772,567                        0.09  \n",
       "3             88,802,052                        1.49  \n",
       "4                200,000                        0.00  "
      ]
     },
     "execution_count": 485,
     "metadata": {},
     "output_type": "execute_result"
    }
   ],
   "source": [
    "df.head()"
   ]
  },
  {
   "cell_type": "code",
   "execution_count": 486,
   "id": "dbed8b60",
   "metadata": {
    "scrolled": true
   },
   "outputs": [],
   "source": [
    "df = df[df['stock_knd'] == '보통주']"
   ]
  },
  {
   "cell_type": "code",
   "execution_count": 487,
   "id": "f0f70fae",
   "metadata": {},
   "outputs": [],
   "source": [
    "df = df[['nm','trmend_posesn_stock_qota_rt']][:-1] # '계' 삭제"
   ]
  },
  {
   "cell_type": "code",
   "execution_count": 488,
   "id": "92263792",
   "metadata": {},
   "outputs": [
    {
     "data": {
      "text/html": [
       "<div>\n",
       "<style scoped>\n",
       "    .dataframe tbody tr th:only-of-type {\n",
       "        vertical-align: middle;\n",
       "    }\n",
       "\n",
       "    .dataframe tbody tr th {\n",
       "        vertical-align: top;\n",
       "    }\n",
       "\n",
       "    .dataframe thead th {\n",
       "        text-align: right;\n",
       "    }\n",
       "</style>\n",
       "<table border=\"1\" class=\"dataframe\">\n",
       "  <thead>\n",
       "    <tr style=\"text-align: right;\">\n",
       "      <th></th>\n",
       "      <th>nm</th>\n",
       "      <th>trmend_posesn_stock_qota_rt</th>\n",
       "    </tr>\n",
       "  </thead>\n",
       "  <tbody>\n",
       "    <tr>\n",
       "      <th>17</th>\n",
       "      <td>삼성생명보험㈜</td>\n",
       "      <td>8.51</td>\n",
       "    </tr>\n",
       "    <tr>\n",
       "      <th>12</th>\n",
       "      <td>삼성물산㈜</td>\n",
       "      <td>5.01</td>\n",
       "    </tr>\n",
       "    <tr>\n",
       "      <th>0</th>\n",
       "      <td>이건희</td>\n",
       "      <td>4.18</td>\n",
       "    </tr>\n",
       "    <tr>\n",
       "      <th>3</th>\n",
       "      <td>삼성화재해상보험㈜</td>\n",
       "      <td>1.49</td>\n",
       "    </tr>\n",
       "    <tr>\n",
       "      <th>15</th>\n",
       "      <td>홍라희</td>\n",
       "      <td>0.91</td>\n",
       "    </tr>\n",
       "    <tr>\n",
       "      <th>16</th>\n",
       "      <td>이재용</td>\n",
       "      <td>0.70</td>\n",
       "    </tr>\n",
       "    <tr>\n",
       "      <th>1</th>\n",
       "      <td>삼성생명보험㈜(특별계정)</td>\n",
       "      <td>0.27</td>\n",
       "    </tr>\n",
       "    <tr>\n",
       "      <th>13</th>\n",
       "      <td>삼성복지재단</td>\n",
       "      <td>0.08</td>\n",
       "    </tr>\n",
       "    <tr>\n",
       "      <th>14</th>\n",
       "      <td>삼성문화재단</td>\n",
       "      <td>0.03</td>\n",
       "    </tr>\n",
       "    <tr>\n",
       "      <th>4</th>\n",
       "      <td>김기남</td>\n",
       "      <td>0.00</td>\n",
       "    </tr>\n",
       "    <tr>\n",
       "      <th>5</th>\n",
       "      <td>김현석</td>\n",
       "      <td>0.00</td>\n",
       "    </tr>\n",
       "    <tr>\n",
       "      <th>6</th>\n",
       "      <td>고동진</td>\n",
       "      <td>0.00</td>\n",
       "    </tr>\n",
       "    <tr>\n",
       "      <th>7</th>\n",
       "      <td>한종희</td>\n",
       "      <td>0.00</td>\n",
       "    </tr>\n",
       "    <tr>\n",
       "      <th>8</th>\n",
       "      <td>안규리</td>\n",
       "      <td>0.00</td>\n",
       "    </tr>\n",
       "    <tr>\n",
       "      <th>9</th>\n",
       "      <td>김한조</td>\n",
       "      <td>0.00</td>\n",
       "    </tr>\n",
       "    <tr>\n",
       "      <th>10</th>\n",
       "      <td>이상훈</td>\n",
       "      <td>0.00</td>\n",
       "    </tr>\n",
       "  </tbody>\n",
       "</table>\n",
       "</div>"
      ],
      "text/plain": [
       "               nm trmend_posesn_stock_qota_rt\n",
       "17        삼성생명보험㈜                        8.51\n",
       "12          삼성물산㈜                        5.01\n",
       "0             이건희                        4.18\n",
       "3       삼성화재해상보험㈜                        1.49\n",
       "15            홍라희                        0.91\n",
       "16            이재용                        0.70\n",
       "1   삼성생명보험㈜(특별계정)                        0.27\n",
       "13         삼성복지재단                        0.08\n",
       "14         삼성문화재단                        0.03\n",
       "4             김기남                        0.00\n",
       "5             김현석                        0.00\n",
       "6             고동진                        0.00\n",
       "7             한종희                        0.00\n",
       "8             안규리                        0.00\n",
       "9             김한조                        0.00\n",
       "10            이상훈                        0.00"
      ]
     },
     "execution_count": 488,
     "metadata": {},
     "output_type": "execute_result"
    }
   ],
   "source": [
    "df = df.sort_values('trmend_posesn_stock_qota_rt', ascending=False)\n",
    "df"
   ]
  },
  {
   "cell_type": "code",
   "execution_count": 489,
   "id": "7d1c73ec",
   "metadata": {},
   "outputs": [],
   "source": [
    "# 데이터타입 숫자형으로 변경\n",
    "for i in range(len(df)):\n",
    "    df['trmend_posesn_stock_qota_rt'].iloc[i] = float(df['trmend_posesn_stock_qota_rt'].iloc[i]) / 100"
   ]
  },
  {
   "cell_type": "code",
   "execution_count": 490,
   "id": "ac5f7dfd",
   "metadata": {},
   "outputs": [
    {
     "data": {
      "text/plain": [
       "float"
      ]
     },
     "execution_count": 490,
     "metadata": {},
     "output_type": "execute_result"
    }
   ],
   "source": [
    "type(df['trmend_posesn_stock_qota_rt'].iloc[0])"
   ]
  },
  {
   "cell_type": "code",
   "execution_count": 491,
   "id": "45654674",
   "metadata": {},
   "outputs": [
    {
     "data": {
      "text/plain": [
       "0.7882"
      ]
     },
     "execution_count": 491,
     "metadata": {},
     "output_type": "execute_result"
    }
   ],
   "source": [
    "1 - df['trmend_posesn_stock_qota_rt'].sum()"
   ]
  },
  {
   "cell_type": "code",
   "execution_count": 492,
   "id": "9dbf525e",
   "metadata": {},
   "outputs": [],
   "source": [
    "others_dict = {'nm': '기타', 'trmend_posesn_stock_qota_rt':1 - df['trmend_posesn_stock_qota_rt'].sum()}"
   ]
  },
  {
   "cell_type": "code",
   "execution_count": 494,
   "id": "96773883",
   "metadata": {},
   "outputs": [
    {
     "data": {
      "text/html": [
       "<div>\n",
       "<style scoped>\n",
       "    .dataframe tbody tr th:only-of-type {\n",
       "        vertical-align: middle;\n",
       "    }\n",
       "\n",
       "    .dataframe tbody tr th {\n",
       "        vertical-align: top;\n",
       "    }\n",
       "\n",
       "    .dataframe thead th {\n",
       "        text-align: right;\n",
       "    }\n",
       "</style>\n",
       "<table border=\"1\" class=\"dataframe\">\n",
       "  <thead>\n",
       "    <tr style=\"text-align: right;\">\n",
       "      <th></th>\n",
       "      <th>nm</th>\n",
       "      <th>trmend_posesn_stock_qota_rt</th>\n",
       "    </tr>\n",
       "  </thead>\n",
       "  <tbody>\n",
       "    <tr>\n",
       "      <th>0</th>\n",
       "      <td>삼성생명보험㈜</td>\n",
       "      <td>0.0851</td>\n",
       "    </tr>\n",
       "    <tr>\n",
       "      <th>1</th>\n",
       "      <td>삼성물산㈜</td>\n",
       "      <td>0.0501</td>\n",
       "    </tr>\n",
       "    <tr>\n",
       "      <th>2</th>\n",
       "      <td>이건희</td>\n",
       "      <td>0.0418</td>\n",
       "    </tr>\n",
       "    <tr>\n",
       "      <th>3</th>\n",
       "      <td>삼성화재해상보험㈜</td>\n",
       "      <td>0.0149</td>\n",
       "    </tr>\n",
       "    <tr>\n",
       "      <th>4</th>\n",
       "      <td>홍라희</td>\n",
       "      <td>0.0091</td>\n",
       "    </tr>\n",
       "    <tr>\n",
       "      <th>5</th>\n",
       "      <td>이재용</td>\n",
       "      <td>0.007</td>\n",
       "    </tr>\n",
       "    <tr>\n",
       "      <th>6</th>\n",
       "      <td>삼성생명보험㈜(특별계정)</td>\n",
       "      <td>0.0027</td>\n",
       "    </tr>\n",
       "    <tr>\n",
       "      <th>7</th>\n",
       "      <td>삼성복지재단</td>\n",
       "      <td>0.0008</td>\n",
       "    </tr>\n",
       "    <tr>\n",
       "      <th>8</th>\n",
       "      <td>삼성문화재단</td>\n",
       "      <td>0.0003</td>\n",
       "    </tr>\n",
       "    <tr>\n",
       "      <th>9</th>\n",
       "      <td>김기남</td>\n",
       "      <td>0.0</td>\n",
       "    </tr>\n",
       "    <tr>\n",
       "      <th>10</th>\n",
       "      <td>김현석</td>\n",
       "      <td>0.0</td>\n",
       "    </tr>\n",
       "    <tr>\n",
       "      <th>11</th>\n",
       "      <td>고동진</td>\n",
       "      <td>0.0</td>\n",
       "    </tr>\n",
       "    <tr>\n",
       "      <th>12</th>\n",
       "      <td>한종희</td>\n",
       "      <td>0.0</td>\n",
       "    </tr>\n",
       "    <tr>\n",
       "      <th>13</th>\n",
       "      <td>안규리</td>\n",
       "      <td>0.0</td>\n",
       "    </tr>\n",
       "    <tr>\n",
       "      <th>14</th>\n",
       "      <td>김한조</td>\n",
       "      <td>0.0</td>\n",
       "    </tr>\n",
       "    <tr>\n",
       "      <th>15</th>\n",
       "      <td>이상훈</td>\n",
       "      <td>0.0</td>\n",
       "    </tr>\n",
       "    <tr>\n",
       "      <th>16</th>\n",
       "      <td>기타</td>\n",
       "      <td>0.7882</td>\n",
       "    </tr>\n",
       "  </tbody>\n",
       "</table>\n",
       "</div>"
      ],
      "text/plain": [
       "               nm trmend_posesn_stock_qota_rt\n",
       "0         삼성생명보험㈜                      0.0851\n",
       "1           삼성물산㈜                      0.0501\n",
       "2             이건희                      0.0418\n",
       "3       삼성화재해상보험㈜                      0.0149\n",
       "4             홍라희                      0.0091\n",
       "5             이재용                       0.007\n",
       "6   삼성생명보험㈜(특별계정)                      0.0027\n",
       "7          삼성복지재단                      0.0008\n",
       "8          삼성문화재단                      0.0003\n",
       "9             김기남                         0.0\n",
       "10            김현석                         0.0\n",
       "11            고동진                         0.0\n",
       "12            한종희                         0.0\n",
       "13            안규리                         0.0\n",
       "14            김한조                         0.0\n",
       "15            이상훈                         0.0\n",
       "16             기타                      0.7882"
      ]
     },
     "execution_count": 494,
     "metadata": {},
     "output_type": "execute_result"
    }
   ],
   "source": [
    "df = df.append(others_dict, ignore_index=True)\n",
    "df"
   ]
  },
  {
   "cell_type": "code",
   "execution_count": 502,
   "id": "ebd22477",
   "metadata": {},
   "outputs": [
    {
     "data": {
      "application/vnd.plotly.v1+json": {
       "config": {
        "plotlyServerURL": "https://plot.ly"
       },
       "data": [
        {
         "domain": {
          "x": [
           0,
           1
          ],
          "y": [
           0,
           1
          ]
         },
         "hovertemplate": "이름=%{label}<br>주식 수=%{value}<extra></extra>",
         "labels": [
          "삼성생명보험㈜",
          "삼성물산㈜",
          "이건희",
          "삼성화재해상보험㈜",
          "홍라희",
          "이재용",
          "삼성생명보험㈜(특별계정)",
          "삼성복지재단",
          "삼성문화재단",
          "김기남",
          "김현석",
          "고동진",
          "한종희",
          "안규리",
          "김한조",
          "이상훈",
          "기타"
         ],
         "legendgroup": "",
         "name": "",
         "showlegend": true,
         "type": "pie",
         "values": [
          0.0851,
          0.0501,
          0.0418,
          0.0149,
          0.0091,
          0.006999999999999999,
          0.0027,
          0.0008,
          0.0003,
          0,
          0,
          0,
          0,
          0,
          0,
          0,
          0.7882
         ]
        }
       ],
       "layout": {
        "legend": {
         "tracegroupgap": 0
        },
        "margin": {
         "t": 60
        },
        "template": {
         "data": {
          "bar": [
           {
            "error_x": {
             "color": "#2a3f5f"
            },
            "error_y": {
             "color": "#2a3f5f"
            },
            "marker": {
             "line": {
              "color": "#E5ECF6",
              "width": 0.5
             },
             "pattern": {
              "fillmode": "overlay",
              "size": 10,
              "solidity": 0.2
             }
            },
            "type": "bar"
           }
          ],
          "barpolar": [
           {
            "marker": {
             "line": {
              "color": "#E5ECF6",
              "width": 0.5
             },
             "pattern": {
              "fillmode": "overlay",
              "size": 10,
              "solidity": 0.2
             }
            },
            "type": "barpolar"
           }
          ],
          "carpet": [
           {
            "aaxis": {
             "endlinecolor": "#2a3f5f",
             "gridcolor": "white",
             "linecolor": "white",
             "minorgridcolor": "white",
             "startlinecolor": "#2a3f5f"
            },
            "baxis": {
             "endlinecolor": "#2a3f5f",
             "gridcolor": "white",
             "linecolor": "white",
             "minorgridcolor": "white",
             "startlinecolor": "#2a3f5f"
            },
            "type": "carpet"
           }
          ],
          "choropleth": [
           {
            "colorbar": {
             "outlinewidth": 0,
             "ticks": ""
            },
            "type": "choropleth"
           }
          ],
          "contour": [
           {
            "colorbar": {
             "outlinewidth": 0,
             "ticks": ""
            },
            "colorscale": [
             [
              0,
              "#0d0887"
             ],
             [
              0.1111111111111111,
              "#46039f"
             ],
             [
              0.2222222222222222,
              "#7201a8"
             ],
             [
              0.3333333333333333,
              "#9c179e"
             ],
             [
              0.4444444444444444,
              "#bd3786"
             ],
             [
              0.5555555555555556,
              "#d8576b"
             ],
             [
              0.6666666666666666,
              "#ed7953"
             ],
             [
              0.7777777777777778,
              "#fb9f3a"
             ],
             [
              0.8888888888888888,
              "#fdca26"
             ],
             [
              1,
              "#f0f921"
             ]
            ],
            "type": "contour"
           }
          ],
          "contourcarpet": [
           {
            "colorbar": {
             "outlinewidth": 0,
             "ticks": ""
            },
            "type": "contourcarpet"
           }
          ],
          "heatmap": [
           {
            "colorbar": {
             "outlinewidth": 0,
             "ticks": ""
            },
            "colorscale": [
             [
              0,
              "#0d0887"
             ],
             [
              0.1111111111111111,
              "#46039f"
             ],
             [
              0.2222222222222222,
              "#7201a8"
             ],
             [
              0.3333333333333333,
              "#9c179e"
             ],
             [
              0.4444444444444444,
              "#bd3786"
             ],
             [
              0.5555555555555556,
              "#d8576b"
             ],
             [
              0.6666666666666666,
              "#ed7953"
             ],
             [
              0.7777777777777778,
              "#fb9f3a"
             ],
             [
              0.8888888888888888,
              "#fdca26"
             ],
             [
              1,
              "#f0f921"
             ]
            ],
            "type": "heatmap"
           }
          ],
          "heatmapgl": [
           {
            "colorbar": {
             "outlinewidth": 0,
             "ticks": ""
            },
            "colorscale": [
             [
              0,
              "#0d0887"
             ],
             [
              0.1111111111111111,
              "#46039f"
             ],
             [
              0.2222222222222222,
              "#7201a8"
             ],
             [
              0.3333333333333333,
              "#9c179e"
             ],
             [
              0.4444444444444444,
              "#bd3786"
             ],
             [
              0.5555555555555556,
              "#d8576b"
             ],
             [
              0.6666666666666666,
              "#ed7953"
             ],
             [
              0.7777777777777778,
              "#fb9f3a"
             ],
             [
              0.8888888888888888,
              "#fdca26"
             ],
             [
              1,
              "#f0f921"
             ]
            ],
            "type": "heatmapgl"
           }
          ],
          "histogram": [
           {
            "marker": {
             "pattern": {
              "fillmode": "overlay",
              "size": 10,
              "solidity": 0.2
             }
            },
            "type": "histogram"
           }
          ],
          "histogram2d": [
           {
            "colorbar": {
             "outlinewidth": 0,
             "ticks": ""
            },
            "colorscale": [
             [
              0,
              "#0d0887"
             ],
             [
              0.1111111111111111,
              "#46039f"
             ],
             [
              0.2222222222222222,
              "#7201a8"
             ],
             [
              0.3333333333333333,
              "#9c179e"
             ],
             [
              0.4444444444444444,
              "#bd3786"
             ],
             [
              0.5555555555555556,
              "#d8576b"
             ],
             [
              0.6666666666666666,
              "#ed7953"
             ],
             [
              0.7777777777777778,
              "#fb9f3a"
             ],
             [
              0.8888888888888888,
              "#fdca26"
             ],
             [
              1,
              "#f0f921"
             ]
            ],
            "type": "histogram2d"
           }
          ],
          "histogram2dcontour": [
           {
            "colorbar": {
             "outlinewidth": 0,
             "ticks": ""
            },
            "colorscale": [
             [
              0,
              "#0d0887"
             ],
             [
              0.1111111111111111,
              "#46039f"
             ],
             [
              0.2222222222222222,
              "#7201a8"
             ],
             [
              0.3333333333333333,
              "#9c179e"
             ],
             [
              0.4444444444444444,
              "#bd3786"
             ],
             [
              0.5555555555555556,
              "#d8576b"
             ],
             [
              0.6666666666666666,
              "#ed7953"
             ],
             [
              0.7777777777777778,
              "#fb9f3a"
             ],
             [
              0.8888888888888888,
              "#fdca26"
             ],
             [
              1,
              "#f0f921"
             ]
            ],
            "type": "histogram2dcontour"
           }
          ],
          "mesh3d": [
           {
            "colorbar": {
             "outlinewidth": 0,
             "ticks": ""
            },
            "type": "mesh3d"
           }
          ],
          "parcoords": [
           {
            "line": {
             "colorbar": {
              "outlinewidth": 0,
              "ticks": ""
             }
            },
            "type": "parcoords"
           }
          ],
          "pie": [
           {
            "automargin": true,
            "type": "pie"
           }
          ],
          "scatter": [
           {
            "marker": {
             "colorbar": {
              "outlinewidth": 0,
              "ticks": ""
             }
            },
            "type": "scatter"
           }
          ],
          "scatter3d": [
           {
            "line": {
             "colorbar": {
              "outlinewidth": 0,
              "ticks": ""
             }
            },
            "marker": {
             "colorbar": {
              "outlinewidth": 0,
              "ticks": ""
             }
            },
            "type": "scatter3d"
           }
          ],
          "scattercarpet": [
           {
            "marker": {
             "colorbar": {
              "outlinewidth": 0,
              "ticks": ""
             }
            },
            "type": "scattercarpet"
           }
          ],
          "scattergeo": [
           {
            "marker": {
             "colorbar": {
              "outlinewidth": 0,
              "ticks": ""
             }
            },
            "type": "scattergeo"
           }
          ],
          "scattergl": [
           {
            "marker": {
             "colorbar": {
              "outlinewidth": 0,
              "ticks": ""
             }
            },
            "type": "scattergl"
           }
          ],
          "scattermapbox": [
           {
            "marker": {
             "colorbar": {
              "outlinewidth": 0,
              "ticks": ""
             }
            },
            "type": "scattermapbox"
           }
          ],
          "scatterpolar": [
           {
            "marker": {
             "colorbar": {
              "outlinewidth": 0,
              "ticks": ""
             }
            },
            "type": "scatterpolar"
           }
          ],
          "scatterpolargl": [
           {
            "marker": {
             "colorbar": {
              "outlinewidth": 0,
              "ticks": ""
             }
            },
            "type": "scatterpolargl"
           }
          ],
          "scatterternary": [
           {
            "marker": {
             "colorbar": {
              "outlinewidth": 0,
              "ticks": ""
             }
            },
            "type": "scatterternary"
           }
          ],
          "surface": [
           {
            "colorbar": {
             "outlinewidth": 0,
             "ticks": ""
            },
            "colorscale": [
             [
              0,
              "#0d0887"
             ],
             [
              0.1111111111111111,
              "#46039f"
             ],
             [
              0.2222222222222222,
              "#7201a8"
             ],
             [
              0.3333333333333333,
              "#9c179e"
             ],
             [
              0.4444444444444444,
              "#bd3786"
             ],
             [
              0.5555555555555556,
              "#d8576b"
             ],
             [
              0.6666666666666666,
              "#ed7953"
             ],
             [
              0.7777777777777778,
              "#fb9f3a"
             ],
             [
              0.8888888888888888,
              "#fdca26"
             ],
             [
              1,
              "#f0f921"
             ]
            ],
            "type": "surface"
           }
          ],
          "table": [
           {
            "cells": {
             "fill": {
              "color": "#EBF0F8"
             },
             "line": {
              "color": "white"
             }
            },
            "header": {
             "fill": {
              "color": "#C8D4E3"
             },
             "line": {
              "color": "white"
             }
            },
            "type": "table"
           }
          ]
         },
         "layout": {
          "annotationdefaults": {
           "arrowcolor": "#2a3f5f",
           "arrowhead": 0,
           "arrowwidth": 1
          },
          "autotypenumbers": "strict",
          "coloraxis": {
           "colorbar": {
            "outlinewidth": 0,
            "ticks": ""
           }
          },
          "colorscale": {
           "diverging": [
            [
             0,
             "#8e0152"
            ],
            [
             0.1,
             "#c51b7d"
            ],
            [
             0.2,
             "#de77ae"
            ],
            [
             0.3,
             "#f1b6da"
            ],
            [
             0.4,
             "#fde0ef"
            ],
            [
             0.5,
             "#f7f7f7"
            ],
            [
             0.6,
             "#e6f5d0"
            ],
            [
             0.7,
             "#b8e186"
            ],
            [
             0.8,
             "#7fbc41"
            ],
            [
             0.9,
             "#4d9221"
            ],
            [
             1,
             "#276419"
            ]
           ],
           "sequential": [
            [
             0,
             "#0d0887"
            ],
            [
             0.1111111111111111,
             "#46039f"
            ],
            [
             0.2222222222222222,
             "#7201a8"
            ],
            [
             0.3333333333333333,
             "#9c179e"
            ],
            [
             0.4444444444444444,
             "#bd3786"
            ],
            [
             0.5555555555555556,
             "#d8576b"
            ],
            [
             0.6666666666666666,
             "#ed7953"
            ],
            [
             0.7777777777777778,
             "#fb9f3a"
            ],
            [
             0.8888888888888888,
             "#fdca26"
            ],
            [
             1,
             "#f0f921"
            ]
           ],
           "sequentialminus": [
            [
             0,
             "#0d0887"
            ],
            [
             0.1111111111111111,
             "#46039f"
            ],
            [
             0.2222222222222222,
             "#7201a8"
            ],
            [
             0.3333333333333333,
             "#9c179e"
            ],
            [
             0.4444444444444444,
             "#bd3786"
            ],
            [
             0.5555555555555556,
             "#d8576b"
            ],
            [
             0.6666666666666666,
             "#ed7953"
            ],
            [
             0.7777777777777778,
             "#fb9f3a"
            ],
            [
             0.8888888888888888,
             "#fdca26"
            ],
            [
             1,
             "#f0f921"
            ]
           ]
          },
          "colorway": [
           "#636efa",
           "#EF553B",
           "#00cc96",
           "#ab63fa",
           "#FFA15A",
           "#19d3f3",
           "#FF6692",
           "#B6E880",
           "#FF97FF",
           "#FECB52"
          ],
          "font": {
           "color": "#2a3f5f"
          },
          "geo": {
           "bgcolor": "white",
           "lakecolor": "white",
           "landcolor": "#E5ECF6",
           "showlakes": true,
           "showland": true,
           "subunitcolor": "white"
          },
          "hoverlabel": {
           "align": "left"
          },
          "hovermode": "closest",
          "mapbox": {
           "style": "light"
          },
          "paper_bgcolor": "white",
          "plot_bgcolor": "#E5ECF6",
          "polar": {
           "angularaxis": {
            "gridcolor": "white",
            "linecolor": "white",
            "ticks": ""
           },
           "bgcolor": "#E5ECF6",
           "radialaxis": {
            "gridcolor": "white",
            "linecolor": "white",
            "ticks": ""
           }
          },
          "scene": {
           "xaxis": {
            "backgroundcolor": "#E5ECF6",
            "gridcolor": "white",
            "gridwidth": 2,
            "linecolor": "white",
            "showbackground": true,
            "ticks": "",
            "zerolinecolor": "white"
           },
           "yaxis": {
            "backgroundcolor": "#E5ECF6",
            "gridcolor": "white",
            "gridwidth": 2,
            "linecolor": "white",
            "showbackground": true,
            "ticks": "",
            "zerolinecolor": "white"
           },
           "zaxis": {
            "backgroundcolor": "#E5ECF6",
            "gridcolor": "white",
            "gridwidth": 2,
            "linecolor": "white",
            "showbackground": true,
            "ticks": "",
            "zerolinecolor": "white"
           }
          },
          "shapedefaults": {
           "line": {
            "color": "#2a3f5f"
           }
          },
          "ternary": {
           "aaxis": {
            "gridcolor": "white",
            "linecolor": "white",
            "ticks": ""
           },
           "baxis": {
            "gridcolor": "white",
            "linecolor": "white",
            "ticks": ""
           },
           "bgcolor": "#E5ECF6",
           "caxis": {
            "gridcolor": "white",
            "linecolor": "white",
            "ticks": ""
           }
          },
          "title": {
           "x": 0.05
          },
          "xaxis": {
           "automargin": true,
           "gridcolor": "white",
           "linecolor": "white",
           "ticks": "",
           "title": {
            "standoff": 15
           },
           "zerolinecolor": "white",
           "zerolinewidth": 2
          },
          "yaxis": {
           "automargin": true,
           "gridcolor": "white",
           "linecolor": "white",
           "ticks": "",
           "title": {
            "standoff": 15
           },
           "zerolinecolor": "white",
           "zerolinewidth": 2
          }
         }
        },
        "title": {
         "text": "<b>주식보유현황</b>"
        }
       }
      },
      "text/html": [
       "<div>                            <div id=\"d078d6a3-2c41-4b34-a88d-733501cfc129\" class=\"plotly-graph-div\" style=\"height:525px; width:100%;\"></div>            <script type=\"text/javascript\">                require([\"plotly\"], function(Plotly) {                    window.PLOTLYENV=window.PLOTLYENV || {};                                    if (document.getElementById(\"d078d6a3-2c41-4b34-a88d-733501cfc129\")) {                    Plotly.newPlot(                        \"d078d6a3-2c41-4b34-a88d-733501cfc129\",                        [{\"domain\":{\"x\":[0.0,1.0],\"y\":[0.0,1.0]},\"hovertemplate\":\"\\uc774\\ub984=%{label}<br>\\uc8fc\\uc2dd \\uc218=%{value}<extra></extra>\",\"labels\":[\"\\uc0bc\\uc131\\uc0dd\\uba85\\ubcf4\\ud5d8\\u321c\",\"\\uc0bc\\uc131\\ubb3c\\uc0b0\\u321c\",\"\\uc774\\uac74\\ud76c\",\"\\uc0bc\\uc131\\ud654\\uc7ac\\ud574\\uc0c1\\ubcf4\\ud5d8\\u321c\",\"\\ud64d\\ub77c\\ud76c\",\"\\uc774\\uc7ac\\uc6a9\",\"\\uc0bc\\uc131\\uc0dd\\uba85\\ubcf4\\ud5d8\\u321c(\\ud2b9\\ubcc4\\uacc4\\uc815)\",\"\\uc0bc\\uc131\\ubcf5\\uc9c0\\uc7ac\\ub2e8\",\"\\uc0bc\\uc131\\ubb38\\ud654\\uc7ac\\ub2e8\",\"\\uae40\\uae30\\ub0a8\",\"\\uae40\\ud604\\uc11d\",\"\\uace0\\ub3d9\\uc9c4\",\"\\ud55c\\uc885\\ud76c\",\"\\uc548\\uaddc\\ub9ac\",\"\\uae40\\ud55c\\uc870\",\"\\uc774\\uc0c1\\ud6c8\",\"\\uae30\\ud0c0\"],\"legendgroup\":\"\",\"name\":\"\",\"showlegend\":true,\"values\":[0.0851,0.0501,0.0418,0.0149,0.0091,0.006999999999999999,0.0027,0.0008,0.0003,0.0,0.0,0.0,0.0,0.0,0.0,0.0,0.7882],\"type\":\"pie\"}],                        {\"template\":{\"data\":{\"bar\":[{\"error_x\":{\"color\":\"#2a3f5f\"},\"error_y\":{\"color\":\"#2a3f5f\"},\"marker\":{\"line\":{\"color\":\"#E5ECF6\",\"width\":0.5},\"pattern\":{\"fillmode\":\"overlay\",\"size\":10,\"solidity\":0.2}},\"type\":\"bar\"}],\"barpolar\":[{\"marker\":{\"line\":{\"color\":\"#E5ECF6\",\"width\":0.5},\"pattern\":{\"fillmode\":\"overlay\",\"size\":10,\"solidity\":0.2}},\"type\":\"barpolar\"}],\"carpet\":[{\"aaxis\":{\"endlinecolor\":\"#2a3f5f\",\"gridcolor\":\"white\",\"linecolor\":\"white\",\"minorgridcolor\":\"white\",\"startlinecolor\":\"#2a3f5f\"},\"baxis\":{\"endlinecolor\":\"#2a3f5f\",\"gridcolor\":\"white\",\"linecolor\":\"white\",\"minorgridcolor\":\"white\",\"startlinecolor\":\"#2a3f5f\"},\"type\":\"carpet\"}],\"choropleth\":[{\"colorbar\":{\"outlinewidth\":0,\"ticks\":\"\"},\"type\":\"choropleth\"}],\"contour\":[{\"colorbar\":{\"outlinewidth\":0,\"ticks\":\"\"},\"colorscale\":[[0.0,\"#0d0887\"],[0.1111111111111111,\"#46039f\"],[0.2222222222222222,\"#7201a8\"],[0.3333333333333333,\"#9c179e\"],[0.4444444444444444,\"#bd3786\"],[0.5555555555555556,\"#d8576b\"],[0.6666666666666666,\"#ed7953\"],[0.7777777777777778,\"#fb9f3a\"],[0.8888888888888888,\"#fdca26\"],[1.0,\"#f0f921\"]],\"type\":\"contour\"}],\"contourcarpet\":[{\"colorbar\":{\"outlinewidth\":0,\"ticks\":\"\"},\"type\":\"contourcarpet\"}],\"heatmap\":[{\"colorbar\":{\"outlinewidth\":0,\"ticks\":\"\"},\"colorscale\":[[0.0,\"#0d0887\"],[0.1111111111111111,\"#46039f\"],[0.2222222222222222,\"#7201a8\"],[0.3333333333333333,\"#9c179e\"],[0.4444444444444444,\"#bd3786\"],[0.5555555555555556,\"#d8576b\"],[0.6666666666666666,\"#ed7953\"],[0.7777777777777778,\"#fb9f3a\"],[0.8888888888888888,\"#fdca26\"],[1.0,\"#f0f921\"]],\"type\":\"heatmap\"}],\"heatmapgl\":[{\"colorbar\":{\"outlinewidth\":0,\"ticks\":\"\"},\"colorscale\":[[0.0,\"#0d0887\"],[0.1111111111111111,\"#46039f\"],[0.2222222222222222,\"#7201a8\"],[0.3333333333333333,\"#9c179e\"],[0.4444444444444444,\"#bd3786\"],[0.5555555555555556,\"#d8576b\"],[0.6666666666666666,\"#ed7953\"],[0.7777777777777778,\"#fb9f3a\"],[0.8888888888888888,\"#fdca26\"],[1.0,\"#f0f921\"]],\"type\":\"heatmapgl\"}],\"histogram\":[{\"marker\":{\"pattern\":{\"fillmode\":\"overlay\",\"size\":10,\"solidity\":0.2}},\"type\":\"histogram\"}],\"histogram2d\":[{\"colorbar\":{\"outlinewidth\":0,\"ticks\":\"\"},\"colorscale\":[[0.0,\"#0d0887\"],[0.1111111111111111,\"#46039f\"],[0.2222222222222222,\"#7201a8\"],[0.3333333333333333,\"#9c179e\"],[0.4444444444444444,\"#bd3786\"],[0.5555555555555556,\"#d8576b\"],[0.6666666666666666,\"#ed7953\"],[0.7777777777777778,\"#fb9f3a\"],[0.8888888888888888,\"#fdca26\"],[1.0,\"#f0f921\"]],\"type\":\"histogram2d\"}],\"histogram2dcontour\":[{\"colorbar\":{\"outlinewidth\":0,\"ticks\":\"\"},\"colorscale\":[[0.0,\"#0d0887\"],[0.1111111111111111,\"#46039f\"],[0.2222222222222222,\"#7201a8\"],[0.3333333333333333,\"#9c179e\"],[0.4444444444444444,\"#bd3786\"],[0.5555555555555556,\"#d8576b\"],[0.6666666666666666,\"#ed7953\"],[0.7777777777777778,\"#fb9f3a\"],[0.8888888888888888,\"#fdca26\"],[1.0,\"#f0f921\"]],\"type\":\"histogram2dcontour\"}],\"mesh3d\":[{\"colorbar\":{\"outlinewidth\":0,\"ticks\":\"\"},\"type\":\"mesh3d\"}],\"parcoords\":[{\"line\":{\"colorbar\":{\"outlinewidth\":0,\"ticks\":\"\"}},\"type\":\"parcoords\"}],\"pie\":[{\"automargin\":true,\"type\":\"pie\"}],\"scatter\":[{\"marker\":{\"colorbar\":{\"outlinewidth\":0,\"ticks\":\"\"}},\"type\":\"scatter\"}],\"scatter3d\":[{\"line\":{\"colorbar\":{\"outlinewidth\":0,\"ticks\":\"\"}},\"marker\":{\"colorbar\":{\"outlinewidth\":0,\"ticks\":\"\"}},\"type\":\"scatter3d\"}],\"scattercarpet\":[{\"marker\":{\"colorbar\":{\"outlinewidth\":0,\"ticks\":\"\"}},\"type\":\"scattercarpet\"}],\"scattergeo\":[{\"marker\":{\"colorbar\":{\"outlinewidth\":0,\"ticks\":\"\"}},\"type\":\"scattergeo\"}],\"scattergl\":[{\"marker\":{\"colorbar\":{\"outlinewidth\":0,\"ticks\":\"\"}},\"type\":\"scattergl\"}],\"scattermapbox\":[{\"marker\":{\"colorbar\":{\"outlinewidth\":0,\"ticks\":\"\"}},\"type\":\"scattermapbox\"}],\"scatterpolar\":[{\"marker\":{\"colorbar\":{\"outlinewidth\":0,\"ticks\":\"\"}},\"type\":\"scatterpolar\"}],\"scatterpolargl\":[{\"marker\":{\"colorbar\":{\"outlinewidth\":0,\"ticks\":\"\"}},\"type\":\"scatterpolargl\"}],\"scatterternary\":[{\"marker\":{\"colorbar\":{\"outlinewidth\":0,\"ticks\":\"\"}},\"type\":\"scatterternary\"}],\"surface\":[{\"colorbar\":{\"outlinewidth\":0,\"ticks\":\"\"},\"colorscale\":[[0.0,\"#0d0887\"],[0.1111111111111111,\"#46039f\"],[0.2222222222222222,\"#7201a8\"],[0.3333333333333333,\"#9c179e\"],[0.4444444444444444,\"#bd3786\"],[0.5555555555555556,\"#d8576b\"],[0.6666666666666666,\"#ed7953\"],[0.7777777777777778,\"#fb9f3a\"],[0.8888888888888888,\"#fdca26\"],[1.0,\"#f0f921\"]],\"type\":\"surface\"}],\"table\":[{\"cells\":{\"fill\":{\"color\":\"#EBF0F8\"},\"line\":{\"color\":\"white\"}},\"header\":{\"fill\":{\"color\":\"#C8D4E3\"},\"line\":{\"color\":\"white\"}},\"type\":\"table\"}]},\"layout\":{\"annotationdefaults\":{\"arrowcolor\":\"#2a3f5f\",\"arrowhead\":0,\"arrowwidth\":1},\"autotypenumbers\":\"strict\",\"coloraxis\":{\"colorbar\":{\"outlinewidth\":0,\"ticks\":\"\"}},\"colorscale\":{\"diverging\":[[0,\"#8e0152\"],[0.1,\"#c51b7d\"],[0.2,\"#de77ae\"],[0.3,\"#f1b6da\"],[0.4,\"#fde0ef\"],[0.5,\"#f7f7f7\"],[0.6,\"#e6f5d0\"],[0.7,\"#b8e186\"],[0.8,\"#7fbc41\"],[0.9,\"#4d9221\"],[1,\"#276419\"]],\"sequential\":[[0.0,\"#0d0887\"],[0.1111111111111111,\"#46039f\"],[0.2222222222222222,\"#7201a8\"],[0.3333333333333333,\"#9c179e\"],[0.4444444444444444,\"#bd3786\"],[0.5555555555555556,\"#d8576b\"],[0.6666666666666666,\"#ed7953\"],[0.7777777777777778,\"#fb9f3a\"],[0.8888888888888888,\"#fdca26\"],[1.0,\"#f0f921\"]],\"sequentialminus\":[[0.0,\"#0d0887\"],[0.1111111111111111,\"#46039f\"],[0.2222222222222222,\"#7201a8\"],[0.3333333333333333,\"#9c179e\"],[0.4444444444444444,\"#bd3786\"],[0.5555555555555556,\"#d8576b\"],[0.6666666666666666,\"#ed7953\"],[0.7777777777777778,\"#fb9f3a\"],[0.8888888888888888,\"#fdca26\"],[1.0,\"#f0f921\"]]},\"colorway\":[\"#636efa\",\"#EF553B\",\"#00cc96\",\"#ab63fa\",\"#FFA15A\",\"#19d3f3\",\"#FF6692\",\"#B6E880\",\"#FF97FF\",\"#FECB52\"],\"font\":{\"color\":\"#2a3f5f\"},\"geo\":{\"bgcolor\":\"white\",\"lakecolor\":\"white\",\"landcolor\":\"#E5ECF6\",\"showlakes\":true,\"showland\":true,\"subunitcolor\":\"white\"},\"hoverlabel\":{\"align\":\"left\"},\"hovermode\":\"closest\",\"mapbox\":{\"style\":\"light\"},\"paper_bgcolor\":\"white\",\"plot_bgcolor\":\"#E5ECF6\",\"polar\":{\"angularaxis\":{\"gridcolor\":\"white\",\"linecolor\":\"white\",\"ticks\":\"\"},\"bgcolor\":\"#E5ECF6\",\"radialaxis\":{\"gridcolor\":\"white\",\"linecolor\":\"white\",\"ticks\":\"\"}},\"scene\":{\"xaxis\":{\"backgroundcolor\":\"#E5ECF6\",\"gridcolor\":\"white\",\"gridwidth\":2,\"linecolor\":\"white\",\"showbackground\":true,\"ticks\":\"\",\"zerolinecolor\":\"white\"},\"yaxis\":{\"backgroundcolor\":\"#E5ECF6\",\"gridcolor\":\"white\",\"gridwidth\":2,\"linecolor\":\"white\",\"showbackground\":true,\"ticks\":\"\",\"zerolinecolor\":\"white\"},\"zaxis\":{\"backgroundcolor\":\"#E5ECF6\",\"gridcolor\":\"white\",\"gridwidth\":2,\"linecolor\":\"white\",\"showbackground\":true,\"ticks\":\"\",\"zerolinecolor\":\"white\"}},\"shapedefaults\":{\"line\":{\"color\":\"#2a3f5f\"}},\"ternary\":{\"aaxis\":{\"gridcolor\":\"white\",\"linecolor\":\"white\",\"ticks\":\"\"},\"baxis\":{\"gridcolor\":\"white\",\"linecolor\":\"white\",\"ticks\":\"\"},\"bgcolor\":\"#E5ECF6\",\"caxis\":{\"gridcolor\":\"white\",\"linecolor\":\"white\",\"ticks\":\"\"}},\"title\":{\"x\":0.05},\"xaxis\":{\"automargin\":true,\"gridcolor\":\"white\",\"linecolor\":\"white\",\"ticks\":\"\",\"title\":{\"standoff\":15},\"zerolinecolor\":\"white\",\"zerolinewidth\":2},\"yaxis\":{\"automargin\":true,\"gridcolor\":\"white\",\"linecolor\":\"white\",\"ticks\":\"\",\"title\":{\"standoff\":15},\"zerolinecolor\":\"white\",\"zerolinewidth\":2}}},\"legend\":{\"tracegroupgap\":0},\"margin\":{\"t\":60},\"title\":{\"text\":\"<b>\\uc8fc\\uc2dd\\ubcf4\\uc720\\ud604\\ud669</b>\"}},                        {\"responsive\": true}                    ).then(function(){\n",
       "                            \n",
       "var gd = document.getElementById('d078d6a3-2c41-4b34-a88d-733501cfc129');\n",
       "var x = new MutationObserver(function (mutations, observer) {{\n",
       "        var display = window.getComputedStyle(gd).display;\n",
       "        if (!display || display === 'none') {{\n",
       "            console.log([gd, 'removed!']);\n",
       "            Plotly.purge(gd);\n",
       "            observer.disconnect();\n",
       "        }}\n",
       "}});\n",
       "\n",
       "// Listen for the removal of the full notebook cells\n",
       "var notebookContainer = gd.closest('#notebook-container');\n",
       "if (notebookContainer) {{\n",
       "    x.observe(notebookContainer, {childList: true});\n",
       "}}\n",
       "\n",
       "// Listen for the clearing of the current output cell\n",
       "var outputEl = gd.closest('.output');\n",
       "if (outputEl) {{\n",
       "    x.observe(outputEl, {childList: true});\n",
       "}}\n",
       "\n",
       "                        })                };                });            </script>        </div>"
      ]
     },
     "metadata": {},
     "output_type": "display_data"
    }
   ],
   "source": [
    "holder_fig = px.pie(df,names='nm',values='trmend_posesn_stock_qota_rt',\n",
    "      labels = {'nm': '이름', 'trmend_posesn_stock_qota_rt':'주식 수'})\n",
    "holder_fig.update_layout(title_text = '<b>주식보유현황</b>')\n",
    "holder_fig.show()"
   ]
  },
  {
   "cell_type": "code",
   "execution_count": 569,
   "id": "dd9785ce",
   "metadata": {},
   "outputs": [],
   "source": [
    "# 개황정보\n",
    "company_info = 'https://opendart.fss.or.kr/api/company.json'"
   ]
  },
  {
   "cell_type": "code",
   "execution_count": 570,
   "id": "c5124ac4",
   "metadata": {},
   "outputs": [],
   "source": [
    "param = dict(BASE_PARAM)\n",
    "param['corp_code'] = '00126380' "
   ]
  },
  {
   "cell_type": "code",
   "execution_count": 571,
   "id": "d0b553dd",
   "metadata": {},
   "outputs": [],
   "source": [
    "res = requests.get(company_info, params = param).json()"
   ]
  },
  {
   "cell_type": "code",
   "execution_count": 572,
   "id": "66e3e2c4",
   "metadata": {},
   "outputs": [
    {
     "data": {
      "text/plain": [
       "{'status': '000',\n",
       " 'message': '정상',\n",
       " 'corp_code': '00126380',\n",
       " 'corp_name': '삼성전자(주)',\n",
       " 'corp_name_eng': 'SAMSUNG ELECTRONICS CO,.LTD',\n",
       " 'stock_name': '삼성전자',\n",
       " 'stock_code': '005930',\n",
       " 'ceo_nm': '김기남, 김현석, 고동진',\n",
       " 'corp_cls': 'Y',\n",
       " 'jurir_no': '1301110006246',\n",
       " 'bizr_no': '1248100998',\n",
       " 'adres': '경기도 수원시 영통구  삼성로 129 (매탄동)',\n",
       " 'hm_url': 'www.sec.co.kr',\n",
       " 'ir_url': '',\n",
       " 'phn_no': '031-200-1114',\n",
       " 'fax_no': '031-200-7538',\n",
       " 'induty_code': '264',\n",
       " 'est_dt': '19690113',\n",
       " 'acc_mt': '12'}"
      ]
     },
     "execution_count": 572,
     "metadata": {},
     "output_type": "execute_result"
    }
   ],
   "source": [
    "overview = res\n",
    "overview"
   ]
  },
  {
   "cell_type": "code",
   "execution_count": 573,
   "id": "6c4f573c",
   "metadata": {},
   "outputs": [],
   "source": [
    "from yahoofinancials import YahooFinancials\n",
    "from datetime import datetime, timedelta"
   ]
  },
  {
   "cell_type": "code",
   "execution_count": 574,
   "id": "4923c594",
   "metadata": {},
   "outputs": [],
   "source": [
    "INTERVAL = 12\n",
    "\n",
    "now = datetime.now()\n",
    "end = now.strftime(\"%Y-%m-%d\") # datetime의 형태 변경\n",
    "start = (now - timedelta(days = INTERVAL * 7)).strftime(\"%Y-%m-%d\")"
   ]
  },
  {
   "cell_type": "code",
   "execution_count": 575,
   "id": "8352d7a1",
   "metadata": {},
   "outputs": [
    {
     "data": {
      "text/plain": [
       "datetime.datetime(2021, 12, 2, 16, 20, 24, 264207)"
      ]
     },
     "execution_count": 575,
     "metadata": {},
     "output_type": "execute_result"
    }
   ],
   "source": [
    "now"
   ]
  },
  {
   "cell_type": "code",
   "execution_count": 576,
   "id": "7e2da1ec",
   "metadata": {},
   "outputs": [
    {
     "data": {
      "text/plain": [
       "'2021-12-02'"
      ]
     },
     "execution_count": 576,
     "metadata": {},
     "output_type": "execute_result"
    }
   ],
   "source": [
    "end"
   ]
  },
  {
   "cell_type": "code",
   "execution_count": 577,
   "id": "46344217",
   "metadata": {},
   "outputs": [],
   "source": [
    "stock_code = overview['stock_code'] + \".KS\"\n",
    "yahoo_financials = YahooFinancials(stock_code)"
   ]
  },
  {
   "cell_type": "code",
   "execution_count": 578,
   "id": "968b3fb9",
   "metadata": {},
   "outputs": [],
   "source": [
    "data = yahoo_financials.get_historical_price_data(start_date = start, end_date = end, time_interval = 'daily')"
   ]
  },
  {
   "cell_type": "code",
   "execution_count": 579,
   "id": "236d101e",
   "metadata": {
    "scrolled": true
   },
   "outputs": [
    {
     "data": {
      "text/html": [
       "<div>\n",
       "<style scoped>\n",
       "    .dataframe tbody tr th:only-of-type {\n",
       "        vertical-align: middle;\n",
       "    }\n",
       "\n",
       "    .dataframe tbody tr th {\n",
       "        vertical-align: top;\n",
       "    }\n",
       "\n",
       "    .dataframe thead th {\n",
       "        text-align: right;\n",
       "    }\n",
       "</style>\n",
       "<table border=\"1\" class=\"dataframe\">\n",
       "  <thead>\n",
       "    <tr style=\"text-align: right;\">\n",
       "      <th></th>\n",
       "      <th>date</th>\n",
       "      <th>high</th>\n",
       "      <th>low</th>\n",
       "      <th>open</th>\n",
       "      <th>close</th>\n",
       "      <th>volume</th>\n",
       "      <th>adjclose</th>\n",
       "      <th>formatted_date</th>\n",
       "    </tr>\n",
       "  </thead>\n",
       "  <tbody>\n",
       "    <tr>\n",
       "      <th>0</th>\n",
       "      <td>1631145600</td>\n",
       "      <td>76600.0</td>\n",
       "      <td>75000.0</td>\n",
       "      <td>76400.0</td>\n",
       "      <td>75300.0</td>\n",
       "      <td>17600770</td>\n",
       "      <td>74943.734375</td>\n",
       "      <td>2021-09-09</td>\n",
       "    </tr>\n",
       "    <tr>\n",
       "      <th>1</th>\n",
       "      <td>1631232000</td>\n",
       "      <td>75600.0</td>\n",
       "      <td>74800.0</td>\n",
       "      <td>75300.0</td>\n",
       "      <td>75300.0</td>\n",
       "      <td>10103212</td>\n",
       "      <td>74943.734375</td>\n",
       "      <td>2021-09-10</td>\n",
       "    </tr>\n",
       "    <tr>\n",
       "      <th>2</th>\n",
       "      <td>1631491200</td>\n",
       "      <td>76300.0</td>\n",
       "      <td>75100.0</td>\n",
       "      <td>75200.0</td>\n",
       "      <td>76300.0</td>\n",
       "      <td>11397775</td>\n",
       "      <td>75939.000000</td>\n",
       "      <td>2021-09-13</td>\n",
       "    </tr>\n",
       "    <tr>\n",
       "      <th>3</th>\n",
       "      <td>1631577600</td>\n",
       "      <td>77700.0</td>\n",
       "      <td>76600.0</td>\n",
       "      <td>77100.0</td>\n",
       "      <td>76600.0</td>\n",
       "      <td>18167057</td>\n",
       "      <td>76237.585938</td>\n",
       "      <td>2021-09-14</td>\n",
       "    </tr>\n",
       "    <tr>\n",
       "      <th>4</th>\n",
       "      <td>1631664000</td>\n",
       "      <td>77400.0</td>\n",
       "      <td>76400.0</td>\n",
       "      <td>77400.0</td>\n",
       "      <td>77000.0</td>\n",
       "      <td>12829128</td>\n",
       "      <td>76635.687500</td>\n",
       "      <td>2021-09-15</td>\n",
       "    </tr>\n",
       "  </tbody>\n",
       "</table>\n",
       "</div>"
      ],
      "text/plain": [
       "         date     high      low     open    close    volume      adjclose  \\\n",
       "0  1631145600  76600.0  75000.0  76400.0  75300.0  17600770  74943.734375   \n",
       "1  1631232000  75600.0  74800.0  75300.0  75300.0  10103212  74943.734375   \n",
       "2  1631491200  76300.0  75100.0  75200.0  76300.0  11397775  75939.000000   \n",
       "3  1631577600  77700.0  76600.0  77100.0  76600.0  18167057  76237.585938   \n",
       "4  1631664000  77400.0  76400.0  77400.0  77000.0  12829128  76635.687500   \n",
       "\n",
       "  formatted_date  \n",
       "0     2021-09-09  \n",
       "1     2021-09-10  \n",
       "2     2021-09-13  \n",
       "3     2021-09-14  \n",
       "4     2021-09-15  "
      ]
     },
     "execution_count": 579,
     "metadata": {},
     "output_type": "execute_result"
    }
   ],
   "source": [
    "stock_df = pd.DataFrame(data[stock_code]['prices'])\n",
    "stock_df.head()"
   ]
  },
  {
   "cell_type": "code",
   "execution_count": 580,
   "id": "4c03e68d",
   "metadata": {
    "scrolled": true
   },
   "outputs": [
    {
     "data": {
      "text/html": [
       "<div>\n",
       "<style scoped>\n",
       "    .dataframe tbody tr th:only-of-type {\n",
       "        vertical-align: middle;\n",
       "    }\n",
       "\n",
       "    .dataframe tbody tr th {\n",
       "        vertical-align: top;\n",
       "    }\n",
       "\n",
       "    .dataframe thead th {\n",
       "        text-align: right;\n",
       "    }\n",
       "</style>\n",
       "<table border=\"1\" class=\"dataframe\">\n",
       "  <thead>\n",
       "    <tr style=\"text-align: right;\">\n",
       "      <th></th>\n",
       "      <th>date</th>\n",
       "      <th>high</th>\n",
       "      <th>low</th>\n",
       "      <th>open</th>\n",
       "      <th>close</th>\n",
       "      <th>volume</th>\n",
       "      <th>adjclose</th>\n",
       "      <th>formatted_date</th>\n",
       "    </tr>\n",
       "  </thead>\n",
       "  <tbody>\n",
       "    <tr>\n",
       "      <th>0</th>\n",
       "      <td>1631145600</td>\n",
       "      <td>76600.0</td>\n",
       "      <td>75000.0</td>\n",
       "      <td>76400.0</td>\n",
       "      <td>75300.0</td>\n",
       "      <td>17600770</td>\n",
       "      <td>74943.734375</td>\n",
       "      <td>2021/09/09</td>\n",
       "    </tr>\n",
       "    <tr>\n",
       "      <th>1</th>\n",
       "      <td>1631232000</td>\n",
       "      <td>75600.0</td>\n",
       "      <td>74800.0</td>\n",
       "      <td>75300.0</td>\n",
       "      <td>75300.0</td>\n",
       "      <td>10103212</td>\n",
       "      <td>74943.734375</td>\n",
       "      <td>2021/09/10</td>\n",
       "    </tr>\n",
       "    <tr>\n",
       "      <th>2</th>\n",
       "      <td>1631491200</td>\n",
       "      <td>76300.0</td>\n",
       "      <td>75100.0</td>\n",
       "      <td>75200.0</td>\n",
       "      <td>76300.0</td>\n",
       "      <td>11397775</td>\n",
       "      <td>75939.000000</td>\n",
       "      <td>2021/09/13</td>\n",
       "    </tr>\n",
       "    <tr>\n",
       "      <th>3</th>\n",
       "      <td>1631577600</td>\n",
       "      <td>77700.0</td>\n",
       "      <td>76600.0</td>\n",
       "      <td>77100.0</td>\n",
       "      <td>76600.0</td>\n",
       "      <td>18167057</td>\n",
       "      <td>76237.585938</td>\n",
       "      <td>2021/09/14</td>\n",
       "    </tr>\n",
       "    <tr>\n",
       "      <th>4</th>\n",
       "      <td>1631664000</td>\n",
       "      <td>77400.0</td>\n",
       "      <td>76400.0</td>\n",
       "      <td>77400.0</td>\n",
       "      <td>77000.0</td>\n",
       "      <td>12829128</td>\n",
       "      <td>76635.687500</td>\n",
       "      <td>2021/09/15</td>\n",
       "    </tr>\n",
       "  </tbody>\n",
       "</table>\n",
       "</div>"
      ],
      "text/plain": [
       "         date     high      low     open    close    volume      adjclose  \\\n",
       "0  1631145600  76600.0  75000.0  76400.0  75300.0  17600770  74943.734375   \n",
       "1  1631232000  75600.0  74800.0  75300.0  75300.0  10103212  74943.734375   \n",
       "2  1631491200  76300.0  75100.0  75200.0  76300.0  11397775  75939.000000   \n",
       "3  1631577600  77700.0  76600.0  77100.0  76600.0  18167057  76237.585938   \n",
       "4  1631664000  77400.0  76400.0  77400.0  77000.0  12829128  76635.687500   \n",
       "\n",
       "  formatted_date  \n",
       "0     2021/09/09  \n",
       "1     2021/09/10  \n",
       "2     2021/09/13  \n",
       "3     2021/09/14  \n",
       "4     2021/09/15  "
      ]
     },
     "execution_count": 580,
     "metadata": {},
     "output_type": "execute_result"
    }
   ],
   "source": [
    "stock_df['formatted_date'] = stock_df['formatted_date'].apply(lambda x: x.replace(\"-\",\"/\"))\n",
    "stock_df.head()"
   ]
  },
  {
   "cell_type": "code",
   "execution_count": 581,
   "id": "5f29a996",
   "metadata": {},
   "outputs": [],
   "source": [
    "import plotly.graph_objects as go\n",
    "from plotly.subplots import make_subplots"
   ]
  },
  {
   "cell_type": "code",
   "execution_count": 582,
   "id": "5379dc36",
   "metadata": {},
   "outputs": [],
   "source": [
    "stock_fig = make_subplots(specs = [[{\"secondary_y\": True}]])"
   ]
  },
  {
   "cell_type": "code",
   "execution_count": 583,
   "id": "07dd4347",
   "metadata": {},
   "outputs": [
    {
     "data": {
      "application/vnd.plotly.v1+json": {
       "config": {
        "plotlyServerURL": "https://plot.ly"
       },
       "data": [
        {
         "name": "거래량",
         "opacity": 0.3,
         "type": "bar",
         "x": [
          "2021/09/09",
          "2021/09/10",
          "2021/09/13",
          "2021/09/14",
          "2021/09/15",
          "2021/09/16",
          "2021/09/17",
          "2021/09/23",
          "2021/09/24",
          "2021/09/27",
          "2021/09/28",
          "2021/09/29",
          "2021/09/30",
          "2021/10/01",
          "2021/10/05",
          "2021/10/06",
          "2021/10/07",
          "2021/10/08",
          "2021/10/12",
          "2021/10/13",
          "2021/10/14",
          "2021/10/15",
          "2021/10/18",
          "2021/10/19",
          "2021/10/20",
          "2021/10/21",
          "2021/10/22",
          "2021/10/25",
          "2021/10/26",
          "2021/10/27",
          "2021/10/28",
          "2021/10/29",
          "2021/11/01",
          "2021/11/02",
          "2021/11/03",
          "2021/11/04",
          "2021/11/05",
          "2021/11/08",
          "2021/11/09",
          "2021/11/10",
          "2021/11/11",
          "2021/11/12",
          "2021/11/15",
          "2021/11/16",
          "2021/11/17",
          "2021/11/18",
          "2021/11/19",
          "2021/11/22",
          "2021/11/23",
          "2021/11/24",
          "2021/11/25",
          "2021/11/26",
          "2021/11/29",
          "2021/11/30",
          "2021/12/01",
          "2021/12/02"
         ],
         "xaxis": "x",
         "y": [
          17600770,
          10103212,
          11397775,
          18167057,
          12829128,
          13067622,
          16289502,
          17055590,
          12247274,
          11699798,
          15406382,
          23992458,
          19919361,
          15803395,
          24013921,
          18956962,
          13683532,
          14043287,
          31001484,
          24172015,
          19520641,
          18051612,
          13486391,
          9507991,
          10151638,
          10891094,
          8395448,
          10029621,
          10528252,
          10295316,
          20644902,
          17016151,
          11503729,
          16812570,
          12770428,
          11818987,
          12667743,
          11121981,
          11159589,
          9422009,
          11489122,
          10087450,
          12420710,
          10919239,
          11027606,
          10144957,
          11954728,
          27506623,
          22029195,
          15652305,
          12559258,
          13002242,
          16682559,
          30364841,
          21954856,
          23467264
         ],
         "yaxis": "y2"
        },
        {
         "name": "주가",
         "type": "scatter",
         "x": [
          "2021/09/09",
          "2021/09/10",
          "2021/09/13",
          "2021/09/14",
          "2021/09/15",
          "2021/09/16",
          "2021/09/17",
          "2021/09/23",
          "2021/09/24",
          "2021/09/27",
          "2021/09/28",
          "2021/09/29",
          "2021/09/30",
          "2021/10/01",
          "2021/10/05",
          "2021/10/06",
          "2021/10/07",
          "2021/10/08",
          "2021/10/12",
          "2021/10/13",
          "2021/10/14",
          "2021/10/15",
          "2021/10/18",
          "2021/10/19",
          "2021/10/20",
          "2021/10/21",
          "2021/10/22",
          "2021/10/25",
          "2021/10/26",
          "2021/10/27",
          "2021/10/28",
          "2021/10/29",
          "2021/11/01",
          "2021/11/02",
          "2021/11/03",
          "2021/11/04",
          "2021/11/05",
          "2021/11/08",
          "2021/11/09",
          "2021/11/10",
          "2021/11/11",
          "2021/11/12",
          "2021/11/15",
          "2021/11/16",
          "2021/11/17",
          "2021/11/18",
          "2021/11/19",
          "2021/11/22",
          "2021/11/23",
          "2021/11/24",
          "2021/11/25",
          "2021/11/26",
          "2021/11/29",
          "2021/11/30",
          "2021/12/01",
          "2021/12/02"
         ],
         "xaxis": "x",
         "y": [
          75300,
          75300,
          76300,
          76600,
          77000,
          76100,
          77200,
          77400,
          77300,
          77700,
          76300,
          74100,
          74100,
          73200,
          72200,
          71300,
          71600,
          71500,
          69000,
          68800,
          69400,
          70100,
          70200,
          70600,
          70300,
          70200,
          70400,
          70200,
          71100,
          70100,
          70700,
          69800,
          69900,
          71500,
          70400,
          70600,
          70200,
          70600,
          70500,
          70200,
          69900,
          70600,
          71400,
          71300,
          70700,
          70200,
          71200,
          74900,
          75300,
          74800,
          73700,
          72300,
          72300,
          71300,
          74400,
          75800
         ],
         "yaxis": "y"
        }
       ],
       "layout": {
        "template": {
         "data": {
          "bar": [
           {
            "error_x": {
             "color": "#2a3f5f"
            },
            "error_y": {
             "color": "#2a3f5f"
            },
            "marker": {
             "line": {
              "color": "#E5ECF6",
              "width": 0.5
             },
             "pattern": {
              "fillmode": "overlay",
              "size": 10,
              "solidity": 0.2
             }
            },
            "type": "bar"
           }
          ],
          "barpolar": [
           {
            "marker": {
             "line": {
              "color": "#E5ECF6",
              "width": 0.5
             },
             "pattern": {
              "fillmode": "overlay",
              "size": 10,
              "solidity": 0.2
             }
            },
            "type": "barpolar"
           }
          ],
          "carpet": [
           {
            "aaxis": {
             "endlinecolor": "#2a3f5f",
             "gridcolor": "white",
             "linecolor": "white",
             "minorgridcolor": "white",
             "startlinecolor": "#2a3f5f"
            },
            "baxis": {
             "endlinecolor": "#2a3f5f",
             "gridcolor": "white",
             "linecolor": "white",
             "minorgridcolor": "white",
             "startlinecolor": "#2a3f5f"
            },
            "type": "carpet"
           }
          ],
          "choropleth": [
           {
            "colorbar": {
             "outlinewidth": 0,
             "ticks": ""
            },
            "type": "choropleth"
           }
          ],
          "contour": [
           {
            "colorbar": {
             "outlinewidth": 0,
             "ticks": ""
            },
            "colorscale": [
             [
              0,
              "#0d0887"
             ],
             [
              0.1111111111111111,
              "#46039f"
             ],
             [
              0.2222222222222222,
              "#7201a8"
             ],
             [
              0.3333333333333333,
              "#9c179e"
             ],
             [
              0.4444444444444444,
              "#bd3786"
             ],
             [
              0.5555555555555556,
              "#d8576b"
             ],
             [
              0.6666666666666666,
              "#ed7953"
             ],
             [
              0.7777777777777778,
              "#fb9f3a"
             ],
             [
              0.8888888888888888,
              "#fdca26"
             ],
             [
              1,
              "#f0f921"
             ]
            ],
            "type": "contour"
           }
          ],
          "contourcarpet": [
           {
            "colorbar": {
             "outlinewidth": 0,
             "ticks": ""
            },
            "type": "contourcarpet"
           }
          ],
          "heatmap": [
           {
            "colorbar": {
             "outlinewidth": 0,
             "ticks": ""
            },
            "colorscale": [
             [
              0,
              "#0d0887"
             ],
             [
              0.1111111111111111,
              "#46039f"
             ],
             [
              0.2222222222222222,
              "#7201a8"
             ],
             [
              0.3333333333333333,
              "#9c179e"
             ],
             [
              0.4444444444444444,
              "#bd3786"
             ],
             [
              0.5555555555555556,
              "#d8576b"
             ],
             [
              0.6666666666666666,
              "#ed7953"
             ],
             [
              0.7777777777777778,
              "#fb9f3a"
             ],
             [
              0.8888888888888888,
              "#fdca26"
             ],
             [
              1,
              "#f0f921"
             ]
            ],
            "type": "heatmap"
           }
          ],
          "heatmapgl": [
           {
            "colorbar": {
             "outlinewidth": 0,
             "ticks": ""
            },
            "colorscale": [
             [
              0,
              "#0d0887"
             ],
             [
              0.1111111111111111,
              "#46039f"
             ],
             [
              0.2222222222222222,
              "#7201a8"
             ],
             [
              0.3333333333333333,
              "#9c179e"
             ],
             [
              0.4444444444444444,
              "#bd3786"
             ],
             [
              0.5555555555555556,
              "#d8576b"
             ],
             [
              0.6666666666666666,
              "#ed7953"
             ],
             [
              0.7777777777777778,
              "#fb9f3a"
             ],
             [
              0.8888888888888888,
              "#fdca26"
             ],
             [
              1,
              "#f0f921"
             ]
            ],
            "type": "heatmapgl"
           }
          ],
          "histogram": [
           {
            "marker": {
             "pattern": {
              "fillmode": "overlay",
              "size": 10,
              "solidity": 0.2
             }
            },
            "type": "histogram"
           }
          ],
          "histogram2d": [
           {
            "colorbar": {
             "outlinewidth": 0,
             "ticks": ""
            },
            "colorscale": [
             [
              0,
              "#0d0887"
             ],
             [
              0.1111111111111111,
              "#46039f"
             ],
             [
              0.2222222222222222,
              "#7201a8"
             ],
             [
              0.3333333333333333,
              "#9c179e"
             ],
             [
              0.4444444444444444,
              "#bd3786"
             ],
             [
              0.5555555555555556,
              "#d8576b"
             ],
             [
              0.6666666666666666,
              "#ed7953"
             ],
             [
              0.7777777777777778,
              "#fb9f3a"
             ],
             [
              0.8888888888888888,
              "#fdca26"
             ],
             [
              1,
              "#f0f921"
             ]
            ],
            "type": "histogram2d"
           }
          ],
          "histogram2dcontour": [
           {
            "colorbar": {
             "outlinewidth": 0,
             "ticks": ""
            },
            "colorscale": [
             [
              0,
              "#0d0887"
             ],
             [
              0.1111111111111111,
              "#46039f"
             ],
             [
              0.2222222222222222,
              "#7201a8"
             ],
             [
              0.3333333333333333,
              "#9c179e"
             ],
             [
              0.4444444444444444,
              "#bd3786"
             ],
             [
              0.5555555555555556,
              "#d8576b"
             ],
             [
              0.6666666666666666,
              "#ed7953"
             ],
             [
              0.7777777777777778,
              "#fb9f3a"
             ],
             [
              0.8888888888888888,
              "#fdca26"
             ],
             [
              1,
              "#f0f921"
             ]
            ],
            "type": "histogram2dcontour"
           }
          ],
          "mesh3d": [
           {
            "colorbar": {
             "outlinewidth": 0,
             "ticks": ""
            },
            "type": "mesh3d"
           }
          ],
          "parcoords": [
           {
            "line": {
             "colorbar": {
              "outlinewidth": 0,
              "ticks": ""
             }
            },
            "type": "parcoords"
           }
          ],
          "pie": [
           {
            "automargin": true,
            "type": "pie"
           }
          ],
          "scatter": [
           {
            "marker": {
             "colorbar": {
              "outlinewidth": 0,
              "ticks": ""
             }
            },
            "type": "scatter"
           }
          ],
          "scatter3d": [
           {
            "line": {
             "colorbar": {
              "outlinewidth": 0,
              "ticks": ""
             }
            },
            "marker": {
             "colorbar": {
              "outlinewidth": 0,
              "ticks": ""
             }
            },
            "type": "scatter3d"
           }
          ],
          "scattercarpet": [
           {
            "marker": {
             "colorbar": {
              "outlinewidth": 0,
              "ticks": ""
             }
            },
            "type": "scattercarpet"
           }
          ],
          "scattergeo": [
           {
            "marker": {
             "colorbar": {
              "outlinewidth": 0,
              "ticks": ""
             }
            },
            "type": "scattergeo"
           }
          ],
          "scattergl": [
           {
            "marker": {
             "colorbar": {
              "outlinewidth": 0,
              "ticks": ""
             }
            },
            "type": "scattergl"
           }
          ],
          "scattermapbox": [
           {
            "marker": {
             "colorbar": {
              "outlinewidth": 0,
              "ticks": ""
             }
            },
            "type": "scattermapbox"
           }
          ],
          "scatterpolar": [
           {
            "marker": {
             "colorbar": {
              "outlinewidth": 0,
              "ticks": ""
             }
            },
            "type": "scatterpolar"
           }
          ],
          "scatterpolargl": [
           {
            "marker": {
             "colorbar": {
              "outlinewidth": 0,
              "ticks": ""
             }
            },
            "type": "scatterpolargl"
           }
          ],
          "scatterternary": [
           {
            "marker": {
             "colorbar": {
              "outlinewidth": 0,
              "ticks": ""
             }
            },
            "type": "scatterternary"
           }
          ],
          "surface": [
           {
            "colorbar": {
             "outlinewidth": 0,
             "ticks": ""
            },
            "colorscale": [
             [
              0,
              "#0d0887"
             ],
             [
              0.1111111111111111,
              "#46039f"
             ],
             [
              0.2222222222222222,
              "#7201a8"
             ],
             [
              0.3333333333333333,
              "#9c179e"
             ],
             [
              0.4444444444444444,
              "#bd3786"
             ],
             [
              0.5555555555555556,
              "#d8576b"
             ],
             [
              0.6666666666666666,
              "#ed7953"
             ],
             [
              0.7777777777777778,
              "#fb9f3a"
             ],
             [
              0.8888888888888888,
              "#fdca26"
             ],
             [
              1,
              "#f0f921"
             ]
            ],
            "type": "surface"
           }
          ],
          "table": [
           {
            "cells": {
             "fill": {
              "color": "#EBF0F8"
             },
             "line": {
              "color": "white"
             }
            },
            "header": {
             "fill": {
              "color": "#C8D4E3"
             },
             "line": {
              "color": "white"
             }
            },
            "type": "table"
           }
          ]
         },
         "layout": {
          "annotationdefaults": {
           "arrowcolor": "#2a3f5f",
           "arrowhead": 0,
           "arrowwidth": 1
          },
          "autotypenumbers": "strict",
          "coloraxis": {
           "colorbar": {
            "outlinewidth": 0,
            "ticks": ""
           }
          },
          "colorscale": {
           "diverging": [
            [
             0,
             "#8e0152"
            ],
            [
             0.1,
             "#c51b7d"
            ],
            [
             0.2,
             "#de77ae"
            ],
            [
             0.3,
             "#f1b6da"
            ],
            [
             0.4,
             "#fde0ef"
            ],
            [
             0.5,
             "#f7f7f7"
            ],
            [
             0.6,
             "#e6f5d0"
            ],
            [
             0.7,
             "#b8e186"
            ],
            [
             0.8,
             "#7fbc41"
            ],
            [
             0.9,
             "#4d9221"
            ],
            [
             1,
             "#276419"
            ]
           ],
           "sequential": [
            [
             0,
             "#0d0887"
            ],
            [
             0.1111111111111111,
             "#46039f"
            ],
            [
             0.2222222222222222,
             "#7201a8"
            ],
            [
             0.3333333333333333,
             "#9c179e"
            ],
            [
             0.4444444444444444,
             "#bd3786"
            ],
            [
             0.5555555555555556,
             "#d8576b"
            ],
            [
             0.6666666666666666,
             "#ed7953"
            ],
            [
             0.7777777777777778,
             "#fb9f3a"
            ],
            [
             0.8888888888888888,
             "#fdca26"
            ],
            [
             1,
             "#f0f921"
            ]
           ],
           "sequentialminus": [
            [
             0,
             "#0d0887"
            ],
            [
             0.1111111111111111,
             "#46039f"
            ],
            [
             0.2222222222222222,
             "#7201a8"
            ],
            [
             0.3333333333333333,
             "#9c179e"
            ],
            [
             0.4444444444444444,
             "#bd3786"
            ],
            [
             0.5555555555555556,
             "#d8576b"
            ],
            [
             0.6666666666666666,
             "#ed7953"
            ],
            [
             0.7777777777777778,
             "#fb9f3a"
            ],
            [
             0.8888888888888888,
             "#fdca26"
            ],
            [
             1,
             "#f0f921"
            ]
           ]
          },
          "colorway": [
           "#636efa",
           "#EF553B",
           "#00cc96",
           "#ab63fa",
           "#FFA15A",
           "#19d3f3",
           "#FF6692",
           "#B6E880",
           "#FF97FF",
           "#FECB52"
          ],
          "font": {
           "color": "#2a3f5f"
          },
          "geo": {
           "bgcolor": "white",
           "lakecolor": "white",
           "landcolor": "#E5ECF6",
           "showlakes": true,
           "showland": true,
           "subunitcolor": "white"
          },
          "hoverlabel": {
           "align": "left"
          },
          "hovermode": "closest",
          "mapbox": {
           "style": "light"
          },
          "paper_bgcolor": "white",
          "plot_bgcolor": "#E5ECF6",
          "polar": {
           "angularaxis": {
            "gridcolor": "white",
            "linecolor": "white",
            "ticks": ""
           },
           "bgcolor": "#E5ECF6",
           "radialaxis": {
            "gridcolor": "white",
            "linecolor": "white",
            "ticks": ""
           }
          },
          "scene": {
           "xaxis": {
            "backgroundcolor": "#E5ECF6",
            "gridcolor": "white",
            "gridwidth": 2,
            "linecolor": "white",
            "showbackground": true,
            "ticks": "",
            "zerolinecolor": "white"
           },
           "yaxis": {
            "backgroundcolor": "#E5ECF6",
            "gridcolor": "white",
            "gridwidth": 2,
            "linecolor": "white",
            "showbackground": true,
            "ticks": "",
            "zerolinecolor": "white"
           },
           "zaxis": {
            "backgroundcolor": "#E5ECF6",
            "gridcolor": "white",
            "gridwidth": 2,
            "linecolor": "white",
            "showbackground": true,
            "ticks": "",
            "zerolinecolor": "white"
           }
          },
          "shapedefaults": {
           "line": {
            "color": "#2a3f5f"
           }
          },
          "ternary": {
           "aaxis": {
            "gridcolor": "white",
            "linecolor": "white",
            "ticks": ""
           },
           "baxis": {
            "gridcolor": "white",
            "linecolor": "white",
            "ticks": ""
           },
           "bgcolor": "#E5ECF6",
           "caxis": {
            "gridcolor": "white",
            "linecolor": "white",
            "ticks": ""
           }
          },
          "title": {
           "x": 0.05
          },
          "xaxis": {
           "automargin": true,
           "gridcolor": "white",
           "linecolor": "white",
           "ticks": "",
           "title": {
            "standoff": 15
           },
           "zerolinecolor": "white",
           "zerolinewidth": 2
          },
          "yaxis": {
           "automargin": true,
           "gridcolor": "white",
           "linecolor": "white",
           "ticks": "",
           "title": {
            "standoff": 15
           },
           "zerolinecolor": "white",
           "zerolinewidth": 2
          }
         }
        },
        "title": {
         "text": "<b>삼성전자 주가 추이</b><br><sup>(단위: 원, 주)</sup>"
        },
        "xaxis": {
         "anchor": "y",
         "domain": [
          0,
          0.94
         ]
        },
        "yaxis": {
         "anchor": "x",
         "domain": [
          0,
          1
         ]
        },
        "yaxis2": {
         "anchor": "x",
         "overlaying": "y",
         "side": "right"
        }
       }
      },
      "text/html": [
       "<div>                            <div id=\"cc226215-170f-472c-ad5e-dffb1ff56a81\" class=\"plotly-graph-div\" style=\"height:525px; width:100%;\"></div>            <script type=\"text/javascript\">                require([\"plotly\"], function(Plotly) {                    window.PLOTLYENV=window.PLOTLYENV || {};                                    if (document.getElementById(\"cc226215-170f-472c-ad5e-dffb1ff56a81\")) {                    Plotly.newPlot(                        \"cc226215-170f-472c-ad5e-dffb1ff56a81\",                        [{\"name\":\"\\uac70\\ub798\\ub7c9\",\"opacity\":0.3,\"x\":[\"2021/09/09\",\"2021/09/10\",\"2021/09/13\",\"2021/09/14\",\"2021/09/15\",\"2021/09/16\",\"2021/09/17\",\"2021/09/23\",\"2021/09/24\",\"2021/09/27\",\"2021/09/28\",\"2021/09/29\",\"2021/09/30\",\"2021/10/01\",\"2021/10/05\",\"2021/10/06\",\"2021/10/07\",\"2021/10/08\",\"2021/10/12\",\"2021/10/13\",\"2021/10/14\",\"2021/10/15\",\"2021/10/18\",\"2021/10/19\",\"2021/10/20\",\"2021/10/21\",\"2021/10/22\",\"2021/10/25\",\"2021/10/26\",\"2021/10/27\",\"2021/10/28\",\"2021/10/29\",\"2021/11/01\",\"2021/11/02\",\"2021/11/03\",\"2021/11/04\",\"2021/11/05\",\"2021/11/08\",\"2021/11/09\",\"2021/11/10\",\"2021/11/11\",\"2021/11/12\",\"2021/11/15\",\"2021/11/16\",\"2021/11/17\",\"2021/11/18\",\"2021/11/19\",\"2021/11/22\",\"2021/11/23\",\"2021/11/24\",\"2021/11/25\",\"2021/11/26\",\"2021/11/29\",\"2021/11/30\",\"2021/12/01\",\"2021/12/02\"],\"y\":[17600770,10103212,11397775,18167057,12829128,13067622,16289502,17055590,12247274,11699798,15406382,23992458,19919361,15803395,24013921,18956962,13683532,14043287,31001484,24172015,19520641,18051612,13486391,9507991,10151638,10891094,8395448,10029621,10528252,10295316,20644902,17016151,11503729,16812570,12770428,11818987,12667743,11121981,11159589,9422009,11489122,10087450,12420710,10919239,11027606,10144957,11954728,27506623,22029195,15652305,12559258,13002242,16682559,30364841,21954856,23467264],\"type\":\"bar\",\"xaxis\":\"x\",\"yaxis\":\"y2\"},{\"name\":\"\\uc8fc\\uac00\",\"x\":[\"2021/09/09\",\"2021/09/10\",\"2021/09/13\",\"2021/09/14\",\"2021/09/15\",\"2021/09/16\",\"2021/09/17\",\"2021/09/23\",\"2021/09/24\",\"2021/09/27\",\"2021/09/28\",\"2021/09/29\",\"2021/09/30\",\"2021/10/01\",\"2021/10/05\",\"2021/10/06\",\"2021/10/07\",\"2021/10/08\",\"2021/10/12\",\"2021/10/13\",\"2021/10/14\",\"2021/10/15\",\"2021/10/18\",\"2021/10/19\",\"2021/10/20\",\"2021/10/21\",\"2021/10/22\",\"2021/10/25\",\"2021/10/26\",\"2021/10/27\",\"2021/10/28\",\"2021/10/29\",\"2021/11/01\",\"2021/11/02\",\"2021/11/03\",\"2021/11/04\",\"2021/11/05\",\"2021/11/08\",\"2021/11/09\",\"2021/11/10\",\"2021/11/11\",\"2021/11/12\",\"2021/11/15\",\"2021/11/16\",\"2021/11/17\",\"2021/11/18\",\"2021/11/19\",\"2021/11/22\",\"2021/11/23\",\"2021/11/24\",\"2021/11/25\",\"2021/11/26\",\"2021/11/29\",\"2021/11/30\",\"2021/12/01\",\"2021/12/02\"],\"y\":[75300.0,75300.0,76300.0,76600.0,77000.0,76100.0,77200.0,77400.0,77300.0,77700.0,76300.0,74100.0,74100.0,73200.0,72200.0,71300.0,71600.0,71500.0,69000.0,68800.0,69400.0,70100.0,70200.0,70600.0,70300.0,70200.0,70400.0,70200.0,71100.0,70100.0,70700.0,69800.0,69900.0,71500.0,70400.0,70600.0,70200.0,70600.0,70500.0,70200.0,69900.0,70600.0,71400.0,71300.0,70700.0,70200.0,71200.0,74900.0,75300.0,74800.0,73700.0,72300.0,72300.0,71300.0,74400.0,75800.0],\"type\":\"scatter\",\"xaxis\":\"x\",\"yaxis\":\"y\"}],                        {\"template\":{\"data\":{\"bar\":[{\"error_x\":{\"color\":\"#2a3f5f\"},\"error_y\":{\"color\":\"#2a3f5f\"},\"marker\":{\"line\":{\"color\":\"#E5ECF6\",\"width\":0.5},\"pattern\":{\"fillmode\":\"overlay\",\"size\":10,\"solidity\":0.2}},\"type\":\"bar\"}],\"barpolar\":[{\"marker\":{\"line\":{\"color\":\"#E5ECF6\",\"width\":0.5},\"pattern\":{\"fillmode\":\"overlay\",\"size\":10,\"solidity\":0.2}},\"type\":\"barpolar\"}],\"carpet\":[{\"aaxis\":{\"endlinecolor\":\"#2a3f5f\",\"gridcolor\":\"white\",\"linecolor\":\"white\",\"minorgridcolor\":\"white\",\"startlinecolor\":\"#2a3f5f\"},\"baxis\":{\"endlinecolor\":\"#2a3f5f\",\"gridcolor\":\"white\",\"linecolor\":\"white\",\"minorgridcolor\":\"white\",\"startlinecolor\":\"#2a3f5f\"},\"type\":\"carpet\"}],\"choropleth\":[{\"colorbar\":{\"outlinewidth\":0,\"ticks\":\"\"},\"type\":\"choropleth\"}],\"contour\":[{\"colorbar\":{\"outlinewidth\":0,\"ticks\":\"\"},\"colorscale\":[[0.0,\"#0d0887\"],[0.1111111111111111,\"#46039f\"],[0.2222222222222222,\"#7201a8\"],[0.3333333333333333,\"#9c179e\"],[0.4444444444444444,\"#bd3786\"],[0.5555555555555556,\"#d8576b\"],[0.6666666666666666,\"#ed7953\"],[0.7777777777777778,\"#fb9f3a\"],[0.8888888888888888,\"#fdca26\"],[1.0,\"#f0f921\"]],\"type\":\"contour\"}],\"contourcarpet\":[{\"colorbar\":{\"outlinewidth\":0,\"ticks\":\"\"},\"type\":\"contourcarpet\"}],\"heatmap\":[{\"colorbar\":{\"outlinewidth\":0,\"ticks\":\"\"},\"colorscale\":[[0.0,\"#0d0887\"],[0.1111111111111111,\"#46039f\"],[0.2222222222222222,\"#7201a8\"],[0.3333333333333333,\"#9c179e\"],[0.4444444444444444,\"#bd3786\"],[0.5555555555555556,\"#d8576b\"],[0.6666666666666666,\"#ed7953\"],[0.7777777777777778,\"#fb9f3a\"],[0.8888888888888888,\"#fdca26\"],[1.0,\"#f0f921\"]],\"type\":\"heatmap\"}],\"heatmapgl\":[{\"colorbar\":{\"outlinewidth\":0,\"ticks\":\"\"},\"colorscale\":[[0.0,\"#0d0887\"],[0.1111111111111111,\"#46039f\"],[0.2222222222222222,\"#7201a8\"],[0.3333333333333333,\"#9c179e\"],[0.4444444444444444,\"#bd3786\"],[0.5555555555555556,\"#d8576b\"],[0.6666666666666666,\"#ed7953\"],[0.7777777777777778,\"#fb9f3a\"],[0.8888888888888888,\"#fdca26\"],[1.0,\"#f0f921\"]],\"type\":\"heatmapgl\"}],\"histogram\":[{\"marker\":{\"pattern\":{\"fillmode\":\"overlay\",\"size\":10,\"solidity\":0.2}},\"type\":\"histogram\"}],\"histogram2d\":[{\"colorbar\":{\"outlinewidth\":0,\"ticks\":\"\"},\"colorscale\":[[0.0,\"#0d0887\"],[0.1111111111111111,\"#46039f\"],[0.2222222222222222,\"#7201a8\"],[0.3333333333333333,\"#9c179e\"],[0.4444444444444444,\"#bd3786\"],[0.5555555555555556,\"#d8576b\"],[0.6666666666666666,\"#ed7953\"],[0.7777777777777778,\"#fb9f3a\"],[0.8888888888888888,\"#fdca26\"],[1.0,\"#f0f921\"]],\"type\":\"histogram2d\"}],\"histogram2dcontour\":[{\"colorbar\":{\"outlinewidth\":0,\"ticks\":\"\"},\"colorscale\":[[0.0,\"#0d0887\"],[0.1111111111111111,\"#46039f\"],[0.2222222222222222,\"#7201a8\"],[0.3333333333333333,\"#9c179e\"],[0.4444444444444444,\"#bd3786\"],[0.5555555555555556,\"#d8576b\"],[0.6666666666666666,\"#ed7953\"],[0.7777777777777778,\"#fb9f3a\"],[0.8888888888888888,\"#fdca26\"],[1.0,\"#f0f921\"]],\"type\":\"histogram2dcontour\"}],\"mesh3d\":[{\"colorbar\":{\"outlinewidth\":0,\"ticks\":\"\"},\"type\":\"mesh3d\"}],\"parcoords\":[{\"line\":{\"colorbar\":{\"outlinewidth\":0,\"ticks\":\"\"}},\"type\":\"parcoords\"}],\"pie\":[{\"automargin\":true,\"type\":\"pie\"}],\"scatter\":[{\"marker\":{\"colorbar\":{\"outlinewidth\":0,\"ticks\":\"\"}},\"type\":\"scatter\"}],\"scatter3d\":[{\"line\":{\"colorbar\":{\"outlinewidth\":0,\"ticks\":\"\"}},\"marker\":{\"colorbar\":{\"outlinewidth\":0,\"ticks\":\"\"}},\"type\":\"scatter3d\"}],\"scattercarpet\":[{\"marker\":{\"colorbar\":{\"outlinewidth\":0,\"ticks\":\"\"}},\"type\":\"scattercarpet\"}],\"scattergeo\":[{\"marker\":{\"colorbar\":{\"outlinewidth\":0,\"ticks\":\"\"}},\"type\":\"scattergeo\"}],\"scattergl\":[{\"marker\":{\"colorbar\":{\"outlinewidth\":0,\"ticks\":\"\"}},\"type\":\"scattergl\"}],\"scattermapbox\":[{\"marker\":{\"colorbar\":{\"outlinewidth\":0,\"ticks\":\"\"}},\"type\":\"scattermapbox\"}],\"scatterpolar\":[{\"marker\":{\"colorbar\":{\"outlinewidth\":0,\"ticks\":\"\"}},\"type\":\"scatterpolar\"}],\"scatterpolargl\":[{\"marker\":{\"colorbar\":{\"outlinewidth\":0,\"ticks\":\"\"}},\"type\":\"scatterpolargl\"}],\"scatterternary\":[{\"marker\":{\"colorbar\":{\"outlinewidth\":0,\"ticks\":\"\"}},\"type\":\"scatterternary\"}],\"surface\":[{\"colorbar\":{\"outlinewidth\":0,\"ticks\":\"\"},\"colorscale\":[[0.0,\"#0d0887\"],[0.1111111111111111,\"#46039f\"],[0.2222222222222222,\"#7201a8\"],[0.3333333333333333,\"#9c179e\"],[0.4444444444444444,\"#bd3786\"],[0.5555555555555556,\"#d8576b\"],[0.6666666666666666,\"#ed7953\"],[0.7777777777777778,\"#fb9f3a\"],[0.8888888888888888,\"#fdca26\"],[1.0,\"#f0f921\"]],\"type\":\"surface\"}],\"table\":[{\"cells\":{\"fill\":{\"color\":\"#EBF0F8\"},\"line\":{\"color\":\"white\"}},\"header\":{\"fill\":{\"color\":\"#C8D4E3\"},\"line\":{\"color\":\"white\"}},\"type\":\"table\"}]},\"layout\":{\"annotationdefaults\":{\"arrowcolor\":\"#2a3f5f\",\"arrowhead\":0,\"arrowwidth\":1},\"autotypenumbers\":\"strict\",\"coloraxis\":{\"colorbar\":{\"outlinewidth\":0,\"ticks\":\"\"}},\"colorscale\":{\"diverging\":[[0,\"#8e0152\"],[0.1,\"#c51b7d\"],[0.2,\"#de77ae\"],[0.3,\"#f1b6da\"],[0.4,\"#fde0ef\"],[0.5,\"#f7f7f7\"],[0.6,\"#e6f5d0\"],[0.7,\"#b8e186\"],[0.8,\"#7fbc41\"],[0.9,\"#4d9221\"],[1,\"#276419\"]],\"sequential\":[[0.0,\"#0d0887\"],[0.1111111111111111,\"#46039f\"],[0.2222222222222222,\"#7201a8\"],[0.3333333333333333,\"#9c179e\"],[0.4444444444444444,\"#bd3786\"],[0.5555555555555556,\"#d8576b\"],[0.6666666666666666,\"#ed7953\"],[0.7777777777777778,\"#fb9f3a\"],[0.8888888888888888,\"#fdca26\"],[1.0,\"#f0f921\"]],\"sequentialminus\":[[0.0,\"#0d0887\"],[0.1111111111111111,\"#46039f\"],[0.2222222222222222,\"#7201a8\"],[0.3333333333333333,\"#9c179e\"],[0.4444444444444444,\"#bd3786\"],[0.5555555555555556,\"#d8576b\"],[0.6666666666666666,\"#ed7953\"],[0.7777777777777778,\"#fb9f3a\"],[0.8888888888888888,\"#fdca26\"],[1.0,\"#f0f921\"]]},\"colorway\":[\"#636efa\",\"#EF553B\",\"#00cc96\",\"#ab63fa\",\"#FFA15A\",\"#19d3f3\",\"#FF6692\",\"#B6E880\",\"#FF97FF\",\"#FECB52\"],\"font\":{\"color\":\"#2a3f5f\"},\"geo\":{\"bgcolor\":\"white\",\"lakecolor\":\"white\",\"landcolor\":\"#E5ECF6\",\"showlakes\":true,\"showland\":true,\"subunitcolor\":\"white\"},\"hoverlabel\":{\"align\":\"left\"},\"hovermode\":\"closest\",\"mapbox\":{\"style\":\"light\"},\"paper_bgcolor\":\"white\",\"plot_bgcolor\":\"#E5ECF6\",\"polar\":{\"angularaxis\":{\"gridcolor\":\"white\",\"linecolor\":\"white\",\"ticks\":\"\"},\"bgcolor\":\"#E5ECF6\",\"radialaxis\":{\"gridcolor\":\"white\",\"linecolor\":\"white\",\"ticks\":\"\"}},\"scene\":{\"xaxis\":{\"backgroundcolor\":\"#E5ECF6\",\"gridcolor\":\"white\",\"gridwidth\":2,\"linecolor\":\"white\",\"showbackground\":true,\"ticks\":\"\",\"zerolinecolor\":\"white\"},\"yaxis\":{\"backgroundcolor\":\"#E5ECF6\",\"gridcolor\":\"white\",\"gridwidth\":2,\"linecolor\":\"white\",\"showbackground\":true,\"ticks\":\"\",\"zerolinecolor\":\"white\"},\"zaxis\":{\"backgroundcolor\":\"#E5ECF6\",\"gridcolor\":\"white\",\"gridwidth\":2,\"linecolor\":\"white\",\"showbackground\":true,\"ticks\":\"\",\"zerolinecolor\":\"white\"}},\"shapedefaults\":{\"line\":{\"color\":\"#2a3f5f\"}},\"ternary\":{\"aaxis\":{\"gridcolor\":\"white\",\"linecolor\":\"white\",\"ticks\":\"\"},\"baxis\":{\"gridcolor\":\"white\",\"linecolor\":\"white\",\"ticks\":\"\"},\"bgcolor\":\"#E5ECF6\",\"caxis\":{\"gridcolor\":\"white\",\"linecolor\":\"white\",\"ticks\":\"\"}},\"title\":{\"x\":0.05},\"xaxis\":{\"automargin\":true,\"gridcolor\":\"white\",\"linecolor\":\"white\",\"ticks\":\"\",\"title\":{\"standoff\":15},\"zerolinecolor\":\"white\",\"zerolinewidth\":2},\"yaxis\":{\"automargin\":true,\"gridcolor\":\"white\",\"linecolor\":\"white\",\"ticks\":\"\",\"title\":{\"standoff\":15},\"zerolinecolor\":\"white\",\"zerolinewidth\":2}}},\"xaxis\":{\"anchor\":\"y\",\"domain\":[0.0,0.94]},\"yaxis\":{\"anchor\":\"x\",\"domain\":[0.0,1.0]},\"yaxis2\":{\"anchor\":\"x\",\"overlaying\":\"y\",\"side\":\"right\"},\"title\":{\"text\":\"<b>\\uc0bc\\uc131\\uc804\\uc790 \\uc8fc\\uac00 \\ucd94\\uc774</b><br><sup>(\\ub2e8\\uc704: \\uc6d0, \\uc8fc)</sup>\"}},                        {\"responsive\": true}                    ).then(function(){\n",
       "                            \n",
       "var gd = document.getElementById('cc226215-170f-472c-ad5e-dffb1ff56a81');\n",
       "var x = new MutationObserver(function (mutations, observer) {{\n",
       "        var display = window.getComputedStyle(gd).display;\n",
       "        if (!display || display === 'none') {{\n",
       "            console.log([gd, 'removed!']);\n",
       "            Plotly.purge(gd);\n",
       "            observer.disconnect();\n",
       "        }}\n",
       "}});\n",
       "\n",
       "// Listen for the removal of the full notebook cells\n",
       "var notebookContainer = gd.closest('#notebook-container');\n",
       "if (notebookContainer) {{\n",
       "    x.observe(notebookContainer, {childList: true});\n",
       "}}\n",
       "\n",
       "// Listen for the clearing of the current output cell\n",
       "var outputEl = gd.closest('.output');\n",
       "if (outputEl) {{\n",
       "    x.observe(outputEl, {childList: true});\n",
       "}}\n",
       "\n",
       "                        })                };                });            </script>        </div>"
      ]
     },
     "metadata": {},
     "output_type": "display_data"
    }
   ],
   "source": [
    "stock_fig.add_trace( go.Bar(x = stock_df['formatted_date'],\n",
    "                           y = stock_df['volume'],\n",
    "                           name = '거래량',\n",
    "                           opacity = 0.3),\n",
    "                    secondary_y = True)\n",
    "    \n",
    "stock_fig.add_trace( go.Scatter(x = stock_df['formatted_date'],\n",
    "                           y = stock_df['close'],\n",
    "                           name = '주가'),\n",
    "                    secondary_y = False)\n",
    "\n",
    "stock_fig.update_layout(title_text = '<b>삼성전자 주가 추이</b><br><sup>(단위: 원, 주)</sup>')"
   ]
  },
  {
   "cell_type": "code",
   "execution_count": 584,
   "id": "b377d880",
   "metadata": {},
   "outputs": [
    {
     "data": {
      "text/plain": [
       "{'status': '000',\n",
       " 'message': '정상',\n",
       " 'corp_code': '00258801',\n",
       " 'corp_name': '(주)카카오',\n",
       " 'corp_name_eng': 'Kakao Corp.',\n",
       " 'stock_name': '카카오',\n",
       " 'stock_code': '035720',\n",
       " 'ceo_nm': '여민수, 조수용',\n",
       " 'corp_cls': 'Y',\n",
       " 'jurir_no': '1101111129497',\n",
       " 'bizr_no': '1208147521',\n",
       " 'adres': '제주특별자치도 제주시 첨단로 242',\n",
       " 'hm_url': 'www.kakaocorp.com',\n",
       " 'ir_url': '',\n",
       " 'phn_no': '02-6718-1082',\n",
       " 'fax_no': '02-6003-5401',\n",
       " 'induty_code': '63120',\n",
       " 'est_dt': '19950216',\n",
       " 'acc_mt': '12'}"
      ]
     },
     "execution_count": 584,
     "metadata": {},
     "output_type": "execute_result"
    }
   ],
   "source": [
    "# 실습\n",
    "param = dict(BASE_PARAM)\n",
    "param['corp_code'] = '00258801' \n",
    "\n",
    "res = requests.get(company_info, params = param).json()\n",
    "overview = res\n",
    "overview"
   ]
  },
  {
   "cell_type": "code",
   "execution_count": 590,
   "id": "67a41e85",
   "metadata": {},
   "outputs": [
    {
     "data": {
      "text/html": [
       "<div>\n",
       "<style scoped>\n",
       "    .dataframe tbody tr th:only-of-type {\n",
       "        vertical-align: middle;\n",
       "    }\n",
       "\n",
       "    .dataframe tbody tr th {\n",
       "        vertical-align: top;\n",
       "    }\n",
       "\n",
       "    .dataframe thead th {\n",
       "        text-align: right;\n",
       "    }\n",
       "</style>\n",
       "<table border=\"1\" class=\"dataframe\">\n",
       "  <thead>\n",
       "    <tr style=\"text-align: right;\">\n",
       "      <th></th>\n",
       "      <th>date</th>\n",
       "      <th>high</th>\n",
       "      <th>low</th>\n",
       "      <th>open</th>\n",
       "      <th>close</th>\n",
       "      <th>volume</th>\n",
       "      <th>adjclose</th>\n",
       "      <th>formatted_date</th>\n",
       "    </tr>\n",
       "  </thead>\n",
       "  <tbody>\n",
       "    <tr>\n",
       "      <th>0</th>\n",
       "      <td>1631145600</td>\n",
       "      <td>134500.0</td>\n",
       "      <td>128000.0</td>\n",
       "      <td>134000.0</td>\n",
       "      <td>128500.0</td>\n",
       "      <td>14534253</td>\n",
       "      <td>128500.0</td>\n",
       "      <td>2021-09-09</td>\n",
       "    </tr>\n",
       "    <tr>\n",
       "      <th>1</th>\n",
       "      <td>1631232000</td>\n",
       "      <td>133500.0</td>\n",
       "      <td>126000.0</td>\n",
       "      <td>127000.0</td>\n",
       "      <td>130000.0</td>\n",
       "      <td>9918050</td>\n",
       "      <td>130000.0</td>\n",
       "      <td>2021-09-10</td>\n",
       "    </tr>\n",
       "    <tr>\n",
       "      <th>2</th>\n",
       "      <td>1631491200</td>\n",
       "      <td>130000.0</td>\n",
       "      <td>122500.0</td>\n",
       "      <td>126500.0</td>\n",
       "      <td>124500.0</td>\n",
       "      <td>8675498</td>\n",
       "      <td>124500.0</td>\n",
       "      <td>2021-09-13</td>\n",
       "    </tr>\n",
       "    <tr>\n",
       "      <th>3</th>\n",
       "      <td>1631577600</td>\n",
       "      <td>126000.0</td>\n",
       "      <td>118000.0</td>\n",
       "      <td>122500.0</td>\n",
       "      <td>124000.0</td>\n",
       "      <td>18895148</td>\n",
       "      <td>124000.0</td>\n",
       "      <td>2021-09-14</td>\n",
       "    </tr>\n",
       "    <tr>\n",
       "      <th>4</th>\n",
       "      <td>1631664000</td>\n",
       "      <td>127500.0</td>\n",
       "      <td>122000.0</td>\n",
       "      <td>123500.0</td>\n",
       "      <td>122500.0</td>\n",
       "      <td>9078817</td>\n",
       "      <td>122500.0</td>\n",
       "      <td>2021-09-15</td>\n",
       "    </tr>\n",
       "  </tbody>\n",
       "</table>\n",
       "</div>"
      ],
      "text/plain": [
       "         date      high       low      open     close    volume  adjclose  \\\n",
       "0  1631145600  134500.0  128000.0  134000.0  128500.0  14534253  128500.0   \n",
       "1  1631232000  133500.0  126000.0  127000.0  130000.0   9918050  130000.0   \n",
       "2  1631491200  130000.0  122500.0  126500.0  124500.0   8675498  124500.0   \n",
       "3  1631577600  126000.0  118000.0  122500.0  124000.0  18895148  124000.0   \n",
       "4  1631664000  127500.0  122000.0  123500.0  122500.0   9078817  122500.0   \n",
       "\n",
       "  formatted_date  \n",
       "0     2021-09-09  \n",
       "1     2021-09-10  \n",
       "2     2021-09-13  \n",
       "3     2021-09-14  \n",
       "4     2021-09-15  "
      ]
     },
     "execution_count": 590,
     "metadata": {},
     "output_type": "execute_result"
    }
   ],
   "source": [
    "stock_code = overview['stock_code'] + \".KS\"\n",
    "yahoo_financials = YahooFinancials(stock_code)\n",
    "data = yahoo_financials.get_historical_price_data(\n",
    "    start_date = start, end_date = end, time_interval = 'daily')\n",
    "stock_df = pd.DataFrame(data[stock_code]['prices'])\n",
    "stock_df.head()"
   ]
  },
  {
   "cell_type": "code",
   "execution_count": 586,
   "id": "e2ac64ca",
   "metadata": {},
   "outputs": [],
   "source": [
    "stock_df['formatted_date'] = stock_df['formatted_date'].apply(lambda x: x.replace(\"-\",\"/\"))"
   ]
  },
  {
   "cell_type": "code",
   "execution_count": 588,
   "id": "ebb75931",
   "metadata": {},
   "outputs": [
    {
     "data": {
      "application/vnd.plotly.v1+json": {
       "config": {
        "plotlyServerURL": "https://plot.ly"
       },
       "data": [
        {
         "name": "거래량",
         "opacity": 0.3,
         "type": "bar",
         "x": [
          "2021/09/09",
          "2021/09/10",
          "2021/09/13",
          "2021/09/14",
          "2021/09/15",
          "2021/09/16",
          "2021/09/17",
          "2021/09/23",
          "2021/09/24",
          "2021/09/27",
          "2021/09/28",
          "2021/09/29",
          "2021/09/30",
          "2021/10/01",
          "2021/10/05",
          "2021/10/06",
          "2021/10/07",
          "2021/10/08",
          "2021/10/12",
          "2021/10/13",
          "2021/10/14",
          "2021/10/15",
          "2021/10/18",
          "2021/10/19",
          "2021/10/20",
          "2021/10/21",
          "2021/10/22",
          "2021/10/25",
          "2021/10/26",
          "2021/10/27",
          "2021/10/28",
          "2021/10/29",
          "2021/11/01",
          "2021/11/02",
          "2021/11/03",
          "2021/11/04",
          "2021/11/05",
          "2021/11/08",
          "2021/11/09",
          "2021/11/10",
          "2021/11/11",
          "2021/11/12",
          "2021/11/15",
          "2021/11/16",
          "2021/11/17",
          "2021/11/18",
          "2021/11/19",
          "2021/11/22",
          "2021/11/23",
          "2021/11/24",
          "2021/11/25",
          "2021/11/26",
          "2021/11/29",
          "2021/11/30",
          "2021/12/01",
          "2021/12/02"
         ],
         "xaxis": "x",
         "y": [
          14534253,
          9918050,
          8675498,
          18895148,
          9078817,
          4770936,
          4807631,
          6314773,
          5327603,
          3635942,
          3445583,
          3172350,
          4649917,
          2329103,
          4885065,
          4610915,
          5146917,
          3930836,
          3810466,
          2731883,
          3891958,
          2331425,
          1831322,
          4075027,
          4959740,
          2297507,
          1985417,
          2309608,
          1265299,
          1449071,
          1783396,
          1891355,
          1081519,
          1642378,
          2937805,
          6001098,
          2810726,
          4026899,
          1990889,
          1598893,
          1955371,
          2100660,
          1714170,
          1591390,
          1675657,
          1543924,
          1512294,
          2213290,
          1981200,
          1589036,
          2906344,
          1679040,
          2031484,
          3807209,
          1482581,
          2021039
         ],
         "yaxis": "y2"
        },
        {
         "name": "주가",
         "type": "scatter",
         "x": [
          "2021/09/09",
          "2021/09/10",
          "2021/09/13",
          "2021/09/14",
          "2021/09/15",
          "2021/09/16",
          "2021/09/17",
          "2021/09/23",
          "2021/09/24",
          "2021/09/27",
          "2021/09/28",
          "2021/09/29",
          "2021/09/30",
          "2021/10/01",
          "2021/10/05",
          "2021/10/06",
          "2021/10/07",
          "2021/10/08",
          "2021/10/12",
          "2021/10/13",
          "2021/10/14",
          "2021/10/15",
          "2021/10/18",
          "2021/10/19",
          "2021/10/20",
          "2021/10/21",
          "2021/10/22",
          "2021/10/25",
          "2021/10/26",
          "2021/10/27",
          "2021/10/28",
          "2021/10/29",
          "2021/11/01",
          "2021/11/02",
          "2021/11/03",
          "2021/11/04",
          "2021/11/05",
          "2021/11/08",
          "2021/11/09",
          "2021/11/10",
          "2021/11/11",
          "2021/11/12",
          "2021/11/15",
          "2021/11/16",
          "2021/11/17",
          "2021/11/18",
          "2021/11/19",
          "2021/11/22",
          "2021/11/23",
          "2021/11/24",
          "2021/11/25",
          "2021/11/26",
          "2021/11/29",
          "2021/11/30",
          "2021/12/01",
          "2021/12/02"
         ],
         "xaxis": "x",
         "y": [
          128500,
          130000,
          124500,
          124000,
          122500,
          121500,
          119500,
          115000,
          119500,
          120000,
          117500,
          116500,
          118000,
          116500,
          111000,
          113000,
          119500,
          117500,
          113500,
          117000,
          121500,
          122000,
          121500,
          127500,
          128000,
          128000,
          127500,
          126000,
          127500,
          128500,
          125500,
          125500,
          125500,
          128000,
          124500,
          130000,
          128500,
          125000,
          125500,
          124000,
          125500,
          127000,
          129000,
          127500,
          125000,
          124500,
          127000,
          128500,
          124500,
          124500,
          128000,
          125500,
          123000,
          122000,
          122500,
          122500
         ],
         "yaxis": "y"
        }
       ],
       "layout": {
        "template": {
         "data": {
          "bar": [
           {
            "error_x": {
             "color": "#2a3f5f"
            },
            "error_y": {
             "color": "#2a3f5f"
            },
            "marker": {
             "line": {
              "color": "#E5ECF6",
              "width": 0.5
             },
             "pattern": {
              "fillmode": "overlay",
              "size": 10,
              "solidity": 0.2
             }
            },
            "type": "bar"
           }
          ],
          "barpolar": [
           {
            "marker": {
             "line": {
              "color": "#E5ECF6",
              "width": 0.5
             },
             "pattern": {
              "fillmode": "overlay",
              "size": 10,
              "solidity": 0.2
             }
            },
            "type": "barpolar"
           }
          ],
          "carpet": [
           {
            "aaxis": {
             "endlinecolor": "#2a3f5f",
             "gridcolor": "white",
             "linecolor": "white",
             "minorgridcolor": "white",
             "startlinecolor": "#2a3f5f"
            },
            "baxis": {
             "endlinecolor": "#2a3f5f",
             "gridcolor": "white",
             "linecolor": "white",
             "minorgridcolor": "white",
             "startlinecolor": "#2a3f5f"
            },
            "type": "carpet"
           }
          ],
          "choropleth": [
           {
            "colorbar": {
             "outlinewidth": 0,
             "ticks": ""
            },
            "type": "choropleth"
           }
          ],
          "contour": [
           {
            "colorbar": {
             "outlinewidth": 0,
             "ticks": ""
            },
            "colorscale": [
             [
              0,
              "#0d0887"
             ],
             [
              0.1111111111111111,
              "#46039f"
             ],
             [
              0.2222222222222222,
              "#7201a8"
             ],
             [
              0.3333333333333333,
              "#9c179e"
             ],
             [
              0.4444444444444444,
              "#bd3786"
             ],
             [
              0.5555555555555556,
              "#d8576b"
             ],
             [
              0.6666666666666666,
              "#ed7953"
             ],
             [
              0.7777777777777778,
              "#fb9f3a"
             ],
             [
              0.8888888888888888,
              "#fdca26"
             ],
             [
              1,
              "#f0f921"
             ]
            ],
            "type": "contour"
           }
          ],
          "contourcarpet": [
           {
            "colorbar": {
             "outlinewidth": 0,
             "ticks": ""
            },
            "type": "contourcarpet"
           }
          ],
          "heatmap": [
           {
            "colorbar": {
             "outlinewidth": 0,
             "ticks": ""
            },
            "colorscale": [
             [
              0,
              "#0d0887"
             ],
             [
              0.1111111111111111,
              "#46039f"
             ],
             [
              0.2222222222222222,
              "#7201a8"
             ],
             [
              0.3333333333333333,
              "#9c179e"
             ],
             [
              0.4444444444444444,
              "#bd3786"
             ],
             [
              0.5555555555555556,
              "#d8576b"
             ],
             [
              0.6666666666666666,
              "#ed7953"
             ],
             [
              0.7777777777777778,
              "#fb9f3a"
             ],
             [
              0.8888888888888888,
              "#fdca26"
             ],
             [
              1,
              "#f0f921"
             ]
            ],
            "type": "heatmap"
           }
          ],
          "heatmapgl": [
           {
            "colorbar": {
             "outlinewidth": 0,
             "ticks": ""
            },
            "colorscale": [
             [
              0,
              "#0d0887"
             ],
             [
              0.1111111111111111,
              "#46039f"
             ],
             [
              0.2222222222222222,
              "#7201a8"
             ],
             [
              0.3333333333333333,
              "#9c179e"
             ],
             [
              0.4444444444444444,
              "#bd3786"
             ],
             [
              0.5555555555555556,
              "#d8576b"
             ],
             [
              0.6666666666666666,
              "#ed7953"
             ],
             [
              0.7777777777777778,
              "#fb9f3a"
             ],
             [
              0.8888888888888888,
              "#fdca26"
             ],
             [
              1,
              "#f0f921"
             ]
            ],
            "type": "heatmapgl"
           }
          ],
          "histogram": [
           {
            "marker": {
             "pattern": {
              "fillmode": "overlay",
              "size": 10,
              "solidity": 0.2
             }
            },
            "type": "histogram"
           }
          ],
          "histogram2d": [
           {
            "colorbar": {
             "outlinewidth": 0,
             "ticks": ""
            },
            "colorscale": [
             [
              0,
              "#0d0887"
             ],
             [
              0.1111111111111111,
              "#46039f"
             ],
             [
              0.2222222222222222,
              "#7201a8"
             ],
             [
              0.3333333333333333,
              "#9c179e"
             ],
             [
              0.4444444444444444,
              "#bd3786"
             ],
             [
              0.5555555555555556,
              "#d8576b"
             ],
             [
              0.6666666666666666,
              "#ed7953"
             ],
             [
              0.7777777777777778,
              "#fb9f3a"
             ],
             [
              0.8888888888888888,
              "#fdca26"
             ],
             [
              1,
              "#f0f921"
             ]
            ],
            "type": "histogram2d"
           }
          ],
          "histogram2dcontour": [
           {
            "colorbar": {
             "outlinewidth": 0,
             "ticks": ""
            },
            "colorscale": [
             [
              0,
              "#0d0887"
             ],
             [
              0.1111111111111111,
              "#46039f"
             ],
             [
              0.2222222222222222,
              "#7201a8"
             ],
             [
              0.3333333333333333,
              "#9c179e"
             ],
             [
              0.4444444444444444,
              "#bd3786"
             ],
             [
              0.5555555555555556,
              "#d8576b"
             ],
             [
              0.6666666666666666,
              "#ed7953"
             ],
             [
              0.7777777777777778,
              "#fb9f3a"
             ],
             [
              0.8888888888888888,
              "#fdca26"
             ],
             [
              1,
              "#f0f921"
             ]
            ],
            "type": "histogram2dcontour"
           }
          ],
          "mesh3d": [
           {
            "colorbar": {
             "outlinewidth": 0,
             "ticks": ""
            },
            "type": "mesh3d"
           }
          ],
          "parcoords": [
           {
            "line": {
             "colorbar": {
              "outlinewidth": 0,
              "ticks": ""
             }
            },
            "type": "parcoords"
           }
          ],
          "pie": [
           {
            "automargin": true,
            "type": "pie"
           }
          ],
          "scatter": [
           {
            "marker": {
             "colorbar": {
              "outlinewidth": 0,
              "ticks": ""
             }
            },
            "type": "scatter"
           }
          ],
          "scatter3d": [
           {
            "line": {
             "colorbar": {
              "outlinewidth": 0,
              "ticks": ""
             }
            },
            "marker": {
             "colorbar": {
              "outlinewidth": 0,
              "ticks": ""
             }
            },
            "type": "scatter3d"
           }
          ],
          "scattercarpet": [
           {
            "marker": {
             "colorbar": {
              "outlinewidth": 0,
              "ticks": ""
             }
            },
            "type": "scattercarpet"
           }
          ],
          "scattergeo": [
           {
            "marker": {
             "colorbar": {
              "outlinewidth": 0,
              "ticks": ""
             }
            },
            "type": "scattergeo"
           }
          ],
          "scattergl": [
           {
            "marker": {
             "colorbar": {
              "outlinewidth": 0,
              "ticks": ""
             }
            },
            "type": "scattergl"
           }
          ],
          "scattermapbox": [
           {
            "marker": {
             "colorbar": {
              "outlinewidth": 0,
              "ticks": ""
             }
            },
            "type": "scattermapbox"
           }
          ],
          "scatterpolar": [
           {
            "marker": {
             "colorbar": {
              "outlinewidth": 0,
              "ticks": ""
             }
            },
            "type": "scatterpolar"
           }
          ],
          "scatterpolargl": [
           {
            "marker": {
             "colorbar": {
              "outlinewidth": 0,
              "ticks": ""
             }
            },
            "type": "scatterpolargl"
           }
          ],
          "scatterternary": [
           {
            "marker": {
             "colorbar": {
              "outlinewidth": 0,
              "ticks": ""
             }
            },
            "type": "scatterternary"
           }
          ],
          "surface": [
           {
            "colorbar": {
             "outlinewidth": 0,
             "ticks": ""
            },
            "colorscale": [
             [
              0,
              "#0d0887"
             ],
             [
              0.1111111111111111,
              "#46039f"
             ],
             [
              0.2222222222222222,
              "#7201a8"
             ],
             [
              0.3333333333333333,
              "#9c179e"
             ],
             [
              0.4444444444444444,
              "#bd3786"
             ],
             [
              0.5555555555555556,
              "#d8576b"
             ],
             [
              0.6666666666666666,
              "#ed7953"
             ],
             [
              0.7777777777777778,
              "#fb9f3a"
             ],
             [
              0.8888888888888888,
              "#fdca26"
             ],
             [
              1,
              "#f0f921"
             ]
            ],
            "type": "surface"
           }
          ],
          "table": [
           {
            "cells": {
             "fill": {
              "color": "#EBF0F8"
             },
             "line": {
              "color": "white"
             }
            },
            "header": {
             "fill": {
              "color": "#C8D4E3"
             },
             "line": {
              "color": "white"
             }
            },
            "type": "table"
           }
          ]
         },
         "layout": {
          "annotationdefaults": {
           "arrowcolor": "#2a3f5f",
           "arrowhead": 0,
           "arrowwidth": 1
          },
          "autotypenumbers": "strict",
          "coloraxis": {
           "colorbar": {
            "outlinewidth": 0,
            "ticks": ""
           }
          },
          "colorscale": {
           "diverging": [
            [
             0,
             "#8e0152"
            ],
            [
             0.1,
             "#c51b7d"
            ],
            [
             0.2,
             "#de77ae"
            ],
            [
             0.3,
             "#f1b6da"
            ],
            [
             0.4,
             "#fde0ef"
            ],
            [
             0.5,
             "#f7f7f7"
            ],
            [
             0.6,
             "#e6f5d0"
            ],
            [
             0.7,
             "#b8e186"
            ],
            [
             0.8,
             "#7fbc41"
            ],
            [
             0.9,
             "#4d9221"
            ],
            [
             1,
             "#276419"
            ]
           ],
           "sequential": [
            [
             0,
             "#0d0887"
            ],
            [
             0.1111111111111111,
             "#46039f"
            ],
            [
             0.2222222222222222,
             "#7201a8"
            ],
            [
             0.3333333333333333,
             "#9c179e"
            ],
            [
             0.4444444444444444,
             "#bd3786"
            ],
            [
             0.5555555555555556,
             "#d8576b"
            ],
            [
             0.6666666666666666,
             "#ed7953"
            ],
            [
             0.7777777777777778,
             "#fb9f3a"
            ],
            [
             0.8888888888888888,
             "#fdca26"
            ],
            [
             1,
             "#f0f921"
            ]
           ],
           "sequentialminus": [
            [
             0,
             "#0d0887"
            ],
            [
             0.1111111111111111,
             "#46039f"
            ],
            [
             0.2222222222222222,
             "#7201a8"
            ],
            [
             0.3333333333333333,
             "#9c179e"
            ],
            [
             0.4444444444444444,
             "#bd3786"
            ],
            [
             0.5555555555555556,
             "#d8576b"
            ],
            [
             0.6666666666666666,
             "#ed7953"
            ],
            [
             0.7777777777777778,
             "#fb9f3a"
            ],
            [
             0.8888888888888888,
             "#fdca26"
            ],
            [
             1,
             "#f0f921"
            ]
           ]
          },
          "colorway": [
           "#636efa",
           "#EF553B",
           "#00cc96",
           "#ab63fa",
           "#FFA15A",
           "#19d3f3",
           "#FF6692",
           "#B6E880",
           "#FF97FF",
           "#FECB52"
          ],
          "font": {
           "color": "#2a3f5f"
          },
          "geo": {
           "bgcolor": "white",
           "lakecolor": "white",
           "landcolor": "#E5ECF6",
           "showlakes": true,
           "showland": true,
           "subunitcolor": "white"
          },
          "hoverlabel": {
           "align": "left"
          },
          "hovermode": "closest",
          "mapbox": {
           "style": "light"
          },
          "paper_bgcolor": "white",
          "plot_bgcolor": "#E5ECF6",
          "polar": {
           "angularaxis": {
            "gridcolor": "white",
            "linecolor": "white",
            "ticks": ""
           },
           "bgcolor": "#E5ECF6",
           "radialaxis": {
            "gridcolor": "white",
            "linecolor": "white",
            "ticks": ""
           }
          },
          "scene": {
           "xaxis": {
            "backgroundcolor": "#E5ECF6",
            "gridcolor": "white",
            "gridwidth": 2,
            "linecolor": "white",
            "showbackground": true,
            "ticks": "",
            "zerolinecolor": "white"
           },
           "yaxis": {
            "backgroundcolor": "#E5ECF6",
            "gridcolor": "white",
            "gridwidth": 2,
            "linecolor": "white",
            "showbackground": true,
            "ticks": "",
            "zerolinecolor": "white"
           },
           "zaxis": {
            "backgroundcolor": "#E5ECF6",
            "gridcolor": "white",
            "gridwidth": 2,
            "linecolor": "white",
            "showbackground": true,
            "ticks": "",
            "zerolinecolor": "white"
           }
          },
          "shapedefaults": {
           "line": {
            "color": "#2a3f5f"
           }
          },
          "ternary": {
           "aaxis": {
            "gridcolor": "white",
            "linecolor": "white",
            "ticks": ""
           },
           "baxis": {
            "gridcolor": "white",
            "linecolor": "white",
            "ticks": ""
           },
           "bgcolor": "#E5ECF6",
           "caxis": {
            "gridcolor": "white",
            "linecolor": "white",
            "ticks": ""
           }
          },
          "title": {
           "x": 0.05
          },
          "xaxis": {
           "automargin": true,
           "gridcolor": "white",
           "linecolor": "white",
           "ticks": "",
           "title": {
            "standoff": 15
           },
           "zerolinecolor": "white",
           "zerolinewidth": 2
          },
          "yaxis": {
           "automargin": true,
           "gridcolor": "white",
           "linecolor": "white",
           "ticks": "",
           "title": {
            "standoff": 15
           },
           "zerolinecolor": "white",
           "zerolinewidth": 2
          }
         }
        },
        "title": {
         "text": "<b>카카오 주가 추이</b><br><sup>(단위: 원, 주)</sup>"
        },
        "xaxis": {
         "anchor": "y",
         "domain": [
          0,
          0.94
         ]
        },
        "yaxis": {
         "anchor": "x",
         "domain": [
          0,
          1
         ]
        },
        "yaxis2": {
         "anchor": "x",
         "overlaying": "y",
         "side": "right"
        }
       }
      },
      "text/html": [
       "<div>                            <div id=\"c006aba4-2735-44a2-b121-c572003dfeaf\" class=\"plotly-graph-div\" style=\"height:525px; width:100%;\"></div>            <script type=\"text/javascript\">                require([\"plotly\"], function(Plotly) {                    window.PLOTLYENV=window.PLOTLYENV || {};                                    if (document.getElementById(\"c006aba4-2735-44a2-b121-c572003dfeaf\")) {                    Plotly.newPlot(                        \"c006aba4-2735-44a2-b121-c572003dfeaf\",                        [{\"name\":\"\\uac70\\ub798\\ub7c9\",\"opacity\":0.3,\"x\":[\"2021/09/09\",\"2021/09/10\",\"2021/09/13\",\"2021/09/14\",\"2021/09/15\",\"2021/09/16\",\"2021/09/17\",\"2021/09/23\",\"2021/09/24\",\"2021/09/27\",\"2021/09/28\",\"2021/09/29\",\"2021/09/30\",\"2021/10/01\",\"2021/10/05\",\"2021/10/06\",\"2021/10/07\",\"2021/10/08\",\"2021/10/12\",\"2021/10/13\",\"2021/10/14\",\"2021/10/15\",\"2021/10/18\",\"2021/10/19\",\"2021/10/20\",\"2021/10/21\",\"2021/10/22\",\"2021/10/25\",\"2021/10/26\",\"2021/10/27\",\"2021/10/28\",\"2021/10/29\",\"2021/11/01\",\"2021/11/02\",\"2021/11/03\",\"2021/11/04\",\"2021/11/05\",\"2021/11/08\",\"2021/11/09\",\"2021/11/10\",\"2021/11/11\",\"2021/11/12\",\"2021/11/15\",\"2021/11/16\",\"2021/11/17\",\"2021/11/18\",\"2021/11/19\",\"2021/11/22\",\"2021/11/23\",\"2021/11/24\",\"2021/11/25\",\"2021/11/26\",\"2021/11/29\",\"2021/11/30\",\"2021/12/01\",\"2021/12/02\"],\"y\":[14534253,9918050,8675498,18895148,9078817,4770936,4807631,6314773,5327603,3635942,3445583,3172350,4649917,2329103,4885065,4610915,5146917,3930836,3810466,2731883,3891958,2331425,1831322,4075027,4959740,2297507,1985417,2309608,1265299,1449071,1783396,1891355,1081519,1642378,2937805,6001098,2810726,4026899,1990889,1598893,1955371,2100660,1714170,1591390,1675657,1543924,1512294,2213290,1981200,1589036,2906344,1679040,2031484,3807209,1482581,2021039],\"type\":\"bar\",\"xaxis\":\"x\",\"yaxis\":\"y2\"},{\"name\":\"\\uc8fc\\uac00\",\"x\":[\"2021/09/09\",\"2021/09/10\",\"2021/09/13\",\"2021/09/14\",\"2021/09/15\",\"2021/09/16\",\"2021/09/17\",\"2021/09/23\",\"2021/09/24\",\"2021/09/27\",\"2021/09/28\",\"2021/09/29\",\"2021/09/30\",\"2021/10/01\",\"2021/10/05\",\"2021/10/06\",\"2021/10/07\",\"2021/10/08\",\"2021/10/12\",\"2021/10/13\",\"2021/10/14\",\"2021/10/15\",\"2021/10/18\",\"2021/10/19\",\"2021/10/20\",\"2021/10/21\",\"2021/10/22\",\"2021/10/25\",\"2021/10/26\",\"2021/10/27\",\"2021/10/28\",\"2021/10/29\",\"2021/11/01\",\"2021/11/02\",\"2021/11/03\",\"2021/11/04\",\"2021/11/05\",\"2021/11/08\",\"2021/11/09\",\"2021/11/10\",\"2021/11/11\",\"2021/11/12\",\"2021/11/15\",\"2021/11/16\",\"2021/11/17\",\"2021/11/18\",\"2021/11/19\",\"2021/11/22\",\"2021/11/23\",\"2021/11/24\",\"2021/11/25\",\"2021/11/26\",\"2021/11/29\",\"2021/11/30\",\"2021/12/01\",\"2021/12/02\"],\"y\":[128500.0,130000.0,124500.0,124000.0,122500.0,121500.0,119500.0,115000.0,119500.0,120000.0,117500.0,116500.0,118000.0,116500.0,111000.0,113000.0,119500.0,117500.0,113500.0,117000.0,121500.0,122000.0,121500.0,127500.0,128000.0,128000.0,127500.0,126000.0,127500.0,128500.0,125500.0,125500.0,125500.0,128000.0,124500.0,130000.0,128500.0,125000.0,125500.0,124000.0,125500.0,127000.0,129000.0,127500.0,125000.0,124500.0,127000.0,128500.0,124500.0,124500.0,128000.0,125500.0,123000.0,122000.0,122500.0,122500.0],\"type\":\"scatter\",\"xaxis\":\"x\",\"yaxis\":\"y\"}],                        {\"template\":{\"data\":{\"bar\":[{\"error_x\":{\"color\":\"#2a3f5f\"},\"error_y\":{\"color\":\"#2a3f5f\"},\"marker\":{\"line\":{\"color\":\"#E5ECF6\",\"width\":0.5},\"pattern\":{\"fillmode\":\"overlay\",\"size\":10,\"solidity\":0.2}},\"type\":\"bar\"}],\"barpolar\":[{\"marker\":{\"line\":{\"color\":\"#E5ECF6\",\"width\":0.5},\"pattern\":{\"fillmode\":\"overlay\",\"size\":10,\"solidity\":0.2}},\"type\":\"barpolar\"}],\"carpet\":[{\"aaxis\":{\"endlinecolor\":\"#2a3f5f\",\"gridcolor\":\"white\",\"linecolor\":\"white\",\"minorgridcolor\":\"white\",\"startlinecolor\":\"#2a3f5f\"},\"baxis\":{\"endlinecolor\":\"#2a3f5f\",\"gridcolor\":\"white\",\"linecolor\":\"white\",\"minorgridcolor\":\"white\",\"startlinecolor\":\"#2a3f5f\"},\"type\":\"carpet\"}],\"choropleth\":[{\"colorbar\":{\"outlinewidth\":0,\"ticks\":\"\"},\"type\":\"choropleth\"}],\"contour\":[{\"colorbar\":{\"outlinewidth\":0,\"ticks\":\"\"},\"colorscale\":[[0.0,\"#0d0887\"],[0.1111111111111111,\"#46039f\"],[0.2222222222222222,\"#7201a8\"],[0.3333333333333333,\"#9c179e\"],[0.4444444444444444,\"#bd3786\"],[0.5555555555555556,\"#d8576b\"],[0.6666666666666666,\"#ed7953\"],[0.7777777777777778,\"#fb9f3a\"],[0.8888888888888888,\"#fdca26\"],[1.0,\"#f0f921\"]],\"type\":\"contour\"}],\"contourcarpet\":[{\"colorbar\":{\"outlinewidth\":0,\"ticks\":\"\"},\"type\":\"contourcarpet\"}],\"heatmap\":[{\"colorbar\":{\"outlinewidth\":0,\"ticks\":\"\"},\"colorscale\":[[0.0,\"#0d0887\"],[0.1111111111111111,\"#46039f\"],[0.2222222222222222,\"#7201a8\"],[0.3333333333333333,\"#9c179e\"],[0.4444444444444444,\"#bd3786\"],[0.5555555555555556,\"#d8576b\"],[0.6666666666666666,\"#ed7953\"],[0.7777777777777778,\"#fb9f3a\"],[0.8888888888888888,\"#fdca26\"],[1.0,\"#f0f921\"]],\"type\":\"heatmap\"}],\"heatmapgl\":[{\"colorbar\":{\"outlinewidth\":0,\"ticks\":\"\"},\"colorscale\":[[0.0,\"#0d0887\"],[0.1111111111111111,\"#46039f\"],[0.2222222222222222,\"#7201a8\"],[0.3333333333333333,\"#9c179e\"],[0.4444444444444444,\"#bd3786\"],[0.5555555555555556,\"#d8576b\"],[0.6666666666666666,\"#ed7953\"],[0.7777777777777778,\"#fb9f3a\"],[0.8888888888888888,\"#fdca26\"],[1.0,\"#f0f921\"]],\"type\":\"heatmapgl\"}],\"histogram\":[{\"marker\":{\"pattern\":{\"fillmode\":\"overlay\",\"size\":10,\"solidity\":0.2}},\"type\":\"histogram\"}],\"histogram2d\":[{\"colorbar\":{\"outlinewidth\":0,\"ticks\":\"\"},\"colorscale\":[[0.0,\"#0d0887\"],[0.1111111111111111,\"#46039f\"],[0.2222222222222222,\"#7201a8\"],[0.3333333333333333,\"#9c179e\"],[0.4444444444444444,\"#bd3786\"],[0.5555555555555556,\"#d8576b\"],[0.6666666666666666,\"#ed7953\"],[0.7777777777777778,\"#fb9f3a\"],[0.8888888888888888,\"#fdca26\"],[1.0,\"#f0f921\"]],\"type\":\"histogram2d\"}],\"histogram2dcontour\":[{\"colorbar\":{\"outlinewidth\":0,\"ticks\":\"\"},\"colorscale\":[[0.0,\"#0d0887\"],[0.1111111111111111,\"#46039f\"],[0.2222222222222222,\"#7201a8\"],[0.3333333333333333,\"#9c179e\"],[0.4444444444444444,\"#bd3786\"],[0.5555555555555556,\"#d8576b\"],[0.6666666666666666,\"#ed7953\"],[0.7777777777777778,\"#fb9f3a\"],[0.8888888888888888,\"#fdca26\"],[1.0,\"#f0f921\"]],\"type\":\"histogram2dcontour\"}],\"mesh3d\":[{\"colorbar\":{\"outlinewidth\":0,\"ticks\":\"\"},\"type\":\"mesh3d\"}],\"parcoords\":[{\"line\":{\"colorbar\":{\"outlinewidth\":0,\"ticks\":\"\"}},\"type\":\"parcoords\"}],\"pie\":[{\"automargin\":true,\"type\":\"pie\"}],\"scatter\":[{\"marker\":{\"colorbar\":{\"outlinewidth\":0,\"ticks\":\"\"}},\"type\":\"scatter\"}],\"scatter3d\":[{\"line\":{\"colorbar\":{\"outlinewidth\":0,\"ticks\":\"\"}},\"marker\":{\"colorbar\":{\"outlinewidth\":0,\"ticks\":\"\"}},\"type\":\"scatter3d\"}],\"scattercarpet\":[{\"marker\":{\"colorbar\":{\"outlinewidth\":0,\"ticks\":\"\"}},\"type\":\"scattercarpet\"}],\"scattergeo\":[{\"marker\":{\"colorbar\":{\"outlinewidth\":0,\"ticks\":\"\"}},\"type\":\"scattergeo\"}],\"scattergl\":[{\"marker\":{\"colorbar\":{\"outlinewidth\":0,\"ticks\":\"\"}},\"type\":\"scattergl\"}],\"scattermapbox\":[{\"marker\":{\"colorbar\":{\"outlinewidth\":0,\"ticks\":\"\"}},\"type\":\"scattermapbox\"}],\"scatterpolar\":[{\"marker\":{\"colorbar\":{\"outlinewidth\":0,\"ticks\":\"\"}},\"type\":\"scatterpolar\"}],\"scatterpolargl\":[{\"marker\":{\"colorbar\":{\"outlinewidth\":0,\"ticks\":\"\"}},\"type\":\"scatterpolargl\"}],\"scatterternary\":[{\"marker\":{\"colorbar\":{\"outlinewidth\":0,\"ticks\":\"\"}},\"type\":\"scatterternary\"}],\"surface\":[{\"colorbar\":{\"outlinewidth\":0,\"ticks\":\"\"},\"colorscale\":[[0.0,\"#0d0887\"],[0.1111111111111111,\"#46039f\"],[0.2222222222222222,\"#7201a8\"],[0.3333333333333333,\"#9c179e\"],[0.4444444444444444,\"#bd3786\"],[0.5555555555555556,\"#d8576b\"],[0.6666666666666666,\"#ed7953\"],[0.7777777777777778,\"#fb9f3a\"],[0.8888888888888888,\"#fdca26\"],[1.0,\"#f0f921\"]],\"type\":\"surface\"}],\"table\":[{\"cells\":{\"fill\":{\"color\":\"#EBF0F8\"},\"line\":{\"color\":\"white\"}},\"header\":{\"fill\":{\"color\":\"#C8D4E3\"},\"line\":{\"color\":\"white\"}},\"type\":\"table\"}]},\"layout\":{\"annotationdefaults\":{\"arrowcolor\":\"#2a3f5f\",\"arrowhead\":0,\"arrowwidth\":1},\"autotypenumbers\":\"strict\",\"coloraxis\":{\"colorbar\":{\"outlinewidth\":0,\"ticks\":\"\"}},\"colorscale\":{\"diverging\":[[0,\"#8e0152\"],[0.1,\"#c51b7d\"],[0.2,\"#de77ae\"],[0.3,\"#f1b6da\"],[0.4,\"#fde0ef\"],[0.5,\"#f7f7f7\"],[0.6,\"#e6f5d0\"],[0.7,\"#b8e186\"],[0.8,\"#7fbc41\"],[0.9,\"#4d9221\"],[1,\"#276419\"]],\"sequential\":[[0.0,\"#0d0887\"],[0.1111111111111111,\"#46039f\"],[0.2222222222222222,\"#7201a8\"],[0.3333333333333333,\"#9c179e\"],[0.4444444444444444,\"#bd3786\"],[0.5555555555555556,\"#d8576b\"],[0.6666666666666666,\"#ed7953\"],[0.7777777777777778,\"#fb9f3a\"],[0.8888888888888888,\"#fdca26\"],[1.0,\"#f0f921\"]],\"sequentialminus\":[[0.0,\"#0d0887\"],[0.1111111111111111,\"#46039f\"],[0.2222222222222222,\"#7201a8\"],[0.3333333333333333,\"#9c179e\"],[0.4444444444444444,\"#bd3786\"],[0.5555555555555556,\"#d8576b\"],[0.6666666666666666,\"#ed7953\"],[0.7777777777777778,\"#fb9f3a\"],[0.8888888888888888,\"#fdca26\"],[1.0,\"#f0f921\"]]},\"colorway\":[\"#636efa\",\"#EF553B\",\"#00cc96\",\"#ab63fa\",\"#FFA15A\",\"#19d3f3\",\"#FF6692\",\"#B6E880\",\"#FF97FF\",\"#FECB52\"],\"font\":{\"color\":\"#2a3f5f\"},\"geo\":{\"bgcolor\":\"white\",\"lakecolor\":\"white\",\"landcolor\":\"#E5ECF6\",\"showlakes\":true,\"showland\":true,\"subunitcolor\":\"white\"},\"hoverlabel\":{\"align\":\"left\"},\"hovermode\":\"closest\",\"mapbox\":{\"style\":\"light\"},\"paper_bgcolor\":\"white\",\"plot_bgcolor\":\"#E5ECF6\",\"polar\":{\"angularaxis\":{\"gridcolor\":\"white\",\"linecolor\":\"white\",\"ticks\":\"\"},\"bgcolor\":\"#E5ECF6\",\"radialaxis\":{\"gridcolor\":\"white\",\"linecolor\":\"white\",\"ticks\":\"\"}},\"scene\":{\"xaxis\":{\"backgroundcolor\":\"#E5ECF6\",\"gridcolor\":\"white\",\"gridwidth\":2,\"linecolor\":\"white\",\"showbackground\":true,\"ticks\":\"\",\"zerolinecolor\":\"white\"},\"yaxis\":{\"backgroundcolor\":\"#E5ECF6\",\"gridcolor\":\"white\",\"gridwidth\":2,\"linecolor\":\"white\",\"showbackground\":true,\"ticks\":\"\",\"zerolinecolor\":\"white\"},\"zaxis\":{\"backgroundcolor\":\"#E5ECF6\",\"gridcolor\":\"white\",\"gridwidth\":2,\"linecolor\":\"white\",\"showbackground\":true,\"ticks\":\"\",\"zerolinecolor\":\"white\"}},\"shapedefaults\":{\"line\":{\"color\":\"#2a3f5f\"}},\"ternary\":{\"aaxis\":{\"gridcolor\":\"white\",\"linecolor\":\"white\",\"ticks\":\"\"},\"baxis\":{\"gridcolor\":\"white\",\"linecolor\":\"white\",\"ticks\":\"\"},\"bgcolor\":\"#E5ECF6\",\"caxis\":{\"gridcolor\":\"white\",\"linecolor\":\"white\",\"ticks\":\"\"}},\"title\":{\"x\":0.05},\"xaxis\":{\"automargin\":true,\"gridcolor\":\"white\",\"linecolor\":\"white\",\"ticks\":\"\",\"title\":{\"standoff\":15},\"zerolinecolor\":\"white\",\"zerolinewidth\":2},\"yaxis\":{\"automargin\":true,\"gridcolor\":\"white\",\"linecolor\":\"white\",\"ticks\":\"\",\"title\":{\"standoff\":15},\"zerolinecolor\":\"white\",\"zerolinewidth\":2}}},\"xaxis\":{\"anchor\":\"y\",\"domain\":[0.0,0.94]},\"yaxis\":{\"anchor\":\"x\",\"domain\":[0.0,1.0]},\"yaxis2\":{\"anchor\":\"x\",\"overlaying\":\"y\",\"side\":\"right\"},\"title\":{\"text\":\"<b>\\uce74\\uce74\\uc624 \\uc8fc\\uac00 \\ucd94\\uc774</b><br><sup>(\\ub2e8\\uc704: \\uc6d0, \\uc8fc)</sup>\"}},                        {\"responsive\": true}                    ).then(function(){\n",
       "                            \n",
       "var gd = document.getElementById('c006aba4-2735-44a2-b121-c572003dfeaf');\n",
       "var x = new MutationObserver(function (mutations, observer) {{\n",
       "        var display = window.getComputedStyle(gd).display;\n",
       "        if (!display || display === 'none') {{\n",
       "            console.log([gd, 'removed!']);\n",
       "            Plotly.purge(gd);\n",
       "            observer.disconnect();\n",
       "        }}\n",
       "}});\n",
       "\n",
       "// Listen for the removal of the full notebook cells\n",
       "var notebookContainer = gd.closest('#notebook-container');\n",
       "if (notebookContainer) {{\n",
       "    x.observe(notebookContainer, {childList: true});\n",
       "}}\n",
       "\n",
       "// Listen for the clearing of the current output cell\n",
       "var outputEl = gd.closest('.output');\n",
       "if (outputEl) {{\n",
       "    x.observe(outputEl, {childList: true});\n",
       "}}\n",
       "\n",
       "                        })                };                });            </script>        </div>"
      ]
     },
     "metadata": {},
     "output_type": "display_data"
    }
   ],
   "source": [
    "stock_fig = make_subplots(specs = [[{\"secondary_y\": True}]])\n",
    "\n",
    "stock_fig.add_trace( go.Bar(x = stock_df['formatted_date'],\n",
    "                           y = stock_df['volume'],\n",
    "                           name = '거래량',\n",
    "                           opacity = 0.3),\n",
    "                    secondary_y = True)\n",
    "    \n",
    "stock_fig.add_trace( go.Scatter(x = stock_df['formatted_date'],\n",
    "                           y = stock_df['close'],\n",
    "                           name = '주가'),\n",
    "                    secondary_y = False)\n",
    "\n",
    "stock_fig.update_layout(title_text = '<b>카카오 주가 추이</b><br><sup>(단위: 원, 주)</sup>')"
   ]
  },
  {
   "cell_type": "code",
   "execution_count": null,
   "id": "c89412c4",
   "metadata": {},
   "outputs": [],
   "source": []
  },
  {
   "cell_type": "code",
   "execution_count": null,
   "id": "191624e9",
   "metadata": {},
   "outputs": [],
   "source": []
  }
 ],
 "metadata": {
  "kernelspec": {
   "display_name": "Python 3 (ipykernel)",
   "language": "python",
   "name": "python3"
  },
  "language_info": {
   "codemirror_mode": {
    "name": "ipython",
    "version": 3
   },
   "file_extension": ".py",
   "mimetype": "text/x-python",
   "name": "python",
   "nbconvert_exporter": "python",
   "pygments_lexer": "ipython3",
   "version": "3.9.6"
  }
 },
 "nbformat": 4,
 "nbformat_minor": 5
}
